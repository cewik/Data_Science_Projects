{
 "cells": [
  {
   "cell_type": "markdown",
   "metadata": {
    "id": "Aw04Z9dIASCz"
   },
   "source": [
    "___\n",
    "\n",
    "<p style=\"text-align: center;\"><img src=\"https://docs.google.com/uc?id=1lY0Uj5R04yMY3-ZppPWxqCr5pvBLYPnV\" class=\"img-fluid\" alt=\"CLRSWY\"></p>\n",
    "\n",
    "___"
   ]
  },
  {
   "cell_type": "markdown",
   "metadata": {
    "cell_style": "split",
    "id": "o9jfMvQRASCz"
   },
   "source": [
    "# WELCOME!"
   ]
  },
  {
   "cell_type": "markdown",
   "metadata": {
    "cell_style": "split",
    "id": "rEckIoqPASCz"
   },
   "source": [
    "In this assignment, you must apply ***EDA*** processes for the development of predictive models. Handling outliers, domain knowledge and feature engineering will be challenges. \n",
    "\n",
    "Also, this project aims to improve your ability to implement algorithms for ***Multi-Class Classification***. Thus, you will have the opportunity to implement many algorithms commonly used for Multi-Class Classification problems.\n",
    "\n",
    "Before diving into the project, please take a look at the determines and tasks."
   ]
  },
  {
   "cell_type": "markdown",
   "metadata": {
    "id": "rWUbnCOHASCz"
   },
   "source": [
    "---\n",
    "---"
   ]
  },
  {
   "cell_type": "markdown",
   "metadata": {
    "cell_style": "split",
    "id": "FxA4M_USASCz"
   },
   "source": [
    "# #Determines"
   ]
  },
  {
   "cell_type": "markdown",
   "metadata": {
    "cell_style": "split",
    "id": "AxyFkA5PASCz"
   },
   "source": [
    "Dataset contains tree observations from four areas of one national forest district. This dataset includes information on tree type, shadow coverage, distance to nearby landmarks, soil type, and local topography. The goal of the project is to build a model that predicts what types of trees grow in an area.\n",
    "***The Forest Dataset*** contains approximately 600 thousand lines, also you can easily find many information about it on the web (especially Kaggle).\n",
    "\n",
    "---\n",
    "\n",
    "To achieve high prediction success, you must understand the data well and develop different approaches that can affect the dependent variable.\n",
    "\n",
    "Firstly, try to understand the dataset column by column using pandas module. Do research within the scope of domain (forest, trees) knowledge on the internet to get to know the data set in the fastest way. \n",
    "\n",
    "You should implement cleaning, handling with outliers and missing values using Pandas, NumPy and other required modules for the best result in modeling. You should do Feature Engineering.\n",
    "\n",
    "After that, your final dataset with the new variables you have created will be ready for model building. You will implement ***Support Vector Machine, XGBoost, Random Forest, Desicion Tree*** algorithms. Also, evaluate the success of your models with appropriate performance metrics.\n",
    "\n",
    "At the end of the project, create a chart comparing the performance of all models and choose the most successful model.\n"
   ]
  },
  {
   "cell_type": "markdown",
   "metadata": {
    "id": "xdOyfC8jASCz"
   },
   "source": [
    "---\n",
    "---"
   ]
  },
  {
   "cell_type": "markdown",
   "metadata": {
    "cell_style": "split",
    "id": "m3DXc1w6ASCz"
   },
   "source": [
    "# #Tasks"
   ]
  },
  {
   "cell_type": "markdown",
   "metadata": {
    "cell_style": "split",
    "id": "UykgYK5-ASCz"
   },
   "source": [
    "#### 1. Exploratory Data Analysis (EDA)\n",
    "- Import Libraries, Load Dataset, Exploring Data\n",
    "\n",
    "    *i. Import Libraries*\n",
    "    \n",
    "    *ii. Load Dataset*\n",
    "    \n",
    "    *iii. Explore Data*\n",
    "\n",
    "#### 2.  Data Cleaning\n",
    "- Detect Missing Values and Outliers \n",
    "\n",
    "    *i. Missing Value Detection*\n",
    "    \n",
    "    *ii. Outlier Detection*\n",
    "    \n",
    "- Deal with Outliers\n",
    "    \n",
    "    *i. Drop Outliers*\n",
    "\n",
    "\n",
    "#### 3. Feature Engineering\n",
    "\n",
    "\n",
    "#### 4. Prediction (Multi-class Classification)\n",
    "- Import libraries\n",
    "- Data Preprocessing\n",
    "- Implement SVM Classifer\n",
    "- Implement Decision Tree Classifier\n",
    "- Implement Random Forest Classifer\n",
    "- Implement XGBoost Classifer\n",
    "- Compare The Models\n",
    "\n"
   ]
  },
  {
   "cell_type": "markdown",
   "metadata": {
    "id": "934v5Lm0ASCz"
   },
   "source": [
    "---\n",
    "---"
   ]
  },
  {
   "cell_type": "markdown",
   "metadata": {
    "id": "70sZDrv1ASCz"
   },
   "source": [
    "## 1. Exploratory Data Analysis"
   ]
  },
  {
   "cell_type": "markdown",
   "metadata": {
    "id": "6AZiiwrgri2o"
   },
   "source": [
    "### Import Libraries, Load Dataset, Exploring Data"
   ]
  },
  {
   "cell_type": "markdown",
   "metadata": {
    "id": "YhoTMDVLASCz"
   },
   "source": [
    "#### *i. Import Libraries*"
   ]
  },
  {
   "cell_type": "markdown",
   "metadata": {
    "id": "lKbc1uEQASCz"
   },
   "source": [
    "Besides Numpy and Pandas, you need to import the necessary modules for data visualization, data preprocessing, Model building and tuning.\n",
    "\n",
    "*Note: Check out the course materials.*"
   ]
  },
  {
   "cell_type": "code",
   "execution_count": 1,
   "metadata": {
    "id": "0ThMJSTCASCz"
   },
   "outputs": [],
   "source": [
    "import numpy as np\n",
    "import pandas as pd\n",
    "import matplotlib.pyplot as plt\n",
    "import seaborn as sns\n",
    "#plt.rcParams[\"figure.figsize\"] = (10,6)\n",
    "import warnings\n",
    "warnings.filterwarnings(\"ignore\")\n",
    "warnings.warn(\"this will not show\")"
   ]
  },
  {
   "cell_type": "markdown",
   "metadata": {
    "id": "OUxd8117ASCz"
   },
   "source": [
    "#### *ii. Load Dataset*"
   ]
  },
  {
   "cell_type": "code",
   "execution_count": 2,
   "metadata": {
    "id": "nO4IbFeNASC0"
   },
   "outputs": [],
   "source": [
    "df = pd.read_csv('treetypes.csv')"
   ]
  },
  {
   "cell_type": "code",
   "execution_count": 3,
   "metadata": {},
   "outputs": [
    {
     "data": {
      "text/html": [
       "<div>\n",
       "<style scoped>\n",
       "    .dataframe tbody tr th:only-of-type {\n",
       "        vertical-align: middle;\n",
       "    }\n",
       "\n",
       "    .dataframe tbody tr th {\n",
       "        vertical-align: top;\n",
       "    }\n",
       "\n",
       "    .dataframe thead th {\n",
       "        text-align: right;\n",
       "    }\n",
       "</style>\n",
       "<table border=\"1\" class=\"dataframe\">\n",
       "  <thead>\n",
       "    <tr style=\"text-align: right;\">\n",
       "      <th></th>\n",
       "      <th>Elevation</th>\n",
       "      <th>Aspect</th>\n",
       "      <th>Slope</th>\n",
       "      <th>Horizontal_Distance_To_Hydrology</th>\n",
       "      <th>Vertical_Distance_To_Hydrology</th>\n",
       "      <th>Horizontal_Distance_To_Roadways</th>\n",
       "      <th>Hillshade_9am</th>\n",
       "      <th>Hillshade_Noon</th>\n",
       "      <th>Hillshade_3pm</th>\n",
       "      <th>Horizontal_Distance_To_Fire_Points</th>\n",
       "      <th>...</th>\n",
       "      <th>Soil_Type_32</th>\n",
       "      <th>Soil_Type_33</th>\n",
       "      <th>Soil_Type_34</th>\n",
       "      <th>Soil_Type_35</th>\n",
       "      <th>Soil_Type_36</th>\n",
       "      <th>Soil_Type_37</th>\n",
       "      <th>Soil_Type_38</th>\n",
       "      <th>Soil_Type_39</th>\n",
       "      <th>Soil_Type_40</th>\n",
       "      <th>Cover_Type</th>\n",
       "    </tr>\n",
       "  </thead>\n",
       "  <tbody>\n",
       "    <tr>\n",
       "      <th>0</th>\n",
       "      <td>2696</td>\n",
       "      <td>123</td>\n",
       "      <td>10</td>\n",
       "      <td>212</td>\n",
       "      <td>48</td>\n",
       "      <td>2245</td>\n",
       "      <td>237</td>\n",
       "      <td>231</td>\n",
       "      <td>123</td>\n",
       "      <td>2113</td>\n",
       "      <td>...</td>\n",
       "      <td>0</td>\n",
       "      <td>0</td>\n",
       "      <td>0</td>\n",
       "      <td>0</td>\n",
       "      <td>0</td>\n",
       "      <td>0</td>\n",
       "      <td>0</td>\n",
       "      <td>0</td>\n",
       "      <td>0</td>\n",
       "      <td>6</td>\n",
       "    </tr>\n",
       "    <tr>\n",
       "      <th>1</th>\n",
       "      <td>3269</td>\n",
       "      <td>110</td>\n",
       "      <td>19</td>\n",
       "      <td>134</td>\n",
       "      <td>40</td>\n",
       "      <td>3734</td>\n",
       "      <td>249</td>\n",
       "      <td>216</td>\n",
       "      <td>88</td>\n",
       "      <td>3960</td>\n",
       "      <td>...</td>\n",
       "      <td>0</td>\n",
       "      <td>0</td>\n",
       "      <td>0</td>\n",
       "      <td>0</td>\n",
       "      <td>0</td>\n",
       "      <td>0</td>\n",
       "      <td>1</td>\n",
       "      <td>0</td>\n",
       "      <td>0</td>\n",
       "      <td>1</td>\n",
       "    </tr>\n",
       "    <tr>\n",
       "      <th>2</th>\n",
       "      <td>3283</td>\n",
       "      <td>322</td>\n",
       "      <td>18</td>\n",
       "      <td>346</td>\n",
       "      <td>104</td>\n",
       "      <td>4369</td>\n",
       "      <td>170</td>\n",
       "      <td>217</td>\n",
       "      <td>185</td>\n",
       "      <td>1330</td>\n",
       "      <td>...</td>\n",
       "      <td>0</td>\n",
       "      <td>0</td>\n",
       "      <td>0</td>\n",
       "      <td>0</td>\n",
       "      <td>0</td>\n",
       "      <td>0</td>\n",
       "      <td>1</td>\n",
       "      <td>0</td>\n",
       "      <td>0</td>\n",
       "      <td>7</td>\n",
       "    </tr>\n",
       "    <tr>\n",
       "      <th>3</th>\n",
       "      <td>2847</td>\n",
       "      <td>89</td>\n",
       "      <td>31</td>\n",
       "      <td>270</td>\n",
       "      <td>175</td>\n",
       "      <td>1320</td>\n",
       "      <td>248</td>\n",
       "      <td>173</td>\n",
       "      <td>29</td>\n",
       "      <td>889</td>\n",
       "      <td>...</td>\n",
       "      <td>0</td>\n",
       "      <td>0</td>\n",
       "      <td>0</td>\n",
       "      <td>0</td>\n",
       "      <td>0</td>\n",
       "      <td>0</td>\n",
       "      <td>0</td>\n",
       "      <td>0</td>\n",
       "      <td>0</td>\n",
       "      <td>5</td>\n",
       "    </tr>\n",
       "    <tr>\n",
       "      <th>4</th>\n",
       "      <td>3248</td>\n",
       "      <td>93</td>\n",
       "      <td>12</td>\n",
       "      <td>507</td>\n",
       "      <td>118</td>\n",
       "      <td>570</td>\n",
       "      <td>239</td>\n",
       "      <td>221</td>\n",
       "      <td>110</td>\n",
       "      <td>945</td>\n",
       "      <td>...</td>\n",
       "      <td>0</td>\n",
       "      <td>0</td>\n",
       "      <td>0</td>\n",
       "      <td>0</td>\n",
       "      <td>0</td>\n",
       "      <td>0</td>\n",
       "      <td>0</td>\n",
       "      <td>0</td>\n",
       "      <td>0</td>\n",
       "      <td>7</td>\n",
       "    </tr>\n",
       "  </tbody>\n",
       "</table>\n",
       "<p>5 rows × 55 columns</p>\n",
       "</div>"
      ],
      "text/plain": [
       "   Elevation  Aspect  Slope  Horizontal_Distance_To_Hydrology  \\\n",
       "0       2696     123     10                               212   \n",
       "1       3269     110     19                               134   \n",
       "2       3283     322     18                               346   \n",
       "3       2847      89     31                               270   \n",
       "4       3248      93     12                               507   \n",
       "\n",
       "   Vertical_Distance_To_Hydrology  Horizontal_Distance_To_Roadways  \\\n",
       "0                              48                             2245   \n",
       "1                              40                             3734   \n",
       "2                             104                             4369   \n",
       "3                             175                             1320   \n",
       "4                             118                              570   \n",
       "\n",
       "   Hillshade_9am  Hillshade_Noon  Hillshade_3pm  \\\n",
       "0            237             231            123   \n",
       "1            249             216             88   \n",
       "2            170             217            185   \n",
       "3            248             173             29   \n",
       "4            239             221            110   \n",
       "\n",
       "   Horizontal_Distance_To_Fire_Points  ...  Soil_Type_32  Soil_Type_33  \\\n",
       "0                                2113  ...             0             0   \n",
       "1                                3960  ...             0             0   \n",
       "2                                1330  ...             0             0   \n",
       "3                                 889  ...             0             0   \n",
       "4                                 945  ...             0             0   \n",
       "\n",
       "   Soil_Type_34  Soil_Type_35  Soil_Type_36  Soil_Type_37  Soil_Type_38  \\\n",
       "0             0             0             0             0             0   \n",
       "1             0             0             0             0             1   \n",
       "2             0             0             0             0             1   \n",
       "3             0             0             0             0             0   \n",
       "4             0             0             0             0             0   \n",
       "\n",
       "   Soil_Type_39  Soil_Type_40  Cover_Type  \n",
       "0             0             0           6  \n",
       "1             0             0           1  \n",
       "2             0             0           7  \n",
       "3             0             0           5  \n",
       "4             0             0           7  \n",
       "\n",
       "[5 rows x 55 columns]"
      ]
     },
     "execution_count": 3,
     "metadata": {},
     "output_type": "execute_result"
    }
   ],
   "source": [
    "df.head()"
   ]
  },
  {
   "cell_type": "markdown",
   "metadata": {
    "id": "y8W545bnASC0"
   },
   "source": [
    "#### *iii. Explore Data*\n",
    "- Focus on numerical and categorical data\n",
    "- Detect Number of Unique values of each column\n",
    "- Focus on Target Variable (Cover_Type)\n",
    " - Detect relationships and correlations between independent variables and target variable.\n",
    " - It may be nice to visualize the class frequencies of the target variable.\n",
    "- Detect relationships and correlations between independent variables. (You can prefer to keep only one of the highly correlated continuous variables.)\n",
    "- Consider dropping features that contain little data or that you think will not contribute to the model."
   ]
  },
  {
   "cell_type": "code",
   "execution_count": 5,
   "metadata": {
    "id": "BVE7_TsoASC0"
   },
   "outputs": [
    {
     "data": {
      "text/plain": [
       "(250000, 55)"
      ]
     },
     "execution_count": 5,
     "metadata": {},
     "output_type": "execute_result"
    }
   ],
   "source": [
    "df.shape"
   ]
  },
  {
   "cell_type": "code",
   "execution_count": 8,
   "metadata": {},
   "outputs": [
    {
     "data": {
      "text/plain": [
       "Index(['Elevation', 'Aspect', 'Slope', 'Horizontal_Distance_To_Hydrology',\n",
       "       'Vertical_Distance_To_Hydrology', 'Horizontal_Distance_To_Roadways',\n",
       "       'Hillshade_9am', 'Hillshade_Noon', 'Hillshade_3pm',\n",
       "       'Horizontal_Distance_To_Fire_Points', 'Wilderness_Area_1',\n",
       "       'Wilderness_Area_2', 'Wilderness_Area_3', 'Wilderness_Area_4',\n",
       "       'Soil_Type_1', 'Soil_Type_2', 'Soil_Type_3', 'Soil_Type_4',\n",
       "       'Soil_Type_5', 'Soil_Type_6', 'Soil_Type_7', 'Soil_Type_8',\n",
       "       'Soil_Type_9', 'Soil_Type_10', 'Soil_Type_11', 'Soil_Type_12',\n",
       "       'Soil_Type_13', 'Soil_Type_14', 'Soil_Type_15', 'Soil_Type_16',\n",
       "       'Soil_Type_17', 'Soil_Type_18', 'Soil_Type_19', 'Soil_Type_20',\n",
       "       'Soil_Type_21', 'Soil_Type_22', 'Soil_Type_23', 'Soil_Type_24',\n",
       "       'Soil_Type_25', 'Soil_Type_26', 'Soil_Type_27', 'Soil_Type_28',\n",
       "       'Soil_Type_29', 'Soil_Type_30', 'Soil_Type_31', 'Soil_Type_32',\n",
       "       'Soil_Type_33', 'Soil_Type_34', 'Soil_Type_35', 'Soil_Type_36',\n",
       "       'Soil_Type_37', 'Soil_Type_38', 'Soil_Type_39', 'Soil_Type_40',\n",
       "       'Cover_Type'],\n",
       "      dtype='object')"
      ]
     },
     "execution_count": 8,
     "metadata": {},
     "output_type": "execute_result"
    }
   ],
   "source": [
    "df.columns"
   ]
  },
  {
   "cell_type": "code",
   "execution_count": 9,
   "metadata": {},
   "outputs": [
    {
     "name": "stdout",
     "output_type": "stream",
     "text": [
      "<class 'pandas.core.frame.DataFrame'>\n",
      "RangeIndex: 250000 entries, 0 to 249999\n",
      "Data columns (total 55 columns):\n",
      " #   Column                              Non-Null Count   Dtype\n",
      "---  ------                              --------------   -----\n",
      " 0   Elevation                           250000 non-null  int64\n",
      " 1   Aspect                              250000 non-null  int64\n",
      " 2   Slope                               250000 non-null  int64\n",
      " 3   Horizontal_Distance_To_Hydrology    250000 non-null  int64\n",
      " 4   Vertical_Distance_To_Hydrology      250000 non-null  int64\n",
      " 5   Horizontal_Distance_To_Roadways     250000 non-null  int64\n",
      " 6   Hillshade_9am                       250000 non-null  int64\n",
      " 7   Hillshade_Noon                      250000 non-null  int64\n",
      " 8   Hillshade_3pm                       250000 non-null  int64\n",
      " 9   Horizontal_Distance_To_Fire_Points  250000 non-null  int64\n",
      " 10  Wilderness_Area_1                   250000 non-null  int64\n",
      " 11  Wilderness_Area_2                   250000 non-null  int64\n",
      " 12  Wilderness_Area_3                   250000 non-null  int64\n",
      " 13  Wilderness_Area_4                   250000 non-null  int64\n",
      " 14  Soil_Type_1                         250000 non-null  int64\n",
      " 15  Soil_Type_2                         250000 non-null  int64\n",
      " 16  Soil_Type_3                         250000 non-null  int64\n",
      " 17  Soil_Type_4                         250000 non-null  int64\n",
      " 18  Soil_Type_5                         250000 non-null  int64\n",
      " 19  Soil_Type_6                         250000 non-null  int64\n",
      " 20  Soil_Type_7                         250000 non-null  int64\n",
      " 21  Soil_Type_8                         250000 non-null  int64\n",
      " 22  Soil_Type_9                         250000 non-null  int64\n",
      " 23  Soil_Type_10                        250000 non-null  int64\n",
      " 24  Soil_Type_11                        250000 non-null  int64\n",
      " 25  Soil_Type_12                        250000 non-null  int64\n",
      " 26  Soil_Type_13                        250000 non-null  int64\n",
      " 27  Soil_Type_14                        250000 non-null  int64\n",
      " 28  Soil_Type_15                        250000 non-null  int64\n",
      " 29  Soil_Type_16                        250000 non-null  int64\n",
      " 30  Soil_Type_17                        250000 non-null  int64\n",
      " 31  Soil_Type_18                        250000 non-null  int64\n",
      " 32  Soil_Type_19                        250000 non-null  int64\n",
      " 33  Soil_Type_20                        250000 non-null  int64\n",
      " 34  Soil_Type_21                        250000 non-null  int64\n",
      " 35  Soil_Type_22                        250000 non-null  int64\n",
      " 36  Soil_Type_23                        250000 non-null  int64\n",
      " 37  Soil_Type_24                        250000 non-null  int64\n",
      " 38  Soil_Type_25                        250000 non-null  int64\n",
      " 39  Soil_Type_26                        250000 non-null  int64\n",
      " 40  Soil_Type_27                        250000 non-null  int64\n",
      " 41  Soil_Type_28                        250000 non-null  int64\n",
      " 42  Soil_Type_29                        250000 non-null  int64\n",
      " 43  Soil_Type_30                        250000 non-null  int64\n",
      " 44  Soil_Type_31                        250000 non-null  int64\n",
      " 45  Soil_Type_32                        250000 non-null  int64\n",
      " 46  Soil_Type_33                        250000 non-null  int64\n",
      " 47  Soil_Type_34                        250000 non-null  int64\n",
      " 48  Soil_Type_35                        250000 non-null  int64\n",
      " 49  Soil_Type_36                        250000 non-null  int64\n",
      " 50  Soil_Type_37                        250000 non-null  int64\n",
      " 51  Soil_Type_38                        250000 non-null  int64\n",
      " 52  Soil_Type_39                        250000 non-null  int64\n",
      " 53  Soil_Type_40                        250000 non-null  int64\n",
      " 54  Cover_Type                          250000 non-null  int64\n",
      "dtypes: int64(55)\n",
      "memory usage: 104.9 MB\n"
     ]
    }
   ],
   "source": [
    "df.info()"
   ]
  },
  {
   "cell_type": "code",
   "execution_count": 10,
   "metadata": {},
   "outputs": [
    {
     "data": {
      "text/html": [
       "<div>\n",
       "<style scoped>\n",
       "    .dataframe tbody tr th:only-of-type {\n",
       "        vertical-align: middle;\n",
       "    }\n",
       "\n",
       "    .dataframe tbody tr th {\n",
       "        vertical-align: top;\n",
       "    }\n",
       "\n",
       "    .dataframe thead th {\n",
       "        text-align: right;\n",
       "    }\n",
       "</style>\n",
       "<table border=\"1\" class=\"dataframe\">\n",
       "  <thead>\n",
       "    <tr style=\"text-align: right;\">\n",
       "      <th></th>\n",
       "      <th>Elevation</th>\n",
       "      <th>Aspect</th>\n",
       "      <th>Slope</th>\n",
       "      <th>Horizontal_Distance_To_Hydrology</th>\n",
       "      <th>Vertical_Distance_To_Hydrology</th>\n",
       "      <th>Horizontal_Distance_To_Roadways</th>\n",
       "      <th>Hillshade_9am</th>\n",
       "      <th>Hillshade_Noon</th>\n",
       "      <th>Hillshade_3pm</th>\n",
       "      <th>Horizontal_Distance_To_Fire_Points</th>\n",
       "      <th>...</th>\n",
       "      <th>Soil_Type_32</th>\n",
       "      <th>Soil_Type_33</th>\n",
       "      <th>Soil_Type_34</th>\n",
       "      <th>Soil_Type_35</th>\n",
       "      <th>Soil_Type_36</th>\n",
       "      <th>Soil_Type_37</th>\n",
       "      <th>Soil_Type_38</th>\n",
       "      <th>Soil_Type_39</th>\n",
       "      <th>Soil_Type_40</th>\n",
       "      <th>Cover_Type</th>\n",
       "    </tr>\n",
       "  </thead>\n",
       "  <tbody>\n",
       "    <tr>\n",
       "      <th>count</th>\n",
       "      <td>250000.000000</td>\n",
       "      <td>250000.000000</td>\n",
       "      <td>250000.000000</td>\n",
       "      <td>250000.000000</td>\n",
       "      <td>250000.000000</td>\n",
       "      <td>250000.000000</td>\n",
       "      <td>250000.000000</td>\n",
       "      <td>250000.000000</td>\n",
       "      <td>250000.000000</td>\n",
       "      <td>250000.000000</td>\n",
       "      <td>...</td>\n",
       "      <td>250000.000000</td>\n",
       "      <td>250000.000000</td>\n",
       "      <td>250000.000000</td>\n",
       "      <td>250000.000000</td>\n",
       "      <td>250000.000000</td>\n",
       "      <td>250000.000000</td>\n",
       "      <td>250000.000000</td>\n",
       "      <td>250000.000000</td>\n",
       "      <td>250000.000000</td>\n",
       "      <td>250000.000000</td>\n",
       "    </tr>\n",
       "    <tr>\n",
       "      <th>mean</th>\n",
       "      <td>2748.505160</td>\n",
       "      <td>156.212172</td>\n",
       "      <td>16.331052</td>\n",
       "      <td>228.094032</td>\n",
       "      <td>50.897820</td>\n",
       "      <td>1719.966576</td>\n",
       "      <td>212.370488</td>\n",
       "      <td>218.510700</td>\n",
       "      <td>134.502764</td>\n",
       "      <td>1521.756904</td>\n",
       "      <td>...</td>\n",
       "      <td>0.041580</td>\n",
       "      <td>0.039880</td>\n",
       "      <td>0.001500</td>\n",
       "      <td>0.006464</td>\n",
       "      <td>0.000396</td>\n",
       "      <td>0.001852</td>\n",
       "      <td>0.046020</td>\n",
       "      <td>0.041388</td>\n",
       "      <td>0.026892</td>\n",
       "      <td>4.000320</td>\n",
       "    </tr>\n",
       "    <tr>\n",
       "      <th>std</th>\n",
       "      <td>418.300975</td>\n",
       "      <td>109.652847</td>\n",
       "      <td>8.317490</td>\n",
       "      <td>209.630153</td>\n",
       "      <td>61.006967</td>\n",
       "      <td>1330.817603</td>\n",
       "      <td>30.654582</td>\n",
       "      <td>22.680947</td>\n",
       "      <td>46.033892</td>\n",
       "      <td>1107.378373</td>\n",
       "      <td>...</td>\n",
       "      <td>0.199628</td>\n",
       "      <td>0.195678</td>\n",
       "      <td>0.038701</td>\n",
       "      <td>0.080139</td>\n",
       "      <td>0.019896</td>\n",
       "      <td>0.042995</td>\n",
       "      <td>0.209529</td>\n",
       "      <td>0.199186</td>\n",
       "      <td>0.161768</td>\n",
       "      <td>2.001108</td>\n",
       "    </tr>\n",
       "    <tr>\n",
       "      <th>min</th>\n",
       "      <td>1859.000000</td>\n",
       "      <td>0.000000</td>\n",
       "      <td>0.000000</td>\n",
       "      <td>0.000000</td>\n",
       "      <td>-163.000000</td>\n",
       "      <td>0.000000</td>\n",
       "      <td>0.000000</td>\n",
       "      <td>0.000000</td>\n",
       "      <td>0.000000</td>\n",
       "      <td>0.000000</td>\n",
       "      <td>...</td>\n",
       "      <td>0.000000</td>\n",
       "      <td>0.000000</td>\n",
       "      <td>0.000000</td>\n",
       "      <td>0.000000</td>\n",
       "      <td>0.000000</td>\n",
       "      <td>0.000000</td>\n",
       "      <td>0.000000</td>\n",
       "      <td>0.000000</td>\n",
       "      <td>0.000000</td>\n",
       "      <td>1.000000</td>\n",
       "    </tr>\n",
       "    <tr>\n",
       "      <th>25%</th>\n",
       "      <td>2375.000000</td>\n",
       "      <td>65.000000</td>\n",
       "      <td>10.000000</td>\n",
       "      <td>66.000000</td>\n",
       "      <td>5.000000</td>\n",
       "      <td>756.000000</td>\n",
       "      <td>195.000000</td>\n",
       "      <td>206.000000</td>\n",
       "      <td>106.000000</td>\n",
       "      <td>734.000000</td>\n",
       "      <td>...</td>\n",
       "      <td>0.000000</td>\n",
       "      <td>0.000000</td>\n",
       "      <td>0.000000</td>\n",
       "      <td>0.000000</td>\n",
       "      <td>0.000000</td>\n",
       "      <td>0.000000</td>\n",
       "      <td>0.000000</td>\n",
       "      <td>0.000000</td>\n",
       "      <td>0.000000</td>\n",
       "      <td>2.000000</td>\n",
       "    </tr>\n",
       "    <tr>\n",
       "      <th>50%</th>\n",
       "      <td>2753.000000</td>\n",
       "      <td>125.000000</td>\n",
       "      <td>15.000000</td>\n",
       "      <td>180.000000</td>\n",
       "      <td>32.000000</td>\n",
       "      <td>1318.000000</td>\n",
       "      <td>220.000000</td>\n",
       "      <td>222.000000</td>\n",
       "      <td>137.000000</td>\n",
       "      <td>1273.000000</td>\n",
       "      <td>...</td>\n",
       "      <td>0.000000</td>\n",
       "      <td>0.000000</td>\n",
       "      <td>0.000000</td>\n",
       "      <td>0.000000</td>\n",
       "      <td>0.000000</td>\n",
       "      <td>0.000000</td>\n",
       "      <td>0.000000</td>\n",
       "      <td>0.000000</td>\n",
       "      <td>0.000000</td>\n",
       "      <td>4.000000</td>\n",
       "    </tr>\n",
       "    <tr>\n",
       "      <th>75%</th>\n",
       "      <td>3108.000000</td>\n",
       "      <td>260.000000</td>\n",
       "      <td>22.000000</td>\n",
       "      <td>330.000000</td>\n",
       "      <td>79.000000</td>\n",
       "      <td>2294.000000</td>\n",
       "      <td>235.000000</td>\n",
       "      <td>235.000000</td>\n",
       "      <td>167.000000</td>\n",
       "      <td>1998.000000</td>\n",
       "      <td>...</td>\n",
       "      <td>0.000000</td>\n",
       "      <td>0.000000</td>\n",
       "      <td>0.000000</td>\n",
       "      <td>0.000000</td>\n",
       "      <td>0.000000</td>\n",
       "      <td>0.000000</td>\n",
       "      <td>0.000000</td>\n",
       "      <td>0.000000</td>\n",
       "      <td>0.000000</td>\n",
       "      <td>6.000000</td>\n",
       "    </tr>\n",
       "    <tr>\n",
       "      <th>max</th>\n",
       "      <td>3857.000000</td>\n",
       "      <td>360.000000</td>\n",
       "      <td>65.000000</td>\n",
       "      <td>1390.000000</td>\n",
       "      <td>598.000000</td>\n",
       "      <td>7112.000000</td>\n",
       "      <td>254.000000</td>\n",
       "      <td>254.000000</td>\n",
       "      <td>252.000000</td>\n",
       "      <td>7150.000000</td>\n",
       "      <td>...</td>\n",
       "      <td>1.000000</td>\n",
       "      <td>1.000000</td>\n",
       "      <td>1.000000</td>\n",
       "      <td>1.000000</td>\n",
       "      <td>1.000000</td>\n",
       "      <td>1.000000</td>\n",
       "      <td>1.000000</td>\n",
       "      <td>1.000000</td>\n",
       "      <td>1.000000</td>\n",
       "      <td>7.000000</td>\n",
       "    </tr>\n",
       "  </tbody>\n",
       "</table>\n",
       "<p>8 rows × 55 columns</p>\n",
       "</div>"
      ],
      "text/plain": [
       "           Elevation         Aspect          Slope  \\\n",
       "count  250000.000000  250000.000000  250000.000000   \n",
       "mean     2748.505160     156.212172      16.331052   \n",
       "std       418.300975     109.652847       8.317490   \n",
       "min      1859.000000       0.000000       0.000000   \n",
       "25%      2375.000000      65.000000      10.000000   \n",
       "50%      2753.000000     125.000000      15.000000   \n",
       "75%      3108.000000     260.000000      22.000000   \n",
       "max      3857.000000     360.000000      65.000000   \n",
       "\n",
       "       Horizontal_Distance_To_Hydrology  Vertical_Distance_To_Hydrology  \\\n",
       "count                     250000.000000                   250000.000000   \n",
       "mean                         228.094032                       50.897820   \n",
       "std                          209.630153                       61.006967   \n",
       "min                            0.000000                     -163.000000   \n",
       "25%                           66.000000                        5.000000   \n",
       "50%                          180.000000                       32.000000   \n",
       "75%                          330.000000                       79.000000   \n",
       "max                         1390.000000                      598.000000   \n",
       "\n",
       "       Horizontal_Distance_To_Roadways  Hillshade_9am  Hillshade_Noon  \\\n",
       "count                    250000.000000  250000.000000   250000.000000   \n",
       "mean                       1719.966576     212.370488      218.510700   \n",
       "std                        1330.817603      30.654582       22.680947   \n",
       "min                           0.000000       0.000000        0.000000   \n",
       "25%                         756.000000     195.000000      206.000000   \n",
       "50%                        1318.000000     220.000000      222.000000   \n",
       "75%                        2294.000000     235.000000      235.000000   \n",
       "max                        7112.000000     254.000000      254.000000   \n",
       "\n",
       "       Hillshade_3pm  Horizontal_Distance_To_Fire_Points  ...   Soil_Type_32  \\\n",
       "count  250000.000000                       250000.000000  ...  250000.000000   \n",
       "mean      134.502764                         1521.756904  ...       0.041580   \n",
       "std        46.033892                         1107.378373  ...       0.199628   \n",
       "min         0.000000                            0.000000  ...       0.000000   \n",
       "25%       106.000000                          734.000000  ...       0.000000   \n",
       "50%       137.000000                         1273.000000  ...       0.000000   \n",
       "75%       167.000000                         1998.000000  ...       0.000000   \n",
       "max       252.000000                         7150.000000  ...       1.000000   \n",
       "\n",
       "        Soil_Type_33   Soil_Type_34   Soil_Type_35   Soil_Type_36  \\\n",
       "count  250000.000000  250000.000000  250000.000000  250000.000000   \n",
       "mean        0.039880       0.001500       0.006464       0.000396   \n",
       "std         0.195678       0.038701       0.080139       0.019896   \n",
       "min         0.000000       0.000000       0.000000       0.000000   \n",
       "25%         0.000000       0.000000       0.000000       0.000000   \n",
       "50%         0.000000       0.000000       0.000000       0.000000   \n",
       "75%         0.000000       0.000000       0.000000       0.000000   \n",
       "max         1.000000       1.000000       1.000000       1.000000   \n",
       "\n",
       "        Soil_Type_37   Soil_Type_38   Soil_Type_39   Soil_Type_40  \\\n",
       "count  250000.000000  250000.000000  250000.000000  250000.000000   \n",
       "mean        0.001852       0.046020       0.041388       0.026892   \n",
       "std         0.042995       0.209529       0.199186       0.161768   \n",
       "min         0.000000       0.000000       0.000000       0.000000   \n",
       "25%         0.000000       0.000000       0.000000       0.000000   \n",
       "50%         0.000000       0.000000       0.000000       0.000000   \n",
       "75%         0.000000       0.000000       0.000000       0.000000   \n",
       "max         1.000000       1.000000       1.000000       1.000000   \n",
       "\n",
       "          Cover_Type  \n",
       "count  250000.000000  \n",
       "mean        4.000320  \n",
       "std         2.001108  \n",
       "min         1.000000  \n",
       "25%         2.000000  \n",
       "50%         4.000000  \n",
       "75%         6.000000  \n",
       "max         7.000000  \n",
       "\n",
       "[8 rows x 55 columns]"
      ]
     },
     "execution_count": 10,
     "metadata": {},
     "output_type": "execute_result"
    }
   ],
   "source": [
    "df.describe()"
   ]
  },
  {
   "cell_type": "code",
   "execution_count": 22,
   "metadata": {},
   "outputs": [
    {
     "data": {
      "text/plain": [
       "<AxesSubplot:xlabel='Aspect'>"
      ]
     },
     "execution_count": 22,
     "metadata": {},
     "output_type": "execute_result"
    },
    {
     "data": {
      "image/png": "[encoded data removed]",
      "text/plain": [
       "<Figure size 432x288 with 1 Axes>"
      ]
     },
     "metadata": {
      "needs_background": "light"
     },
     "output_type": "display_data"
    }
   ],
   "source": [
    "sns.boxplot(df.Aspect)"
   ]
  },
  {
   "cell_type": "code",
   "execution_count": 18,
   "metadata": {},
   "outputs": [
    {
     "data": {
      "text/plain": [
       "<AxesSubplot:xlabel='Elevation'>"
      ]
     },
     "execution_count": 18,
     "metadata": {},
     "output_type": "execute_result"
    },
    {
     "data": {
      "image/png": "[encoded data removed]",
      "text/plain": [
       "<Figure size 432x288 with 1 Axes>"
      ]
     },
     "metadata": {
      "needs_background": "light"
     },
     "output_type": "display_data"
    }
   ],
   "source": [
    "sns.boxplot(df.Elevation)"
   ]
  },
  {
   "cell_type": "code",
   "execution_count": 23,
   "metadata": {},
   "outputs": [
    {
     "data": {
      "text/plain": [
       "<AxesSubplot:xlabel='Slope'>"
      ]
     },
     "execution_count": 23,
     "metadata": {},
     "output_type": "execute_result"
    },
    {
     "data": {
      "image/png": "[encoded data removed]",
      "text/plain": [
       "<Figure size 432x288 with 1 Axes>"
      ]
     },
     "metadata": {
      "needs_background": "light"
     },
     "output_type": "display_data"
    }
   ],
   "source": [
    "sns.boxplot(df.Slope)"
   ]
  },
  {
   "cell_type": "code",
   "execution_count": 7,
   "metadata": {},
   "outputs": [
    {
     "data": {
      "text/plain": [
       "<AxesSubplot:xlabel='Slope', ylabel='Count'>"
      ]
     },
     "execution_count": 7,
     "metadata": {},
     "output_type": "execute_result"
    },
    {
     "data": {
      "image/png": "[encoded data removed]",
      "text/plain": [
       "<Figure size 432x288 with 1 Axes>"
      ]
     },
     "metadata": {
      "needs_background": "light"
     },
     "output_type": "display_data"
    }
   ],
   "source": [
    "sns.histplot(data = df, x = 'Slope')"
   ]
  },
  {
   "cell_type": "code",
   "execution_count": 8,
   "metadata": {
    "scrolled": true
   },
   "outputs": [
    {
     "data": {
      "text/plain": [
       "589       49\n",
       "5740      49\n",
       "6071      46\n",
       "6491      48\n",
       "6531      47\n",
       "          ..\n",
       "242016    48\n",
       "243603    52\n",
       "246616    47\n",
       "248059    49\n",
       "248414    47\n",
       "Name: Slope, Length: 172, dtype: int64"
      ]
     },
     "execution_count": 8,
     "metadata": {},
     "output_type": "execute_result"
    }
   ],
   "source": [
    "df[df.Slope > 45].Slope"
   ]
  },
  {
   "cell_type": "code",
   "execution_count": 50,
   "metadata": {},
   "outputs": [
    {
     "data": {
      "text/plain": [
       "0.0034"
      ]
     },
     "execution_count": 50,
     "metadata": {},
     "output_type": "execute_result"
    }
   ],
   "source": [
    "len(df[df.Slope > 40].Slope)/len(df)"
   ]
  },
  {
   "cell_type": "code",
   "execution_count": null,
   "metadata": {},
   "outputs": [],
   "source": []
  },
  {
   "cell_type": "code",
   "execution_count": 25,
   "metadata": {},
   "outputs": [
    {
     "data": {
      "text/plain": [
       "<AxesSubplot:xlabel='Vertical_Distance_To_Hydrology'>"
      ]
     },
     "execution_count": 25,
     "metadata": {},
     "output_type": "execute_result"
    },
    {
     "data": {
      "image/png": "[encoded data removed]",
      "text/plain": [
       "<Figure size 432x288 with 1 Axes>"
      ]
     },
     "metadata": {
      "needs_background": "light"
     },
     "output_type": "display_data"
    }
   ],
   "source": [
    "sns.boxplot(df.Vertical_Distance_To_Hydrology)"
   ]
  },
  {
   "cell_type": "code",
   "execution_count": 10,
   "metadata": {},
   "outputs": [
    {
     "data": {
      "text/plain": [
       "<AxesSubplot:xlabel='Vertical_Distance_To_Hydrology', ylabel='Count'>"
      ]
     },
     "execution_count": 10,
     "metadata": {},
     "output_type": "execute_result"
    },
    {
     "data": {
      "image/png": "[encoded data removed]",
      "text/plain": [
       "<Figure size 432x288 with 1 Axes>"
      ]
     },
     "metadata": {
      "needs_background": "light"
     },
     "output_type": "display_data"
    }
   ],
   "source": [
    "sns.histplot(data = df, x ='Vertical_Distance_To_Hydrology' )"
   ]
  },
  {
   "cell_type": "code",
   "execution_count": 11,
   "metadata": {},
   "outputs": [
    {
     "data": {
      "text/plain": [
       "119       257\n",
       "172       270\n",
       "368       313\n",
       "460       332\n",
       "601       396\n",
       "         ... \n",
       "249627    263\n",
       "249673    281\n",
       "249728    282\n",
       "249908    265\n",
       "249999    311\n",
       "Name: Vertical_Distance_To_Hydrology, Length: 2484, dtype: int64"
      ]
     },
     "execution_count": 11,
     "metadata": {},
     "output_type": "execute_result"
    }
   ],
   "source": [
    "df[df.Vertical_Distance_To_Hydrology > 250].Vertical_Distance_To_Hydrology"
   ]
  },
  {
   "cell_type": "code",
   "execution_count": 51,
   "metadata": {},
   "outputs": [
    {
     "data": {
      "text/plain": [
       "0.029796"
      ]
     },
     "execution_count": 51,
     "metadata": {},
     "output_type": "execute_result"
    }
   ],
   "source": [
    "len(df[df.Vertical_Distance_To_Hydrology > 200].Vertical_Distance_To_Hydrology) / len(df)"
   ]
  },
  {
   "cell_type": "code",
   "execution_count": 26,
   "metadata": {},
   "outputs": [
    {
     "data": {
      "text/plain": [
       "<AxesSubplot:xlabel='Horizontal_Distance_To_Hydrology'>"
      ]
     },
     "execution_count": 26,
     "metadata": {},
     "output_type": "execute_result"
    },
    {
     "data": {
      "image/png": "[encoded data removed]",
      "text/plain": [
       "<Figure size 432x288 with 1 Axes>"
      ]
     },
     "metadata": {
      "needs_background": "light"
     },
     "output_type": "display_data"
    }
   ],
   "source": [
    "sns.boxplot(df.Horizontal_Distance_To_Hydrology)"
   ]
  },
  {
   "cell_type": "code",
   "execution_count": 12,
   "metadata": {},
   "outputs": [
    {
     "data": {
      "text/plain": [
       "<AxesSubplot:xlabel='Horizontal_Distance_To_Hydrology', ylabel='Count'>"
      ]
     },
     "execution_count": 12,
     "metadata": {},
     "output_type": "execute_result"
    },
    {
     "data": {
      "image/png": "[encoded data removed]",
      "text/plain": [
       "<Figure size 432x288 with 1 Axes>"
      ]
     },
     "metadata": {
      "needs_background": "light"
     },
     "output_type": "display_data"
    }
   ],
   "source": [
    "sns.histplot(data = df, x = 'Horizontal_Distance_To_Hydrology')"
   ]
  },
  {
   "cell_type": "code",
   "execution_count": 13,
   "metadata": {},
   "outputs": [
    {
     "data": {
      "text/plain": [
       "65        1088\n",
       "119       1130\n",
       "151       1055\n",
       "173       1153\n",
       "180        932\n",
       "          ... \n",
       "249913    1205\n",
       "249925    1073\n",
       "249951    1069\n",
       "249992     857\n",
       "249999    1112\n",
       "Name: Horizontal_Distance_To_Hydrology, Length: 5955, dtype: int64"
      ]
     },
     "execution_count": 13,
     "metadata": {},
     "output_type": "execute_result"
    }
   ],
   "source": [
    "df[df.Horizontal_Distance_To_Hydrology > 800].Horizontal_Distance_To_Hydrology"
   ]
  },
  {
   "cell_type": "code",
   "execution_count": 53,
   "metadata": {},
   "outputs": [
    {
     "data": {
      "text/plain": [
       "0.029552"
      ]
     },
     "execution_count": 53,
     "metadata": {},
     "output_type": "execute_result"
    }
   ],
   "source": [
    "len(df[df.Horizontal_Distance_To_Hydrology > 750].Horizontal_Distance_To_Hydrology)/len(df)"
   ]
  },
  {
   "cell_type": "code",
   "execution_count": 27,
   "metadata": {},
   "outputs": [
    {
     "data": {
      "text/plain": [
       "<AxesSubplot:xlabel='Horizontal_Distance_To_Roadways'>"
      ]
     },
     "execution_count": 27,
     "metadata": {},
     "output_type": "execute_result"
    },
    {
     "data": {
      "image/png": "[encoded data removed]",
      "text/plain": [
       "<Figure size 432x288 with 1 Axes>"
      ]
     },
     "metadata": {
      "needs_background": "light"
     },
     "output_type": "display_data"
    }
   ],
   "source": [
    "sns.boxplot(df.Horizontal_Distance_To_Roadways)"
   ]
  },
  {
   "cell_type": "code",
   "execution_count": 14,
   "metadata": {},
   "outputs": [
    {
     "data": {
      "text/plain": [
       "<AxesSubplot:xlabel='Horizontal_Distance_To_Roadways', ylabel='Count'>"
      ]
     },
     "execution_count": 14,
     "metadata": {},
     "output_type": "execute_result"
    },
    {
     "data": {
      "image/png": "[encoded data removed]",
      "text/plain": [
       "<Figure size 432x288 with 1 Axes>"
      ]
     },
     "metadata": {
      "needs_background": "light"
     },
     "output_type": "display_data"
    }
   ],
   "source": [
    "sns.histplot(data = df, x = 'Horizontal_Distance_To_Roadways')"
   ]
  },
  {
   "cell_type": "code",
   "execution_count": 15,
   "metadata": {},
   "outputs": [
    {
     "data": {
      "text/plain": [
       "178       6016\n",
       "490       6174\n",
       "674       6376\n",
       "901       6363\n",
       "955       6634\n",
       "          ... \n",
       "249196    6507\n",
       "249418    6311\n",
       "249485    6012\n",
       "249745    6335\n",
       "249821    6747\n",
       "Name: Horizontal_Distance_To_Roadways, Length: 1186, dtype: int64"
      ]
     },
     "execution_count": 15,
     "metadata": {},
     "output_type": "execute_result"
    }
   ],
   "source": [
    "df[df.Horizontal_Distance_To_Roadways > 6000].Horizontal_Distance_To_Roadways"
   ]
  },
  {
   "cell_type": "code",
   "execution_count": 55,
   "metadata": {},
   "outputs": [
    {
     "data": {
      "text/plain": [
       "0.053208"
      ]
     },
     "execution_count": 55,
     "metadata": {},
     "output_type": "execute_result"
    }
   ],
   "source": [
    "len(df[df.Horizontal_Distance_To_Roadways > 4550].Horizontal_Distance_To_Roadways) / len(df)"
   ]
  },
  {
   "cell_type": "code",
   "execution_count": 28,
   "metadata": {},
   "outputs": [
    {
     "data": {
      "text/plain": [
       "<AxesSubplot:xlabel='Hillshade_9am'>"
      ]
     },
     "execution_count": 28,
     "metadata": {},
     "output_type": "execute_result"
    },
    {
     "data": {
      "image/png": "[encoded data removed]",
      "text/plain": [
       "<Figure size 432x288 with 1 Axes>"
      ]
     },
     "metadata": {
      "needs_background": "light"
     },
     "output_type": "display_data"
    }
   ],
   "source": [
    "sns.boxplot(df.Hillshade_9am)"
   ]
  },
  {
   "cell_type": "code",
   "execution_count": 16,
   "metadata": {},
   "outputs": [
    {
     "data": {
      "text/plain": [
       "<AxesSubplot:xlabel='Hillshade_9am', ylabel='Count'>"
      ]
     },
     "execution_count": 16,
     "metadata": {},
     "output_type": "execute_result"
    },
    {
     "data": {
      "image/png": "[encoded data removed]",
      "text/plain": [
       "<Figure size 432x288 with 1 Axes>"
      ]
     },
     "metadata": {
      "needs_background": "light"
     },
     "output_type": "display_data"
    }
   ],
   "source": [
    "sns.histplot(data = df, x = 'Hillshade_9am')"
   ]
  },
  {
   "cell_type": "code",
   "execution_count": 19,
   "metadata": {},
   "outputs": [
    {
     "data": {
      "text/plain": [
       "855       92\n",
       "1026      88\n",
       "1433      70\n",
       "1718      86\n",
       "2087      86\n",
       "          ..\n",
       "249231    85\n",
       "249400    94\n",
       "249650    79\n",
       "249790    94\n",
       "249903    84\n",
       "Name: Hillshade_9am, Length: 585, dtype: int64"
      ]
     },
     "execution_count": 19,
     "metadata": {},
     "output_type": "execute_result"
    }
   ],
   "source": [
    "df[df.Hillshade_9am < 100].Hillshade_9am"
   ]
  },
  {
   "cell_type": "code",
   "execution_count": 57,
   "metadata": {},
   "outputs": [
    {
     "data": {
      "text/plain": [
       "0.029196"
      ]
     },
     "execution_count": 57,
     "metadata": {},
     "output_type": "execute_result"
    }
   ],
   "source": [
    "len(df[df.Hillshade_9am < 140].Hillshade_9am) / len(df)"
   ]
  },
  {
   "cell_type": "code",
   "execution_count": 29,
   "metadata": {},
   "outputs": [
    {
     "data": {
      "text/plain": [
       "<AxesSubplot:xlabel='Hillshade_Noon'>"
      ]
     },
     "execution_count": 29,
     "metadata": {},
     "output_type": "execute_result"
    },
    {
     "data": {
      "image/png": "[encoded data removed]",
      "text/plain": [
       "<Figure size 432x288 with 1 Axes>"
      ]
     },
     "metadata": {
      "needs_background": "light"
     },
     "output_type": "display_data"
    }
   ],
   "source": [
    "sns.boxplot(df.Hillshade_Noon)"
   ]
  },
  {
   "cell_type": "code",
   "execution_count": 20,
   "metadata": {},
   "outputs": [
    {
     "data": {
      "text/plain": [
       "<AxesSubplot:xlabel='Hillshade_Noon', ylabel='Count'>"
      ]
     },
     "execution_count": 20,
     "metadata": {},
     "output_type": "execute_result"
    },
    {
     "data": {
      "image/png": "[encoded data removed]",
      "text/plain": [
       "<Figure size 432x288 with 1 Axes>"
      ]
     },
     "metadata": {
      "needs_background": "light"
     },
     "output_type": "display_data"
    }
   ],
   "source": [
    "sns.histplot(data = df, x = 'Hillshade_Noon')"
   ]
  },
  {
   "cell_type": "code",
   "execution_count": 21,
   "metadata": {},
   "outputs": [
    {
     "data": {
      "text/plain": [
       "589       100\n",
       "3411      116\n",
       "3591      109\n",
       "6071      110\n",
       "6491      110\n",
       "         ... \n",
       "241381    117\n",
       "242016    111\n",
       "246955    111\n",
       "247533    114\n",
       "248414    116\n",
       "Name: Hillshade_Noon, Length: 206, dtype: int64"
      ]
     },
     "execution_count": 21,
     "metadata": {},
     "output_type": "execute_result"
    }
   ],
   "source": [
    "df[df.Hillshade_Noon < 120].Hillshade_Noon"
   ]
  },
  {
   "cell_type": "code",
   "execution_count": 59,
   "metadata": {},
   "outputs": [
    {
     "data": {
      "text/plain": [
       "0.018932"
      ]
     },
     "execution_count": 59,
     "metadata": {},
     "output_type": "execute_result"
    }
   ],
   "source": [
    "len(df[df.Hillshade_Noon < 160].Hillshade_Noon) / len(df)"
   ]
  },
  {
   "cell_type": "code",
   "execution_count": null,
   "metadata": {},
   "outputs": [],
   "source": []
  },
  {
   "cell_type": "code",
   "execution_count": 30,
   "metadata": {},
   "outputs": [
    {
     "data": {
      "text/plain": [
       "<AxesSubplot:xlabel='Hillshade_3pm'>"
      ]
     },
     "execution_count": 30,
     "metadata": {},
     "output_type": "execute_result"
    },
    {
     "data": {
      "image/png": "[encoded data removed]",
      "text/plain": [
       "<Figure size 432x288 with 1 Axes>"
      ]
     },
     "metadata": {
      "needs_background": "light"
     },
     "output_type": "display_data"
    }
   ],
   "source": [
    "sns.boxplot(df.Hillshade_3pm)"
   ]
  },
  {
   "cell_type": "code",
   "execution_count": 31,
   "metadata": {},
   "outputs": [
    {
     "data": {
      "text/plain": [
       "<AxesSubplot:xlabel='Horizontal_Distance_To_Fire_Points'>"
      ]
     },
     "execution_count": 31,
     "metadata": {},
     "output_type": "execute_result"
    },
    {
     "data": {
      "image/png": "[encoded data removed]",
      "text/plain": [
       "<Figure size 432x288 with 1 Axes>"
      ]
     },
     "metadata": {
      "needs_background": "light"
     },
     "output_type": "display_data"
    }
   ],
   "source": [
    "sns.boxplot(df.Horizontal_Distance_To_Fire_Points)"
   ]
  },
  {
   "cell_type": "code",
   "execution_count": null,
   "metadata": {},
   "outputs": [],
   "source": []
  },
  {
   "cell_type": "code",
   "execution_count": 17,
   "metadata": {},
   "outputs": [
    {
     "data": {
      "text/html": [
       "<div>\n",
       "<style scoped>\n",
       "    .dataframe tbody tr th:only-of-type {\n",
       "        vertical-align: middle;\n",
       "    }\n",
       "\n",
       "    .dataframe tbody tr th {\n",
       "        vertical-align: top;\n",
       "    }\n",
       "\n",
       "    .dataframe thead th {\n",
       "        text-align: right;\n",
       "    }\n",
       "</style>\n",
       "<table border=\"1\" class=\"dataframe\">\n",
       "  <thead>\n",
       "    <tr style=\"text-align: right;\">\n",
       "      <th></th>\n",
       "      <th>Elevation</th>\n",
       "      <th>Aspect</th>\n",
       "      <th>Slope</th>\n",
       "      <th>Horizontal_Distance_To_Hydrology</th>\n",
       "      <th>Vertical_Distance_To_Hydrology</th>\n",
       "      <th>Horizontal_Distance_To_Roadways</th>\n",
       "      <th>Hillshade_9am</th>\n",
       "      <th>Hillshade_Noon</th>\n",
       "      <th>Hillshade_3pm</th>\n",
       "      <th>Horizontal_Distance_To_Fire_Points</th>\n",
       "      <th>...</th>\n",
       "      <th>Soil_Type_32</th>\n",
       "      <th>Soil_Type_33</th>\n",
       "      <th>Soil_Type_34</th>\n",
       "      <th>Soil_Type_35</th>\n",
       "      <th>Soil_Type_36</th>\n",
       "      <th>Soil_Type_37</th>\n",
       "      <th>Soil_Type_38</th>\n",
       "      <th>Soil_Type_39</th>\n",
       "      <th>Soil_Type_40</th>\n",
       "      <th>Cover_Type</th>\n",
       "    </tr>\n",
       "  </thead>\n",
       "  <tbody>\n",
       "    <tr>\n",
       "      <th>0</th>\n",
       "      <td>2696</td>\n",
       "      <td>123</td>\n",
       "      <td>10</td>\n",
       "      <td>212</td>\n",
       "      <td>48</td>\n",
       "      <td>2245</td>\n",
       "      <td>237</td>\n",
       "      <td>231</td>\n",
       "      <td>123</td>\n",
       "      <td>2113</td>\n",
       "      <td>...</td>\n",
       "      <td>0</td>\n",
       "      <td>0</td>\n",
       "      <td>0</td>\n",
       "      <td>0</td>\n",
       "      <td>0</td>\n",
       "      <td>0</td>\n",
       "      <td>0</td>\n",
       "      <td>0</td>\n",
       "      <td>0</td>\n",
       "      <td>6</td>\n",
       "    </tr>\n",
       "    <tr>\n",
       "      <th>1</th>\n",
       "      <td>3269</td>\n",
       "      <td>110</td>\n",
       "      <td>19</td>\n",
       "      <td>134</td>\n",
       "      <td>40</td>\n",
       "      <td>3734</td>\n",
       "      <td>249</td>\n",
       "      <td>216</td>\n",
       "      <td>88</td>\n",
       "      <td>3960</td>\n",
       "      <td>...</td>\n",
       "      <td>0</td>\n",
       "      <td>0</td>\n",
       "      <td>0</td>\n",
       "      <td>0</td>\n",
       "      <td>0</td>\n",
       "      <td>0</td>\n",
       "      <td>1</td>\n",
       "      <td>0</td>\n",
       "      <td>0</td>\n",
       "      <td>1</td>\n",
       "    </tr>\n",
       "    <tr>\n",
       "      <th>2</th>\n",
       "      <td>3283</td>\n",
       "      <td>322</td>\n",
       "      <td>18</td>\n",
       "      <td>346</td>\n",
       "      <td>104</td>\n",
       "      <td>4369</td>\n",
       "      <td>170</td>\n",
       "      <td>217</td>\n",
       "      <td>185</td>\n",
       "      <td>1330</td>\n",
       "      <td>...</td>\n",
       "      <td>0</td>\n",
       "      <td>0</td>\n",
       "      <td>0</td>\n",
       "      <td>0</td>\n",
       "      <td>0</td>\n",
       "      <td>0</td>\n",
       "      <td>1</td>\n",
       "      <td>0</td>\n",
       "      <td>0</td>\n",
       "      <td>7</td>\n",
       "    </tr>\n",
       "    <tr>\n",
       "      <th>3</th>\n",
       "      <td>2847</td>\n",
       "      <td>89</td>\n",
       "      <td>31</td>\n",
       "      <td>270</td>\n",
       "      <td>175</td>\n",
       "      <td>1320</td>\n",
       "      <td>248</td>\n",
       "      <td>173</td>\n",
       "      <td>29</td>\n",
       "      <td>889</td>\n",
       "      <td>...</td>\n",
       "      <td>0</td>\n",
       "      <td>0</td>\n",
       "      <td>0</td>\n",
       "      <td>0</td>\n",
       "      <td>0</td>\n",
       "      <td>0</td>\n",
       "      <td>0</td>\n",
       "      <td>0</td>\n",
       "      <td>0</td>\n",
       "      <td>5</td>\n",
       "    </tr>\n",
       "    <tr>\n",
       "      <th>4</th>\n",
       "      <td>3248</td>\n",
       "      <td>93</td>\n",
       "      <td>12</td>\n",
       "      <td>507</td>\n",
       "      <td>118</td>\n",
       "      <td>570</td>\n",
       "      <td>239</td>\n",
       "      <td>221</td>\n",
       "      <td>110</td>\n",
       "      <td>945</td>\n",
       "      <td>...</td>\n",
       "      <td>0</td>\n",
       "      <td>0</td>\n",
       "      <td>0</td>\n",
       "      <td>0</td>\n",
       "      <td>0</td>\n",
       "      <td>0</td>\n",
       "      <td>0</td>\n",
       "      <td>0</td>\n",
       "      <td>0</td>\n",
       "      <td>7</td>\n",
       "    </tr>\n",
       "    <tr>\n",
       "      <th>...</th>\n",
       "      <td>...</td>\n",
       "      <td>...</td>\n",
       "      <td>...</td>\n",
       "      <td>...</td>\n",
       "      <td>...</td>\n",
       "      <td>...</td>\n",
       "      <td>...</td>\n",
       "      <td>...</td>\n",
       "      <td>...</td>\n",
       "      <td>...</td>\n",
       "      <td>...</td>\n",
       "      <td>...</td>\n",
       "      <td>...</td>\n",
       "      <td>...</td>\n",
       "      <td>...</td>\n",
       "      <td>...</td>\n",
       "      <td>...</td>\n",
       "      <td>...</td>\n",
       "      <td>...</td>\n",
       "      <td>...</td>\n",
       "      <td>...</td>\n",
       "    </tr>\n",
       "    <tr>\n",
       "      <th>249995</th>\n",
       "      <td>2112</td>\n",
       "      <td>339</td>\n",
       "      <td>39</td>\n",
       "      <td>49</td>\n",
       "      <td>17</td>\n",
       "      <td>467</td>\n",
       "      <td>107</td>\n",
       "      <td>151</td>\n",
       "      <td>162</td>\n",
       "      <td>435</td>\n",
       "      <td>...</td>\n",
       "      <td>0</td>\n",
       "      <td>0</td>\n",
       "      <td>0</td>\n",
       "      <td>0</td>\n",
       "      <td>0</td>\n",
       "      <td>0</td>\n",
       "      <td>0</td>\n",
       "      <td>0</td>\n",
       "      <td>0</td>\n",
       "      <td>3</td>\n",
       "    </tr>\n",
       "    <tr>\n",
       "      <th>249996</th>\n",
       "      <td>2872</td>\n",
       "      <td>90</td>\n",
       "      <td>31</td>\n",
       "      <td>251</td>\n",
       "      <td>147</td>\n",
       "      <td>2027</td>\n",
       "      <td>248</td>\n",
       "      <td>172</td>\n",
       "      <td>27</td>\n",
       "      <td>508</td>\n",
       "      <td>...</td>\n",
       "      <td>0</td>\n",
       "      <td>0</td>\n",
       "      <td>0</td>\n",
       "      <td>0</td>\n",
       "      <td>0</td>\n",
       "      <td>0</td>\n",
       "      <td>0</td>\n",
       "      <td>0</td>\n",
       "      <td>0</td>\n",
       "      <td>5</td>\n",
       "    </tr>\n",
       "    <tr>\n",
       "      <th>249997</th>\n",
       "      <td>2336</td>\n",
       "      <td>57</td>\n",
       "      <td>5</td>\n",
       "      <td>0</td>\n",
       "      <td>0</td>\n",
       "      <td>1429</td>\n",
       "      <td>224</td>\n",
       "      <td>228</td>\n",
       "      <td>139</td>\n",
       "      <td>387</td>\n",
       "      <td>...</td>\n",
       "      <td>0</td>\n",
       "      <td>0</td>\n",
       "      <td>0</td>\n",
       "      <td>0</td>\n",
       "      <td>0</td>\n",
       "      <td>0</td>\n",
       "      <td>0</td>\n",
       "      <td>0</td>\n",
       "      <td>0</td>\n",
       "      <td>4</td>\n",
       "    </tr>\n",
       "    <tr>\n",
       "      <th>249998</th>\n",
       "      <td>2563</td>\n",
       "      <td>181</td>\n",
       "      <td>10</td>\n",
       "      <td>0</td>\n",
       "      <td>0</td>\n",
       "      <td>1349</td>\n",
       "      <td>223</td>\n",
       "      <td>246</td>\n",
       "      <td>156</td>\n",
       "      <td>1007</td>\n",
       "      <td>...</td>\n",
       "      <td>0</td>\n",
       "      <td>0</td>\n",
       "      <td>0</td>\n",
       "      <td>0</td>\n",
       "      <td>0</td>\n",
       "      <td>0</td>\n",
       "      <td>0</td>\n",
       "      <td>0</td>\n",
       "      <td>0</td>\n",
       "      <td>5</td>\n",
       "    </tr>\n",
       "    <tr>\n",
       "      <th>249999</th>\n",
       "      <td>3720</td>\n",
       "      <td>354</td>\n",
       "      <td>17</td>\n",
       "      <td>1112</td>\n",
       "      <td>311</td>\n",
       "      <td>5105</td>\n",
       "      <td>189</td>\n",
       "      <td>208</td>\n",
       "      <td>155</td>\n",
       "      <td>3256</td>\n",
       "      <td>...</td>\n",
       "      <td>0</td>\n",
       "      <td>0</td>\n",
       "      <td>0</td>\n",
       "      <td>0</td>\n",
       "      <td>0</td>\n",
       "      <td>0</td>\n",
       "      <td>0</td>\n",
       "      <td>0</td>\n",
       "      <td>1</td>\n",
       "      <td>7</td>\n",
       "    </tr>\n",
       "  </tbody>\n",
       "</table>\n",
       "<p>250000 rows × 55 columns</p>\n",
       "</div>"
      ],
      "text/plain": [
       "        Elevation  Aspect  Slope  Horizontal_Distance_To_Hydrology  \\\n",
       "0            2696     123     10                               212   \n",
       "1            3269     110     19                               134   \n",
       "2            3283     322     18                               346   \n",
       "3            2847      89     31                               270   \n",
       "4            3248      93     12                               507   \n",
       "...           ...     ...    ...                               ...   \n",
       "249995       2112     339     39                                49   \n",
       "249996       2872      90     31                               251   \n",
       "249997       2336      57      5                                 0   \n",
       "249998       2563     181     10                                 0   \n",
       "249999       3720     354     17                              1112   \n",
       "\n",
       "        Vertical_Distance_To_Hydrology  Horizontal_Distance_To_Roadways  \\\n",
       "0                                   48                             2245   \n",
       "1                                   40                             3734   \n",
       "2                                  104                             4369   \n",
       "3                                  175                             1320   \n",
       "4                                  118                              570   \n",
       "...                                ...                              ...   \n",
       "249995                              17                              467   \n",
       "249996                             147                             2027   \n",
       "249997                               0                             1429   \n",
       "249998                               0                             1349   \n",
       "249999                             311                             5105   \n",
       "\n",
       "        Hillshade_9am  Hillshade_Noon  Hillshade_3pm  \\\n",
       "0                 237             231            123   \n",
       "1                 249             216             88   \n",
       "2                 170             217            185   \n",
       "3                 248             173             29   \n",
       "4                 239             221            110   \n",
       "...               ...             ...            ...   \n",
       "249995            107             151            162   \n",
       "249996            248             172             27   \n",
       "249997            224             228            139   \n",
       "249998            223             246            156   \n",
       "249999            189             208            155   \n",
       "\n",
       "        Horizontal_Distance_To_Fire_Points  ...  Soil_Type_32  Soil_Type_33  \\\n",
       "0                                     2113  ...             0             0   \n",
       "1                                     3960  ...             0             0   \n",
       "2                                     1330  ...             0             0   \n",
       "3                                      889  ...             0             0   \n",
       "4                                      945  ...             0             0   \n",
       "...                                    ...  ...           ...           ...   \n",
       "249995                                 435  ...             0             0   \n",
       "249996                                 508  ...             0             0   \n",
       "249997                                 387  ...             0             0   \n",
       "249998                                1007  ...             0             0   \n",
       "249999                                3256  ...             0             0   \n",
       "\n",
       "        Soil_Type_34  Soil_Type_35  Soil_Type_36  Soil_Type_37  Soil_Type_38  \\\n",
       "0                  0             0             0             0             0   \n",
       "1                  0             0             0             0             1   \n",
       "2                  0             0             0             0             1   \n",
       "3                  0             0             0             0             0   \n",
       "4                  0             0             0             0             0   \n",
       "...              ...           ...           ...           ...           ...   \n",
       "249995             0             0             0             0             0   \n",
       "249996             0             0             0             0             0   \n",
       "249997             0             0             0             0             0   \n",
       "249998             0             0             0             0             0   \n",
       "249999             0             0             0             0             0   \n",
       "\n",
       "        Soil_Type_39  Soil_Type_40  Cover_Type  \n",
       "0                  0             0           6  \n",
       "1                  0             0           1  \n",
       "2                  0             0           7  \n",
       "3                  0             0           5  \n",
       "4                  0             0           7  \n",
       "...              ...           ...         ...  \n",
       "249995             0             0           3  \n",
       "249996             0             0           5  \n",
       "249997             0             0           4  \n",
       "249998             0             0           5  \n",
       "249999             0             1           7  \n",
       "\n",
       "[250000 rows x 55 columns]"
      ]
     },
     "execution_count": 17,
     "metadata": {},
     "output_type": "execute_result"
    }
   ],
   "source": [
    "df"
   ]
  },
  {
   "cell_type": "code",
   "execution_count": null,
   "metadata": {},
   "outputs": [],
   "source": []
  },
  {
   "cell_type": "code",
   "execution_count": null,
   "metadata": {},
   "outputs": [],
   "source": []
  },
  {
   "cell_type": "markdown",
   "metadata": {
    "id": "fQeP_Dhtri3v"
   },
   "source": [
    "***\n",
    "***"
   ]
  },
  {
   "cell_type": "markdown",
   "metadata": {
    "id": "kdwJqW45ASC0"
   },
   "source": [
    "## 2.  Data Cleaning"
   ]
  },
  {
   "cell_type": "markdown",
   "metadata": {
    "id": "h95eEjnEASC0"
   },
   "source": [
    "### Detect Missing Values and Outliers"
   ]
  },
  {
   "cell_type": "markdown",
   "metadata": {
    "id": "TNvbnTdnASC0"
   },
   "source": [
    "#### *i. Missing Value Detection*"
   ]
  },
  {
   "cell_type": "code",
   "execution_count": 9,
   "metadata": {
    "id": "VkLpnVcvASC0"
   },
   "outputs": [],
   "source": [
    "def remove_outliers(df, col, whis=1.5):\n",
    "    q1 = df.groupby(\"Cover_Type\")[col].quantile(0.25)\n",
    "    q3 = df.groupby(\"Cover_Type\")[col].quantile(0.75)\n",
    "    iqr = q3 - q1\n",
    "    for i in np.sort(df.Cover_Type.unique()):\n",
    "        min_threshold = q1.loc[i] - whis*iqr.loc[i]\n",
    "        max_threshold = q3.loc[i] + whis*iqr.loc[i]\n",
    "        df.loc[((df[\"Cover_Type\"]==i) & ((df[col]<min_threshold) | (df[col]>max_threshold))), col] = np.nan\n",
    "    return sns.boxplot(y = df[col], x = df[\"Cover_Type\"], whis=whis)"
   ]
  },
  {
   "cell_type": "code",
   "execution_count": 29,
   "metadata": {},
   "outputs": [
    {
     "data": {
      "text/plain": [
       "<AxesSubplot:xlabel='Cover_Type', ylabel='Horizontal_Distance_To_Hydrology'>"
      ]
     },
     "execution_count": 29,
     "metadata": {},
     "output_type": "execute_result"
    },
    {
     "data": {
      "image/png": "[encoded data removed]",
      "text/plain": [
       "<Figure size 432x288 with 1 Axes>"
      ]
     },
     "metadata": {
      "needs_background": "light"
     },
     "output_type": "display_data"
    }
   ],
   "source": [
    "remove_outliers(df, \"Horizontal_Distance_To_Hydrology\", whis=3)"
   ]
  },
  {
   "cell_type": "code",
   "execution_count": 23,
   "metadata": {},
   "outputs": [],
   "source": [
    "list_out = ['Elevation', 'Aspect', 'Slope', 'Horizontal_Distance_To_Hydrology',\n",
    "       'Vertical_Distance_To_Hydrology', 'Horizontal_Distance_To_Roadways',\n",
    "       'Hillshade_9am', 'Hillshade_Noon', 'Hillshade_3pm',\n",
    "       'Horizontal_Distance_To_Fire_Points']"
   ]
  },
  {
   "cell_type": "code",
   "execution_count": 25,
   "metadata": {},
   "outputs": [
    {
     "data": {
      "image/png": "[encoded data removed]",
      "text/plain": [
       "<Figure size 432x288 with 1 Axes>"
      ]
     },
     "metadata": {
      "needs_background": "light"
     },
     "output_type": "display_data"
    }
   ],
   "source": [
    "for i in list_out:\n",
    "    remove_outliers(df, i, whis=3)  "
   ]
  },
  {
   "cell_type": "code",
   "execution_count": 34,
   "metadata": {},
   "outputs": [],
   "source": [
    "df.dropna(inplace=True)"
   ]
  },
  {
   "cell_type": "code",
   "execution_count": 35,
   "metadata": {},
   "outputs": [
    {
     "data": {
      "text/plain": [
       "0"
      ]
     },
     "execution_count": 35,
     "metadata": {},
     "output_type": "execute_result"
    }
   ],
   "source": [
    "df.isnull().sum().sum()"
   ]
  },
  {
   "cell_type": "code",
   "execution_count": 36,
   "metadata": {},
   "outputs": [
    {
     "data": {
      "text/plain": [
       "(246736, 55)"
      ]
     },
     "execution_count": 36,
     "metadata": {},
     "output_type": "execute_result"
    }
   ],
   "source": [
    "df.shape"
   ]
  },
  {
   "cell_type": "code",
   "execution_count": 37,
   "metadata": {},
   "outputs": [
    {
     "data": {
      "image/png": "[encoded data removed]",
      "text/plain": [
       "<Figure size 1800x936 with 2 Axes>"
      ]
     },
     "metadata": {
      "needs_background": "light"
     },
     "output_type": "display_data"
    }
   ],
   "source": [
    "corr_matrix = df[df.columns[:10]].corr()\n",
    "plt.figure(figsize=(25, 13))\n",
    "sns.heatmap(corr_matrix, square=True, annot=True, linewidths=.5, vmin=-1, vmax=1, cmap='viridis')\n",
    "plt.title(\"Correlation Matrix\")\n",
    "plt.show()"
   ]
  },
  {
   "cell_type": "markdown",
   "metadata": {
    "id": "AdTLXhWeASC0"
   },
   "source": [
    "#### *ii. Outlier Detection*\n",
    "\n",
    "The columns which have continuous value should be examined in terms of [outliers](https://datascience.foundation/sciencewhitepaper/knowing-all-about-outliers-in-machine-learning) (Watch out for columns that look like continuous but not continuous!). Some algorithms are [sensitive to outliers](https://arsrinevetha.medium.com/ml-algorithms-sensitivity-towards-outliers-f3862a13c94d), but some algorithms can tolerate them. You can decide to outlier detection according to the algorithm you will use.\n",
    "- You can check the outliers shape of continous features with respect to the target (Cover_Type) classes.\n",
    "- You can check how many outliers are there of each continuous variables.\n",
    "- The columns which have continuous value should be examined in terms of outliers.\n",
    "- You can define a function to detect outliers in accordance with the ``zscore`` or ``IQR``."
   ]
  },
  {
   "cell_type": "code",
   "execution_count": null,
   "metadata": {},
   "outputs": [],
   "source": []
  },
  {
   "cell_type": "code",
   "execution_count": null,
   "metadata": {
    "id": "2cj4fc_jASC0",
    "scrolled": true
   },
   "outputs": [],
   "source": []
  },
  {
   "cell_type": "markdown",
   "metadata": {
    "id": "ax0-S9b6ri3I"
   },
   "source": [
    "### Deal with Outliers"
   ]
  },
  {
   "cell_type": "markdown",
   "metadata": {
    "id": "XfVCLwHlASC0"
   },
   "source": [
    "#### *ii. Drop Outliers*"
   ]
  },
  {
   "cell_type": "code",
   "execution_count": null,
   "metadata": {
    "id": "FK9d2g38Olu9",
    "scrolled": false
   },
   "outputs": [],
   "source": []
  },
  {
   "cell_type": "markdown",
   "metadata": {
    "id": "il9xamPwzEUv"
   },
   "source": [
    "### Now, let's take a closer look at correlation of continuous columns."
   ]
  },
  {
   "cell_type": "markdown",
   "metadata": {
    "id": "WjDFWFcgASC0"
   },
   "source": [
    "***\n",
    "***"
   ]
  },
  {
   "cell_type": "markdown",
   "metadata": {
    "id": "UzffSKptri3v"
   },
   "source": [
    "## 3. Feature Engineering"
   ]
  },
  {
   "cell_type": "markdown",
   "metadata": {
    "id": "yP5LibfOASC0"
   },
   "source": [
    "### My Plan of Feature Extraction\n",
    "- First, I decided to produce&transform a new column with ``Horizontal_Distance_To_Hydrology`` and ``Vertical_Distance_To_Hydrology`` columns. New column will contain the values of **Hypotenuse** of ``horizantal`` and ``vertical`` distances.\n",
    "\n",
    "- As second, we can produce&transform an additional column which contains **average** of Horizantal Distances to Hydrology and Roadways.\n",
    "\n",
    "- Third, I decided to transform a new column which contains **average** of `Elevation` and ``Vertical_Distance_To_Hydrology`` columns. So that, there is no need to have ``Horizontal_Distance_To_Hydrology`` and ``Vertical_Distance_To_Hydrology`` columns, because I have new columns which represent more value than them. I decide to drop these columns.\n",
    "\n",
    "- Note that, after seeing the result of the models, there may be a possibility of making minor changes to the features in the modeling phase."
   ]
  },
  {
   "cell_type": "code",
   "execution_count": 38,
   "metadata": {
    "cell_style": "center",
    "id": "82ImPSoIOlu-"
   },
   "outputs": [],
   "source": [
    "df['Hypotenuse'] = np.sqrt(df.Horizontal_Distance_To_Hydrology **2 + df.Vertical_Distance_To_Hydrology**2)"
   ]
  },
  {
   "cell_type": "code",
   "execution_count": 44,
   "metadata": {},
   "outputs": [],
   "source": [
    "df['Average_Dist_Hydr_Road'] = (df.Horizontal_Distance_To_Roadways + df.Horizontal_Distance_To_Hydrology)/2"
   ]
  },
  {
   "cell_type": "code",
   "execution_count": 46,
   "metadata": {},
   "outputs": [],
   "source": [
    "df['Average_Dist_Elev_Hyrd'] = (df.Elevation + df.Vertical_Distance_To_Hydrology)/2"
   ]
  },
  {
   "cell_type": "code",
   "execution_count": 47,
   "metadata": {},
   "outputs": [
    {
     "data": {
      "text/html": [
       "<div>\n",
       "<style scoped>\n",
       "    .dataframe tbody tr th:only-of-type {\n",
       "        vertical-align: middle;\n",
       "    }\n",
       "\n",
       "    .dataframe tbody tr th {\n",
       "        vertical-align: top;\n",
       "    }\n",
       "\n",
       "    .dataframe thead th {\n",
       "        text-align: right;\n",
       "    }\n",
       "</style>\n",
       "<table border=\"1\" class=\"dataframe\">\n",
       "  <thead>\n",
       "    <tr style=\"text-align: right;\">\n",
       "      <th></th>\n",
       "      <th>Elevation</th>\n",
       "      <th>Aspect</th>\n",
       "      <th>Slope</th>\n",
       "      <th>Horizontal_Distance_To_Hydrology</th>\n",
       "      <th>Vertical_Distance_To_Hydrology</th>\n",
       "      <th>Horizontal_Distance_To_Roadways</th>\n",
       "      <th>Hillshade_9am</th>\n",
       "      <th>Hillshade_Noon</th>\n",
       "      <th>Hillshade_3pm</th>\n",
       "      <th>Horizontal_Distance_To_Fire_Points</th>\n",
       "      <th>...</th>\n",
       "      <th>Soil_Type_35</th>\n",
       "      <th>Soil_Type_36</th>\n",
       "      <th>Soil_Type_37</th>\n",
       "      <th>Soil_Type_38</th>\n",
       "      <th>Soil_Type_39</th>\n",
       "      <th>Soil_Type_40</th>\n",
       "      <th>Cover_Type</th>\n",
       "      <th>Hypotenuse</th>\n",
       "      <th>Average_Dist_Hydr_Road</th>\n",
       "      <th>Average_Dist_Elev_Hyrd</th>\n",
       "    </tr>\n",
       "  </thead>\n",
       "  <tbody>\n",
       "    <tr>\n",
       "      <th>0</th>\n",
       "      <td>2696.0</td>\n",
       "      <td>123.0</td>\n",
       "      <td>10.0</td>\n",
       "      <td>212.0</td>\n",
       "      <td>48.0</td>\n",
       "      <td>2245.0</td>\n",
       "      <td>237.0</td>\n",
       "      <td>231.0</td>\n",
       "      <td>123.0</td>\n",
       "      <td>2113.0</td>\n",
       "      <td>...</td>\n",
       "      <td>0</td>\n",
       "      <td>0</td>\n",
       "      <td>0</td>\n",
       "      <td>0</td>\n",
       "      <td>0</td>\n",
       "      <td>0</td>\n",
       "      <td>6</td>\n",
       "      <td>217.366051</td>\n",
       "      <td>1228.5</td>\n",
       "      <td>1372.0</td>\n",
       "    </tr>\n",
       "    <tr>\n",
       "      <th>1</th>\n",
       "      <td>3269.0</td>\n",
       "      <td>110.0</td>\n",
       "      <td>19.0</td>\n",
       "      <td>134.0</td>\n",
       "      <td>40.0</td>\n",
       "      <td>3734.0</td>\n",
       "      <td>249.0</td>\n",
       "      <td>216.0</td>\n",
       "      <td>88.0</td>\n",
       "      <td>3960.0</td>\n",
       "      <td>...</td>\n",
       "      <td>0</td>\n",
       "      <td>0</td>\n",
       "      <td>0</td>\n",
       "      <td>1</td>\n",
       "      <td>0</td>\n",
       "      <td>0</td>\n",
       "      <td>1</td>\n",
       "      <td>139.842769</td>\n",
       "      <td>1934.0</td>\n",
       "      <td>1654.5</td>\n",
       "    </tr>\n",
       "    <tr>\n",
       "      <th>2</th>\n",
       "      <td>3283.0</td>\n",
       "      <td>322.0</td>\n",
       "      <td>18.0</td>\n",
       "      <td>346.0</td>\n",
       "      <td>104.0</td>\n",
       "      <td>4369.0</td>\n",
       "      <td>170.0</td>\n",
       "      <td>217.0</td>\n",
       "      <td>185.0</td>\n",
       "      <td>1330.0</td>\n",
       "      <td>...</td>\n",
       "      <td>0</td>\n",
       "      <td>0</td>\n",
       "      <td>0</td>\n",
       "      <td>1</td>\n",
       "      <td>0</td>\n",
       "      <td>0</td>\n",
       "      <td>7</td>\n",
       "      <td>361.292126</td>\n",
       "      <td>2357.5</td>\n",
       "      <td>1693.5</td>\n",
       "    </tr>\n",
       "    <tr>\n",
       "      <th>3</th>\n",
       "      <td>2847.0</td>\n",
       "      <td>89.0</td>\n",
       "      <td>31.0</td>\n",
       "      <td>270.0</td>\n",
       "      <td>175.0</td>\n",
       "      <td>1320.0</td>\n",
       "      <td>248.0</td>\n",
       "      <td>173.0</td>\n",
       "      <td>29.0</td>\n",
       "      <td>889.0</td>\n",
       "      <td>...</td>\n",
       "      <td>0</td>\n",
       "      <td>0</td>\n",
       "      <td>0</td>\n",
       "      <td>0</td>\n",
       "      <td>0</td>\n",
       "      <td>0</td>\n",
       "      <td>5</td>\n",
       "      <td>321.753011</td>\n",
       "      <td>795.0</td>\n",
       "      <td>1511.0</td>\n",
       "    </tr>\n",
       "    <tr>\n",
       "      <th>4</th>\n",
       "      <td>3248.0</td>\n",
       "      <td>93.0</td>\n",
       "      <td>12.0</td>\n",
       "      <td>507.0</td>\n",
       "      <td>118.0</td>\n",
       "      <td>570.0</td>\n",
       "      <td>239.0</td>\n",
       "      <td>221.0</td>\n",
       "      <td>110.0</td>\n",
       "      <td>945.0</td>\n",
       "      <td>...</td>\n",
       "      <td>0</td>\n",
       "      <td>0</td>\n",
       "      <td>0</td>\n",
       "      <td>0</td>\n",
       "      <td>0</td>\n",
       "      <td>0</td>\n",
       "      <td>7</td>\n",
       "      <td>520.550670</td>\n",
       "      <td>538.5</td>\n",
       "      <td>1683.0</td>\n",
       "    </tr>\n",
       "  </tbody>\n",
       "</table>\n",
       "<p>5 rows × 58 columns</p>\n",
       "</div>"
      ],
      "text/plain": [
       "   Elevation  Aspect  Slope  Horizontal_Distance_To_Hydrology  \\\n",
       "0     2696.0   123.0   10.0                             212.0   \n",
       "1     3269.0   110.0   19.0                             134.0   \n",
       "2     3283.0   322.0   18.0                             346.0   \n",
       "3     2847.0    89.0   31.0                             270.0   \n",
       "4     3248.0    93.0   12.0                             507.0   \n",
       "\n",
       "   Vertical_Distance_To_Hydrology  Horizontal_Distance_To_Roadways  \\\n",
       "0                            48.0                           2245.0   \n",
       "1                            40.0                           3734.0   \n",
       "2                           104.0                           4369.0   \n",
       "3                           175.0                           1320.0   \n",
       "4                           118.0                            570.0   \n",
       "\n",
       "   Hillshade_9am  Hillshade_Noon  Hillshade_3pm  \\\n",
       "0          237.0           231.0          123.0   \n",
       "1          249.0           216.0           88.0   \n",
       "2          170.0           217.0          185.0   \n",
       "3          248.0           173.0           29.0   \n",
       "4          239.0           221.0          110.0   \n",
       "\n",
       "   Horizontal_Distance_To_Fire_Points  ...  Soil_Type_35  Soil_Type_36  \\\n",
       "0                              2113.0  ...             0             0   \n",
       "1                              3960.0  ...             0             0   \n",
       "2                              1330.0  ...             0             0   \n",
       "3                               889.0  ...             0             0   \n",
       "4                               945.0  ...             0             0   \n",
       "\n",
       "   Soil_Type_37  Soil_Type_38  Soil_Type_39  Soil_Type_40  Cover_Type  \\\n",
       "0             0             0             0             0           6   \n",
       "1             0             1             0             0           1   \n",
       "2             0             1             0             0           7   \n",
       "3             0             0             0             0           5   \n",
       "4             0             0             0             0           7   \n",
       "\n",
       "   Hypotenuse  Average_Dist_Hydr_Road  Average_Dist_Elev_Hyrd  \n",
       "0  217.366051                  1228.5                  1372.0  \n",
       "1  139.842769                  1934.0                  1654.5  \n",
       "2  361.292126                  2357.5                  1693.5  \n",
       "3  321.753011                   795.0                  1511.0  \n",
       "4  520.550670                   538.5                  1683.0  \n",
       "\n",
       "[5 rows x 58 columns]"
      ]
     },
     "execution_count": 47,
     "metadata": {},
     "output_type": "execute_result"
    }
   ],
   "source": [
    "df.head()"
   ]
  },
  {
   "cell_type": "code",
   "execution_count": 48,
   "metadata": {},
   "outputs": [],
   "source": [
    "df1 = df"
   ]
  },
  {
   "cell_type": "code",
   "execution_count": 49,
   "metadata": {},
   "outputs": [],
   "source": [
    "df1.drop(['Horizontal_Distance_To_Hydrology','Vertical_Distance_To_Hydrology' ], axis = 1, inplace = True)"
   ]
  },
  {
   "cell_type": "code",
   "execution_count": 50,
   "metadata": {},
   "outputs": [
    {
     "data": {
      "text/html": [
       "<div>\n",
       "<style scoped>\n",
       "    .dataframe tbody tr th:only-of-type {\n",
       "        vertical-align: middle;\n",
       "    }\n",
       "\n",
       "    .dataframe tbody tr th {\n",
       "        vertical-align: top;\n",
       "    }\n",
       "\n",
       "    .dataframe thead th {\n",
       "        text-align: right;\n",
       "    }\n",
       "</style>\n",
       "<table border=\"1\" class=\"dataframe\">\n",
       "  <thead>\n",
       "    <tr style=\"text-align: right;\">\n",
       "      <th></th>\n",
       "      <th>Elevation</th>\n",
       "      <th>Aspect</th>\n",
       "      <th>Slope</th>\n",
       "      <th>Horizontal_Distance_To_Roadways</th>\n",
       "      <th>Hillshade_9am</th>\n",
       "      <th>Hillshade_Noon</th>\n",
       "      <th>Hillshade_3pm</th>\n",
       "      <th>Horizontal_Distance_To_Fire_Points</th>\n",
       "      <th>Wilderness_Area_1</th>\n",
       "      <th>Wilderness_Area_2</th>\n",
       "      <th>...</th>\n",
       "      <th>Soil_Type_35</th>\n",
       "      <th>Soil_Type_36</th>\n",
       "      <th>Soil_Type_37</th>\n",
       "      <th>Soil_Type_38</th>\n",
       "      <th>Soil_Type_39</th>\n",
       "      <th>Soil_Type_40</th>\n",
       "      <th>Cover_Type</th>\n",
       "      <th>Hypotenuse</th>\n",
       "      <th>Average_Dist_Hydr_Road</th>\n",
       "      <th>Average_Dist_Elev_Hyrd</th>\n",
       "    </tr>\n",
       "  </thead>\n",
       "  <tbody>\n",
       "    <tr>\n",
       "      <th>0</th>\n",
       "      <td>2696.0</td>\n",
       "      <td>123.0</td>\n",
       "      <td>10.0</td>\n",
       "      <td>2245.0</td>\n",
       "      <td>237.0</td>\n",
       "      <td>231.0</td>\n",
       "      <td>123.0</td>\n",
       "      <td>2113.0</td>\n",
       "      <td>0</td>\n",
       "      <td>0</td>\n",
       "      <td>...</td>\n",
       "      <td>0</td>\n",
       "      <td>0</td>\n",
       "      <td>0</td>\n",
       "      <td>0</td>\n",
       "      <td>0</td>\n",
       "      <td>0</td>\n",
       "      <td>6</td>\n",
       "      <td>217.366051</td>\n",
       "      <td>1228.5</td>\n",
       "      <td>1372.0</td>\n",
       "    </tr>\n",
       "    <tr>\n",
       "      <th>1</th>\n",
       "      <td>3269.0</td>\n",
       "      <td>110.0</td>\n",
       "      <td>19.0</td>\n",
       "      <td>3734.0</td>\n",
       "      <td>249.0</td>\n",
       "      <td>216.0</td>\n",
       "      <td>88.0</td>\n",
       "      <td>3960.0</td>\n",
       "      <td>1</td>\n",
       "      <td>0</td>\n",
       "      <td>...</td>\n",
       "      <td>0</td>\n",
       "      <td>0</td>\n",
       "      <td>0</td>\n",
       "      <td>1</td>\n",
       "      <td>0</td>\n",
       "      <td>0</td>\n",
       "      <td>1</td>\n",
       "      <td>139.842769</td>\n",
       "      <td>1934.0</td>\n",
       "      <td>1654.5</td>\n",
       "    </tr>\n",
       "    <tr>\n",
       "      <th>2</th>\n",
       "      <td>3283.0</td>\n",
       "      <td>322.0</td>\n",
       "      <td>18.0</td>\n",
       "      <td>4369.0</td>\n",
       "      <td>170.0</td>\n",
       "      <td>217.0</td>\n",
       "      <td>185.0</td>\n",
       "      <td>1330.0</td>\n",
       "      <td>1</td>\n",
       "      <td>0</td>\n",
       "      <td>...</td>\n",
       "      <td>0</td>\n",
       "      <td>0</td>\n",
       "      <td>0</td>\n",
       "      <td>1</td>\n",
       "      <td>0</td>\n",
       "      <td>0</td>\n",
       "      <td>7</td>\n",
       "      <td>361.292126</td>\n",
       "      <td>2357.5</td>\n",
       "      <td>1693.5</td>\n",
       "    </tr>\n",
       "    <tr>\n",
       "      <th>3</th>\n",
       "      <td>2847.0</td>\n",
       "      <td>89.0</td>\n",
       "      <td>31.0</td>\n",
       "      <td>1320.0</td>\n",
       "      <td>248.0</td>\n",
       "      <td>173.0</td>\n",
       "      <td>29.0</td>\n",
       "      <td>889.0</td>\n",
       "      <td>0</td>\n",
       "      <td>0</td>\n",
       "      <td>...</td>\n",
       "      <td>0</td>\n",
       "      <td>0</td>\n",
       "      <td>0</td>\n",
       "      <td>0</td>\n",
       "      <td>0</td>\n",
       "      <td>0</td>\n",
       "      <td>5</td>\n",
       "      <td>321.753011</td>\n",
       "      <td>795.0</td>\n",
       "      <td>1511.0</td>\n",
       "    </tr>\n",
       "    <tr>\n",
       "      <th>4</th>\n",
       "      <td>3248.0</td>\n",
       "      <td>93.0</td>\n",
       "      <td>12.0</td>\n",
       "      <td>570.0</td>\n",
       "      <td>239.0</td>\n",
       "      <td>221.0</td>\n",
       "      <td>110.0</td>\n",
       "      <td>945.0</td>\n",
       "      <td>0</td>\n",
       "      <td>0</td>\n",
       "      <td>...</td>\n",
       "      <td>0</td>\n",
       "      <td>0</td>\n",
       "      <td>0</td>\n",
       "      <td>0</td>\n",
       "      <td>0</td>\n",
       "      <td>0</td>\n",
       "      <td>7</td>\n",
       "      <td>520.550670</td>\n",
       "      <td>538.5</td>\n",
       "      <td>1683.0</td>\n",
       "    </tr>\n",
       "    <tr>\n",
       "      <th>...</th>\n",
       "      <td>...</td>\n",
       "      <td>...</td>\n",
       "      <td>...</td>\n",
       "      <td>...</td>\n",
       "      <td>...</td>\n",
       "      <td>...</td>\n",
       "      <td>...</td>\n",
       "      <td>...</td>\n",
       "      <td>...</td>\n",
       "      <td>...</td>\n",
       "      <td>...</td>\n",
       "      <td>...</td>\n",
       "      <td>...</td>\n",
       "      <td>...</td>\n",
       "      <td>...</td>\n",
       "      <td>...</td>\n",
       "      <td>...</td>\n",
       "      <td>...</td>\n",
       "      <td>...</td>\n",
       "      <td>...</td>\n",
       "      <td>...</td>\n",
       "    </tr>\n",
       "    <tr>\n",
       "      <th>249995</th>\n",
       "      <td>2112.0</td>\n",
       "      <td>339.0</td>\n",
       "      <td>39.0</td>\n",
       "      <td>467.0</td>\n",
       "      <td>107.0</td>\n",
       "      <td>151.0</td>\n",
       "      <td>162.0</td>\n",
       "      <td>435.0</td>\n",
       "      <td>0</td>\n",
       "      <td>0</td>\n",
       "      <td>...</td>\n",
       "      <td>0</td>\n",
       "      <td>0</td>\n",
       "      <td>0</td>\n",
       "      <td>0</td>\n",
       "      <td>0</td>\n",
       "      <td>0</td>\n",
       "      <td>3</td>\n",
       "      <td>51.865210</td>\n",
       "      <td>258.0</td>\n",
       "      <td>1064.5</td>\n",
       "    </tr>\n",
       "    <tr>\n",
       "      <th>249996</th>\n",
       "      <td>2872.0</td>\n",
       "      <td>90.0</td>\n",
       "      <td>31.0</td>\n",
       "      <td>2027.0</td>\n",
       "      <td>248.0</td>\n",
       "      <td>172.0</td>\n",
       "      <td>27.0</td>\n",
       "      <td>508.0</td>\n",
       "      <td>0</td>\n",
       "      <td>0</td>\n",
       "      <td>...</td>\n",
       "      <td>0</td>\n",
       "      <td>0</td>\n",
       "      <td>0</td>\n",
       "      <td>0</td>\n",
       "      <td>0</td>\n",
       "      <td>0</td>\n",
       "      <td>5</td>\n",
       "      <td>290.877981</td>\n",
       "      <td>1139.0</td>\n",
       "      <td>1509.5</td>\n",
       "    </tr>\n",
       "    <tr>\n",
       "      <th>249997</th>\n",
       "      <td>2336.0</td>\n",
       "      <td>57.0</td>\n",
       "      <td>5.0</td>\n",
       "      <td>1429.0</td>\n",
       "      <td>224.0</td>\n",
       "      <td>228.0</td>\n",
       "      <td>139.0</td>\n",
       "      <td>387.0</td>\n",
       "      <td>0</td>\n",
       "      <td>0</td>\n",
       "      <td>...</td>\n",
       "      <td>0</td>\n",
       "      <td>0</td>\n",
       "      <td>0</td>\n",
       "      <td>0</td>\n",
       "      <td>0</td>\n",
       "      <td>0</td>\n",
       "      <td>4</td>\n",
       "      <td>0.000000</td>\n",
       "      <td>714.5</td>\n",
       "      <td>1168.0</td>\n",
       "    </tr>\n",
       "    <tr>\n",
       "      <th>249998</th>\n",
       "      <td>2563.0</td>\n",
       "      <td>181.0</td>\n",
       "      <td>10.0</td>\n",
       "      <td>1349.0</td>\n",
       "      <td>223.0</td>\n",
       "      <td>246.0</td>\n",
       "      <td>156.0</td>\n",
       "      <td>1007.0</td>\n",
       "      <td>0</td>\n",
       "      <td>0</td>\n",
       "      <td>...</td>\n",
       "      <td>0</td>\n",
       "      <td>0</td>\n",
       "      <td>0</td>\n",
       "      <td>0</td>\n",
       "      <td>0</td>\n",
       "      <td>0</td>\n",
       "      <td>5</td>\n",
       "      <td>0.000000</td>\n",
       "      <td>674.5</td>\n",
       "      <td>1281.5</td>\n",
       "    </tr>\n",
       "    <tr>\n",
       "      <th>249999</th>\n",
       "      <td>3720.0</td>\n",
       "      <td>354.0</td>\n",
       "      <td>17.0</td>\n",
       "      <td>5105.0</td>\n",
       "      <td>189.0</td>\n",
       "      <td>208.0</td>\n",
       "      <td>155.0</td>\n",
       "      <td>3256.0</td>\n",
       "      <td>0</td>\n",
       "      <td>0</td>\n",
       "      <td>...</td>\n",
       "      <td>0</td>\n",
       "      <td>0</td>\n",
       "      <td>0</td>\n",
       "      <td>0</td>\n",
       "      <td>0</td>\n",
       "      <td>1</td>\n",
       "      <td>7</td>\n",
       "      <td>1154.670949</td>\n",
       "      <td>3108.5</td>\n",
       "      <td>2015.5</td>\n",
       "    </tr>\n",
       "  </tbody>\n",
       "</table>\n",
       "<p>246736 rows × 56 columns</p>\n",
       "</div>"
      ],
      "text/plain": [
       "        Elevation  Aspect  Slope  Horizontal_Distance_To_Roadways  \\\n",
       "0          2696.0   123.0   10.0                           2245.0   \n",
       "1          3269.0   110.0   19.0                           3734.0   \n",
       "2          3283.0   322.0   18.0                           4369.0   \n",
       "3          2847.0    89.0   31.0                           1320.0   \n",
       "4          3248.0    93.0   12.0                            570.0   \n",
       "...           ...     ...    ...                              ...   \n",
       "249995     2112.0   339.0   39.0                            467.0   \n",
       "249996     2872.0    90.0   31.0                           2027.0   \n",
       "249997     2336.0    57.0    5.0                           1429.0   \n",
       "249998     2563.0   181.0   10.0                           1349.0   \n",
       "249999     3720.0   354.0   17.0                           5105.0   \n",
       "\n",
       "        Hillshade_9am  Hillshade_Noon  Hillshade_3pm  \\\n",
       "0               237.0           231.0          123.0   \n",
       "1               249.0           216.0           88.0   \n",
       "2               170.0           217.0          185.0   \n",
       "3               248.0           173.0           29.0   \n",
       "4               239.0           221.0          110.0   \n",
       "...               ...             ...            ...   \n",
       "249995          107.0           151.0          162.0   \n",
       "249996          248.0           172.0           27.0   \n",
       "249997          224.0           228.0          139.0   \n",
       "249998          223.0           246.0          156.0   \n",
       "249999          189.0           208.0          155.0   \n",
       "\n",
       "        Horizontal_Distance_To_Fire_Points  Wilderness_Area_1  \\\n",
       "0                                   2113.0                  0   \n",
       "1                                   3960.0                  1   \n",
       "2                                   1330.0                  1   \n",
       "3                                    889.0                  0   \n",
       "4                                    945.0                  0   \n",
       "...                                    ...                ...   \n",
       "249995                               435.0                  0   \n",
       "249996                               508.0                  0   \n",
       "249997                               387.0                  0   \n",
       "249998                              1007.0                  0   \n",
       "249999                              3256.0                  0   \n",
       "\n",
       "        Wilderness_Area_2  ...  Soil_Type_35  Soil_Type_36  Soil_Type_37  \\\n",
       "0                       0  ...             0             0             0   \n",
       "1                       0  ...             0             0             0   \n",
       "2                       0  ...             0             0             0   \n",
       "3                       0  ...             0             0             0   \n",
       "4                       0  ...             0             0             0   \n",
       "...                   ...  ...           ...           ...           ...   \n",
       "249995                  0  ...             0             0             0   \n",
       "249996                  0  ...             0             0             0   \n",
       "249997                  0  ...             0             0             0   \n",
       "249998                  0  ...             0             0             0   \n",
       "249999                  0  ...             0             0             0   \n",
       "\n",
       "        Soil_Type_38  Soil_Type_39  Soil_Type_40  Cover_Type   Hypotenuse  \\\n",
       "0                  0             0             0           6   217.366051   \n",
       "1                  1             0             0           1   139.842769   \n",
       "2                  1             0             0           7   361.292126   \n",
       "3                  0             0             0           5   321.753011   \n",
       "4                  0             0             0           7   520.550670   \n",
       "...              ...           ...           ...         ...          ...   \n",
       "249995             0             0             0           3    51.865210   \n",
       "249996             0             0             0           5   290.877981   \n",
       "249997             0             0             0           4     0.000000   \n",
       "249998             0             0             0           5     0.000000   \n",
       "249999             0             0             1           7  1154.670949   \n",
       "\n",
       "        Average_Dist_Hydr_Road  Average_Dist_Elev_Hyrd  \n",
       "0                       1228.5                  1372.0  \n",
       "1                       1934.0                  1654.5  \n",
       "2                       2357.5                  1693.5  \n",
       "3                        795.0                  1511.0  \n",
       "4                        538.5                  1683.0  \n",
       "...                        ...                     ...  \n",
       "249995                   258.0                  1064.5  \n",
       "249996                  1139.0                  1509.5  \n",
       "249997                   714.5                  1168.0  \n",
       "249998                   674.5                  1281.5  \n",
       "249999                  3108.5                  2015.5  \n",
       "\n",
       "[246736 rows x 56 columns]"
      ]
     },
     "execution_count": 50,
     "metadata": {},
     "output_type": "execute_result"
    }
   ],
   "source": [
    "df1"
   ]
  },
  {
   "cell_type": "markdown",
   "metadata": {
    "id": "45zRLFdDASC0"
   },
   "source": [
    "***\n",
    "***"
   ]
  },
  {
   "cell_type": "markdown",
   "metadata": {
    "id": "Ylwp86BnIbfD"
   },
   "source": [
    "## 4. Prediction (Multi-class Classification)"
   ]
  },
  {
   "cell_type": "markdown",
   "metadata": {
    "id": "-hmyNTpmASC0"
   },
   "source": [
    "If you have done, use your data set resulting from Feature Engineering task. If you haven't done Feature Engineering, use the latest version of your data set.\n",
    "In this section, you have two main tasks that apply to each algorithm:\n",
    "1. Model Building and Prediction\n",
    "\n",
    " - SVM (Use ``LinearSVC`` model from``sklearn.svm`` module)\n",
    " - Decision Tree (Use ``DecisionTreeClassifier`` model from ``sklearn.tree`` module)\n",
    " - Random Forest (Use ``RandomForestClassifier`` model from ``sklearn.ensemble`` module) \n",
    " - XGBoost (Use ``XGBClassifier`` model from``xgboost`` module)\n",
    "\n",
    "2. Visualizing the Result\n",
    "\n",
    "- Use [yellowbrick](https://www.scikit-yb.org/en/latest/), [seaborn](https://seaborn.pydata.org/tutorial/regression.html) or [matplotlib](https://matplotlib.org/) modules to visualize the model results.\n",
    "\n",
    "- Show three plots for the results:\n",
    " - Class Prediction Error Bar Plot\n",
    " - Confusion Matrix\n",
    " - Classification Report"
   ]
  },
  {
   "cell_type": "markdown",
   "metadata": {
    "id": "5bKNukyEASC0"
   },
   "source": [
    "### Import Libraries"
   ]
  },
  {
   "cell_type": "code",
   "execution_count": 51,
   "metadata": {
    "id": "44t5jjukASC0"
   },
   "outputs": [],
   "source": [
    "import numpy as np\n",
    "import pandas as pd\n",
    "import seaborn as sns\n",
    "import matplotlib.pyplot as plt\n",
    "\n",
    "%matplotlib inline\n",
    "# %matplotlib notebook\n",
    "# plt.rcParams[\"figure.figsize\"] = (10,6)\n",
    "plt.rcParams['figure.dpi'] = 100\n",
    "sns.set_style(\"whitegrid\")\n",
    "import warnings\n",
    "warnings.filterwarnings(\"ignore\")\n",
    "warnings.warn(\"this will not show\")\n",
    "pd.set_option('display.float_format', lambda x: '%.3f' % x)\n",
    "pd.options.display.max_rows = 200\n",
    "pd.options.display.max_columns = 100"
   ]
  },
  {
   "cell_type": "code",
   "execution_count": 52,
   "metadata": {},
   "outputs": [],
   "source": [
    "from sklearn.model_selection import train_test_split\n",
    "from sklearn.preprocessing import StandardScaler, MinMaxScaler"
   ]
  },
  {
   "cell_type": "code",
   "execution_count": 55,
   "metadata": {},
   "outputs": [],
   "source": [
    "X = df1.drop('Cover_Type', axis = 1)\n",
    "y = df1.Cover_Type"
   ]
  },
  {
   "cell_type": "code",
   "execution_count": 56,
   "metadata": {},
   "outputs": [],
   "source": [
    "X_train, X_test, y_train, y_test = train_test_split(X, y, test_size=0.30, random_state=101)"
   ]
  },
  {
   "cell_type": "code",
   "execution_count": null,
   "metadata": {},
   "outputs": [],
   "source": []
  },
  {
   "cell_type": "code",
   "execution_count": null,
   "metadata": {},
   "outputs": [],
   "source": []
  },
  {
   "cell_type": "code",
   "execution_count": null,
   "metadata": {},
   "outputs": [],
   "source": []
  },
  {
   "cell_type": "code",
   "execution_count": null,
   "metadata": {},
   "outputs": [],
   "source": []
  },
  {
   "cell_type": "markdown",
   "metadata": {
    "id": "c-HeuK9FIbfJ"
   },
   "source": [
    "### Data Preprocessing"
   ]
  },
  {
   "cell_type": "markdown",
   "metadata": {
    "id": "W22WncJ9ASC0"
   },
   "source": [
    "- Drop target variable\n",
    "- Train-Test Split\n",
    "\n",
    "*Note: You can use the train and test data generated here for all algorithms.*"
   ]
  },
  {
   "cell_type": "code",
   "execution_count": null,
   "metadata": {
    "id": "MFD5URwnASC0"
   },
   "outputs": [],
   "source": []
  },
  {
   "cell_type": "markdown",
   "metadata": {
    "id": "rOisMsLIASC0"
   },
   "source": [
    "### Implement Support Vector Machine\n",
    "- Import the modul \n",
    "- Fit the model \n",
    "- Predict the test set\n",
    "- Visualize and evaluate the result (use yellowbrick module)\n",
    "\n",
    "*Note: You probably won't get a successful result. You may need to make some changes to the model or data. This may be a topic worth investigating, you decide.*"
   ]
  },
  {
   "cell_type": "code",
   "execution_count": 68,
   "metadata": {
    "cell_style": "split",
    "id": "OMc5EJsiASC0"
   },
   "outputs": [],
   "source": [
    "from sklearn.svm import SVC, LinearSVC\n",
    "from sklearn.metrics import mean_absolute_error, mean_squared_error, r2_score\n",
    "from sklearn.metrics import classification_report,confusion_matrix"
   ]
  },
  {
   "cell_type": "code",
   "execution_count": 70,
   "metadata": {},
   "outputs": [],
   "source": [
    "svc_model = LinearSVC()"
   ]
  },
  {
   "cell_type": "code",
   "execution_count": 71,
   "metadata": {},
   "outputs": [
    {
     "data": {
      "text/plain": [
       "LinearSVC()"
      ]
     },
     "execution_count": 71,
     "metadata": {},
     "output_type": "execute_result"
    }
   ],
   "source": [
    "svc_model.fit(X_train, y_train)"
   ]
  },
  {
   "cell_type": "code",
   "execution_count": 72,
   "metadata": {},
   "outputs": [],
   "source": [
    "y_pred = svc_model.predict(X_test)"
   ]
  },
  {
   "cell_type": "code",
   "execution_count": 73,
   "metadata": {},
   "outputs": [],
   "source": [
    "def eval_metric(model, X_train, y_train, X_test, y_test):\n",
    "    y_train_pred = model.predict(X_train)\n",
    "    y_pred = model.predict(X_test)\n",
    "    \n",
    "    print(\"Test_Set\")\n",
    "    print(confusion_matrix(y_test, y_pred))\n",
    "    print(classification_report(y_test, y_pred))\n",
    "    print()\n",
    "    print(\"Train_Set\")\n",
    "    print(confusion_matrix(y_train, y_train_pred))\n",
    "    print(classification_report(y_train, y_train_pred))"
   ]
  },
  {
   "cell_type": "code",
   "execution_count": 74,
   "metadata": {
    "scrolled": true
   },
   "outputs": [
    {
     "name": "stdout",
     "output_type": "stream",
     "text": [
      "Test_Set\n",
      "[[ 8866    59     0    73   134   898   517]\n",
      " [ 6307   373     3   747   354  2686    56]\n",
      " [  134     3   276  4389    13  5845     1]\n",
      " [    0     0     0 10503     0   182     0]\n",
      " [ 1810   179    33   621  3263  4360    44]\n",
      " [   22     1    14  2915     3  7753     0]\n",
      " [ 4957     0     0     0    20     9  5598]]\n",
      "              precision    recall  f1-score   support\n",
      "\n",
      "           1       0.40      0.84      0.54     10547\n",
      "           2       0.61      0.04      0.07     10526\n",
      "           3       0.85      0.03      0.05     10661\n",
      "           4       0.55      0.98      0.70     10685\n",
      "           5       0.86      0.32      0.46     10310\n",
      "           6       0.36      0.72      0.48     10708\n",
      "           7       0.90      0.53      0.67     10584\n",
      "\n",
      "    accuracy                           0.49     74021\n",
      "   macro avg       0.65      0.49      0.42     74021\n",
      "weighted avg       0.64      0.49      0.42     74021\n",
      "\n",
      "\n",
      "Train_Set\n",
      "[[20662   136     0   203   366  2198  1218]\n",
      " [14833   874     7  1749   898  6189   125]\n",
      " [  309     7   739 10392    42 13240     1]\n",
      " [    0     0     0 24433     0   411     0]\n",
      " [ 4371   488    89  1508  7550 10352    81]\n",
      " [   39     4    23  7023     2 17883     0]\n",
      " [11326     0     0     0    51    37 12856]]\n",
      "              precision    recall  f1-score   support\n",
      "\n",
      "           1       0.40      0.83      0.54     24783\n",
      "           2       0.58      0.04      0.07     24675\n",
      "           3       0.86      0.03      0.06     24730\n",
      "           4       0.54      0.98      0.70     24844\n",
      "           5       0.85      0.31      0.45     24439\n",
      "           6       0.36      0.72      0.48     24974\n",
      "           7       0.90      0.53      0.67     24270\n",
      "\n",
      "    accuracy                           0.49    172715\n",
      "   macro avg       0.64      0.49      0.42    172715\n",
      "weighted avg       0.64      0.49      0.42    172715\n",
      "\n"
     ]
    }
   ],
   "source": [
    "eval_metric(svc_model, X_train,y_train, X_test, y_test )"
   ]
  },
  {
   "cell_type": "markdown",
   "metadata": {},
   "source": [
    "# with scaling "
   ]
  },
  {
   "cell_type": "code",
   "execution_count": 75,
   "metadata": {},
   "outputs": [],
   "source": [
    "from sklearn.preprocessing import StandardScaler, MinMaxScaler"
   ]
  },
  {
   "cell_type": "code",
   "execution_count": 76,
   "metadata": {},
   "outputs": [],
   "source": [
    "scaler = MinMaxScaler()\n",
    "X_train_scaled = scaler.fit_transform(X_train)\n",
    "X_test_scaled = scaler.transform(X_test)"
   ]
  },
  {
   "cell_type": "code",
   "execution_count": 77,
   "metadata": {},
   "outputs": [
    {
     "data": {
      "text/plain": [
       "LinearSVC()"
      ]
     },
     "execution_count": 77,
     "metadata": {},
     "output_type": "execute_result"
    }
   ],
   "source": [
    "svc_model.fit(X_train_scaled, y_train)"
   ]
  },
  {
   "cell_type": "code",
   "execution_count": 78,
   "metadata": {},
   "outputs": [],
   "source": [
    "y_pred = svc_model.predict(X_test_scaled)"
   ]
  },
  {
   "cell_type": "code",
   "execution_count": 80,
   "metadata": {
    "scrolled": true
   },
   "outputs": [
    {
     "name": "stdout",
     "output_type": "stream",
     "text": [
      "Test_Set\n",
      "[[6965 1540    7    0  587  110 1338]\n",
      " [2555 5167  248    7 2013  473   63]\n",
      " [   0   42 5432 1465  698 3024    0]\n",
      " [   0    0  588 9642    0  455    0]\n",
      " [ 316 1311  810    0 7260  613    0]\n",
      " [   1  293 1768 1145 1141 6360    0]\n",
      " [1083    5    4    0   53    0 9439]]\n",
      "              precision    recall  f1-score   support\n",
      "\n",
      "           1       0.64      0.66      0.65     10547\n",
      "           2       0.62      0.49      0.55     10526\n",
      "           3       0.61      0.51      0.56     10661\n",
      "           4       0.79      0.90      0.84     10685\n",
      "           5       0.62      0.70      0.66     10310\n",
      "           6       0.58      0.59      0.59     10708\n",
      "           7       0.87      0.89      0.88     10584\n",
      "\n",
      "    accuracy                           0.68     74021\n",
      "   macro avg       0.67      0.68      0.67     74021\n",
      "weighted avg       0.67      0.68      0.67     74021\n",
      "\n",
      "\n",
      "Train_Set\n",
      "[[16012  3917    26     0  1518   247  3063]\n",
      " [ 6114 12176   548    14  4478  1164   181]\n",
      " [    0    90 12635  3530  1503  6972     0]\n",
      " [    0     0  1400 22460     0   984     0]\n",
      " [  791  3104  1934     0 17274  1336     0]\n",
      " [    2   767  4131  2905  2686 14483     0]\n",
      " [ 2486     7     7     0   130     0 21640]]\n",
      "              precision    recall  f1-score   support\n",
      "\n",
      "           1       0.63      0.65      0.64     24783\n",
      "           2       0.61      0.49      0.54     24675\n",
      "           3       0.61      0.51      0.56     24730\n",
      "           4       0.78      0.90      0.84     24844\n",
      "           5       0.63      0.71      0.66     24439\n",
      "           6       0.58      0.58      0.58     24974\n",
      "           7       0.87      0.89      0.88     24270\n",
      "\n",
      "    accuracy                           0.68    172715\n",
      "   macro avg       0.67      0.68      0.67    172715\n",
      "weighted avg       0.67      0.68      0.67    172715\n",
      "\n"
     ]
    }
   ],
   "source": [
    "svm_scaled = eval_metric(svc_model, X_train_scaled,y_train, X_test_scaled, y_test )"
   ]
  },
  {
   "cell_type": "code",
   "execution_count": 82,
   "metadata": {},
   "outputs": [],
   "source": [
    "from sklearn.metrics import precision_score, recall_score, accuracy_score, f1_score"
   ]
  },
  {
   "cell_type": "code",
   "execution_count": 83,
   "metadata": {},
   "outputs": [],
   "source": [
    "svc_scade_acc = accuracy_score(y_test, y_pred)"
   ]
  },
  {
   "cell_type": "code",
   "execution_count": 84,
   "metadata": {},
   "outputs": [
    {
     "data": {
      "text/plain": [
       "0.679064049391389"
      ]
     },
     "execution_count": 84,
     "metadata": {},
     "output_type": "execute_result"
    }
   ],
   "source": [
    "svc_scade_acc"
   ]
  },
  {
   "cell_type": "code",
   "execution_count": null,
   "metadata": {},
   "outputs": [],
   "source": []
  },
  {
   "cell_type": "markdown",
   "metadata": {
    "id": "s2bAc81fASC0"
   },
   "source": [
    "### Implement Decision Tree Classifier\n",
    "- Import the modul \n",
    "- Fit the model \n",
    "- Predict the test set\n",
    "- Visualize and evaluate the result (use yellowbrick module)"
   ]
  },
  {
   "cell_type": "code",
   "execution_count": 85,
   "metadata": {
    "cell_style": "split",
    "id": "vXlQnOe9OlvA"
   },
   "outputs": [],
   "source": [
    "from sklearn.tree import DecisionTreeClassifier"
   ]
  },
  {
   "cell_type": "code",
   "execution_count": 86,
   "metadata": {},
   "outputs": [],
   "source": [
    "DT_model = DecisionTreeClassifier(random_state=101)"
   ]
  },
  {
   "cell_type": "code",
   "execution_count": 87,
   "metadata": {},
   "outputs": [
    {
     "data": {
      "text/plain": [
       "DecisionTreeClassifier(random_state=101)"
      ]
     },
     "execution_count": 87,
     "metadata": {},
     "output_type": "execute_result"
    }
   ],
   "source": [
    "DT_model.fit(X_train,y_train)"
   ]
  },
  {
   "cell_type": "code",
   "execution_count": 88,
   "metadata": {},
   "outputs": [],
   "source": [
    "y_pred = DT_model.predict(X_test)"
   ]
  },
  {
   "cell_type": "code",
   "execution_count": 89,
   "metadata": {},
   "outputs": [
    {
     "name": "stdout",
     "output_type": "stream",
     "text": [
      "Test_Set\n",
      "[[ 9067  1215     6     0    34     3   222]\n",
      " [ 1292  8685   121     1   294   112    21]\n",
      " [    3   103 10003    97    27   428     0]\n",
      " [    0     0    52 10590     0    43     0]\n",
      " [   29   122    32     0 10111    16     0]\n",
      " [    5    92   366    47    29 10169     0]\n",
      " [  134    12     0     0     0     0 10438]]\n",
      "              precision    recall  f1-score   support\n",
      "\n",
      "           1       0.86      0.86      0.86     10547\n",
      "           2       0.85      0.83      0.84     10526\n",
      "           3       0.95      0.94      0.94     10661\n",
      "           4       0.99      0.99      0.99     10685\n",
      "           5       0.96      0.98      0.97     10310\n",
      "           6       0.94      0.95      0.95     10708\n",
      "           7       0.98      0.99      0.98     10584\n",
      "\n",
      "    accuracy                           0.93     74021\n",
      "   macro avg       0.93      0.93      0.93     74021\n",
      "weighted avg       0.93      0.93      0.93     74021\n",
      "\n",
      "\n",
      "Train_Set\n",
      "[[24783     0     0     0     0     0     0]\n",
      " [    0 24675     0     0     0     0     0]\n",
      " [    0     0 24730     0     0     0     0]\n",
      " [    0     0     0 24844     0     0     0]\n",
      " [    0     0     0     0 24439     0     0]\n",
      " [    0     0     0     0     0 24974     0]\n",
      " [    0     0     0     0     0     0 24270]]\n",
      "              precision    recall  f1-score   support\n",
      "\n",
      "           1       1.00      1.00      1.00     24783\n",
      "           2       1.00      1.00      1.00     24675\n",
      "           3       1.00      1.00      1.00     24730\n",
      "           4       1.00      1.00      1.00     24844\n",
      "           5       1.00      1.00      1.00     24439\n",
      "           6       1.00      1.00      1.00     24974\n",
      "           7       1.00      1.00      1.00     24270\n",
      "\n",
      "    accuracy                           1.00    172715\n",
      "   macro avg       1.00      1.00      1.00    172715\n",
      "weighted avg       1.00      1.00      1.00    172715\n",
      "\n"
     ]
    }
   ],
   "source": [
    "eval_metric(DT_model, X_train,y_train, X_test, y_test )"
   ]
  },
  {
   "cell_type": "code",
   "execution_count": 94,
   "metadata": {},
   "outputs": [],
   "source": [
    "dt_no_scal = accuracy_score(y_test, y_pred)"
   ]
  },
  {
   "cell_type": "code",
   "execution_count": 95,
   "metadata": {},
   "outputs": [
    {
     "data": {
      "text/plain": [
       "0.9330190081193175"
      ]
     },
     "execution_count": 95,
     "metadata": {},
     "output_type": "execute_result"
    }
   ],
   "source": [
    "dt_no_scal"
   ]
  },
  {
   "cell_type": "markdown",
   "metadata": {},
   "source": [
    "# with scaling"
   ]
  },
  {
   "cell_type": "code",
   "execution_count": 90,
   "metadata": {},
   "outputs": [
    {
     "data": {
      "text/plain": [
       "DecisionTreeClassifier(random_state=101)"
      ]
     },
     "execution_count": 90,
     "metadata": {},
     "output_type": "execute_result"
    }
   ],
   "source": [
    "DT_model.fit(X_train_scaled,y_train)"
   ]
  },
  {
   "cell_type": "code",
   "execution_count": 92,
   "metadata": {},
   "outputs": [],
   "source": [
    "y_pred_scaled = DT_model.predict(X_test_scaled)"
   ]
  },
  {
   "cell_type": "code",
   "execution_count": 93,
   "metadata": {},
   "outputs": [
    {
     "name": "stdout",
     "output_type": "stream",
     "text": [
      "Test_Set\n",
      "[[ 9066  1218     6     0    33     3   221]\n",
      " [ 1289  8687   121     1   295   112    21]\n",
      " [    3   103 10011    94    25   425     0]\n",
      " [    0     0    52 10591     0    42     0]\n",
      " [   29   120    33     0 10112    16     0]\n",
      " [    5    94   365    47    29 10168     0]\n",
      " [  136    12     0     0     0     0 10436]]\n",
      "              precision    recall  f1-score   support\n",
      "\n",
      "           1       0.86      0.86      0.86     10547\n",
      "           2       0.85      0.83      0.84     10526\n",
      "           3       0.95      0.94      0.94     10661\n",
      "           4       0.99      0.99      0.99     10685\n",
      "           5       0.96      0.98      0.97     10310\n",
      "           6       0.94      0.95      0.95     10708\n",
      "           7       0.98      0.99      0.98     10584\n",
      "\n",
      "    accuracy                           0.93     74021\n",
      "   macro avg       0.93      0.93      0.93     74021\n",
      "weighted avg       0.93      0.93      0.93     74021\n",
      "\n",
      "\n",
      "Train_Set\n",
      "[[24783     0     0     0     0     0     0]\n",
      " [    0 24675     0     0     0     0     0]\n",
      " [    0     0 24730     0     0     0     0]\n",
      " [    0     0     0 24844     0     0     0]\n",
      " [    0     0     0     0 24439     0     0]\n",
      " [    0     0     0     0     0 24974     0]\n",
      " [    0     0     0     0     0     0 24270]]\n",
      "              precision    recall  f1-score   support\n",
      "\n",
      "           1       1.00      1.00      1.00     24783\n",
      "           2       1.00      1.00      1.00     24675\n",
      "           3       1.00      1.00      1.00     24730\n",
      "           4       1.00      1.00      1.00     24844\n",
      "           5       1.00      1.00      1.00     24439\n",
      "           6       1.00      1.00      1.00     24974\n",
      "           7       1.00      1.00      1.00     24270\n",
      "\n",
      "    accuracy                           1.00    172715\n",
      "   macro avg       1.00      1.00      1.00    172715\n",
      "weighted avg       1.00      1.00      1.00    172715\n",
      "\n"
     ]
    }
   ],
   "source": [
    "eval_metric(DT_model, X_train_scaled,y_train, X_test_scaled, y_test )"
   ]
  },
  {
   "cell_type": "code",
   "execution_count": 96,
   "metadata": {},
   "outputs": [],
   "source": [
    "dt_with_scal = accuracy_score(y_test, y_pred_scaled)"
   ]
  },
  {
   "cell_type": "code",
   "execution_count": 97,
   "metadata": {},
   "outputs": [
    {
     "data": {
      "text/plain": [
       "0.9331270855568015"
      ]
     },
     "execution_count": 97,
     "metadata": {},
     "output_type": "execute_result"
    }
   ],
   "source": [
    "dt_with_scal"
   ]
  },
  {
   "cell_type": "markdown",
   "metadata": {},
   "source": [
    "# with cross_val"
   ]
  },
  {
   "cell_type": "code",
   "execution_count": 98,
   "metadata": {},
   "outputs": [],
   "source": [
    "from sklearn.model_selection import cross_val_score, cross_validate\n",
    "from sklearn.metrics import accuracy_score, f1_score, recall_score, precision_score\n",
    "from sklearn.metrics import make_scorer"
   ]
  },
  {
   "cell_type": "code",
   "execution_count": 99,
   "metadata": {},
   "outputs": [
    {
     "data": {
      "text/html": [
       "<div>\n",
       "<style scoped>\n",
       "    .dataframe tbody tr th:only-of-type {\n",
       "        vertical-align: middle;\n",
       "    }\n",
       "\n",
       "    .dataframe tbody tr th {\n",
       "        vertical-align: top;\n",
       "    }\n",
       "\n",
       "    .dataframe thead th {\n",
       "        text-align: right;\n",
       "    }\n",
       "</style>\n",
       "<table border=\"1\" class=\"dataframe\">\n",
       "  <thead>\n",
       "    <tr style=\"text-align: right;\">\n",
       "      <th></th>\n",
       "      <th>fit_time</th>\n",
       "      <th>score_time</th>\n",
       "      <th>test_accuracy</th>\n",
       "      <th>test_precision_micro</th>\n",
       "      <th>test_recall_micro</th>\n",
       "      <th>test_f1_micro</th>\n",
       "    </tr>\n",
       "  </thead>\n",
       "  <tbody>\n",
       "    <tr>\n",
       "      <th>1</th>\n",
       "      <td>2.558</td>\n",
       "      <td>0.055</td>\n",
       "      <td>0.927</td>\n",
       "      <td>0.927</td>\n",
       "      <td>0.927</td>\n",
       "      <td>0.927</td>\n",
       "    </tr>\n",
       "    <tr>\n",
       "      <th>2</th>\n",
       "      <td>2.164</td>\n",
       "      <td>0.040</td>\n",
       "      <td>0.926</td>\n",
       "      <td>0.926</td>\n",
       "      <td>0.926</td>\n",
       "      <td>0.926</td>\n",
       "    </tr>\n",
       "    <tr>\n",
       "      <th>3</th>\n",
       "      <td>2.233</td>\n",
       "      <td>0.033</td>\n",
       "      <td>0.929</td>\n",
       "      <td>0.929</td>\n",
       "      <td>0.929</td>\n",
       "      <td>0.929</td>\n",
       "    </tr>\n",
       "    <tr>\n",
       "      <th>4</th>\n",
       "      <td>2.208</td>\n",
       "      <td>0.055</td>\n",
       "      <td>0.928</td>\n",
       "      <td>0.928</td>\n",
       "      <td>0.928</td>\n",
       "      <td>0.928</td>\n",
       "    </tr>\n",
       "    <tr>\n",
       "      <th>5</th>\n",
       "      <td>2.217</td>\n",
       "      <td>0.029</td>\n",
       "      <td>0.925</td>\n",
       "      <td>0.925</td>\n",
       "      <td>0.925</td>\n",
       "      <td>0.925</td>\n",
       "    </tr>\n",
       "    <tr>\n",
       "      <th>6</th>\n",
       "      <td>2.184</td>\n",
       "      <td>0.028</td>\n",
       "      <td>0.925</td>\n",
       "      <td>0.925</td>\n",
       "      <td>0.925</td>\n",
       "      <td>0.925</td>\n",
       "    </tr>\n",
       "    <tr>\n",
       "      <th>7</th>\n",
       "      <td>2.060</td>\n",
       "      <td>0.054</td>\n",
       "      <td>0.927</td>\n",
       "      <td>0.927</td>\n",
       "      <td>0.927</td>\n",
       "      <td>0.927</td>\n",
       "    </tr>\n",
       "    <tr>\n",
       "      <th>8</th>\n",
       "      <td>2.194</td>\n",
       "      <td>0.048</td>\n",
       "      <td>0.927</td>\n",
       "      <td>0.927</td>\n",
       "      <td>0.927</td>\n",
       "      <td>0.927</td>\n",
       "    </tr>\n",
       "    <tr>\n",
       "      <th>9</th>\n",
       "      <td>2.231</td>\n",
       "      <td>0.040</td>\n",
       "      <td>0.928</td>\n",
       "      <td>0.928</td>\n",
       "      <td>0.928</td>\n",
       "      <td>0.928</td>\n",
       "    </tr>\n",
       "    <tr>\n",
       "      <th>10</th>\n",
       "      <td>2.224</td>\n",
       "      <td>0.040</td>\n",
       "      <td>0.927</td>\n",
       "      <td>0.927</td>\n",
       "      <td>0.927</td>\n",
       "      <td>0.927</td>\n",
       "    </tr>\n",
       "  </tbody>\n",
       "</table>\n",
       "</div>"
      ],
      "text/plain": [
       "    fit_time  score_time  test_accuracy  test_precision_micro  \\\n",
       "1      2.558       0.055          0.927                 0.927   \n",
       "2      2.164       0.040          0.926                 0.926   \n",
       "3      2.233       0.033          0.929                 0.929   \n",
       "4      2.208       0.055          0.928                 0.928   \n",
       "5      2.217       0.029          0.925                 0.925   \n",
       "6      2.184       0.028          0.925                 0.925   \n",
       "7      2.060       0.054          0.927                 0.927   \n",
       "8      2.194       0.048          0.927                 0.927   \n",
       "9      2.231       0.040          0.928                 0.928   \n",
       "10     2.224       0.040          0.927                 0.927   \n",
       "\n",
       "    test_recall_micro  test_f1_micro  \n",
       "1               0.927          0.927  \n",
       "2               0.926          0.926  \n",
       "3               0.929          0.929  \n",
       "4               0.928          0.928  \n",
       "5               0.925          0.925  \n",
       "6               0.925          0.925  \n",
       "7               0.927          0.927  \n",
       "8               0.927          0.927  \n",
       "9               0.928          0.928  \n",
       "10              0.927          0.927  "
      ]
     },
     "execution_count": 99,
     "metadata": {},
     "output_type": "execute_result"
    }
   ],
   "source": [
    "model = DecisionTreeClassifier(max_depth=None, random_state=101)\n",
    "\n",
    "scores = cross_validate(model, X_train, y_train, scoring = [\"accuracy\", \"precision_micro\", \"recall_micro\", \"f1_micro\"], cv = 10)\n",
    "df_scores = pd.DataFrame(scores, index = range(1, 11))\n",
    "df_scores"
   ]
  },
  {
   "cell_type": "code",
   "execution_count": 105,
   "metadata": {},
   "outputs": [],
   "source": [
    "from sklearn.tree import plot_tree"
   ]
  },
  {
   "cell_type": "code",
   "execution_count": 108,
   "metadata": {},
   "outputs": [
    {
     "data": {
      "text/plain": [
       "{'ccp_alpha': 0.0,\n",
       " 'class_weight': None,\n",
       " 'criterion': 'gini',\n",
       " 'max_depth': None,\n",
       " 'max_features': None,\n",
       " 'max_leaf_nodes': None,\n",
       " 'min_impurity_decrease': 0.0,\n",
       " 'min_impurity_split': None,\n",
       " 'min_samples_leaf': 1,\n",
       " 'min_samples_split': 2,\n",
       " 'min_weight_fraction_leaf': 0.0,\n",
       " 'random_state': 101,\n",
       " 'splitter': 'best'}"
      ]
     },
     "execution_count": 108,
     "metadata": {},
     "output_type": "execute_result"
    }
   ],
   "source": [
    "DT_model.get_params()"
   ]
  },
  {
   "cell_type": "markdown",
   "metadata": {
    "id": "8-Hv3OSrASC0"
   },
   "source": [
    "### Implement Random Forest Classifier\n",
    "- Import the modul \n",
    "- Fit the model \n",
    "- Predict the test set\n",
    "- Visualize and evaluate the result (use yellowbrick module)"
   ]
  },
  {
   "cell_type": "code",
   "execution_count": 116,
   "metadata": {
    "cell_style": "split",
    "id": "C871JJvXASC0"
   },
   "outputs": [],
   "source": [
    "from sklearn.ensemble import RandomForestClassifier"
   ]
  },
  {
   "cell_type": "code",
   "execution_count": 117,
   "metadata": {
    "scrolled": true
   },
   "outputs": [
    {
     "name": "stdout",
     "output_type": "stream",
     "text": [
      "Test_Set\n",
      "[[ 9598   773     4     0    33     7   132]\n",
      " [  754  9327   120     0   191   124    10]\n",
      " [    0    15 10318    85     8   235     0]\n",
      " [    0     0     4 10679     0     2     0]\n",
      " [    1     9    11     0 10285     4     0]\n",
      " [    0    13    98    38     9 10550     0]\n",
      " [   33     1     0     0     0     0 10550]]\n",
      "              precision    recall  f1-score   support\n",
      "\n",
      "           1       0.92      0.91      0.92     10547\n",
      "           2       0.92      0.89      0.90     10526\n",
      "           3       0.98      0.97      0.97     10661\n",
      "           4       0.99      1.00      0.99     10685\n",
      "           5       0.98      1.00      0.99     10310\n",
      "           6       0.97      0.99      0.98     10708\n",
      "           7       0.99      1.00      0.99     10584\n",
      "\n",
      "    accuracy                           0.96     74021\n",
      "   macro avg       0.96      0.96      0.96     74021\n",
      "weighted avg       0.96      0.96      0.96     74021\n",
      "\n",
      "\n",
      "Train_Set\n",
      "[[24783     0     0     0     0     0     0]\n",
      " [    0 24675     0     0     0     0     0]\n",
      " [    0     0 24730     0     0     0     0]\n",
      " [    0     0     0 24844     0     0     0]\n",
      " [    0     0     0     0 24439     0     0]\n",
      " [    0     0     0     0     0 24974     0]\n",
      " [    0     0     0     0     0     0 24270]]\n",
      "              precision    recall  f1-score   support\n",
      "\n",
      "           1       1.00      1.00      1.00     24783\n",
      "           2       1.00      1.00      1.00     24675\n",
      "           3       1.00      1.00      1.00     24730\n",
      "           4       1.00      1.00      1.00     24844\n",
      "           5       1.00      1.00      1.00     24439\n",
      "           6       1.00      1.00      1.00     24974\n",
      "           7       1.00      1.00      1.00     24270\n",
      "\n",
      "    accuracy                           1.00    172715\n",
      "   macro avg       1.00      1.00      1.00    172715\n",
      "weighted avg       1.00      1.00      1.00    172715\n",
      "\n"
     ]
    }
   ],
   "source": [
    "rf_model = RandomForestClassifier(random_state=101)\n",
    "rf_model.fit(X_train,y_train)\n",
    "eval_metric(rf_model, X_train, y_train, X_test, y_test)"
   ]
  },
  {
   "cell_type": "code",
   "execution_count": 120,
   "metadata": {},
   "outputs": [],
   "source": [
    "y_pred = rf_model.predict(X_test)"
   ]
  },
  {
   "cell_type": "code",
   "execution_count": 121,
   "metadata": {},
   "outputs": [],
   "source": [
    "rf_acc = accuracy_score(y_test, y_pred)"
   ]
  },
  {
   "cell_type": "code",
   "execution_count": 122,
   "metadata": {},
   "outputs": [
    {
     "data": {
      "text/plain": [
       "0.9633347293335675"
      ]
     },
     "execution_count": 122,
     "metadata": {},
     "output_type": "execute_result"
    }
   ],
   "source": [
    "rf_acc"
   ]
  },
  {
   "cell_type": "code",
   "execution_count": null,
   "metadata": {},
   "outputs": [],
   "source": []
  },
  {
   "cell_type": "markdown",
   "metadata": {
    "id": "eI7Zd8TLIbfK"
   },
   "source": [
    "### Implement XGBoost Classifer\n",
    "- Import the modul \n",
    "- Fit the model \n",
    "- Predict the test set\n",
    "- Visualize and evaluate the result (use yellowbrick module)"
   ]
  },
  {
   "cell_type": "code",
   "execution_count": 126,
   "metadata": {
    "cell_style": "split",
    "id": "ZER2XJrrASC0"
   },
   "outputs": [
    {
     "ename": "XGBoostError",
     "evalue": "\nXGBoost Library (libxgboost.dylib) could not be loaded.\nLikely causes:\n  * OpenMP runtime is not installed\n    - vcomp140.dll or libgomp-1.dll for Windows\n    - libomp.dylib for Mac OSX\n    - libgomp.so for Linux and other UNIX-like OSes\n    Mac OSX users: Run `brew install libomp` to install OpenMP runtime.\n\n  * You are running 32-bit Python on a 64-bit OS\n\nError message(s): ['dlopen(/Users/sena/opt/anaconda3/lib/python3.8/site-packages/xgboost/lib/libxgboost.dylib, 6): Library not loaded: /usr/local/opt/libomp/lib/libomp.dylib\\n  Referenced from: /Users/sena/opt/anaconda3/lib/python3.8/site-packages/xgboost/lib/libxgboost.dylib\\n  Reason: image not found']\n",
     "output_type": "error",
     "traceback": [
      "\u001b[0;31m---------------------------------------------------------------------------\u001b[0m",
      "\u001b[0;31mXGBoostError\u001b[0m                              Traceback (most recent call last)",
      "\u001b[0;32m<ipython-input-126-477fa34615c5>\u001b[0m in \u001b[0;36m<module>\u001b[0;34m\u001b[0m\n\u001b[0;32m----> 1\u001b[0;31m \u001b[0;32mfrom\u001b[0m \u001b[0mxgboost\u001b[0m \u001b[0;32mimport\u001b[0m \u001b[0mXGBClassifier\u001b[0m\u001b[0;34m\u001b[0m\u001b[0;34m\u001b[0m\u001b[0m\n\u001b[0m",
      "\u001b[0;32m~/opt/anaconda3/lib/python3.8/site-packages/xgboost/__init__.py\u001b[0m in \u001b[0;36m<module>\u001b[0;34m\u001b[0m\n\u001b[1;32m      7\u001b[0m \u001b[0;32mimport\u001b[0m \u001b[0mos\u001b[0m\u001b[0;34m\u001b[0m\u001b[0;34m\u001b[0m\u001b[0m\n\u001b[1;32m      8\u001b[0m \u001b[0;34m\u001b[0m\u001b[0m\n\u001b[0;32m----> 9\u001b[0;31m \u001b[0;32mfrom\u001b[0m \u001b[0;34m.\u001b[0m\u001b[0mcore\u001b[0m \u001b[0;32mimport\u001b[0m \u001b[0mDMatrix\u001b[0m\u001b[0;34m,\u001b[0m \u001b[0mDeviceQuantileDMatrix\u001b[0m\u001b[0;34m,\u001b[0m \u001b[0mBooster\u001b[0m\u001b[0;34m,\u001b[0m \u001b[0mDataIter\u001b[0m\u001b[0;34m\u001b[0m\u001b[0;34m\u001b[0m\u001b[0m\n\u001b[0m\u001b[1;32m     10\u001b[0m \u001b[0;32mfrom\u001b[0m \u001b[0;34m.\u001b[0m\u001b[0mtraining\u001b[0m \u001b[0;32mimport\u001b[0m \u001b[0mtrain\u001b[0m\u001b[0;34m,\u001b[0m \u001b[0mcv\u001b[0m\u001b[0;34m\u001b[0m\u001b[0;34m\u001b[0m\u001b[0m\n\u001b[1;32m     11\u001b[0m \u001b[0;32mfrom\u001b[0m \u001b[0;34m.\u001b[0m \u001b[0;32mimport\u001b[0m \u001b[0mrabit\u001b[0m  \u001b[0;31m# noqa\u001b[0m\u001b[0;34m\u001b[0m\u001b[0;34m\u001b[0m\u001b[0m\n",
      "\u001b[0;32m~/opt/anaconda3/lib/python3.8/site-packages/xgboost/core.py\u001b[0m in \u001b[0;36m<module>\u001b[0;34m\u001b[0m\n\u001b[1;32m    201\u001b[0m \u001b[0;34m\u001b[0m\u001b[0m\n\u001b[1;32m    202\u001b[0m \u001b[0;31m# load the XGBoost library globally\u001b[0m\u001b[0;34m\u001b[0m\u001b[0;34m\u001b[0m\u001b[0;34m\u001b[0m\u001b[0m\n\u001b[0;32m--> 203\u001b[0;31m \u001b[0m_LIB\u001b[0m \u001b[0;34m=\u001b[0m \u001b[0m_load_lib\u001b[0m\u001b[0;34m(\u001b[0m\u001b[0;34m)\u001b[0m\u001b[0;34m\u001b[0m\u001b[0;34m\u001b[0m\u001b[0m\n\u001b[0m\u001b[1;32m    204\u001b[0m \u001b[0;34m\u001b[0m\u001b[0m\n\u001b[1;32m    205\u001b[0m \u001b[0;34m\u001b[0m\u001b[0m\n",
      "\u001b[0;32m~/opt/anaconda3/lib/python3.8/site-packages/xgboost/core.py\u001b[0m in \u001b[0;36m_load_lib\u001b[0;34m()\u001b[0m\n\u001b[1;32m    179\u001b[0m     \u001b[0;32mif\u001b[0m \u001b[0;32mnot\u001b[0m \u001b[0mlib_success\u001b[0m\u001b[0;34m:\u001b[0m\u001b[0;34m\u001b[0m\u001b[0;34m\u001b[0m\u001b[0m\n\u001b[1;32m    180\u001b[0m         \u001b[0mlibname\u001b[0m \u001b[0;34m=\u001b[0m \u001b[0mos\u001b[0m\u001b[0;34m.\u001b[0m\u001b[0mpath\u001b[0m\u001b[0;34m.\u001b[0m\u001b[0mbasename\u001b[0m\u001b[0;34m(\u001b[0m\u001b[0mlib_paths\u001b[0m\u001b[0;34m[\u001b[0m\u001b[0;36m0\u001b[0m\u001b[0;34m]\u001b[0m\u001b[0;34m)\u001b[0m\u001b[0;34m\u001b[0m\u001b[0;34m\u001b[0m\u001b[0m\n\u001b[0;32m--> 181\u001b[0;31m         raise XGBoostError(\n\u001b[0m\u001b[1;32m    182\u001b[0m             f\"\"\"\n\u001b[1;32m    183\u001b[0m \u001b[0mXGBoost\u001b[0m \u001b[0mLibrary\u001b[0m \u001b[0;34m(\u001b[0m\u001b[0;34m{\u001b[0m\u001b[0mlibname\u001b[0m\u001b[0;34m}\u001b[0m\u001b[0;34m)\u001b[0m \u001b[0mcould\u001b[0m \u001b[0;32mnot\u001b[0m \u001b[0mbe\u001b[0m \u001b[0mloaded\u001b[0m\u001b[0;34m.\u001b[0m\u001b[0;34m\u001b[0m\u001b[0;34m\u001b[0m\u001b[0m\n",
      "\u001b[0;31mXGBoostError\u001b[0m: \nXGBoost Library (libxgboost.dylib) could not be loaded.\nLikely causes:\n  * OpenMP runtime is not installed\n    - vcomp140.dll or libgomp-1.dll for Windows\n    - libomp.dylib for Mac OSX\n    - libgomp.so for Linux and other UNIX-like OSes\n    Mac OSX users: Run `brew install libomp` to install OpenMP runtime.\n\n  * You are running 32-bit Python on a 64-bit OS\n\nError message(s): ['dlopen(/Users/sena/opt/anaconda3/lib/python3.8/site-packages/xgboost/lib/libxgboost.dylib, 6): Library not loaded: /usr/local/opt/libomp/lib/libomp.dylib\\n  Referenced from: /Users/sena/opt/anaconda3/lib/python3.8/site-packages/xgboost/lib/libxgboost.dylib\\n  Reason: image not found']\n"
     ]
    }
   ],
   "source": [
    "from xgboost import XGBClassifier"
   ]
  },
  {
   "cell_type": "code",
   "execution_count": 124,
   "metadata": {},
   "outputs": [
    {
     "name": "stdout",
     "output_type": "stream",
     "text": [
      "Collecting xgboost\n",
      "  Downloading xgboost-1.5.2-py3-none-macosx_10_15_x86_64.macosx_11_0_x86_64.macosx_12_0_x86_64.whl (1.3 MB)\n",
      "\u001b[K     |████████████████████████████████| 1.3 MB 3.1 MB/s eta 0:00:01\n",
      "\u001b[?25hRequirement already satisfied: numpy in /Users/sena/opt/anaconda3/lib/python3.8/site-packages (from xgboost) (1.19.5)\n",
      "Requirement already satisfied: scipy in /Users/sena/opt/anaconda3/lib/python3.8/site-packages (from xgboost) (1.6.2)\n",
      "Installing collected packages: xgboost\n",
      "Successfully installed xgboost-1.5.2\n"
     ]
    }
   ],
   "source": [
    "! pip install xgboost"
   ]
  },
  {
   "cell_type": "code",
   "execution_count": null,
   "metadata": {},
   "outputs": [],
   "source": [
    "svc_scade_acc, dt_with_scal, "
   ]
  },
  {
   "cell_type": "code",
   "execution_count": 128,
   "metadata": {},
   "outputs": [
    {
     "data": {
      "text/plain": [
       "<Figure size 1400x1000 with 0 Axes>"
      ]
     },
     "execution_count": 128,
     "metadata": {},
     "output_type": "execute_result"
    },
    {
     "data": {
      "text/plain": [
       "<Figure size 1400x1000 with 0 Axes>"
      ]
     },
     "metadata": {},
     "output_type": "display_data"
    }
   ],
   "source": [
    "def labels(ax):\n",
    "    for p in ax.patches:\n",
    "        width = p.get_width()                        # get bar length\n",
    "        ax.text(width,                               # set the text at 1 unit right of the bar\n",
    "                p.get_y() + p.get_height() / 2,      # get Y coordinate + X coordinate / 2\n",
    "                '{:1.3f}'.format(width),             # set variable to display, 2 decimals\n",
    "                ha = 'left',                         # horizontal alignment\n",
    "                va = 'center')                       # vertical alignment\n",
    "\n",
    "    \n",
    "plt.figure(figsize=(14,10))\n"
   ]
  },
  {
   "cell_type": "code",
   "execution_count": 129,
   "metadata": {},
   "outputs": [],
   "source": [
    "compare = pd.DataFrame({\"Model\": [\"SVM\", \"Decision Tree\", \"Random Forest\"],\n",
    "                        \"Accuracy\": [svc_scade_acc, dt_with_scal, rf_acc]})"
   ]
  },
  {
   "cell_type": "code",
   "execution_count": 130,
   "metadata": {},
   "outputs": [
    {
     "data": {
      "image/png": "[encoded data removed]",
      "text/plain": [
       "<Figure size 600x400 with 1 Axes>"
      ]
     },
     "metadata": {},
     "output_type": "display_data"
    }
   ],
   "source": [
    "compare = compare.sort_values(by=\"Accuracy\", ascending=False)\n",
    "ax=sns.barplot(x=\"Accuracy\", y=\"Model\", data=compare, palette=\"Blues_d\")\n",
    "labels(ax)"
   ]
  },
  {
   "cell_type": "code",
   "execution_count": null,
   "metadata": {},
   "outputs": [],
   "source": []
  },
  {
   "cell_type": "code",
   "execution_count": null,
   "metadata": {},
   "outputs": [],
   "source": []
  },
  {
   "cell_type": "markdown",
   "metadata": {
    "id": "67xA-4xdASC0"
   },
   "source": [
    "### Compare The Models\n",
    "\n",
    "So far, you have created a multi-classifier model with 4 different algorithms and made predictions. You can observe the performance of the models together with a barplot of your choice.\n",
    "\n",
    "- Which algorithm did you achieve the highest prediction performance with? \n",
    "- What could be the factors that cause this? What are the principles of the most successful algorithm and its differences from other algorithms? \n",
    "\n",
    "In contrast;\n",
    "\n",
    "- Which algorithm did you achieve the lowest prediction performance with? \n",
    "- What could be the factors that cause this? What are the principles of the most successful algorithm and its differences from other algorithms? \n",
    "\n",
    "The answers you will look for to these questions will increase your gains from Machine Learning course."
   ]
  },
  {
   "cell_type": "markdown",
   "metadata": {
    "id": "9F79Rr6OzEVM"
   },
   "source": [
    "# Accuracy Comparison"
   ]
  },
  {
   "cell_type": "markdown",
   "metadata": {
    "id": "Gx90UY0cOlvB"
   },
   "source": []
  },
  {
   "cell_type": "markdown",
   "metadata": {
    "id": "jOJwsa3RzEVN"
   },
   "source": [
    "# F1 Score Comparison"
   ]
  },
  {
   "cell_type": "markdown",
   "metadata": {
    "id": "V9GMPY0yOlvB"
   },
   "source": []
  },
  {
   "cell_type": "markdown",
   "metadata": {
    "id": "e6wYrrIuASC0"
   },
   "source": [
    "___\n",
    "\n",
    "<p style=\"text-align: center;\"><img src=\"https://docs.google.com/uc?id=1lY0Uj5R04yMY3-ZppPWxqCr5pvBLYPnV\" class=\"img-fluid\" alt=\"CLRSWY\"></p>\n",
    "\n",
    "___"
   ]
  }
 ],
 "metadata": {
  "colab": {
   "collapsed_sections": [],
   "name": "Tree_Types_Prediction_Classification_student.ipynb",
   "provenance": []
  },
  "hide_input": false,
  "kernelspec": {
   "display_name": "Python 3",
   "language": "python",
   "name": "python3"
  },
  "language_info": {
   "codemirror_mode": {
    "name": "ipython",
    "version": 3
   },
   "file_extension": ".py",
   "mimetype": "text/x-python",
   "name": "python",
   "nbconvert_exporter": "python",
   "pygments_lexer": "ipython3",
   "version": "3.8.8"
  },
  "toc": {
   "base_numbering": 1,
   "nav_menu": {},
   "number_sections": true,
   "sideBar": true,
   "skip_h1_title": false,
   "title_cell": "Table of Contents",
   "title_sidebar": "Contents",
   "toc_cell": false,
   "toc_position": {},
   "toc_section_display": true,
   "toc_window_display": false
  },
  "varInspector": {
   "cols": {
    "lenName": 16,
    "lenType": 16,
    "lenVar": 40
   },
   "kernels_config": {
    "python": {
     "delete_cmd_postfix": "",
     "delete_cmd_prefix": "del ",
     "library": "var_list.py",
     "varRefreshCmd": "print(var_dic_list())"
    },
    "r": {
     "delete_cmd_postfix": ") ",
     "delete_cmd_prefix": "rm(",
     "library": "var_list.r",
     "varRefreshCmd": "cat(var_dic_list()) "
    }
   },
   "oldHeight": 326.85,
   "position": {
    "height": "40px",
    "left": "1233.2px",
    "right": "20px",
    "top": "120px",
    "width": "250px"
   },
   "types_to_exclude": [
    "module",
    "function",
    "builtin_function_or_method",
    "instance",
    "_Feature"
   ],
   "varInspector_section_display": "none",
   "window_display": false
  }
 },
 "nbformat": 4,
 "nbformat_minor": 1
}
