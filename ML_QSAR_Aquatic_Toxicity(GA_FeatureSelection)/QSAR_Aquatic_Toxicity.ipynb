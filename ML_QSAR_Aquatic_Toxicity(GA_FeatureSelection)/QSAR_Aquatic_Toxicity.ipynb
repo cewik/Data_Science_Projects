{
 "cells": [
  {
   "cell_type": "markdown",
   "id": "e501b0c1",
   "metadata": {},
   "source": [
    "# QSAR Aquatic Toxicity"
   ]
  },
  {
   "cell_type": "markdown",
   "id": "2da79713",
   "metadata": {},
   "source": [
    "## Source:\n",
    "\n",
    "- Davide Ballabio (davide.ballabio '@' unimib.it), Matteo Cassotti, Viviana Consonni, Roberto Todeschini, Milano Chemometrics and QSAR Research Group (http://www.michem.unimib.it/), UniversitÃ  degli Studi Milano - Bicocca, Milano (Italy)"
   ]
  },
  {
   "cell_type": "markdown",
   "id": "3eb07b0e",
   "metadata": {},
   "source": [
    "## Data Set Information:\n",
    "\n",
    "- This dataset was used to develop quantitative regression QSAR models to predict acute aquatic toxicity towards the fish Pimephales promelas (fathead minnow) on a set of 908 chemicals. to predict acute aquatic toxicity towards Daphnia Magna. LC50 data, which is the concentration that causes death in 50% of test D. magna over a test duration of 48 hours, was used as model response. The model comprised 8 molecular descriptors: TPSA(Tot) (Molecular properties), SAacc (Molecular properties), H-050 (Atom-centred fragments), MLOGP (Molecular properties), RDCHI (Connectivity indices), GATS1p (2D autocorrelations), nN (Constitutional indices), C-040 (Atom-centred fragments). Details can be found in the quoted reference: M. Cassotti, D. Ballabio, V. Consonni, A. Mauri, I. V. Tetko, R. Todeschini (2014). Prediction of acute aquatic toxicity towards daphnia magna using GA-kNN method, Alternatives to Laboratory Animals (ATLA), 42,31:41; doi: 10.1177/026119291404200106\n",
    "\n"
   ]
  },
  {
   "cell_type": "markdown",
   "id": "b9123d3a",
   "metadata": {},
   "source": [
    "## Attribute Information:\n",
    "\n",
    "- 8 molecular descriptors and 1 quantitative experimental response:\n",
    "    - 1) TPSA(Tot)\n",
    "    - 2) SAacc\n",
    "    - 3) H-050\n",
    "    - 4) MLOGP\n",
    "    - 5) RDCHI\n",
    "    - 6) GATS1p\n",
    "    - 7) nN\n",
    "    - 8) C-040\n",
    "    - 9) quantitative response, LC50 [-LOG(mol/L)]"
   ]
  },
  {
   "cell_type": "code",
   "execution_count": 242,
   "id": "5b539c89",
   "metadata": {},
   "outputs": [],
   "source": [
    "import numpy as np\n",
    "import pandas as pd\n",
    "import seaborn as sns \n",
    "import matplotlib.pyplot as plt\n",
    "\n",
    "from sklearn.preprocessing import StandardScaler, MinMaxScaler, RobustScaler\n",
    "from sklearn.metrics import mean_squared_error, mean_absolute_error, r2_score\n",
    "from sklearn.model_selection import train_test_split\n",
    "from sklearn.pipeline import Pipeline\n",
    "\n",
    "import scipy.stats as stats\n",
    "from sklearn.model_selection import cross_validate, cross_val_score\n",
    "\n",
    "import warnings\n",
    "warnings.filterwarnings(\"ignore\")\n",
    "warnings.warn(\"this will not show\")\n",
    "\n",
    "%matplotlib inline\n",
    "# %matplotlib notebook\n",
    "\n",
    "plt.rcParams[\"figure.figsize\"] = (10,6)\n",
    "# plt.rcParams['figure.dpi'] = 100\n",
    "\n",
    "pd.set_option('display.float_format', lambda x: '%.3f' % x)\n",
    "pd.options.display.max_rows = 150\n",
    "pd.options.display.max_columns = 150"
   ]
  },
  {
   "cell_type": "code",
   "execution_count": 243,
   "id": "ebc606e4",
   "metadata": {},
   "outputs": [
    {
     "data": {
      "text/html": [
       "<div>\n",
       "<style scoped>\n",
       "    .dataframe tbody tr th:only-of-type {\n",
       "        vertical-align: middle;\n",
       "    }\n",
       "\n",
       "    .dataframe tbody tr th {\n",
       "        vertical-align: top;\n",
       "    }\n",
       "\n",
       "    .dataframe thead th {\n",
       "        text-align: right;\n",
       "    }\n",
       "</style>\n",
       "<table border=\"1\" class=\"dataframe\">\n",
       "  <thead>\n",
       "    <tr style=\"text-align: right;\">\n",
       "      <th></th>\n",
       "      <th>TPSA(Tot)</th>\n",
       "      <th>SAacc</th>\n",
       "      <th>H-050</th>\n",
       "      <th>MLOGP</th>\n",
       "      <th>RDCHI</th>\n",
       "      <th>GATS1p</th>\n",
       "      <th>nN</th>\n",
       "      <th>C-040</th>\n",
       "      <th>LC50</th>\n",
       "    </tr>\n",
       "  </thead>\n",
       "  <tbody>\n",
       "    <tr>\n",
       "      <th>0</th>\n",
       "      <td>0.000</td>\n",
       "      <td>0.000</td>\n",
       "      <td>0</td>\n",
       "      <td>2.419</td>\n",
       "      <td>1.225</td>\n",
       "      <td>0.667</td>\n",
       "      <td>0</td>\n",
       "      <td>0</td>\n",
       "      <td>3.740</td>\n",
       "    </tr>\n",
       "    <tr>\n",
       "      <th>1</th>\n",
       "      <td>0.000</td>\n",
       "      <td>0.000</td>\n",
       "      <td>0</td>\n",
       "      <td>2.638</td>\n",
       "      <td>1.401</td>\n",
       "      <td>0.632</td>\n",
       "      <td>0</td>\n",
       "      <td>0</td>\n",
       "      <td>4.330</td>\n",
       "    </tr>\n",
       "    <tr>\n",
       "      <th>2</th>\n",
       "      <td>9.230</td>\n",
       "      <td>11.000</td>\n",
       "      <td>0</td>\n",
       "      <td>5.799</td>\n",
       "      <td>2.930</td>\n",
       "      <td>0.486</td>\n",
       "      <td>0</td>\n",
       "      <td>0</td>\n",
       "      <td>7.019</td>\n",
       "    </tr>\n",
       "    <tr>\n",
       "      <th>3</th>\n",
       "      <td>9.230</td>\n",
       "      <td>11.000</td>\n",
       "      <td>0</td>\n",
       "      <td>5.453</td>\n",
       "      <td>2.887</td>\n",
       "      <td>0.495</td>\n",
       "      <td>0</td>\n",
       "      <td>0</td>\n",
       "      <td>6.723</td>\n",
       "    </tr>\n",
       "    <tr>\n",
       "      <th>4</th>\n",
       "      <td>9.230</td>\n",
       "      <td>11.000</td>\n",
       "      <td>0</td>\n",
       "      <td>4.068</td>\n",
       "      <td>2.758</td>\n",
       "      <td>0.695</td>\n",
       "      <td>0</td>\n",
       "      <td>0</td>\n",
       "      <td>5.979</td>\n",
       "    </tr>\n",
       "  </tbody>\n",
       "</table>\n",
       "</div>"
      ],
      "text/plain": [
       "   TPSA(Tot)  SAacc  H-050  MLOGP  RDCHI  GATS1p  nN  C-040  LC50\n",
       "0      0.000  0.000      0  2.419  1.225   0.667   0      0 3.740\n",
       "1      0.000  0.000      0  2.638  1.401   0.632   0      0 4.330\n",
       "2      9.230 11.000      0  5.799  2.930   0.486   0      0 7.019\n",
       "3      9.230 11.000      0  5.453  2.887   0.495   0      0 6.723\n",
       "4      9.230 11.000      0  4.068  2.758   0.695   0      0 5.979"
      ]
     },
     "execution_count": 243,
     "metadata": {},
     "output_type": "execute_result"
    }
   ],
   "source": [
    "columns = ['TPSA(Tot)', 'SAacc', 'H-050', 'MLOGP', \"RDCHI\", \"GATS1p\", \"nN\", \"C-040\", \"LC50\"] \n",
    "\n",
    "df0 = pd.read_csv(\"qsar_aquatic_toxicity.csv\", sep = \";\", names = columns)\n",
    "df = df0.copy()\n",
    "\n",
    "df.head()"
   ]
  },
  {
   "cell_type": "code",
   "execution_count": 3,
   "id": "3e091765",
   "metadata": {},
   "outputs": [
    {
     "name": "stdout",
     "output_type": "stream",
     "text": [
      "<class 'pandas.core.frame.DataFrame'>\n",
      "RangeIndex: 546 entries, 0 to 545\n",
      "Data columns (total 9 columns):\n",
      " #   Column     Non-Null Count  Dtype  \n",
      "---  ------     --------------  -----  \n",
      " 0   TPSA(Tot)  546 non-null    float64\n",
      " 1   SAacc      546 non-null    float64\n",
      " 2   H-050      546 non-null    int64  \n",
      " 3   MLOGP      546 non-null    float64\n",
      " 4   RDCHI      546 non-null    float64\n",
      " 5   GATS1p     546 non-null    float64\n",
      " 6   nN         546 non-null    int64  \n",
      " 7   C-040      546 non-null    int64  \n",
      " 8   LC50       546 non-null    float64\n",
      "dtypes: float64(6), int64(3)\n",
      "memory usage: 38.5 KB\n"
     ]
    }
   ],
   "source": [
    "df.info()"
   ]
  },
  {
   "cell_type": "code",
   "execution_count": 4,
   "id": "c05349a2",
   "metadata": {
    "scrolled": true
   },
   "outputs": [
    {
     "data": {
      "text/html": [
       "<div>\n",
       "<style scoped>\n",
       "    .dataframe tbody tr th:only-of-type {\n",
       "        vertical-align: middle;\n",
       "    }\n",
       "\n",
       "    .dataframe tbody tr th {\n",
       "        vertical-align: top;\n",
       "    }\n",
       "\n",
       "    .dataframe thead th {\n",
       "        text-align: right;\n",
       "    }\n",
       "</style>\n",
       "<table border=\"1\" class=\"dataframe\">\n",
       "  <thead>\n",
       "    <tr style=\"text-align: right;\">\n",
       "      <th></th>\n",
       "      <th>TPSA(Tot)</th>\n",
       "      <th>SAacc</th>\n",
       "      <th>H-050</th>\n",
       "      <th>MLOGP</th>\n",
       "      <th>RDCHI</th>\n",
       "      <th>GATS1p</th>\n",
       "      <th>nN</th>\n",
       "      <th>C-040</th>\n",
       "      <th>LC50</th>\n",
       "    </tr>\n",
       "  </thead>\n",
       "  <tbody>\n",
       "    <tr>\n",
       "      <th>count</th>\n",
       "      <td>546.000</td>\n",
       "      <td>546.000</td>\n",
       "      <td>546.000</td>\n",
       "      <td>546.000</td>\n",
       "      <td>546.000</td>\n",
       "      <td>546.000</td>\n",
       "      <td>546.000</td>\n",
       "      <td>546.000</td>\n",
       "      <td>546.000</td>\n",
       "    </tr>\n",
       "    <tr>\n",
       "      <th>mean</th>\n",
       "      <td>48.473</td>\n",
       "      <td>58.869</td>\n",
       "      <td>0.938</td>\n",
       "      <td>2.313</td>\n",
       "      <td>2.492</td>\n",
       "      <td>1.046</td>\n",
       "      <td>1.004</td>\n",
       "      <td>0.353</td>\n",
       "      <td>4.658</td>\n",
       "    </tr>\n",
       "    <tr>\n",
       "      <th>std</th>\n",
       "      <td>46.764</td>\n",
       "      <td>68.167</td>\n",
       "      <td>1.619</td>\n",
       "      <td>1.742</td>\n",
       "      <td>0.811</td>\n",
       "      <td>0.404</td>\n",
       "      <td>1.397</td>\n",
       "      <td>0.807</td>\n",
       "      <td>1.665</td>\n",
       "    </tr>\n",
       "    <tr>\n",
       "      <th>min</th>\n",
       "      <td>0.000</td>\n",
       "      <td>0.000</td>\n",
       "      <td>0.000</td>\n",
       "      <td>-6.446</td>\n",
       "      <td>1.000</td>\n",
       "      <td>0.281</td>\n",
       "      <td>0.000</td>\n",
       "      <td>0.000</td>\n",
       "      <td>0.122</td>\n",
       "    </tr>\n",
       "    <tr>\n",
       "      <th>25%</th>\n",
       "      <td>15.790</td>\n",
       "      <td>11.000</td>\n",
       "      <td>0.000</td>\n",
       "      <td>1.232</td>\n",
       "      <td>1.975</td>\n",
       "      <td>0.737</td>\n",
       "      <td>0.000</td>\n",
       "      <td>0.000</td>\n",
       "      <td>3.602</td>\n",
       "    </tr>\n",
       "    <tr>\n",
       "      <th>50%</th>\n",
       "      <td>40.460</td>\n",
       "      <td>42.683</td>\n",
       "      <td>0.000</td>\n",
       "      <td>2.274</td>\n",
       "      <td>2.344</td>\n",
       "      <td>1.020</td>\n",
       "      <td>1.000</td>\n",
       "      <td>0.000</td>\n",
       "      <td>4.516</td>\n",
       "    </tr>\n",
       "    <tr>\n",
       "      <th>75%</th>\n",
       "      <td>70.023</td>\n",
       "      <td>77.493</td>\n",
       "      <td>1.000</td>\n",
       "      <td>3.393</td>\n",
       "      <td>2.911</td>\n",
       "      <td>1.266</td>\n",
       "      <td>2.000</td>\n",
       "      <td>0.000</td>\n",
       "      <td>5.607</td>\n",
       "    </tr>\n",
       "    <tr>\n",
       "      <th>max</th>\n",
       "      <td>347.320</td>\n",
       "      <td>571.952</td>\n",
       "      <td>18.000</td>\n",
       "      <td>9.148</td>\n",
       "      <td>6.439</td>\n",
       "      <td>2.500</td>\n",
       "      <td>11.000</td>\n",
       "      <td>11.000</td>\n",
       "      <td>10.047</td>\n",
       "    </tr>\n",
       "  </tbody>\n",
       "</table>\n",
       "</div>"
      ],
      "text/plain": [
       "       TPSA(Tot)   SAacc   H-050   MLOGP   RDCHI  GATS1p      nN   C-040  \\\n",
       "count    546.000 546.000 546.000 546.000 546.000 546.000 546.000 546.000   \n",
       "mean      48.473  58.869   0.938   2.313   2.492   1.046   1.004   0.353   \n",
       "std       46.764  68.167   1.619   1.742   0.811   0.404   1.397   0.807   \n",
       "min        0.000   0.000   0.000  -6.446   1.000   0.281   0.000   0.000   \n",
       "25%       15.790  11.000   0.000   1.232   1.975   0.737   0.000   0.000   \n",
       "50%       40.460  42.683   0.000   2.274   2.344   1.020   1.000   0.000   \n",
       "75%       70.023  77.493   1.000   3.393   2.911   1.266   2.000   0.000   \n",
       "max      347.320 571.952  18.000   9.148   6.439   2.500  11.000  11.000   \n",
       "\n",
       "         LC50  \n",
       "count 546.000  \n",
       "mean    4.658  \n",
       "std     1.665  \n",
       "min     0.122  \n",
       "25%     3.602  \n",
       "50%     4.516  \n",
       "75%     5.607  \n",
       "max    10.047  "
      ]
     },
     "execution_count": 4,
     "metadata": {},
     "output_type": "execute_result"
    }
   ],
   "source": [
    "df.describe()"
   ]
  },
  {
   "cell_type": "code",
   "execution_count": 5,
   "id": "3229ebb7",
   "metadata": {},
   "outputs": [],
   "source": [
    "# TPSA(Tot), SAacc, H-050, nN, C-040 feature larinda outlier ihtimali var."
   ]
  },
  {
   "cell_type": "code",
   "execution_count": 6,
   "id": "11823fa4",
   "metadata": {
    "scrolled": true
   },
   "outputs": [
    {
     "data": {
      "text/plain": [
       "347.320     1\n",
       "336.430     1\n",
       "278.800     1\n",
       "237.750     1\n",
       "215.340     1\n",
       "           ..\n",
       "12.030      7\n",
       "9.230      11\n",
       "7.760       2\n",
       "3.240       4\n",
       "0.000      97\n",
       "Name: TPSA(Tot), Length: 227, dtype: int64"
      ]
     },
     "execution_count": 6,
     "metadata": {},
     "output_type": "execute_result"
    }
   ],
   "source": [
    "df[\"TPSA(Tot)\"].value_counts().sort_index(ascending = False)"
   ]
  },
  {
   "cell_type": "code",
   "execution_count": 7,
   "id": "e6e2c3e9",
   "metadata": {
    "scrolled": true
   },
   "outputs": [
    {
     "data": {
      "text/plain": [
       "0.000      108\n",
       "3.124        4\n",
       "6.249        6\n",
       "6.922        1\n",
       "9.507        2\n",
       "          ... \n",
       "332.830      1\n",
       "358.244      1\n",
       "413.191      1\n",
       "551.098      1\n",
       "571.952      1\n",
       "Name: SAacc, Length: 210, dtype: int64"
      ]
     },
     "execution_count": 7,
     "metadata": {},
     "output_type": "execute_result"
    }
   ],
   "source": [
    "df[\"SAacc\"].value_counts().sort_index()"
   ]
  },
  {
   "cell_type": "code",
   "execution_count": 8,
   "id": "53fb4882",
   "metadata": {},
   "outputs": [
    {
     "data": {
      "text/plain": [
       "0     296\n",
       "1     121\n",
       "2      76\n",
       "3      23\n",
       "4      15\n",
       "5       6\n",
       "6       4\n",
       "7       2\n",
       "8       1\n",
       "16      1\n",
       "18      1\n",
       "Name: H-050, dtype: int64"
      ]
     },
     "execution_count": 8,
     "metadata": {},
     "output_type": "execute_result"
    }
   ],
   "source": [
    "df[\"H-050\"].value_counts()"
   ]
  },
  {
   "cell_type": "code",
   "execution_count": 9,
   "id": "07dd963c",
   "metadata": {},
   "outputs": [
    {
     "data": {
      "text/plain": [
       "0     271\n",
       "1     131\n",
       "2      79\n",
       "3      35\n",
       "5      12\n",
       "4      11\n",
       "6       3\n",
       "7       3\n",
       "11      1\n",
       "Name: nN, dtype: int64"
      ]
     },
     "execution_count": 9,
     "metadata": {},
     "output_type": "execute_result"
    }
   ],
   "source": [
    "df[\"nN\"].value_counts()"
   ]
  },
  {
   "cell_type": "code",
   "execution_count": 10,
   "id": "ac80ce70",
   "metadata": {
    "scrolled": true
   },
   "outputs": [
    {
     "data": {
      "text/plain": [
       "0     412\n",
       "1      92\n",
       "2      36\n",
       "4       3\n",
       "3       2\n",
       "11      1\n",
       "Name: C-040, dtype: int64"
      ]
     },
     "execution_count": 10,
     "metadata": {},
     "output_type": "execute_result"
    }
   ],
   "source": [
    "df[\"C-040\"].value_counts()"
   ]
  },
  {
   "cell_type": "code",
   "execution_count": 11,
   "id": "b60490fd",
   "metadata": {},
   "outputs": [
    {
     "data": {
      "text/plain": [
       "0     412\n",
       "1      92\n",
       "2      36\n",
       "4       3\n",
       "3       2\n",
       "11      1\n",
       "Name: C-040, dtype: int64"
      ]
     },
     "execution_count": 11,
     "metadata": {},
     "output_type": "execute_result"
    }
   ],
   "source": [
    "df[\"C-040\"].value_counts()"
   ]
  },
  {
   "cell_type": "code",
   "execution_count": 12,
   "id": "861929f4",
   "metadata": {},
   "outputs": [],
   "source": [
    "df[\"C-040\"] = df[\"C-040\"][df[\"C-040\"] < 3]"
   ]
  },
  {
   "cell_type": "code",
   "execution_count": 13,
   "id": "789a6419",
   "metadata": {},
   "outputs": [
    {
     "data": {
      "text/plain": [
       "0.000    412\n",
       "1.000     92\n",
       "2.000     36\n",
       "Name: C-040, dtype: int64"
      ]
     },
     "execution_count": 13,
     "metadata": {},
     "output_type": "execute_result"
    }
   ],
   "source": [
    "df[\"C-040\"].value_counts()"
   ]
  },
  {
   "cell_type": "code",
   "execution_count": 14,
   "id": "2a152152",
   "metadata": {},
   "outputs": [],
   "source": [
    "outliers = [\"TPSA(Tot)\", \"SAacc\", \"H-050\", \"nN\" ]\n",
    "\n",
    "for i in outliers:\n",
    "    Q1 = df[i].quantile(0.25)\n",
    "    Q3 = df[i].quantile(0.75)\n",
    "   \n",
    "    IQR = Q3 - Q1\n",
    "    \n",
    "    df[i] = df[i][~((df[i]> (Q3 + 1.5 * IQR))| (df[i] < (Q1 - 1.5 * IQR)))]"
   ]
  },
  {
   "cell_type": "code",
   "execution_count": 15,
   "id": "bb514896",
   "metadata": {},
   "outputs": [],
   "source": [
    "df.dropna(inplace = True)"
   ]
  },
  {
   "cell_type": "code",
   "execution_count": 16,
   "id": "4ec518fd",
   "metadata": {
    "scrolled": true
   },
   "outputs": [
    {
     "name": "stdout",
     "output_type": "stream",
     "text": [
      "<class 'pandas.core.frame.DataFrame'>\n",
      "Int64Index: 486 entries, 0 to 545\n",
      "Data columns (total 9 columns):\n",
      " #   Column     Non-Null Count  Dtype  \n",
      "---  ------     --------------  -----  \n",
      " 0   TPSA(Tot)  486 non-null    float64\n",
      " 1   SAacc      486 non-null    float64\n",
      " 2   H-050      486 non-null    float64\n",
      " 3   MLOGP      486 non-null    float64\n",
      " 4   RDCHI      486 non-null    float64\n",
      " 5   GATS1p     486 non-null    float64\n",
      " 6   nN         486 non-null    float64\n",
      " 7   C-040      486 non-null    float64\n",
      " 8   LC50       486 non-null    float64\n",
      "dtypes: float64(9)\n",
      "memory usage: 38.0 KB\n"
     ]
    }
   ],
   "source": [
    "df.info()"
   ]
  },
  {
   "cell_type": "code",
   "execution_count": 17,
   "id": "bde01dde",
   "metadata": {
    "scrolled": false
   },
   "outputs": [
    {
     "data": {
      "image/png": "[encoded data removed]",
      "text/plain": [
       "<Figure size 720x432 with 2 Axes>"
      ]
     },
     "metadata": {
      "needs_background": "light"
     },
     "output_type": "display_data"
    }
   ],
   "source": [
    "sns.heatmap(df.corr(), annot = True);"
   ]
  },
  {
   "cell_type": "code",
   "execution_count": 18,
   "id": "115a4fbb",
   "metadata": {
    "scrolled": true
   },
   "outputs": [
    {
     "data": {
      "text/plain": [
       "GATS1p      -0.315\n",
       "H-050       -0.213\n",
       "SAacc       -0.040\n",
       "nN          -0.026\n",
       "C-040        0.066\n",
       "TPSA(Tot)    0.166\n",
       "RDCHI        0.506\n",
       "MLOGP        0.552\n",
       "Name: LC50, dtype: float64"
      ]
     },
     "execution_count": 18,
     "metadata": {},
     "output_type": "execute_result"
    }
   ],
   "source": [
    "corr_by_LC50 = df.corr()[\"LC50\"].sort_values()[:-1]\n",
    "corr_by_LC50"
   ]
  },
  {
   "cell_type": "code",
   "execution_count": 19,
   "id": "6c9a6787",
   "metadata": {
    "scrolled": false
   },
   "outputs": [
    {
     "data": {
      "image/png": "[encoded data removed]",
      "text/plain": [
       "<Figure size 720x432 with 1 Axes>"
      ]
     },
     "metadata": {
      "needs_background": "light"
     },
     "output_type": "display_data"
    }
   ],
   "source": [
    "sns.histplot(df.LC50, bins = 50, kde=True);"
   ]
  },
  {
   "cell_type": "code",
   "execution_count": 244,
   "id": "af88803b",
   "metadata": {},
   "outputs": [],
   "source": [
    "X = df.drop(columns = [\"LC50\"])\n",
    "y = df[\"LC50\"]"
   ]
  },
  {
   "cell_type": "markdown",
   "id": "56f82acf",
   "metadata": {},
   "source": [
    "<hr>"
   ]
  },
  {
   "cell_type": "markdown",
   "id": "7876aa89",
   "metadata": {},
   "source": [
    "## Train | Test Split"
   ]
  },
  {
   "cell_type": "code",
   "execution_count": 245,
   "id": "b71d16e4",
   "metadata": {},
   "outputs": [],
   "source": [
    "from sklearn.model_selection import train_test_split"
   ]
  },
  {
   "cell_type": "code",
   "execution_count": 246,
   "id": "21c86400",
   "metadata": {},
   "outputs": [],
   "source": [
    "X_train, X_test, y_train, y_test = train_test_split(X, y, test_size = 0.12, random_state=42)\n"
   ]
  },
  {
   "cell_type": "code",
   "execution_count": 247,
   "id": "684c61d7",
   "metadata": {},
   "outputs": [
    {
     "name": "stdout",
     "output_type": "stream",
     "text": [
      "Train features shape : (480, 8)\n",
      "Train features shape : (480,)\n",
      "Test features shape : (66, 8)\n",
      "Test features shape : (66,)\n"
     ]
    }
   ],
   "source": [
    "print(\"Train features shape :\", X_train.shape)\n",
    "print(\"Train features shape :\", y_train.shape)\n",
    "print(\"Test features shape :\", X_test.shape)\n",
    "print(\"Test features shape :\", y_test.shape)"
   ]
  },
  {
   "cell_type": "code",
   "execution_count": 248,
   "id": "c5e60397",
   "metadata": {},
   "outputs": [],
   "source": [
    "noise = np.random.uniform(0, 10, size=(X.shape[0], 10))\n",
    "\n",
    "x = X.values"
   ]
  },
  {
   "cell_type": "markdown",
   "id": "a5379bbe",
   "metadata": {},
   "source": [
    "<hr>"
   ]
  },
  {
   "cell_type": "markdown",
   "id": "5fde49bb",
   "metadata": {},
   "source": [
    "# Linear Regression"
   ]
  },
  {
   "cell_type": "code",
   "execution_count": 65,
   "id": "9cadc11f",
   "metadata": {},
   "outputs": [],
   "source": [
    "def train_val(model, X_train, y_train, X_test, y_test):\n",
    "    \n",
    "    y_pred = model.predict(X_test)\n",
    "    y_train_pred = model.predict(X_train)\n",
    "    \n",
    "    scores = {\"train\": {\"R2\" : r2_score(y_train, y_train_pred),\n",
    "    \"mae\" : mean_absolute_error(y_train, y_train_pred),\n",
    "    \"mse\" : mean_squared_error(y_train, y_train_pred),                          \n",
    "    \"rmse\" : np.sqrt(mean_squared_error(y_train, y_train_pred))},\n",
    "    \n",
    "    \"test\": {\"R2\" : r2_score(y_test, y_pred),\n",
    "    \"mae\" : mean_absolute_error(y_test, y_pred),\n",
    "    \"mse\" : mean_squared_error(y_test, y_pred),\n",
    "    \"rmse\" : np.sqrt(mean_squared_error(y_test, y_pred))}}\n",
    "    \n",
    "    return pd.DataFrame(scores)"
   ]
  },
  {
   "cell_type": "code",
   "execution_count": 66,
   "id": "ff505cfb",
   "metadata": {},
   "outputs": [],
   "source": [
    "from sklearn.linear_model import LinearRegression"
   ]
  },
  {
   "cell_type": "code",
   "execution_count": 67,
   "id": "d22b5577",
   "metadata": {
    "scrolled": true
   },
   "outputs": [
    {
     "data": {
      "text/plain": [
       "LinearRegression()"
      ]
     },
     "execution_count": 67,
     "metadata": {},
     "output_type": "execute_result"
    }
   ],
   "source": [
    "lm = LinearRegression()\n",
    "lm.fit(X_train,y_train)"
   ]
  },
  {
   "cell_type": "code",
   "execution_count": 68,
   "id": "00cf3607",
   "metadata": {
    "scrolled": true
   },
   "outputs": [
    {
     "data": {
      "text/html": [
       "<div>\n",
       "<style scoped>\n",
       "    .dataframe tbody tr th:only-of-type {\n",
       "        vertical-align: middle;\n",
       "    }\n",
       "\n",
       "    .dataframe tbody tr th {\n",
       "        vertical-align: top;\n",
       "    }\n",
       "\n",
       "    .dataframe thead th {\n",
       "        text-align: right;\n",
       "    }\n",
       "</style>\n",
       "<table border=\"1\" class=\"dataframe\">\n",
       "  <thead>\n",
       "    <tr style=\"text-align: right;\">\n",
       "      <th></th>\n",
       "      <th>train</th>\n",
       "      <th>test</th>\n",
       "    </tr>\n",
       "  </thead>\n",
       "  <tbody>\n",
       "    <tr>\n",
       "      <th>R2</th>\n",
       "      <td>0.504</td>\n",
       "      <td>0.578</td>\n",
       "    </tr>\n",
       "    <tr>\n",
       "      <th>mae</th>\n",
       "      <td>0.903</td>\n",
       "      <td>0.853</td>\n",
       "    </tr>\n",
       "    <tr>\n",
       "      <th>mse</th>\n",
       "      <td>1.434</td>\n",
       "      <td>1.292</td>\n",
       "    </tr>\n",
       "    <tr>\n",
       "      <th>rmse</th>\n",
       "      <td>1.197</td>\n",
       "      <td>1.137</td>\n",
       "    </tr>\n",
       "  </tbody>\n",
       "</table>\n",
       "</div>"
      ],
      "text/plain": [
       "      train  test\n",
       "R2    0.504 0.578\n",
       "mae   0.903 0.853\n",
       "mse   1.434 1.292\n",
       "rmse  1.197 1.137"
      ]
     },
     "execution_count": 68,
     "metadata": {},
     "output_type": "execute_result"
    }
   ],
   "source": [
    "train_val(lm, X_train, y_train, X_test, y_test)"
   ]
  },
  {
   "cell_type": "code",
   "execution_count": 69,
   "id": "09275c8e",
   "metadata": {},
   "outputs": [],
   "source": [
    "model = LinearRegression()\n",
    "scores = cross_validate(model, X_train, y_train, scoring=['r2', \n",
    "            'neg_mean_absolute_error','neg_mean_squared_error','neg_root_mean_squared_error'], cv =10)"
   ]
  },
  {
   "cell_type": "code",
   "execution_count": 70,
   "id": "c7a6d515",
   "metadata": {},
   "outputs": [
    {
     "data": {
      "text/html": [
       "<div>\n",
       "<style scoped>\n",
       "    .dataframe tbody tr th:only-of-type {\n",
       "        vertical-align: middle;\n",
       "    }\n",
       "\n",
       "    .dataframe tbody tr th {\n",
       "        vertical-align: top;\n",
       "    }\n",
       "\n",
       "    .dataframe thead th {\n",
       "        text-align: right;\n",
       "    }\n",
       "</style>\n",
       "<table border=\"1\" class=\"dataframe\">\n",
       "  <thead>\n",
       "    <tr style=\"text-align: right;\">\n",
       "      <th></th>\n",
       "      <th>test_r2</th>\n",
       "      <th>test_neg_mean_absolute_error</th>\n",
       "      <th>test_neg_mean_squared_error</th>\n",
       "      <th>test_neg_root_mean_squared_error</th>\n",
       "    </tr>\n",
       "  </thead>\n",
       "  <tbody>\n",
       "    <tr>\n",
       "      <th>0</th>\n",
       "      <td>0.510</td>\n",
       "      <td>-0.996</td>\n",
       "      <td>-1.659</td>\n",
       "      <td>-1.288</td>\n",
       "    </tr>\n",
       "    <tr>\n",
       "      <th>1</th>\n",
       "      <td>0.515</td>\n",
       "      <td>-1.038</td>\n",
       "      <td>-1.809</td>\n",
       "      <td>-1.345</td>\n",
       "    </tr>\n",
       "    <tr>\n",
       "      <th>2</th>\n",
       "      <td>0.518</td>\n",
       "      <td>-0.810</td>\n",
       "      <td>-1.131</td>\n",
       "      <td>-1.064</td>\n",
       "    </tr>\n",
       "    <tr>\n",
       "      <th>3</th>\n",
       "      <td>0.543</td>\n",
       "      <td>-0.851</td>\n",
       "      <td>-1.427</td>\n",
       "      <td>-1.195</td>\n",
       "    </tr>\n",
       "    <tr>\n",
       "      <th>4</th>\n",
       "      <td>0.493</td>\n",
       "      <td>-0.932</td>\n",
       "      <td>-1.630</td>\n",
       "      <td>-1.277</td>\n",
       "    </tr>\n",
       "    <tr>\n",
       "      <th>5</th>\n",
       "      <td>0.449</td>\n",
       "      <td>-0.732</td>\n",
       "      <td>-0.924</td>\n",
       "      <td>-0.961</td>\n",
       "    </tr>\n",
       "    <tr>\n",
       "      <th>6</th>\n",
       "      <td>0.300</td>\n",
       "      <td>-0.940</td>\n",
       "      <td>-1.858</td>\n",
       "      <td>-1.363</td>\n",
       "    </tr>\n",
       "    <tr>\n",
       "      <th>7</th>\n",
       "      <td>0.439</td>\n",
       "      <td>-0.858</td>\n",
       "      <td>-1.117</td>\n",
       "      <td>-1.057</td>\n",
       "    </tr>\n",
       "    <tr>\n",
       "      <th>8</th>\n",
       "      <td>0.511</td>\n",
       "      <td>-0.883</td>\n",
       "      <td>-1.515</td>\n",
       "      <td>-1.231</td>\n",
       "    </tr>\n",
       "    <tr>\n",
       "      <th>9</th>\n",
       "      <td>0.493</td>\n",
       "      <td>-1.130</td>\n",
       "      <td>-1.720</td>\n",
       "      <td>-1.311</td>\n",
       "    </tr>\n",
       "  </tbody>\n",
       "</table>\n",
       "</div>"
      ],
      "text/plain": [
       "   test_r2  test_neg_mean_absolute_error  test_neg_mean_squared_error  \\\n",
       "0    0.510                        -0.996                       -1.659   \n",
       "1    0.515                        -1.038                       -1.809   \n",
       "2    0.518                        -0.810                       -1.131   \n",
       "3    0.543                        -0.851                       -1.427   \n",
       "4    0.493                        -0.932                       -1.630   \n",
       "5    0.449                        -0.732                       -0.924   \n",
       "6    0.300                        -0.940                       -1.858   \n",
       "7    0.439                        -0.858                       -1.117   \n",
       "8    0.511                        -0.883                       -1.515   \n",
       "9    0.493                        -1.130                       -1.720   \n",
       "\n",
       "   test_neg_root_mean_squared_error  \n",
       "0                            -1.288  \n",
       "1                            -1.345  \n",
       "2                            -1.064  \n",
       "3                            -1.195  \n",
       "4                            -1.277  \n",
       "5                            -0.961  \n",
       "6                            -1.363  \n",
       "7                            -1.057  \n",
       "8                            -1.231  \n",
       "9                            -1.311  "
      ]
     },
     "execution_count": 70,
     "metadata": {},
     "output_type": "execute_result"
    }
   ],
   "source": [
    "pd.DataFrame(scores).iloc[:, 2:]"
   ]
  },
  {
   "cell_type": "code",
   "execution_count": 71,
   "id": "a779ad7f",
   "metadata": {},
   "outputs": [
    {
     "data": {
      "text/plain": [
       "test_r2                             0.477\n",
       "test_neg_mean_absolute_error       -0.917\n",
       "test_neg_mean_squared_error        -1.479\n",
       "test_neg_root_mean_squared_error   -1.209\n",
       "dtype: float64"
      ]
     },
     "execution_count": 71,
     "metadata": {},
     "output_type": "execute_result"
    }
   ],
   "source": [
    "pd.DataFrame(scores).iloc[:, 2:].mean() "
   ]
  },
  {
   "cell_type": "markdown",
   "id": "5ab15054",
   "metadata": {},
   "source": [
    "lm_R2 = r2_score(y_test, y_pred)\n",
    "lm_mae = mean_absolute_error(y_test, y_pred)\n",
    "lm_rmse = np.sqrt(mean_squared_error(y_test, y_pred))\n",
    "lm_R2"
   ]
  },
  {
   "cell_type": "code",
   "execution_count": 72,
   "id": "92c5b681",
   "metadata": {},
   "outputs": [
    {
     "data": {
      "image/png": "[encoded data removed]",
      "text/plain": [
       "<Figure size 576x396 with 1 Axes>"
      ]
     },
     "metadata": {},
     "output_type": "display_data"
    }
   ],
   "source": [
    "from yellowbrick.regressor import PredictionError\n",
    "visualizer = PredictionError(lm)\n",
    "visualizer.fit(X_train, y_train)  # Fit the training data to the visualizer\n",
    "visualizer.score(X_test, y_test)  # Evaluate the model on the test data\n",
    "visualizer.show(); "
   ]
  },
  {
   "cell_type": "code",
   "execution_count": 73,
   "id": "1e3d1fb7",
   "metadata": {},
   "outputs": [
    {
     "data": {
      "image/png": "[encoded data removed]",
      "text/plain": [
       "<Figure size 576x396 with 2 Axes>"
      ]
     },
     "metadata": {},
     "output_type": "display_data"
    }
   ],
   "source": [
    "from yellowbrick.regressor import ResidualsPlot\n",
    "visualizer = ResidualsPlot(lm)\n",
    "\n",
    "visualizer.fit(X_train, y_train)  # Fit the training data to the visualizer\n",
    "visualizer.score(X_test, y_test)  # Evaluate the model on the test data\n",
    "visualizer.show();"
   ]
  },
  {
   "cell_type": "markdown",
   "id": "ba9103e8",
   "metadata": {},
   "source": [
    "<hr>"
   ]
  },
  {
   "cell_type": "markdown",
   "id": "93064b93",
   "metadata": {},
   "source": [
    "### > Scaling\n",
    "- Burada pipeline kullanmadan hızlı bi şekilde ridge, lasso ve elastic net e bakmak istedim. "
   ]
  },
  {
   "cell_type": "code",
   "execution_count": 74,
   "id": "803f8a58",
   "metadata": {},
   "outputs": [],
   "source": [
    "scaler = StandardScaler()"
   ]
  },
  {
   "cell_type": "code",
   "execution_count": 75,
   "id": "28fd3acd",
   "metadata": {},
   "outputs": [],
   "source": [
    "X_train = scaler.fit_transform(X_train)"
   ]
  },
  {
   "cell_type": "code",
   "execution_count": 76,
   "id": "bd38678c",
   "metadata": {},
   "outputs": [],
   "source": [
    "X_test = scaler.transform(X_test)"
   ]
  },
  {
   "cell_type": "markdown",
   "id": "f520666b",
   "metadata": {},
   "source": [
    "# Ridge "
   ]
  },
  {
   "cell_type": "code",
   "execution_count": 77,
   "id": "de4132f0",
   "metadata": {},
   "outputs": [],
   "source": [
    "X_train = scaler.fit_transform(X_train)"
   ]
  },
  {
   "cell_type": "code",
   "execution_count": 78,
   "id": "b3494076",
   "metadata": {},
   "outputs": [],
   "source": [
    "from sklearn.linear_model import Ridge, RidgeCV"
   ]
  },
  {
   "cell_type": "code",
   "execution_count": 79,
   "id": "38c7d131",
   "metadata": {},
   "outputs": [],
   "source": [
    "X_test = scaler.transform(X_test)"
   ]
  },
  {
   "cell_type": "code",
   "execution_count": 80,
   "id": "2c1ab52c",
   "metadata": {},
   "outputs": [],
   "source": [
    "ridge_model = Ridge()"
   ]
  },
  {
   "cell_type": "code",
   "execution_count": 81,
   "id": "068d7ef8",
   "metadata": {},
   "outputs": [
    {
     "data": {
      "text/plain": [
       "Ridge()"
      ]
     },
     "execution_count": 81,
     "metadata": {},
     "output_type": "execute_result"
    }
   ],
   "source": [
    "ridge_model.fit(X_train, y_train)"
   ]
  },
  {
   "cell_type": "code",
   "execution_count": 82,
   "id": "0d2730fb",
   "metadata": {},
   "outputs": [
    {
     "data": {
      "text/html": [
       "<div>\n",
       "<style scoped>\n",
       "    .dataframe tbody tr th:only-of-type {\n",
       "        vertical-align: middle;\n",
       "    }\n",
       "\n",
       "    .dataframe tbody tr th {\n",
       "        vertical-align: top;\n",
       "    }\n",
       "\n",
       "    .dataframe thead th {\n",
       "        text-align: right;\n",
       "    }\n",
       "</style>\n",
       "<table border=\"1\" class=\"dataframe\">\n",
       "  <thead>\n",
       "    <tr style=\"text-align: right;\">\n",
       "      <th></th>\n",
       "      <th>train</th>\n",
       "      <th>test</th>\n",
       "    </tr>\n",
       "  </thead>\n",
       "  <tbody>\n",
       "    <tr>\n",
       "      <th>R2</th>\n",
       "      <td>0.504</td>\n",
       "      <td>0.577</td>\n",
       "    </tr>\n",
       "    <tr>\n",
       "      <th>mae</th>\n",
       "      <td>0.904</td>\n",
       "      <td>0.854</td>\n",
       "    </tr>\n",
       "    <tr>\n",
       "      <th>mse</th>\n",
       "      <td>1.434</td>\n",
       "      <td>1.293</td>\n",
       "    </tr>\n",
       "    <tr>\n",
       "      <th>rmse</th>\n",
       "      <td>1.197</td>\n",
       "      <td>1.137</td>\n",
       "    </tr>\n",
       "  </tbody>\n",
       "</table>\n",
       "</div>"
      ],
      "text/plain": [
       "      train  test\n",
       "R2    0.504 0.577\n",
       "mae   0.904 0.854\n",
       "mse   1.434 1.293\n",
       "rmse  1.197 1.137"
      ]
     },
     "execution_count": 82,
     "metadata": {},
     "output_type": "execute_result"
    }
   ],
   "source": [
    "train_val(ridge_model, X_train, y_train, X_test, y_test)"
   ]
  },
  {
   "cell_type": "code",
   "execution_count": 83,
   "id": "cd4ed36c",
   "metadata": {},
   "outputs": [
    {
     "data": {
      "text/plain": [
       "array([0.01, 0.02, 0.03, 0.04, 0.05, 0.06, 0.07, 0.08, 0.09, 0.1 , 0.11,\n",
       "       0.12, 0.13, 0.14, 0.15, 0.16, 0.17, 0.18, 0.19, 0.2 , 0.21, 0.22,\n",
       "       0.23, 0.24, 0.25, 0.26, 0.27, 0.28, 0.29, 0.3 , 0.31, 0.32, 0.33,\n",
       "       0.34, 0.35, 0.36, 0.37, 0.38, 0.39, 0.4 , 0.41, 0.42, 0.43, 0.44,\n",
       "       0.45, 0.46, 0.47, 0.48, 0.49, 0.5 , 0.51, 0.52, 0.53, 0.54, 0.55,\n",
       "       0.56, 0.57, 0.58, 0.59, 0.6 , 0.61, 0.62, 0.63, 0.64, 0.65, 0.66,\n",
       "       0.67, 0.68, 0.69, 0.7 , 0.71, 0.72, 0.73, 0.74, 0.75, 0.76, 0.77,\n",
       "       0.78, 0.79, 0.8 , 0.81, 0.82, 0.83, 0.84, 0.85, 0.86, 0.87, 0.88,\n",
       "       0.89, 0.9 , 0.91, 0.92, 0.93, 0.94, 0.95, 0.96, 0.97, 0.98, 0.99,\n",
       "       1.  ])"
      ]
     },
     "execution_count": 83,
     "metadata": {},
     "output_type": "execute_result"
    }
   ],
   "source": [
    "alpha_space = np.linspace(0.01, 1, 100)\n",
    "alpha_space"
   ]
  },
  {
   "cell_type": "code",
   "execution_count": 84,
   "id": "1919e368",
   "metadata": {},
   "outputs": [],
   "source": [
    "ridge_cv_model = RidgeCV(alphas=alpha_space, cv = 10, scoring='neg_root_mean_squared_error')"
   ]
  },
  {
   "cell_type": "code",
   "execution_count": 85,
   "id": "044b159f",
   "metadata": {},
   "outputs": [
    {
     "data": {
      "text/plain": [
       "RidgeCV(alphas=array([0.01, 0.02, 0.03, 0.04, 0.05, 0.06, 0.07, 0.08, 0.09, 0.1 , 0.11,\n",
       "       0.12, 0.13, 0.14, 0.15, 0.16, 0.17, 0.18, 0.19, 0.2 , 0.21, 0.22,\n",
       "       0.23, 0.24, 0.25, 0.26, 0.27, 0.28, 0.29, 0.3 , 0.31, 0.32, 0.33,\n",
       "       0.34, 0.35, 0.36, 0.37, 0.38, 0.39, 0.4 , 0.41, 0.42, 0.43, 0.44,\n",
       "       0.45, 0.46, 0.47, 0.48, 0.49, 0.5 , 0.51, 0.52, 0.53, 0.54, 0.55,\n",
       "       0.56, 0.57, 0.58, 0.59, 0.6 , 0.61, 0.62, 0.63, 0.64, 0.65, 0.66,\n",
       "       0.67, 0.68, 0.69, 0.7 , 0.71, 0.72, 0.73, 0.74, 0.75, 0.76, 0.77,\n",
       "       0.78, 0.79, 0.8 , 0.81, 0.82, 0.83, 0.84, 0.85, 0.86, 0.87, 0.88,\n",
       "       0.89, 0.9 , 0.91, 0.92, 0.93, 0.94, 0.95, 0.96, 0.97, 0.98, 0.99,\n",
       "       1.  ]),\n",
       "        cv=10, scoring='neg_root_mean_squared_error')"
      ]
     },
     "execution_count": 85,
     "metadata": {},
     "output_type": "execute_result"
    }
   ],
   "source": [
    "ridge_cv_model.fit(X_train,y_train)"
   ]
  },
  {
   "cell_type": "code",
   "execution_count": 86,
   "id": "cb318974",
   "metadata": {},
   "outputs": [
    {
     "data": {
      "text/plain": [
       "1.0"
      ]
     },
     "execution_count": 86,
     "metadata": {},
     "output_type": "execute_result"
    }
   ],
   "source": [
    "ridge_cv_model.alpha_"
   ]
  },
  {
   "cell_type": "code",
   "execution_count": 87,
   "id": "87001768",
   "metadata": {
    "scrolled": true
   },
   "outputs": [
    {
     "data": {
      "text/html": [
       "<div>\n",
       "<style scoped>\n",
       "    .dataframe tbody tr th:only-of-type {\n",
       "        vertical-align: middle;\n",
       "    }\n",
       "\n",
       "    .dataframe tbody tr th {\n",
       "        vertical-align: top;\n",
       "    }\n",
       "\n",
       "    .dataframe thead th {\n",
       "        text-align: right;\n",
       "    }\n",
       "</style>\n",
       "<table border=\"1\" class=\"dataframe\">\n",
       "  <thead>\n",
       "    <tr style=\"text-align: right;\">\n",
       "      <th></th>\n",
       "      <th>train</th>\n",
       "      <th>test</th>\n",
       "    </tr>\n",
       "  </thead>\n",
       "  <tbody>\n",
       "    <tr>\n",
       "      <th>R2</th>\n",
       "      <td>0.504</td>\n",
       "      <td>0.577</td>\n",
       "    </tr>\n",
       "    <tr>\n",
       "      <th>mae</th>\n",
       "      <td>0.904</td>\n",
       "      <td>0.854</td>\n",
       "    </tr>\n",
       "    <tr>\n",
       "      <th>mse</th>\n",
       "      <td>1.434</td>\n",
       "      <td>1.293</td>\n",
       "    </tr>\n",
       "    <tr>\n",
       "      <th>rmse</th>\n",
       "      <td>1.197</td>\n",
       "      <td>1.137</td>\n",
       "    </tr>\n",
       "  </tbody>\n",
       "</table>\n",
       "</div>"
      ],
      "text/plain": [
       "      train  test\n",
       "R2    0.504 0.577\n",
       "mae   0.904 0.854\n",
       "mse   1.434 1.293\n",
       "rmse  1.197 1.137"
      ]
     },
     "execution_count": 87,
     "metadata": {},
     "output_type": "execute_result"
    }
   ],
   "source": [
    "train_val(ridge_cv_model, X_train, y_train, X_test, y_test)"
   ]
  },
  {
   "cell_type": "markdown",
   "id": "efe99800",
   "metadata": {},
   "source": [
    "<hr>"
   ]
  },
  {
   "cell_type": "markdown",
   "id": "fd05bcdf",
   "metadata": {},
   "source": [
    "# Lasso "
   ]
  },
  {
   "cell_type": "code",
   "execution_count": null,
   "id": "2660a33c",
   "metadata": {},
   "outputs": [],
   "source": [
    "from sklearn.linear_model import Lasso, LassoCV"
   ]
  },
  {
   "cell_type": "code",
   "execution_count": 191,
   "id": "ee58bfcf",
   "metadata": {},
   "outputs": [
    {
     "data": {
      "text/plain": [
       "Lasso()"
      ]
     },
     "execution_count": 191,
     "metadata": {},
     "output_type": "execute_result"
    }
   ],
   "source": [
    "lasso_model = Lasso()\n",
    "lasso_model.fit(X_train, y_train)"
   ]
  },
  {
   "cell_type": "code",
   "execution_count": 192,
   "id": "292796e3",
   "metadata": {},
   "outputs": [],
   "source": [
    "y_train_pred = lasso_model.predict(X_train)"
   ]
  },
  {
   "cell_type": "code",
   "execution_count": 193,
   "id": "f0d24b8c",
   "metadata": {},
   "outputs": [],
   "source": [
    "y_pred = lasso_model.predict(X_test)"
   ]
  },
  {
   "cell_type": "code",
   "execution_count": 194,
   "id": "a3a6c9f7",
   "metadata": {},
   "outputs": [
    {
     "data": {
      "text/html": [
       "<div>\n",
       "<style scoped>\n",
       "    .dataframe tbody tr th:only-of-type {\n",
       "        vertical-align: middle;\n",
       "    }\n",
       "\n",
       "    .dataframe tbody tr th {\n",
       "        vertical-align: top;\n",
       "    }\n",
       "\n",
       "    .dataframe thead th {\n",
       "        text-align: right;\n",
       "    }\n",
       "</style>\n",
       "<table border=\"1\" class=\"dataframe\">\n",
       "  <thead>\n",
       "    <tr style=\"text-align: right;\">\n",
       "      <th></th>\n",
       "      <th>train</th>\n",
       "      <th>test</th>\n",
       "    </tr>\n",
       "  </thead>\n",
       "  <tbody>\n",
       "    <tr>\n",
       "      <th>R2</th>\n",
       "      <td>0.298</td>\n",
       "      <td>0.278</td>\n",
       "    </tr>\n",
       "    <tr>\n",
       "      <th>mae</th>\n",
       "      <td>1.080</td>\n",
       "      <td>1.029</td>\n",
       "    </tr>\n",
       "    <tr>\n",
       "      <th>mse</th>\n",
       "      <td>1.959</td>\n",
       "      <td>1.885</td>\n",
       "    </tr>\n",
       "    <tr>\n",
       "      <th>rmse</th>\n",
       "      <td>1.400</td>\n",
       "      <td>1.373</td>\n",
       "    </tr>\n",
       "  </tbody>\n",
       "</table>\n",
       "</div>"
      ],
      "text/plain": [
       "      train  test\n",
       "R2    0.298 0.278\n",
       "mae   1.080 1.029\n",
       "mse   1.959 1.885\n",
       "rmse  1.400 1.373"
      ]
     },
     "execution_count": 194,
     "metadata": {},
     "output_type": "execute_result"
    }
   ],
   "source": [
    "train_val(lasso_model, X_train, y_train, X_test, y_test)"
   ]
  },
  {
   "cell_type": "code",
   "execution_count": 195,
   "id": "f9eca911",
   "metadata": {},
   "outputs": [],
   "source": [
    "lasso_cv_model = LassoCV(alphas = alpha_space,  cv = 10, max_iter = 100000, n_jobs =-1).fit(X_train, y_train)"
   ]
  },
  {
   "cell_type": "code",
   "execution_count": 196,
   "id": "482f84ea",
   "metadata": {},
   "outputs": [
    {
     "data": {
      "text/plain": [
       "0.02"
      ]
     },
     "execution_count": 196,
     "metadata": {},
     "output_type": "execute_result"
    }
   ],
   "source": [
    "lasso_cv_model.alpha_"
   ]
  },
  {
   "cell_type": "code",
   "execution_count": 55,
   "id": "c090e441",
   "metadata": {},
   "outputs": [],
   "source": [
    "y_train_pred = lasso_cv_model.predict(X_train)"
   ]
  },
  {
   "cell_type": "code",
   "execution_count": 56,
   "id": "19503189",
   "metadata": {},
   "outputs": [],
   "source": [
    "y_pred = lasso_cv_model.predict(X_test)"
   ]
  },
  {
   "cell_type": "code",
   "execution_count": 57,
   "id": "2ef2060a",
   "metadata": {
    "scrolled": true
   },
   "outputs": [
    {
     "data": {
      "text/html": [
       "<div>\n",
       "<style scoped>\n",
       "    .dataframe tbody tr th:only-of-type {\n",
       "        vertical-align: middle;\n",
       "    }\n",
       "\n",
       "    .dataframe tbody tr th {\n",
       "        vertical-align: top;\n",
       "    }\n",
       "\n",
       "    .dataframe thead th {\n",
       "        text-align: right;\n",
       "    }\n",
       "</style>\n",
       "<table border=\"1\" class=\"dataframe\">\n",
       "  <thead>\n",
       "    <tr style=\"text-align: right;\">\n",
       "      <th></th>\n",
       "      <th>lasso_train</th>\n",
       "      <th>lasso_test</th>\n",
       "    </tr>\n",
       "  </thead>\n",
       "  <tbody>\n",
       "    <tr>\n",
       "      <th>R2</th>\n",
       "      <td>0.504</td>\n",
       "      <td>0.578</td>\n",
       "    </tr>\n",
       "    <tr>\n",
       "      <th>mae</th>\n",
       "      <td>0.905</td>\n",
       "      <td>0.855</td>\n",
       "    </tr>\n",
       "    <tr>\n",
       "      <th>mse</th>\n",
       "      <td>1.435</td>\n",
       "      <td>1.290</td>\n",
       "    </tr>\n",
       "    <tr>\n",
       "      <th>rmse</th>\n",
       "      <td>1.198</td>\n",
       "      <td>1.136</td>\n",
       "    </tr>\n",
       "  </tbody>\n",
       "</table>\n",
       "</div>"
      ],
      "text/plain": [
       "      lasso_train  lasso_test\n",
       "R2          0.504       0.578\n",
       "mae         0.905       0.855\n",
       "mse         1.435       1.290\n",
       "rmse        1.198       1.136"
      ]
     },
     "execution_count": 57,
     "metadata": {},
     "output_type": "execute_result"
    }
   ],
   "source": [
    "train_val_ls = train_val(lasso_cv_model, X_train, y_train, X_test, y_test)\n",
    "train_val_ls.columns = [\"lasso_train\", \"lasso_test\"]\n",
    "train_val_ls"
   ]
  },
  {
   "cell_type": "markdown",
   "id": "ea97bd34",
   "metadata": {},
   "source": [
    "### > Genetic Algorithm for Feature Selection"
   ]
  },
  {
   "cell_type": "code",
   "execution_count": 58,
   "id": "6074c17a",
   "metadata": {
    "scrolled": true
   },
   "outputs": [],
   "source": [
    "#pip install sklearn-genetic-opt"
   ]
  },
  {
   "cell_type": "code",
   "execution_count": 250,
   "id": "466d4b2f",
   "metadata": {},
   "outputs": [],
   "source": [
    "import matplotlib.pyplot as plt\n",
    "from sklearn_genetic import GAFeatureSelectionCV\n",
    "from sklearn_genetic.plots import plot_fitness_evolution\n",
    "from sklearn.model_selection import train_test_split, StratifiedKFold\n",
    "from sklearn.svm import SVC\n",
    "from sklearn.datasets import load_iris\n",
    "from sklearn.metrics import accuracy_score\n",
    "import numpy as np\n",
    "from sklearn.metrics import mean_squared_error, mean_absolute_error, r2_score"
   ]
  },
  {
   "cell_type": "code",
   "execution_count": 303,
   "id": "798406e2",
   "metadata": {},
   "outputs": [],
   "source": [
    "clf = Lasso(alpha = 0.02)\n",
    "\n",
    "evolved_estimator = GAFeatureSelectionCV(\n",
    "    estimator=clf,\n",
    "    cv=10,\n",
    "    scoring=\"r2\",\n",
    "    population_size=30,\n",
    "    generations=20,\n",
    "    n_jobs=-1,\n",
    "    verbose=True,\n",
    "    keep_top_k=2,\n",
    "    elitism=True,\n",
    ")"
   ]
  },
  {
   "cell_type": "code",
   "execution_count": 304,
   "id": "c91a47b8",
   "metadata": {},
   "outputs": [
    {
     "name": "stdout",
     "output_type": "stream",
     "text": [
      "gen\tnevals\tfitness \tfitness_std\tfitness_max\tfitness_min\n",
      "0  \t30    \t0.120234\t0.174629   \t0.364618   \t-0.147688  \n",
      "1  \t60    \t0.271941\t0.103878   \t0.373367   \t-0.0531412 \n",
      "2  \t60    \t0.335927\t0.0325713  \t0.373367   \t0.248298   \n",
      "3  \t60    \t0.354635\t0.0257015  \t0.375804   \t0.312021   \n",
      "4  \t60    \t0.374101\t0.00128915 \t0.37831    \t0.373367   \n",
      "5  \t60    \t0.375185\t0.00205804 \t0.381312   \t0.373367   \n",
      "6  \t60    \t0.376496\t0.001735   \t0.381312   \t0.373367   \n",
      "7  \t60    \t0.377909\t0.00118123 \t0.381312   \t0.375804   \n",
      "8  \t60    \t0.37861 \t0.000900689\t0.381312   \t0.37831    \n",
      "9  \t60    \t0.37891 \t0.00120092 \t0.381312   \t0.37831    \n",
      "10 \t60    \t0.379911\t0.00149781 \t0.381312   \t0.37831    \n",
      "11 \t60    \t0.380912\t0.00102058 \t0.381312   \t0.37831    \n",
      "12 \t60    \t0.381212\t0.000538929\t0.381312   \t0.37831    \n",
      "13 \t60    \t0.379299\t0.0108408  \t0.381312   \t0.32092    \n",
      "14 \t60    \t0.381312\t1.66533e-16\t0.381312   \t0.381312   \n",
      "15 \t60    \t0.381312\t1.66533e-16\t0.381312   \t0.381312   \n",
      "16 \t60    \t0.381312\t1.66533e-16\t0.381312   \t0.381312   \n",
      "17 \t60    \t0.381312\t1.66533e-16\t0.381312   \t0.381312   \n",
      "18 \t60    \t0.381312\t1.66533e-16\t0.381312   \t0.381312   \n",
      "19 \t60    \t0.381312\t1.66533e-16\t0.381312   \t0.381312   \n",
      "20 \t60    \t0.381312\t1.66533e-16\t0.381312   \t0.381312   \n"
     ]
    }
   ],
   "source": [
    "evolved_estimator.fit(X, y)\n",
    "features = evolved_estimator.best_features_"
   ]
  },
  {
   "cell_type": "code",
   "execution_count": 305,
   "id": "70f6c262",
   "metadata": {
    "scrolled": true
   },
   "outputs": [
    {
     "data": {
      "text/plain": [
       "array([ True,  True, False,  True,  True,  True,  True, False])"
      ]
     },
     "execution_count": 305,
     "metadata": {},
     "output_type": "execute_result"
    }
   ],
   "source": [
    "features "
   ]
  },
  {
   "cell_type": "code",
   "execution_count": 306,
   "id": "f27a9c38",
   "metadata": {},
   "outputs": [
    {
     "data": {
      "text/html": [
       "<div>\n",
       "<style scoped>\n",
       "    .dataframe tbody tr th:only-of-type {\n",
       "        vertical-align: middle;\n",
       "    }\n",
       "\n",
       "    .dataframe tbody tr th {\n",
       "        vertical-align: top;\n",
       "    }\n",
       "\n",
       "    .dataframe thead th {\n",
       "        text-align: right;\n",
       "    }\n",
       "</style>\n",
       "<table border=\"1\" class=\"dataframe\">\n",
       "  <thead>\n",
       "    <tr style=\"text-align: right;\">\n",
       "      <th></th>\n",
       "      <th>ga_scores</th>\n",
       "    </tr>\n",
       "  </thead>\n",
       "  <tbody>\n",
       "    <tr>\n",
       "      <th>R2</th>\n",
       "      <td>0.461</td>\n",
       "    </tr>\n",
       "    <tr>\n",
       "      <th>mae</th>\n",
       "      <td>0.840</td>\n",
       "    </tr>\n",
       "    <tr>\n",
       "      <th>mse</th>\n",
       "      <td>1.407</td>\n",
       "    </tr>\n",
       "    <tr>\n",
       "      <th>rmse</th>\n",
       "      <td>1.186</td>\n",
       "    </tr>\n",
       "  </tbody>\n",
       "</table>\n",
       "</div>"
      ],
      "text/plain": [
       "      ga_scores\n",
       "R2        0.461\n",
       "mae       0.840\n",
       "mse       1.407\n",
       "rmse      1.186"
      ]
     },
     "execution_count": 306,
     "metadata": {},
     "output_type": "execute_result"
    }
   ],
   "source": [
    "# Predict only with the subset of selected features\n",
    "y_predict_ga = evolved_estimator.predict(X_test.iloc[:, features])\n",
    "#accuracy = accuracy_score(y_test, y_predict_ga)\n",
    "\n",
    "ga_scores = {\"ga_scores\":{\"R2\" : r2_score(y_test, y_predict_ga),\n",
    "    \"mae\" : mean_absolute_error(y_test, y_predict_ga),\n",
    "    \"mse\" : mean_squared_error(y_test, y_predict_ga),                          \n",
    "    \"rmse\" : np.sqrt(mean_squared_error(y_test, y_predict_ga))}}\n",
    "pd.DataFrame(scores)"
   ]
  },
  {
   "cell_type": "code",
   "execution_count": 307,
   "id": "a8352021",
   "metadata": {},
   "outputs": [
    {
     "name": "stdout",
     "output_type": "stream",
     "text": [
      "[ True  True False  True  True  True  True False]\n",
      "accuracy score:  1.19\n"
     ]
    }
   ],
   "source": [
    "print(evolved_estimator.best_features_)\n",
    "print(\"accuracy score: \", \"{:.2f}\".format(rmse))"
   ]
  },
  {
   "cell_type": "code",
   "execution_count": 308,
   "id": "4382615c",
   "metadata": {
    "scrolled": false
   },
   "outputs": [
    {
     "data": {
      "image/png": "[encoded data removed]",
      "text/plain": [
       "<Figure size 720x720 with 1 Axes>"
      ]
     },
     "metadata": {},
     "output_type": "display_data"
    }
   ],
   "source": [
    "plot = plot_fitness_evolution(evolved_estimator, metric=\"fitness\")\n",
    "plt.show()"
   ]
  },
  {
   "cell_type": "markdown",
   "id": "c7af3e56",
   "metadata": {},
   "source": [
    "<hr>"
   ]
  },
  {
   "cell_type": "markdown",
   "id": "906a52fb",
   "metadata": {},
   "source": [
    "# Elastic-Net"
   ]
  },
  {
   "cell_type": "code",
   "execution_count": 321,
   "id": "1cae2b76",
   "metadata": {},
   "outputs": [],
   "source": [
    "from sklearn.linear_model import ElasticNet"
   ]
  },
  {
   "cell_type": "code",
   "execution_count": 322,
   "id": "c2499fa3",
   "metadata": {},
   "outputs": [
    {
     "data": {
      "text/plain": [
       "ElasticNet()"
      ]
     },
     "execution_count": 322,
     "metadata": {},
     "output_type": "execute_result"
    }
   ],
   "source": [
    "elastic_model = ElasticNet()\n",
    "elastic_model.fit(X_train,y_train)"
   ]
  },
  {
   "cell_type": "code",
   "execution_count": 323,
   "id": "b39f4d81",
   "metadata": {
    "scrolled": false
   },
   "outputs": [
    {
     "data": {
      "text/html": [
       "<div>\n",
       "<style scoped>\n",
       "    .dataframe tbody tr th:only-of-type {\n",
       "        vertical-align: middle;\n",
       "    }\n",
       "\n",
       "    .dataframe tbody tr th {\n",
       "        vertical-align: top;\n",
       "    }\n",
       "\n",
       "    .dataframe thead th {\n",
       "        text-align: right;\n",
       "    }\n",
       "</style>\n",
       "<table border=\"1\" class=\"dataframe\">\n",
       "  <thead>\n",
       "    <tr style=\"text-align: right;\">\n",
       "      <th></th>\n",
       "      <th>train</th>\n",
       "      <th>test</th>\n",
       "    </tr>\n",
       "  </thead>\n",
       "  <tbody>\n",
       "    <tr>\n",
       "      <th>R2</th>\n",
       "      <td>0.378</td>\n",
       "      <td>0.353</td>\n",
       "    </tr>\n",
       "    <tr>\n",
       "      <th>mae</th>\n",
       "      <td>1.013</td>\n",
       "      <td>0.948</td>\n",
       "    </tr>\n",
       "    <tr>\n",
       "      <th>mse</th>\n",
       "      <td>1.733</td>\n",
       "      <td>1.690</td>\n",
       "    </tr>\n",
       "    <tr>\n",
       "      <th>rmse</th>\n",
       "      <td>1.317</td>\n",
       "      <td>1.300</td>\n",
       "    </tr>\n",
       "  </tbody>\n",
       "</table>\n",
       "</div>"
      ],
      "text/plain": [
       "      train  test\n",
       "R2    0.378 0.353\n",
       "mae   1.013 0.948\n",
       "mse   1.733 1.690\n",
       "rmse  1.317 1.300"
      ]
     },
     "execution_count": 323,
     "metadata": {},
     "output_type": "execute_result"
    }
   ],
   "source": [
    "train_val(elastic_model, X_train, y_train, X_test, y_test)"
   ]
  },
  {
   "cell_type": "markdown",
   "id": "8d8bab53",
   "metadata": {},
   "source": [
    "### > Finding best alpha and l1_ratio for ElasticNet"
   ]
  },
  {
   "cell_type": "code",
   "execution_count": 324,
   "id": "ab610d0b",
   "metadata": {},
   "outputs": [],
   "source": [
    "from sklearn.model_selection import GridSearchCV"
   ]
  },
  {
   "cell_type": "code",
   "execution_count": 325,
   "id": "a3a7dadb",
   "metadata": {},
   "outputs": [],
   "source": [
    "elastic_model = ElasticNet()"
   ]
  },
  {
   "cell_type": "code",
   "execution_count": 326,
   "id": "1a00f226",
   "metadata": {},
   "outputs": [],
   "source": [
    "param_grid = {'alpha':[1, 2.03, 3, 4, 5, 7, 10, 11],\n",
    "              'l1_ratio':[.5, .7, .9, .95, .99, 1]}"
   ]
  },
  {
   "cell_type": "code",
   "execution_count": 327,
   "id": "1b3dbdea",
   "metadata": {
    "scrolled": true
   },
   "outputs": [],
   "source": [
    "grid_model = GridSearchCV(estimator=elastic_model,\n",
    "                          param_grid=param_grid,\n",
    "                          scoring='neg_root_mean_squared_error',\n",
    "                          cv=10,\n",
    "                          n_jobs = -1)     # n_jobs = -1, tüm işemcileri (cpu core larını) kulanmak için"
   ]
  },
  {
   "cell_type": "code",
   "execution_count": 65,
   "id": "58e3fc8f",
   "metadata": {},
   "outputs": [
    {
     "data": {
      "text/plain": [
       "GridSearchCV(cv=10, estimator=ElasticNet(), n_jobs=-1,\n",
       "             param_grid={'alpha': [1, 2.03, 3, 4, 5, 7, 10, 11],\n",
       "                         'l1_ratio': [0.5, 0.7, 0.9, 0.95, 0.99, 1]},\n",
       "             scoring='neg_root_mean_squared_error')"
      ]
     },
     "execution_count": 65,
     "metadata": {},
     "output_type": "execute_result"
    }
   ],
   "source": [
    "grid_model.fit(X_train,y_train)"
   ]
  },
  {
   "cell_type": "code",
   "execution_count": 66,
   "id": "b8c89067",
   "metadata": {},
   "outputs": [
    {
     "data": {
      "text/plain": [
       "ElasticNet(alpha=1)"
      ]
     },
     "execution_count": 66,
     "metadata": {},
     "output_type": "execute_result"
    }
   ],
   "source": [
    "grid_model.best_estimator_"
   ]
  },
  {
   "cell_type": "code",
   "execution_count": 67,
   "id": "7ea03ed5",
   "metadata": {},
   "outputs": [
    {
     "data": {
      "text/html": [
       "<div>\n",
       "<style scoped>\n",
       "    .dataframe tbody tr th:only-of-type {\n",
       "        vertical-align: middle;\n",
       "    }\n",
       "\n",
       "    .dataframe tbody tr th {\n",
       "        vertical-align: top;\n",
       "    }\n",
       "\n",
       "    .dataframe thead th {\n",
       "        text-align: right;\n",
       "    }\n",
       "</style>\n",
       "<table border=\"1\" class=\"dataframe\">\n",
       "  <thead>\n",
       "    <tr style=\"text-align: right;\">\n",
       "      <th></th>\n",
       "      <th>train</th>\n",
       "      <th>test</th>\n",
       "    </tr>\n",
       "  </thead>\n",
       "  <tbody>\n",
       "    <tr>\n",
       "      <th>R2</th>\n",
       "      <td>0.195</td>\n",
       "      <td>0.210</td>\n",
       "    </tr>\n",
       "    <tr>\n",
       "      <th>mae</th>\n",
       "      <td>1.189</td>\n",
       "      <td>1.186</td>\n",
       "    </tr>\n",
       "    <tr>\n",
       "      <th>mse</th>\n",
       "      <td>2.327</td>\n",
       "      <td>2.416</td>\n",
       "    </tr>\n",
       "    <tr>\n",
       "      <th>rmse</th>\n",
       "      <td>1.525</td>\n",
       "      <td>1.554</td>\n",
       "    </tr>\n",
       "  </tbody>\n",
       "</table>\n",
       "</div>"
      ],
      "text/plain": [
       "      train  test\n",
       "R2    0.195 0.210\n",
       "mae   1.189 1.186\n",
       "mse   2.327 2.416\n",
       "rmse  1.525 1.554"
      ]
     },
     "execution_count": 67,
     "metadata": {},
     "output_type": "execute_result"
    }
   ],
   "source": [
    "train_val(grid_model, X_train, y_train, X_test, y_test)"
   ]
  },
  {
   "cell_type": "markdown",
   "id": "6e3a5a16",
   "metadata": {},
   "source": [
    "<hr>"
   ]
  },
  {
   "cell_type": "markdown",
   "id": "69ac9eca",
   "metadata": {},
   "source": [
    "- Yukarıda linear regression ve multicollinearity vb. diger karşımıza çıkabilecek olan sorunları ridge, lasso ve elastik net ile yeniden model kurarak denedik. En iyi sonuçları lasso ile aldıgımız için feature importance i lasso üzerinden oluşturduk."
   ]
  },
  {
   "cell_type": "markdown",
   "id": "dbb5c866",
   "metadata": {},
   "source": [
    "### > Feature İmportance"
   ]
  },
  {
   "cell_type": "code",
   "execution_count": 68,
   "id": "24d34812",
   "metadata": {
    "scrolled": false
   },
   "outputs": [
    {
     "data": {
      "image/png": "[encoded data removed]",
      "text/plain": [
       "<Figure size 600x400 with 1 Axes>"
      ]
     },
     "metadata": {},
     "output_type": "display_data"
    }
   ],
   "source": [
    "from yellowbrick.model_selection import FeatureImportances\n",
    "from yellowbrick.features import RadViz\n",
    "\n",
    "viz = FeatureImportances(Lasso(alpha=0.01), labels=df.drop(columns=['LC50', \"H-050\", \"C-040\"]).columns, relative = False)\n",
    "visualizer = RadViz(size=(600,400))\n",
    "viz.fit(X_train, y_train)\n",
    "viz.show();"
   ]
  },
  {
   "attachments": {
    "image-2.png": {
     "image/png": "[encoded data removed]"
    }
   },
   "cell_type": "markdown",
   "id": "a039fd53",
   "metadata": {},
   "source": [
    "![image-2.png](attachment:image-2.png)"
   ]
  },
  {
   "cell_type": "markdown",
   "id": "88bb5471",
   "metadata": {},
   "source": [
    "<hr>"
   ]
  },
  {
   "cell_type": "markdown",
   "id": "e61f2b10",
   "metadata": {},
   "source": [
    "# RandomForest"
   ]
  },
  {
   "cell_type": "code",
   "execution_count": 67,
   "id": "abb8fc88",
   "metadata": {},
   "outputs": [],
   "source": [
    "from sklearn.ensemble import RandomForestRegressor"
   ]
  },
  {
   "cell_type": "code",
   "execution_count": 68,
   "id": "6aa488f9",
   "metadata": {},
   "outputs": [],
   "source": [
    "operations = [(\"scaler\", StandardScaler()), (\"rf\", RandomForestRegressor())]"
   ]
  },
  {
   "cell_type": "code",
   "execution_count": 69,
   "id": "de9288b5",
   "metadata": {},
   "outputs": [],
   "source": [
    "pipe_model = Pipeline(steps=operations)"
   ]
  },
  {
   "cell_type": "code",
   "execution_count": 70,
   "id": "4b37a312",
   "metadata": {},
   "outputs": [
    {
     "data": {
      "text/plain": [
       "Pipeline(steps=[('scaler', StandardScaler()), ('rf', RandomForestRegressor())])"
      ]
     },
     "execution_count": 70,
     "metadata": {},
     "output_type": "execute_result"
    }
   ],
   "source": [
    "pipe_model.fit(X_train, y_train)"
   ]
  },
  {
   "cell_type": "code",
   "execution_count": 71,
   "id": "47bea310",
   "metadata": {
    "scrolled": true
   },
   "outputs": [
    {
     "data": {
      "text/plain": [
       "{'memory': None,\n",
       " 'steps': [('scaler', StandardScaler()), ('rf', RandomForestRegressor())],\n",
       " 'verbose': False,\n",
       " 'scaler': StandardScaler(),\n",
       " 'rf': RandomForestRegressor(),\n",
       " 'scaler__copy': True,\n",
       " 'scaler__with_mean': True,\n",
       " 'scaler__with_std': True,\n",
       " 'rf__bootstrap': True,\n",
       " 'rf__ccp_alpha': 0.0,\n",
       " 'rf__criterion': 'squared_error',\n",
       " 'rf__max_depth': None,\n",
       " 'rf__max_features': 'auto',\n",
       " 'rf__max_leaf_nodes': None,\n",
       " 'rf__max_samples': None,\n",
       " 'rf__min_impurity_decrease': 0.0,\n",
       " 'rf__min_samples_leaf': 1,\n",
       " 'rf__min_samples_split': 2,\n",
       " 'rf__min_weight_fraction_leaf': 0.0,\n",
       " 'rf__n_estimators': 100,\n",
       " 'rf__n_jobs': None,\n",
       " 'rf__oob_score': False,\n",
       " 'rf__random_state': None,\n",
       " 'rf__verbose': 0,\n",
       " 'rf__warm_start': False}"
      ]
     },
     "execution_count": 71,
     "metadata": {},
     "output_type": "execute_result"
    }
   ],
   "source": [
    "pipe_model.get_params()"
   ]
  },
  {
   "cell_type": "code",
   "execution_count": 72,
   "id": "e96cf426",
   "metadata": {},
   "outputs": [
    {
     "data": {
      "text/html": [
       "<div>\n",
       "<style scoped>\n",
       "    .dataframe tbody tr th:only-of-type {\n",
       "        vertical-align: middle;\n",
       "    }\n",
       "\n",
       "    .dataframe tbody tr th {\n",
       "        vertical-align: top;\n",
       "    }\n",
       "\n",
       "    .dataframe thead th {\n",
       "        text-align: right;\n",
       "    }\n",
       "</style>\n",
       "<table border=\"1\" class=\"dataframe\">\n",
       "  <thead>\n",
       "    <tr style=\"text-align: right;\">\n",
       "      <th></th>\n",
       "      <th>train</th>\n",
       "      <th>test</th>\n",
       "    </tr>\n",
       "  </thead>\n",
       "  <tbody>\n",
       "    <tr>\n",
       "      <th>R2</th>\n",
       "      <td>0.938</td>\n",
       "      <td>0.612</td>\n",
       "    </tr>\n",
       "    <tr>\n",
       "      <th>mae</th>\n",
       "      <td>0.306</td>\n",
       "      <td>0.819</td>\n",
       "    </tr>\n",
       "    <tr>\n",
       "      <th>mse</th>\n",
       "      <td>0.178</td>\n",
       "      <td>1.187</td>\n",
       "    </tr>\n",
       "    <tr>\n",
       "      <th>rmse</th>\n",
       "      <td>0.422</td>\n",
       "      <td>1.089</td>\n",
       "    </tr>\n",
       "  </tbody>\n",
       "</table>\n",
       "</div>"
      ],
      "text/plain": [
       "      train  test\n",
       "R2    0.938 0.612\n",
       "mae   0.306 0.819\n",
       "mse   0.178 1.187\n",
       "rmse  0.422 1.089"
      ]
     },
     "execution_count": 72,
     "metadata": {},
     "output_type": "execute_result"
    }
   ],
   "source": [
    "train_val(pipe_model, X_train, y_train, X_test, y_test)"
   ]
  },
  {
   "cell_type": "markdown",
   "id": "4f2f6756",
   "metadata": {},
   "source": [
    "### > Cross Validation"
   ]
  },
  {
   "cell_type": "code",
   "execution_count": 73,
   "id": "ad2a2bd2",
   "metadata": {
    "scrolled": true
   },
   "outputs": [
    {
     "data": {
      "text/plain": [
       "test_r2                             0.523\n",
       "test_neg_mean_absolute_error       -0.853\n",
       "test_neg_mean_squared_error        -1.383\n",
       "test_neg_root_mean_squared_error   -1.159\n",
       "dtype: float64"
      ]
     },
     "execution_count": 73,
     "metadata": {},
     "output_type": "execute_result"
    }
   ],
   "source": [
    "operations = [('scaler',StandardScaler()),('rf', RandomForestRegressor())]\n",
    "model = Pipeline(operations)  # yukarıda predict işlemi yapıldıgı için leakage olmasın diye modeli yeniden kurduk.\n",
    "\n",
    "scores = cross_validate(model, X_train, y_train, scoring = ['r2', \n",
    "            'neg_mean_absolute_error','neg_mean_squared_error','neg_root_mean_squared_error'], cv = 10)\n",
    "df_scores = pd.DataFrame(scores, index = range(1, 11))\n",
    "df_scores.mean()[2:]"
   ]
  },
  {
   "cell_type": "markdown",
   "id": "774902d4",
   "metadata": {},
   "source": [
    "### > GridSearchCV"
   ]
  },
  {
   "cell_type": "code",
   "execution_count": 74,
   "id": "75baa7b3",
   "metadata": {},
   "outputs": [],
   "source": [
    "param_grid = {\"rf__n_estimators\":[100,300,500],\n",
    "             \"rf__max_depth\":[3,5,7],\n",
    "             \"rf__max_features\":[3,5],\n",
    "             \"rf__min_samples_split\":[2,4,6]}"
   ]
  },
  {
   "cell_type": "code",
   "execution_count": 75,
   "id": "81fd520f",
   "metadata": {},
   "outputs": [],
   "source": [
    "pipe_model = Pipeline(steps=operations)"
   ]
  },
  {
   "cell_type": "code",
   "execution_count": 76,
   "id": "c4d52237",
   "metadata": {},
   "outputs": [],
   "source": [
    "pipe_grid = GridSearchCV(pipe_model, param_grid, cv=10, scoring= 'neg_root_mean_squared_error', verbose = 2, n_jobs = -1)"
   ]
  },
  {
   "cell_type": "code",
   "execution_count": 77,
   "id": "c134926e",
   "metadata": {},
   "outputs": [
    {
     "name": "stdout",
     "output_type": "stream",
     "text": [
      "Fitting 10 folds for each of 54 candidates, totalling 540 fits\n"
     ]
    },
    {
     "data": {
      "text/plain": [
       "GridSearchCV(cv=10,\n",
       "             estimator=Pipeline(steps=[('scaler', StandardScaler()),\n",
       "                                       ('rf', RandomForestRegressor())]),\n",
       "             n_jobs=-1,\n",
       "             param_grid={'rf__max_depth': [3, 5, 7], 'rf__max_features': [3, 5],\n",
       "                         'rf__min_samples_split': [2, 4, 6],\n",
       "                         'rf__n_estimators': [100, 300, 500]},\n",
       "             scoring='neg_root_mean_squared_error', verbose=2)"
      ]
     },
     "execution_count": 77,
     "metadata": {},
     "output_type": "execute_result"
    }
   ],
   "source": [
    "pipe_grid.fit(X_train,y_train)"
   ]
  },
  {
   "cell_type": "code",
   "execution_count": 78,
   "id": "ff59ed87",
   "metadata": {
    "scrolled": true
   },
   "outputs": [
    {
     "data": {
      "text/plain": [
       "{'rf__max_depth': 7,\n",
       " 'rf__max_features': 3,\n",
       " 'rf__min_samples_split': 4,\n",
       " 'rf__n_estimators': 300}"
      ]
     },
     "execution_count": 78,
     "metadata": {},
     "output_type": "execute_result"
    }
   ],
   "source": [
    "pipe_grid.best_params_"
   ]
  },
  {
   "cell_type": "code",
   "execution_count": 79,
   "id": "c91d7caf",
   "metadata": {
    "scrolled": true
   },
   "outputs": [
    {
     "data": {
      "text/html": [
       "<div>\n",
       "<style scoped>\n",
       "    .dataframe tbody tr th:only-of-type {\n",
       "        vertical-align: middle;\n",
       "    }\n",
       "\n",
       "    .dataframe tbody tr th {\n",
       "        vertical-align: top;\n",
       "    }\n",
       "\n",
       "    .dataframe thead th {\n",
       "        text-align: right;\n",
       "    }\n",
       "</style>\n",
       "<table border=\"1\" class=\"dataframe\">\n",
       "  <thead>\n",
       "    <tr style=\"text-align: right;\">\n",
       "      <th></th>\n",
       "      <th>rf_train</th>\n",
       "      <th>rf_test</th>\n",
       "    </tr>\n",
       "  </thead>\n",
       "  <tbody>\n",
       "    <tr>\n",
       "      <th>R2</th>\n",
       "      <td>0.812</td>\n",
       "      <td>0.597</td>\n",
       "    </tr>\n",
       "    <tr>\n",
       "      <th>mae</th>\n",
       "      <td>0.576</td>\n",
       "      <td>0.827</td>\n",
       "    </tr>\n",
       "    <tr>\n",
       "      <th>mse</th>\n",
       "      <td>0.542</td>\n",
       "      <td>1.232</td>\n",
       "    </tr>\n",
       "    <tr>\n",
       "      <th>rmse</th>\n",
       "      <td>0.736</td>\n",
       "      <td>1.110</td>\n",
       "    </tr>\n",
       "  </tbody>\n",
       "</table>\n",
       "</div>"
      ],
      "text/plain": [
       "      rf_train  rf_test\n",
       "R2       0.812    0.597\n",
       "mae      0.576    0.827\n",
       "mse      0.542    1.232\n",
       "rmse     0.736    1.110"
      ]
     },
     "execution_count": 79,
     "metadata": {},
     "output_type": "execute_result"
    }
   ],
   "source": [
    "train_val_rf = train_val(pipe_grid, X_train, y_train, X_test, y_test)\n",
    "train_val_rf.columns = [\"rf_train\", \"rf_test\"]\n",
    "train_val_rf"
   ]
  },
  {
   "cell_type": "markdown",
   "id": "16da9b84",
   "metadata": {},
   "source": [
    "### > Feature Importance"
   ]
  },
  {
   "cell_type": "code",
   "execution_count": 80,
   "id": "b7698ca7",
   "metadata": {},
   "outputs": [],
   "source": [
    "operations = [(\"scaler\", StandardScaler()), (\"rf\", RandomForestRegressor(max_depth= 7, max_features = 5, min_samples_split =  2, n_estimators = 300))]"
   ]
  },
  {
   "cell_type": "code",
   "execution_count": 81,
   "id": "72454f52",
   "metadata": {},
   "outputs": [],
   "source": [
    "pipe_model = Pipeline(steps=operations)"
   ]
  },
  {
   "cell_type": "code",
   "execution_count": 82,
   "id": "defd04f9",
   "metadata": {},
   "outputs": [
    {
     "data": {
      "text/plain": [
       "Pipeline(steps=[('scaler', StandardScaler()),\n",
       "                ('rf',\n",
       "                 RandomForestRegressor(max_depth=7, max_features=5,\n",
       "                                       n_estimators=300))])"
      ]
     },
     "execution_count": 82,
     "metadata": {},
     "output_type": "execute_result"
    }
   ],
   "source": [
    "pipe_model.fit(X_train, y_train)"
   ]
  },
  {
   "cell_type": "code",
   "execution_count": 83,
   "id": "bd518fdc",
   "metadata": {
    "scrolled": false
   },
   "outputs": [
    {
     "data": {
      "text/html": [
       "<div>\n",
       "<style scoped>\n",
       "    .dataframe tbody tr th:only-of-type {\n",
       "        vertical-align: middle;\n",
       "    }\n",
       "\n",
       "    .dataframe tbody tr th {\n",
       "        vertical-align: top;\n",
       "    }\n",
       "\n",
       "    .dataframe thead th {\n",
       "        text-align: right;\n",
       "    }\n",
       "</style>\n",
       "<table border=\"1\" class=\"dataframe\">\n",
       "  <thead>\n",
       "    <tr style=\"text-align: right;\">\n",
       "      <th></th>\n",
       "      <th>Feature Importance</th>\n",
       "    </tr>\n",
       "  </thead>\n",
       "  <tbody>\n",
       "    <tr>\n",
       "      <th>MLOGP</th>\n",
       "      <td>0.325</td>\n",
       "    </tr>\n",
       "    <tr>\n",
       "      <th>RDCHI</th>\n",
       "      <td>0.281</td>\n",
       "    </tr>\n",
       "    <tr>\n",
       "      <th>GATS1p</th>\n",
       "      <td>0.148</td>\n",
       "    </tr>\n",
       "    <tr>\n",
       "      <th>TPSA(Tot)</th>\n",
       "      <td>0.131</td>\n",
       "    </tr>\n",
       "    <tr>\n",
       "      <th>SAacc</th>\n",
       "      <td>0.085</td>\n",
       "    </tr>\n",
       "    <tr>\n",
       "      <th>nN</th>\n",
       "      <td>0.030</td>\n",
       "    </tr>\n",
       "  </tbody>\n",
       "</table>\n",
       "</div>"
      ],
      "text/plain": [
       "           Feature Importance\n",
       "MLOGP                   0.325\n",
       "RDCHI                   0.281\n",
       "GATS1p                  0.148\n",
       "TPSA(Tot)               0.131\n",
       "SAacc                   0.085\n",
       "nN                      0.030"
      ]
     },
     "execution_count": 83,
     "metadata": {},
     "output_type": "execute_result"
    }
   ],
   "source": [
    "# vanilla rf ile gridsearchcv sonucu çok farklı olmadıgı için vanilla rf üzerinden f importance a baktık.\n",
    "rf_feature_imp = pd.DataFrame(index = X.columns, data = pipe_model[\"rf\"].feature_importances_,\n",
    "                              columns = [\"Feature Importance\"]).sort_values(\"Feature Importance\", ascending = False)\n",
    "rf_feature_imp"
   ]
  },
  {
   "cell_type": "code",
   "execution_count": 84,
   "id": "e895a9ad",
   "metadata": {
    "scrolled": false
   },
   "outputs": [
    {
     "data": {
      "image/png": "[encoded data removed]",
      "text/plain": [
       "<Figure size 576x396 with 1 Axes>"
      ]
     },
     "metadata": {},
     "output_type": "display_data"
    }
   ],
   "source": [
    "sns.barplot(x=rf_feature_imp[\"Feature Importance\"], y=rf_feature_imp.index)\n",
    "plt.title(\"Feature Importance\")\n",
    "plt.show();"
   ]
  },
  {
   "attachments": {
    "image.png": {
     "image/png": "[encoded data removed]"
    }
   },
   "cell_type": "markdown",
   "id": "5ca0df8d",
   "metadata": {},
   "source": [
    "![image.png](attachment:image.png)"
   ]
  },
  {
   "cell_type": "markdown",
   "id": "7b6e6098",
   "metadata": {},
   "source": [
    "### > Genetic Algorithm for Feature Selection"
   ]
  },
  {
   "cell_type": "code",
   "execution_count": 309,
   "id": "336ad329",
   "metadata": {},
   "outputs": [
    {
     "data": {
      "application/javascript": [
       "\n",
       "        if (window._pyforest_update_imports_cell) { window._pyforest_update_imports_cell('from sklearn.ensemble import RandomForestRegressor'); }\n",
       "    "
      ],
      "text/plain": [
       "<IPython.core.display.Javascript object>"
      ]
     },
     "metadata": {},
     "output_type": "display_data"
    }
   ],
   "source": [
    "clf = RandomForestRegressor(max_depth=7,n_estimators=300)\n",
    "\n",
    "evolved_estimator = GAFeatureSelectionCV(\n",
    "    estimator=clf,\n",
    "    cv=10,\n",
    "    scoring=\"r2\",\n",
    "    population_size=30,\n",
    "    generations=20,\n",
    "    n_jobs=-1,\n",
    "    verbose=True,\n",
    "    keep_top_k=2,\n",
    "    elitism=True,\n",
    ")"
   ]
  },
  {
   "cell_type": "code",
   "execution_count": 310,
   "id": "1986b17a",
   "metadata": {},
   "outputs": [
    {
     "name": "stdout",
     "output_type": "stream",
     "text": [
      "gen\tnevals\tfitness \tfitness_std\tfitness_max\tfitness_min\n",
      "0  \t30    \t0.209639\t0.183038   \t0.432683   \t-0.24229   \n",
      "1  \t60    \t0.328392\t0.078544   \t0.439413   \t0.15468    \n",
      "2  \t60    \t0.36916 \t0.0475909  \t0.439413   \t0.270148   \n",
      "3  \t60    \t0.404758\t0.0340181  \t0.439413   \t0.352033   \n",
      "4  \t60    \t0.430824\t0.0135503  \t0.439413   \t0.364527   \n",
      "5  \t60    \t0.435041\t0.00375585 \t0.442659   \t0.426132   \n",
      "6  \t60    \t0.437163\t0.00311094 \t0.442248   \t0.427114   \n",
      "7  \t60    \t0.438356\t0.00242692 \t0.442248   \t0.433877   \n",
      "8  \t60    \t0.440247\t0.00210444 \t0.443681   \t0.433749   \n",
      "9  \t60    \t0.44022 \t0.00216785 \t0.443265   \t0.434427   \n",
      "10 \t60    \t0.44142 \t0.00169354 \t0.444376   \t0.436187   \n",
      "11 \t60    \t0.441413\t0.00199487 \t0.444376   \t0.435536   \n",
      "12 \t60    \t0.441102\t0.0026742  \t0.444376   \t0.434076   \n",
      "13 \t60    \t0.440534\t0.00252134 \t0.444955   \t0.435214   \n",
      "14 \t60    \t0.441059\t0.00258655 \t0.444955   \t0.43541    \n",
      "15 \t60    \t0.441379\t0.00296458 \t0.446395   \t0.433258   \n",
      "16 \t60    \t0.440651\t0.0044485  \t0.447256   \t0.430317   \n",
      "17 \t60    \t0.440786\t0.00335697 \t0.446395   \t0.432495   \n",
      "18 \t60    \t0.441258\t0.00257168 \t0.446395   \t0.437363   \n",
      "19 \t60    \t0.440977\t0.00302543 \t0.446089   \t0.435212   \n",
      "20 \t60    \t0.441224\t0.00293934 \t0.446089   \t0.435652   \n"
     ]
    }
   ],
   "source": [
    "evolved_estimator.fit(X, y)\n",
    "features = evolved_estimator.best_features_"
   ]
  },
  {
   "cell_type": "code",
   "execution_count": 311,
   "id": "ef592d76",
   "metadata": {
    "scrolled": false
   },
   "outputs": [
    {
     "data": {
      "text/plain": [
       "array([ True,  True, False,  True,  True, False, False, False])"
      ]
     },
     "execution_count": 311,
     "metadata": {},
     "output_type": "execute_result"
    }
   ],
   "source": [
    "features "
   ]
  },
  {
   "cell_type": "code",
   "execution_count": 312,
   "id": "f6047ad0",
   "metadata": {},
   "outputs": [
    {
     "data": {
      "text/html": [
       "<div>\n",
       "<style scoped>\n",
       "    .dataframe tbody tr th:only-of-type {\n",
       "        vertical-align: middle;\n",
       "    }\n",
       "\n",
       "    .dataframe tbody tr th {\n",
       "        vertical-align: top;\n",
       "    }\n",
       "\n",
       "    .dataframe thead th {\n",
       "        text-align: right;\n",
       "    }\n",
       "</style>\n",
       "<table border=\"1\" class=\"dataframe\">\n",
       "  <thead>\n",
       "    <tr style=\"text-align: right;\">\n",
       "      <th></th>\n",
       "      <th>ga_scores</th>\n",
       "    </tr>\n",
       "  </thead>\n",
       "  <tbody>\n",
       "    <tr>\n",
       "      <th>R2</th>\n",
       "      <td>0.461</td>\n",
       "    </tr>\n",
       "    <tr>\n",
       "      <th>mae</th>\n",
       "      <td>0.840</td>\n",
       "    </tr>\n",
       "    <tr>\n",
       "      <th>mse</th>\n",
       "      <td>1.407</td>\n",
       "    </tr>\n",
       "    <tr>\n",
       "      <th>rmse</th>\n",
       "      <td>1.186</td>\n",
       "    </tr>\n",
       "  </tbody>\n",
       "</table>\n",
       "</div>"
      ],
      "text/plain": [
       "      ga_scores\n",
       "R2        0.461\n",
       "mae       0.840\n",
       "mse       1.407\n",
       "rmse      1.186"
      ]
     },
     "execution_count": 312,
     "metadata": {},
     "output_type": "execute_result"
    }
   ],
   "source": [
    "# Predict only with the subset of selected features\n",
    "y_predict_ga = evolved_estimator.predict(X_test.iloc[:, features])\n",
    "\n",
    "ga_scores = {\"ga_scores\":{\"R2\" : r2_score(y_test, y_predict_ga),\n",
    "    \"mae\" : mean_absolute_error(y_test, y_predict_ga),\n",
    "    \"mse\" : mean_squared_error(y_test, y_predict_ga),                          \n",
    "    \"rmse\" : np.sqrt(mean_squared_error(y_test, y_predict_ga))}}\n",
    "pd.DataFrame(scores)"
   ]
  },
  {
   "cell_type": "code",
   "execution_count": 313,
   "id": "4cf2d67a",
   "metadata": {
    "scrolled": true
   },
   "outputs": [
    {
     "name": "stdout",
     "output_type": "stream",
     "text": [
      "[ True  True False  True  True False False False]\n",
      "accuracy score:  1.19\n"
     ]
    }
   ],
   "source": [
    "print(evolved_estimator.best_features_)"
   ]
  },
  {
   "cell_type": "code",
   "execution_count": 314,
   "id": "aded9b01",
   "metadata": {},
   "outputs": [
    {
     "data": {
      "image/png": "[encoded data removed]",
      "text/plain": [
       "<Figure size 720x720 with 1 Axes>"
      ]
     },
     "metadata": {},
     "output_type": "display_data"
    }
   ],
   "source": [
    "plot = plot_fitness_evolution(evolved_estimator, metric=\"fitness\")\n",
    "plt.show()\n"
   ]
  },
  {
   "cell_type": "code",
   "execution_count": 207,
   "id": "2eb2de1e",
   "metadata": {
    "scrolled": false
   },
   "outputs": [
    {
     "data": {
      "image/png": "[encoded data removed]",
      "text/plain": [
       "<Figure size 720x720 with 1 Axes>"
      ]
     },
     "metadata": {},
     "output_type": "display_data"
    }
   ],
   "source": [
    "plot = plot_fitness_evolution(evolved_estimator, metric=\"fitness\")\n",
    "plt.show()\n"
   ]
  },
  {
   "cell_type": "markdown",
   "id": "a8a6e05e",
   "metadata": {},
   "source": [
    "<hr>"
   ]
  },
  {
   "cell_type": "markdown",
   "id": "acd3ddf2",
   "metadata": {},
   "source": [
    "# KNN"
   ]
  },
  {
   "cell_type": "code",
   "execution_count": 85,
   "id": "182cc6a8",
   "metadata": {},
   "outputs": [],
   "source": [
    "# scale sart distance tabanlı oldugu için "
   ]
  },
  {
   "cell_type": "code",
   "execution_count": 209,
   "id": "e0f17415",
   "metadata": {},
   "outputs": [],
   "source": [
    "from sklearn.neighbors import KNeighborsRegressor"
   ]
  },
  {
   "cell_type": "code",
   "execution_count": 87,
   "id": "24975fbc",
   "metadata": {},
   "outputs": [],
   "source": [
    "operations = [(\"scaler\", StandardScaler()), (\"knn\", KNeighborsRegressor())]"
   ]
  },
  {
   "cell_type": "code",
   "execution_count": 88,
   "id": "3cbbab97",
   "metadata": {},
   "outputs": [],
   "source": [
    "pipe_model = Pipeline(steps=operations)"
   ]
  },
  {
   "cell_type": "code",
   "execution_count": 89,
   "id": "279e7bb3",
   "metadata": {},
   "outputs": [
    {
     "data": {
      "text/plain": [
       "Pipeline(steps=[('scaler', StandardScaler()), ('knn', KNeighborsRegressor())])"
      ]
     },
     "execution_count": 89,
     "metadata": {},
     "output_type": "execute_result"
    }
   ],
   "source": [
    "pipe_model.fit(X_train, y_train)"
   ]
  },
  {
   "cell_type": "code",
   "execution_count": 90,
   "id": "b717a5fb",
   "metadata": {
    "scrolled": true
   },
   "outputs": [
    {
     "data": {
      "text/plain": [
       "{'memory': None,\n",
       " 'steps': [('scaler', StandardScaler()), ('knn', KNeighborsRegressor())],\n",
       " 'verbose': False,\n",
       " 'scaler': StandardScaler(),\n",
       " 'knn': KNeighborsRegressor(),\n",
       " 'scaler__copy': True,\n",
       " 'scaler__with_mean': True,\n",
       " 'scaler__with_std': True,\n",
       " 'knn__algorithm': 'auto',\n",
       " 'knn__leaf_size': 30,\n",
       " 'knn__metric': 'minkowski',\n",
       " 'knn__metric_params': None,\n",
       " 'knn__n_jobs': None,\n",
       " 'knn__n_neighbors': 5,\n",
       " 'knn__p': 2,\n",
       " 'knn__weights': 'uniform'}"
      ]
     },
     "execution_count": 90,
     "metadata": {},
     "output_type": "execute_result"
    }
   ],
   "source": [
    "pipe_model.get_params()"
   ]
  },
  {
   "cell_type": "code",
   "execution_count": 91,
   "id": "1d12e6ae",
   "metadata": {},
   "outputs": [
    {
     "data": {
      "text/html": [
       "<div>\n",
       "<style scoped>\n",
       "    .dataframe tbody tr th:only-of-type {\n",
       "        vertical-align: middle;\n",
       "    }\n",
       "\n",
       "    .dataframe tbody tr th {\n",
       "        vertical-align: top;\n",
       "    }\n",
       "\n",
       "    .dataframe thead th {\n",
       "        text-align: right;\n",
       "    }\n",
       "</style>\n",
       "<table border=\"1\" class=\"dataframe\">\n",
       "  <thead>\n",
       "    <tr style=\"text-align: right;\">\n",
       "      <th></th>\n",
       "      <th>train</th>\n",
       "      <th>test</th>\n",
       "    </tr>\n",
       "  </thead>\n",
       "  <tbody>\n",
       "    <tr>\n",
       "      <th>R2</th>\n",
       "      <td>0.695</td>\n",
       "      <td>0.533</td>\n",
       "    </tr>\n",
       "    <tr>\n",
       "      <th>mae</th>\n",
       "      <td>0.675</td>\n",
       "      <td>0.875</td>\n",
       "    </tr>\n",
       "    <tr>\n",
       "      <th>mse</th>\n",
       "      <td>0.883</td>\n",
       "      <td>1.428</td>\n",
       "    </tr>\n",
       "    <tr>\n",
       "      <th>rmse</th>\n",
       "      <td>0.940</td>\n",
       "      <td>1.195</td>\n",
       "    </tr>\n",
       "  </tbody>\n",
       "</table>\n",
       "</div>"
      ],
      "text/plain": [
       "      train  test\n",
       "R2    0.695 0.533\n",
       "mae   0.675 0.875\n",
       "mse   0.883 1.428\n",
       "rmse  0.940 1.195"
      ]
     },
     "execution_count": 91,
     "metadata": {},
     "output_type": "execute_result"
    }
   ],
   "source": [
    "train_val(pipe_model, X_train, y_train, X_test, y_test)"
   ]
  },
  {
   "cell_type": "markdown",
   "id": "69cce573",
   "metadata": {},
   "source": [
    "### > Cross Validation"
   ]
  },
  {
   "cell_type": "code",
   "execution_count": 92,
   "id": "2938451a",
   "metadata": {
    "scrolled": true
   },
   "outputs": [
    {
     "data": {
      "text/plain": [
       "test_r2                             0.535\n",
       "test_neg_mean_absolute_error       -0.831\n",
       "test_neg_mean_squared_error        -1.335\n",
       "test_neg_root_mean_squared_error   -1.139\n",
       "dtype: float64"
      ]
     },
     "execution_count": 92,
     "metadata": {},
     "output_type": "execute_result"
    }
   ],
   "source": [
    "operations = [('scaler',StandardScaler()),('knn', KNeighborsRegressor())]\n",
    "model = Pipeline(operations)  # yukarıda predict işlemi yapıldıgı için leakage olmasın diye modeli yeniden kurduk.\n",
    "\n",
    "scores = cross_validate(model, X_train, y_train, scoring = ['r2', \n",
    "            'neg_mean_absolute_error','neg_mean_squared_error','neg_root_mean_squared_error'], cv = 10)\n",
    "df_scores = pd.DataFrame(scores, index = range(1, 11))\n",
    "df_scores.mean()[2:]"
   ]
  },
  {
   "cell_type": "markdown",
   "id": "33abaabc",
   "metadata": {},
   "source": [
    "### > GridSearchCV"
   ]
  },
  {
   "cell_type": "code",
   "execution_count": 93,
   "id": "ef5889a4",
   "metadata": {},
   "outputs": [],
   "source": [
    "param_grid = {\"knn__n_neighbors\":np.arange(1,100,3),\n",
    "            \"knn__weights\" : [\"uniform\", \"distance\"],\n",
    "              \"knn__algorithm\" : [\"auto\", \"ball_tree\", \"kd_tree\", \"brute\"]\n",
    "             }"
   ]
  },
  {
   "cell_type": "code",
   "execution_count": 94,
   "id": "858a2927",
   "metadata": {},
   "outputs": [],
   "source": [
    "pipe_model = Pipeline(steps=operations)"
   ]
  },
  {
   "cell_type": "code",
   "execution_count": 95,
   "id": "d713c941",
   "metadata": {},
   "outputs": [],
   "source": [
    "pipe_grid = GridSearchCV(pipe_model, param_grid, cv=10, scoring= 'neg_root_mean_squared_error',verbose = 2, n_jobs = -1)"
   ]
  },
  {
   "cell_type": "code",
   "execution_count": 96,
   "id": "1c87d6ed",
   "metadata": {},
   "outputs": [
    {
     "name": "stdout",
     "output_type": "stream",
     "text": [
      "Fitting 10 folds for each of 264 candidates, totalling 2640 fits\n"
     ]
    },
    {
     "data": {
      "text/plain": [
       "GridSearchCV(cv=10,\n",
       "             estimator=Pipeline(steps=[('scaler', StandardScaler()),\n",
       "                                       ('knn', KNeighborsRegressor())]),\n",
       "             n_jobs=-1,\n",
       "             param_grid={'knn__algorithm': ['auto', 'ball_tree', 'kd_tree',\n",
       "                                            'brute'],\n",
       "                         'knn__n_neighbors': array([ 1,  4,  7, 10, 13, 16, 19, 22, 25, 28, 31, 34, 37, 40, 43, 46, 49,\n",
       "       52, 55, 58, 61, 64, 67, 70, 73, 76, 79, 82, 85, 88, 91, 94, 97]),\n",
       "                         'knn__weights': ['uniform', 'distance']},\n",
       "             scoring='neg_root_mean_squared_error', verbose=2)"
      ]
     },
     "execution_count": 96,
     "metadata": {},
     "output_type": "execute_result"
    }
   ],
   "source": [
    "pipe_grid.fit(X_train,y_train)"
   ]
  },
  {
   "cell_type": "code",
   "execution_count": 97,
   "id": "8351380f",
   "metadata": {},
   "outputs": [
    {
     "data": {
      "text/plain": [
       "{'knn__algorithm': 'auto', 'knn__n_neighbors': 10, 'knn__weights': 'distance'}"
      ]
     },
     "execution_count": 97,
     "metadata": {},
     "output_type": "execute_result"
    }
   ],
   "source": [
    "pipe_grid.best_params_"
   ]
  },
  {
   "cell_type": "code",
   "execution_count": 98,
   "id": "b6bdaee2",
   "metadata": {
    "scrolled": true
   },
   "outputs": [
    {
     "data": {
      "text/html": [
       "<div>\n",
       "<style scoped>\n",
       "    .dataframe tbody tr th:only-of-type {\n",
       "        vertical-align: middle;\n",
       "    }\n",
       "\n",
       "    .dataframe tbody tr th {\n",
       "        vertical-align: top;\n",
       "    }\n",
       "\n",
       "    .dataframe thead th {\n",
       "        text-align: right;\n",
       "    }\n",
       "</style>\n",
       "<table border=\"1\" class=\"dataframe\">\n",
       "  <thead>\n",
       "    <tr style=\"text-align: right;\">\n",
       "      <th></th>\n",
       "      <th>knn_train</th>\n",
       "      <th>knn_test</th>\n",
       "    </tr>\n",
       "  </thead>\n",
       "  <tbody>\n",
       "    <tr>\n",
       "      <th>R2</th>\n",
       "      <td>0.999</td>\n",
       "      <td>0.567</td>\n",
       "    </tr>\n",
       "    <tr>\n",
       "      <th>mae</th>\n",
       "      <td>0.010</td>\n",
       "      <td>0.845</td>\n",
       "    </tr>\n",
       "    <tr>\n",
       "      <th>mse</th>\n",
       "      <td>0.003</td>\n",
       "      <td>1.325</td>\n",
       "    </tr>\n",
       "    <tr>\n",
       "      <th>rmse</th>\n",
       "      <td>0.058</td>\n",
       "      <td>1.151</td>\n",
       "    </tr>\n",
       "  </tbody>\n",
       "</table>\n",
       "</div>"
      ],
      "text/plain": [
       "      knn_train  knn_test\n",
       "R2        0.999     0.567\n",
       "mae       0.010     0.845\n",
       "mse       0.003     1.325\n",
       "rmse      0.058     1.151"
      ]
     },
     "execution_count": 98,
     "metadata": {},
     "output_type": "execute_result"
    }
   ],
   "source": [
    "train_val_knn = train_val(pipe_grid, X_train, y_train, X_test, y_test)\n",
    "train_val_knn.columns = [\"knn_train\", \"knn_test\"]\n",
    "train_val_knn"
   ]
  },
  {
   "cell_type": "markdown",
   "id": "3d70347b",
   "metadata": {},
   "source": [
    "### > Feature Importance"
   ]
  },
  {
   "cell_type": "markdown",
   "id": "94ddc582",
   "metadata": {},
   "source": [
    " - Knn distance tabanlı, non parametrik algoritmadır. Non parametrik algoritmalarda feature importance yoktur. Yani hangi parametre daha iyi hangi parametre daha kötü diye bir şey söyleyemeyiz.\n"
   ]
  },
  {
   "cell_type": "markdown",
   "id": "8a56a6b7",
   "metadata": {},
   "source": [
    "### > Genetic Algorithm for Feature Selection"
   ]
  },
  {
   "cell_type": "code",
   "execution_count": 315,
   "id": "d4193db2",
   "metadata": {},
   "outputs": [],
   "source": [
    "clf = KNeighborsRegressor(n_neighbors=10 ,weights = 'distance')\n",
    "\n",
    "evolved_estimator = GAFeatureSelectionCV(\n",
    "    estimator=clf,\n",
    "    cv=10,\n",
    "    scoring=\"r2\",\n",
    "    population_size=30,\n",
    "    generations=20,\n",
    "    n_jobs=-1,\n",
    "    verbose=True,\n",
    "    keep_top_k=2,\n",
    "    elitism=True,\n",
    ")"
   ]
  },
  {
   "cell_type": "code",
   "execution_count": 316,
   "id": "cf9b7623",
   "metadata": {},
   "outputs": [
    {
     "name": "stdout",
     "output_type": "stream",
     "text": [
      "gen\tnevals\tfitness \tfitness_std\tfitness_max\tfitness_min\n",
      "0  \t30    \t0.189207\t0.134717   \t0.309012   \t-0.289005  \n",
      "1  \t60    \t0.245964\t0.025246   \t0.309012   \t0.188137   \n",
      "2  \t60    \t0.270727\t0.0286286  \t0.309012   \t0.236101   \n",
      "3  \t60    \t0.288238\t0.0237198  \t0.309012   \t0.239395   \n",
      "4  \t60    \t0.306775\t0.00844805 \t0.309012   \t0.271027   \n",
      "5  \t60    \t0.309458\t0.00240319 \t0.322399   \t0.309012   \n",
      "6  \t60    \t0.310343\t0.0116798  \t0.322399   \t0.255243   \n",
      "7  \t60    \t0.317044\t0.00655866 \t0.322399   \t0.309012   \n",
      "8  \t60    \t0.321061\t0.00401634 \t0.322399   \t0.309012   \n",
      "9  \t60    \t0.322399\t0          \t0.322399   \t0.322399   \n",
      "10 \t60    \t0.322399\t0          \t0.322399   \t0.322399   \n",
      "11 \t60    \t0.322399\t0          \t0.322399   \t0.322399   \n",
      "12 \t60    \t0.321813\t0.00315901 \t0.322399   \t0.304801   \n",
      "13 \t60    \t0.322399\t0          \t0.322399   \t0.322399   \n",
      "14 \t60    \t0.322399\t0          \t0.322399   \t0.322399   \n",
      "15 \t60    \t0.321953\t0.00240319 \t0.322399   \t0.309012   \n",
      "16 \t60    \t0.322399\t0          \t0.322399   \t0.322399   \n",
      "17 \t60    \t0.321813\t0.00315901 \t0.322399   \t0.304801   \n",
      "18 \t60    \t0.322399\t0          \t0.322399   \t0.322399   \n",
      "19 \t60    \t0.322399\t0          \t0.322399   \t0.322399   \n",
      "20 \t60    \t0.322399\t0          \t0.322399   \t0.322399   \n"
     ]
    }
   ],
   "source": [
    "evolved_estimator.fit(X, y)\n",
    "features = evolved_estimator.best_features_"
   ]
  },
  {
   "cell_type": "code",
   "execution_count": 317,
   "id": "e082e810",
   "metadata": {
    "scrolled": true
   },
   "outputs": [
    {
     "data": {
      "text/plain": [
       "array([False, False,  True,  True,  True,  True,  True, False])"
      ]
     },
     "execution_count": 317,
     "metadata": {},
     "output_type": "execute_result"
    }
   ],
   "source": [
    "features "
   ]
  },
  {
   "cell_type": "code",
   "execution_count": 318,
   "id": "9af545cf",
   "metadata": {},
   "outputs": [],
   "source": [
    "# Predict only with the subset of selected features\n",
    "y_predict_ga = evolved_estimator.predict(X_test.iloc[:, features])\n",
    "#accuracy = accuracy_score(y_test, y_predict_ga)\n",
    "rmse = np.sqrt(mean_squared_error(y_test, y_predict_ga))"
   ]
  },
  {
   "cell_type": "code",
   "execution_count": 319,
   "id": "e6bb04ba",
   "metadata": {},
   "outputs": [
    {
     "name": "stdout",
     "output_type": "stream",
     "text": [
      "[False False  True  True  True  True  True False]\n",
      "accuracy score:  0.00\n"
     ]
    }
   ],
   "source": [
    "print(evolved_estimator.best_features_)\n",
    "print(\"accuracy score: \", \"{:.2f}\".format(rmse))"
   ]
  },
  {
   "cell_type": "code",
   "execution_count": 320,
   "id": "481b7913",
   "metadata": {},
   "outputs": [
    {
     "data": {
      "image/png": "[encoded data removed]",
      "text/plain": [
       "<Figure size 720x720 with 1 Axes>"
      ]
     },
     "metadata": {},
     "output_type": "display_data"
    }
   ],
   "source": [
    "plot = plot_fitness_evolution(evolved_estimator, metric=\"fitness\")\n",
    "plt.show()"
   ]
  },
  {
   "cell_type": "code",
   "execution_count": 241,
   "id": "9f9ef663",
   "metadata": {
    "scrolled": true
   },
   "outputs": [
    {
     "data": {
      "image/png": "[encoded data removed]",
      "text/plain": [
       "<Figure size 720x720 with 1 Axes>"
      ]
     },
     "metadata": {},
     "output_type": "display_data"
    }
   ],
   "source": [
    "plot = plot_fitness_evolution(evolved_estimator, metric=\"fitness\")\n",
    "plt.show()\n"
   ]
  },
  {
   "cell_type": "markdown",
   "id": "6efe8b88",
   "metadata": {},
   "source": [
    "<hr>"
   ]
  },
  {
   "cell_type": "markdown",
   "id": "2dbed5bd",
   "metadata": {},
   "source": [
    "### > Result\n",
    "- Yukarıdaki modeller incelendiginde genel olarak model başarısının düşük oldugunu gözlemliyoruz. Gerçek hayat projelerinde bu tarz durumlar yaygın olarak karşımıza çıkıyor. Benim domain bilgim bu çalışma özelinde yeterli olmadıgı için sonuçta elde ettigimiz başarı durumunun gerçek hayattaki karşılıgı ile degerlendirilmesi konusunda bi açıklama yapmamın dogru olmayacagını düşünüyorum. Lakin elimizdeki datayı arttırmamız durumunda model başarısı artacaktır. \n",
    "\n",
    "- Çalışma sırasında outlier ları atmanın model başarısında iyileştirmeye gittigini gözlemledigim için outlier olan verileri sildim.\n",
    "\n",
    "- Pipeline kullanarak süreçleri otomatize hale getirip, data leakage i engellemiş oldum.\n",
    "\n",
    "- Önce normal olarak tüm feature lar ile model başarıları test ettim. Elde ettigimiz feature importance ile \"H-050\", \"C-040\" featurelarını düşürerek modelleri yeniden çalıştırdım. Tüm feature ların başarı puanları ve feature importance grafiklerini görsel olarak ekledim."
   ]
  },
  {
   "cell_type": "code",
   "execution_count": 99,
   "id": "1883273d",
   "metadata": {
    "scrolled": true
   },
   "outputs": [
    {
     "data": {
      "text/html": [
       "<div>\n",
       "<style scoped>\n",
       "    .dataframe tbody tr th:only-of-type {\n",
       "        vertical-align: middle;\n",
       "    }\n",
       "\n",
       "    .dataframe tbody tr th {\n",
       "        vertical-align: top;\n",
       "    }\n",
       "\n",
       "    .dataframe thead th {\n",
       "        text-align: right;\n",
       "    }\n",
       "</style>\n",
       "<table border=\"1\" class=\"dataframe\">\n",
       "  <thead>\n",
       "    <tr style=\"text-align: right;\">\n",
       "      <th></th>\n",
       "      <th>lasso_train</th>\n",
       "      <th>lasso_test</th>\n",
       "      <th>rf_train</th>\n",
       "      <th>rf_test</th>\n",
       "      <th>knn_train</th>\n",
       "      <th>knn_test</th>\n",
       "    </tr>\n",
       "  </thead>\n",
       "  <tbody>\n",
       "    <tr>\n",
       "      <th>R2</th>\n",
       "      <td>0.504</td>\n",
       "      <td>0.578</td>\n",
       "      <td>0.812</td>\n",
       "      <td>0.597</td>\n",
       "      <td>0.999</td>\n",
       "      <td>0.567</td>\n",
       "    </tr>\n",
       "    <tr>\n",
       "      <th>mae</th>\n",
       "      <td>0.905</td>\n",
       "      <td>0.855</td>\n",
       "      <td>0.576</td>\n",
       "      <td>0.827</td>\n",
       "      <td>0.010</td>\n",
       "      <td>0.845</td>\n",
       "    </tr>\n",
       "    <tr>\n",
       "      <th>mse</th>\n",
       "      <td>1.435</td>\n",
       "      <td>1.290</td>\n",
       "      <td>0.542</td>\n",
       "      <td>1.232</td>\n",
       "      <td>0.003</td>\n",
       "      <td>1.325</td>\n",
       "    </tr>\n",
       "    <tr>\n",
       "      <th>rmse</th>\n",
       "      <td>1.198</td>\n",
       "      <td>1.136</td>\n",
       "      <td>0.736</td>\n",
       "      <td>1.110</td>\n",
       "      <td>0.058</td>\n",
       "      <td>1.151</td>\n",
       "    </tr>\n",
       "  </tbody>\n",
       "</table>\n",
       "</div>"
      ],
      "text/plain": [
       "      lasso_train  lasso_test  rf_train  rf_test  knn_train  knn_test\n",
       "R2          0.504       0.578     0.812    0.597      0.999     0.567\n",
       "mae         0.905       0.855     0.576    0.827      0.010     0.845\n",
       "mse         1.435       1.290     0.542    1.232      0.003     1.325\n",
       "rmse        1.198       1.136     0.736    1.110      0.058     1.151"
      ]
     },
     "execution_count": 99,
     "metadata": {},
     "output_type": "execute_result"
    }
   ],
   "source": [
    "pd.concat([train_val_ls, train_val_rf, train_val_knn], axis=1)"
   ]
  },
  {
   "attachments": {
    "image-2.png": {
     "image/png": "[encoded data removed]"
    }
   },
   "cell_type": "markdown",
   "id": "dfd3690b",
   "metadata": {},
   "source": [
    "![image-2.png](attachment:image-2.png)"
   ]
  },
  {
   "cell_type": "markdown",
   "id": "a68d2d0e",
   "metadata": {},
   "source": [
    "<hr>"
   ]
  },
  {
   "cell_type": "markdown",
   "id": "f74f1742",
   "metadata": {},
   "source": [
    "## - <a href = \"https://www.simonwenkel.com/2019/09/30/revisitingML-qsar-aquatic-toxicity.html\">Other Resource</a>\n",
    "- Lütfen bu çalışmaya göz atın.\n",
    "\n",
    "## - <a href = \"https://sklearn-genetic-opt.readthedocs.io/en/stable/index.html\">GA feature selection</a>"
   ]
  },
  {
   "cell_type": "markdown",
   "id": "44c86592",
   "metadata": {},
   "source": [
    "## Relevant Papers:\n",
    "\n",
    "M. Cassotti, D. Ballabio, V. Consonni, A. Mauri, I. V. Tetko, R. Todeschini (2014). Prediction of acute aquatic toxicity towards daphnia magna using GA-kNN method, Alternatives to Laboratory Animals (ATLA), 42,31:41; doi: 10.1177/026119291404200106\n",
    "\n"
   ]
  }
 ],
 "metadata": {
  "kernelspec": {
   "display_name": "Python 3 (ipykernel)",
   "language": "python",
   "name": "python3"
  },
  "language_info": {
   "codemirror_mode": {
    "name": "ipython",
    "version": 3
   },
   "file_extension": ".py",
   "mimetype": "text/x-python",
   "name": "python",
   "nbconvert_exporter": "python",
   "pygments_lexer": "ipython3",
   "version": "3.8.12"
  }
 },
 "nbformat": 4,
 "nbformat_minor": 5
}
