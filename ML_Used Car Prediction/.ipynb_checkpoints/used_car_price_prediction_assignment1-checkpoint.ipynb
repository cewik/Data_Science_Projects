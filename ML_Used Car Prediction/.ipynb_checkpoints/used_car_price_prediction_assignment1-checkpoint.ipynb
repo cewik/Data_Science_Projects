{
 "cells": [
  {
   "cell_type": "markdown",
   "metadata": {
    "id": "curQqdpMbV8a"
   },
   "source": [
    "<img src=\"https://miro.medium.com/max/647/1*ZOcUPrSXLYucFxppoI-dYg.png\">"
   ]
  },
  {
   "cell_type": "markdown",
   "metadata": {
    "id": "vIdfp9zXbV8w"
   },
   "source": [
    "# Problem definition\n"
   ]
  },
  {
   "cell_type": "markdown",
   "metadata": {
    "id": "_f1vwRmsbV8z"
   },
   "source": [
    "For this project we are using a car dataset, where we want to predict the selling price of car based on its certain features.\n",
    "Since we need to find the real value, with real calculation, therefore this problem is regression problem. \n",
    "We will be using linear regression to solve this problem.\n",
    "\n",
    "General equation of Multiple Linear Regression:\n",
    "$$y = \\beta_0 + \\beta_{1}x_1 + \\beta_{2}x_2 + \\beta_{3}x_3 + \\beta_{4}x_4 + ... + \\beta_{n}x_n$$"
   ]
  },
  {
   "cell_type": "markdown",
   "metadata": {
    "id": "m79bZ3ojbV82"
   },
   "source": [
    "# Libraries"
   ]
  },
  {
   "cell_type": "code",
   "execution_count": 1,
   "metadata": {
    "id": "zk6tvPRBbV84"
   },
   "outputs": [],
   "source": [
    "import numpy as np \n",
    "import pandas as pd\n",
    "import seaborn as sns\n",
    "import matplotlib.pyplot as plt\n",
    "import scipy.stats as stats\n",
    "import warnings\n",
    "warnings.filterwarnings('ignore')\n",
    "plt.rcParams[\"figure.figsize\"] = (10,6)\n",
    "%matplotlib inline"
   ]
  },
  {
   "cell_type": "markdown",
   "metadata": {
    "id": "Zu7fPn5HbV87"
   },
   "source": [
    "# Data Gathering"
   ]
  },
  {
   "cell_type": "code",
   "execution_count": 2,
   "metadata": {
    "id": "Hgyy7dkrbV89"
   },
   "outputs": [
    {
     "data": {
      "text/html": [
       "<div>\n",
       "<style scoped>\n",
       "    .dataframe tbody tr th:only-of-type {\n",
       "        vertical-align: middle;\n",
       "    }\n",
       "\n",
       "    .dataframe tbody tr th {\n",
       "        vertical-align: top;\n",
       "    }\n",
       "\n",
       "    .dataframe thead th {\n",
       "        text-align: right;\n",
       "    }\n",
       "</style>\n",
       "<table border=\"1\" class=\"dataframe\">\n",
       "  <thead>\n",
       "    <tr style=\"text-align: right;\">\n",
       "      <th></th>\n",
       "      <th>Car_Name</th>\n",
       "      <th>Year</th>\n",
       "      <th>Selling_Price</th>\n",
       "      <th>Present_Price</th>\n",
       "      <th>Kms_Driven</th>\n",
       "      <th>Fuel_Type</th>\n",
       "      <th>Seller_Type</th>\n",
       "      <th>Transmission</th>\n",
       "      <th>Owner</th>\n",
       "    </tr>\n",
       "  </thead>\n",
       "  <tbody>\n",
       "    <tr>\n",
       "      <th>0</th>\n",
       "      <td>ritz</td>\n",
       "      <td>2014</td>\n",
       "      <td>3.35</td>\n",
       "      <td>5.59</td>\n",
       "      <td>27000</td>\n",
       "      <td>Petrol</td>\n",
       "      <td>Dealer</td>\n",
       "      <td>Manual</td>\n",
       "      <td>0</td>\n",
       "    </tr>\n",
       "    <tr>\n",
       "      <th>1</th>\n",
       "      <td>sx4</td>\n",
       "      <td>2013</td>\n",
       "      <td>4.75</td>\n",
       "      <td>9.54</td>\n",
       "      <td>43000</td>\n",
       "      <td>Diesel</td>\n",
       "      <td>Dealer</td>\n",
       "      <td>Manual</td>\n",
       "      <td>0</td>\n",
       "    </tr>\n",
       "    <tr>\n",
       "      <th>2</th>\n",
       "      <td>ciaz</td>\n",
       "      <td>2017</td>\n",
       "      <td>7.25</td>\n",
       "      <td>9.85</td>\n",
       "      <td>6900</td>\n",
       "      <td>Petrol</td>\n",
       "      <td>Dealer</td>\n",
       "      <td>Manual</td>\n",
       "      <td>0</td>\n",
       "    </tr>\n",
       "    <tr>\n",
       "      <th>3</th>\n",
       "      <td>wagon r</td>\n",
       "      <td>2011</td>\n",
       "      <td>2.85</td>\n",
       "      <td>4.15</td>\n",
       "      <td>5200</td>\n",
       "      <td>Petrol</td>\n",
       "      <td>Dealer</td>\n",
       "      <td>Manual</td>\n",
       "      <td>0</td>\n",
       "    </tr>\n",
       "    <tr>\n",
       "      <th>4</th>\n",
       "      <td>swift</td>\n",
       "      <td>2014</td>\n",
       "      <td>4.60</td>\n",
       "      <td>6.87</td>\n",
       "      <td>42450</td>\n",
       "      <td>Diesel</td>\n",
       "      <td>Dealer</td>\n",
       "      <td>Manual</td>\n",
       "      <td>0</td>\n",
       "    </tr>\n",
       "  </tbody>\n",
       "</table>\n",
       "</div>"
      ],
      "text/plain": [
       "  Car_Name  Year  Selling_Price  Present_Price  Kms_Driven Fuel_Type  \\\n",
       "0     ritz  2014           3.35           5.59       27000    Petrol   \n",
       "1      sx4  2013           4.75           9.54       43000    Diesel   \n",
       "2     ciaz  2017           7.25           9.85        6900    Petrol   \n",
       "3  wagon r  2011           2.85           4.15        5200    Petrol   \n",
       "4    swift  2014           4.60           6.87       42450    Diesel   \n",
       "\n",
       "  Seller_Type Transmission  Owner  \n",
       "0      Dealer       Manual      0  \n",
       "1      Dealer       Manual      0  \n",
       "2      Dealer       Manual      0  \n",
       "3      Dealer       Manual      0  \n",
       "4      Dealer       Manual      0  "
      ]
     },
     "execution_count": 2,
     "metadata": {},
     "output_type": "execute_result"
    }
   ],
   "source": [
    "df = pd.read_csv(\"car_dataset.csv\").copy()\n",
    "df.head()"
   ]
  },
  {
   "cell_type": "code",
   "execution_count": 3,
   "metadata": {},
   "outputs": [
    {
     "data": {
      "text/plain": [
       "(301, 9)"
      ]
     },
     "execution_count": 3,
     "metadata": {},
     "output_type": "execute_result"
    }
   ],
   "source": [
    "df.shape"
   ]
  },
  {
   "cell_type": "code",
   "execution_count": 4,
   "metadata": {},
   "outputs": [
    {
     "name": "stdout",
     "output_type": "stream",
     "text": [
      "<class 'pandas.core.frame.DataFrame'>\n",
      "RangeIndex: 301 entries, 0 to 300\n",
      "Data columns (total 9 columns):\n",
      " #   Column         Non-Null Count  Dtype  \n",
      "---  ------         --------------  -----  \n",
      " 0   Car_Name       301 non-null    object \n",
      " 1   Year           301 non-null    int64  \n",
      " 2   Selling_Price  301 non-null    float64\n",
      " 3   Present_Price  301 non-null    float64\n",
      " 4   Kms_Driven     301 non-null    int64  \n",
      " 5   Fuel_Type      301 non-null    object \n",
      " 6   Seller_Type    301 non-null    object \n",
      " 7   Transmission   301 non-null    object \n",
      " 8   Owner          301 non-null    int64  \n",
      "dtypes: float64(2), int64(3), object(4)\n",
      "memory usage: 21.3+ KB\n"
     ]
    }
   ],
   "source": [
    "df.info()"
   ]
  },
  {
   "cell_type": "code",
   "execution_count": 5,
   "metadata": {},
   "outputs": [
    {
     "data": {
      "text/html": [
       "<div>\n",
       "<style scoped>\n",
       "    .dataframe tbody tr th:only-of-type {\n",
       "        vertical-align: middle;\n",
       "    }\n",
       "\n",
       "    .dataframe tbody tr th {\n",
       "        vertical-align: top;\n",
       "    }\n",
       "\n",
       "    .dataframe thead th {\n",
       "        text-align: right;\n",
       "    }\n",
       "</style>\n",
       "<table border=\"1\" class=\"dataframe\">\n",
       "  <thead>\n",
       "    <tr style=\"text-align: right;\">\n",
       "      <th></th>\n",
       "      <th>count</th>\n",
       "      <th>mean</th>\n",
       "      <th>std</th>\n",
       "      <th>min</th>\n",
       "      <th>25%</th>\n",
       "      <th>50%</th>\n",
       "      <th>75%</th>\n",
       "      <th>max</th>\n",
       "    </tr>\n",
       "  </thead>\n",
       "  <tbody>\n",
       "    <tr>\n",
       "      <th>Year</th>\n",
       "      <td>301.0</td>\n",
       "      <td>2013.627907</td>\n",
       "      <td>2.891554</td>\n",
       "      <td>2003.00</td>\n",
       "      <td>2012.0</td>\n",
       "      <td>2014.0</td>\n",
       "      <td>2016.0</td>\n",
       "      <td>2018.0</td>\n",
       "    </tr>\n",
       "    <tr>\n",
       "      <th>Selling_Price</th>\n",
       "      <td>301.0</td>\n",
       "      <td>4.661296</td>\n",
       "      <td>5.082812</td>\n",
       "      <td>0.10</td>\n",
       "      <td>0.9</td>\n",
       "      <td>3.6</td>\n",
       "      <td>6.0</td>\n",
       "      <td>35.0</td>\n",
       "    </tr>\n",
       "    <tr>\n",
       "      <th>Present_Price</th>\n",
       "      <td>301.0</td>\n",
       "      <td>7.628472</td>\n",
       "      <td>8.644115</td>\n",
       "      <td>0.32</td>\n",
       "      <td>1.2</td>\n",
       "      <td>6.4</td>\n",
       "      <td>9.9</td>\n",
       "      <td>92.6</td>\n",
       "    </tr>\n",
       "    <tr>\n",
       "      <th>Kms_Driven</th>\n",
       "      <td>301.0</td>\n",
       "      <td>36947.205980</td>\n",
       "      <td>38886.883882</td>\n",
       "      <td>500.00</td>\n",
       "      <td>15000.0</td>\n",
       "      <td>32000.0</td>\n",
       "      <td>48767.0</td>\n",
       "      <td>500000.0</td>\n",
       "    </tr>\n",
       "    <tr>\n",
       "      <th>Owner</th>\n",
       "      <td>301.0</td>\n",
       "      <td>0.043189</td>\n",
       "      <td>0.247915</td>\n",
       "      <td>0.00</td>\n",
       "      <td>0.0</td>\n",
       "      <td>0.0</td>\n",
       "      <td>0.0</td>\n",
       "      <td>3.0</td>\n",
       "    </tr>\n",
       "  </tbody>\n",
       "</table>\n",
       "</div>"
      ],
      "text/plain": [
       "               count          mean           std      min      25%      50%  \\\n",
       "Year           301.0   2013.627907      2.891554  2003.00   2012.0   2014.0   \n",
       "Selling_Price  301.0      4.661296      5.082812     0.10      0.9      3.6   \n",
       "Present_Price  301.0      7.628472      8.644115     0.32      1.2      6.4   \n",
       "Kms_Driven     301.0  36947.205980  38886.883882   500.00  15000.0  32000.0   \n",
       "Owner          301.0      0.043189      0.247915     0.00      0.0      0.0   \n",
       "\n",
       "                   75%       max  \n",
       "Year            2016.0    2018.0  \n",
       "Selling_Price      6.0      35.0  \n",
       "Present_Price      9.9      92.6  \n",
       "Kms_Driven     48767.0  500000.0  \n",
       "Owner              0.0       3.0  "
      ]
     },
     "execution_count": 5,
     "metadata": {},
     "output_type": "execute_result"
    }
   ],
   "source": [
    "df.describe().T"
   ]
  },
  {
   "cell_type": "markdown",
   "metadata": {
    "id": "EyXAGsjnbV8_"
   },
   "source": [
    "# Data Preparation"
   ]
  },
  {
   "cell_type": "code",
   "execution_count": 6,
   "metadata": {},
   "outputs": [
    {
     "data": {
      "text/plain": [
       "Car_Name         False\n",
       "Year             False\n",
       "Selling_Price    False\n",
       "Present_Price    False\n",
       "Kms_Driven       False\n",
       "Fuel_Type        False\n",
       "Seller_Type      False\n",
       "Transmission     False\n",
       "Owner            False\n",
       "dtype: bool"
      ]
     },
     "execution_count": 6,
     "metadata": {},
     "output_type": "execute_result"
    }
   ],
   "source": [
    "df.isnull().any()"
   ]
  },
  {
   "cell_type": "code",
   "execution_count": 7,
   "metadata": {},
   "outputs": [
    {
     "data": {
      "text/plain": [
       "False    299\n",
       "True       2\n",
       "dtype: int64"
      ]
     },
     "execution_count": 7,
     "metadata": {},
     "output_type": "execute_result"
    }
   ],
   "source": [
    "df.duplicated().value_counts()"
   ]
  },
  {
   "cell_type": "code",
   "execution_count": 8,
   "metadata": {},
   "outputs": [],
   "source": [
    "df = df.drop_duplicates(ignore_index = True)"
   ]
  },
  {
   "cell_type": "code",
   "execution_count": 9,
   "metadata": {},
   "outputs": [
    {
     "data": {
      "text/plain": [
       "False    299\n",
       "dtype: int64"
      ]
     },
     "execution_count": 9,
     "metadata": {},
     "output_type": "execute_result"
    }
   ],
   "source": [
    "df.duplicated().value_counts()"
   ]
  },
  {
   "cell_type": "code",
   "execution_count": 10,
   "metadata": {},
   "outputs": [
    {
     "data": {
      "text/html": [
       "<div>\n",
       "<style scoped>\n",
       "    .dataframe tbody tr th:only-of-type {\n",
       "        vertical-align: middle;\n",
       "    }\n",
       "\n",
       "    .dataframe tbody tr th {\n",
       "        vertical-align: top;\n",
       "    }\n",
       "\n",
       "    .dataframe thead th {\n",
       "        text-align: right;\n",
       "    }\n",
       "</style>\n",
       "<table border=\"1\" class=\"dataframe\">\n",
       "  <thead>\n",
       "    <tr style=\"text-align: right;\">\n",
       "      <th></th>\n",
       "      <th>count</th>\n",
       "      <th>mean</th>\n",
       "      <th>std</th>\n",
       "      <th>min</th>\n",
       "      <th>25%</th>\n",
       "      <th>50%</th>\n",
       "      <th>75%</th>\n",
       "      <th>max</th>\n",
       "    </tr>\n",
       "  </thead>\n",
       "  <tbody>\n",
       "    <tr>\n",
       "      <th>Year</th>\n",
       "      <td>299.0</td>\n",
       "      <td>2013.615385</td>\n",
       "      <td>2.896868</td>\n",
       "      <td>2003.00</td>\n",
       "      <td>2012.00</td>\n",
       "      <td>2014.00</td>\n",
       "      <td>2016.00</td>\n",
       "      <td>2018.0</td>\n",
       "    </tr>\n",
       "    <tr>\n",
       "      <th>Selling_Price</th>\n",
       "      <td>299.0</td>\n",
       "      <td>4.589632</td>\n",
       "      <td>4.984240</td>\n",
       "      <td>0.10</td>\n",
       "      <td>0.85</td>\n",
       "      <td>3.51</td>\n",
       "      <td>6.00</td>\n",
       "      <td>35.0</td>\n",
       "    </tr>\n",
       "    <tr>\n",
       "      <th>Present_Price</th>\n",
       "      <td>299.0</td>\n",
       "      <td>7.541037</td>\n",
       "      <td>8.567887</td>\n",
       "      <td>0.32</td>\n",
       "      <td>1.20</td>\n",
       "      <td>6.10</td>\n",
       "      <td>9.84</td>\n",
       "      <td>92.6</td>\n",
       "    </tr>\n",
       "    <tr>\n",
       "      <th>Kms_Driven</th>\n",
       "      <td>299.0</td>\n",
       "      <td>36916.752508</td>\n",
       "      <td>39015.170352</td>\n",
       "      <td>500.00</td>\n",
       "      <td>15000.00</td>\n",
       "      <td>32000.00</td>\n",
       "      <td>48883.50</td>\n",
       "      <td>500000.0</td>\n",
       "    </tr>\n",
       "    <tr>\n",
       "      <th>Owner</th>\n",
       "      <td>299.0</td>\n",
       "      <td>0.043478</td>\n",
       "      <td>0.248720</td>\n",
       "      <td>0.00</td>\n",
       "      <td>0.00</td>\n",
       "      <td>0.00</td>\n",
       "      <td>0.00</td>\n",
       "      <td>3.0</td>\n",
       "    </tr>\n",
       "  </tbody>\n",
       "</table>\n",
       "</div>"
      ],
      "text/plain": [
       "               count          mean           std      min       25%       50%  \\\n",
       "Year           299.0   2013.615385      2.896868  2003.00   2012.00   2014.00   \n",
       "Selling_Price  299.0      4.589632      4.984240     0.10      0.85      3.51   \n",
       "Present_Price  299.0      7.541037      8.567887     0.32      1.20      6.10   \n",
       "Kms_Driven     299.0  36916.752508  39015.170352   500.00  15000.00  32000.00   \n",
       "Owner          299.0      0.043478      0.248720     0.00      0.00      0.00   \n",
       "\n",
       "                    75%       max  \n",
       "Year            2016.00    2018.0  \n",
       "Selling_Price      6.00      35.0  \n",
       "Present_Price      9.84      92.6  \n",
       "Kms_Driven     48883.50  500000.0  \n",
       "Owner              0.00       3.0  "
      ]
     },
     "execution_count": 10,
     "metadata": {},
     "output_type": "execute_result"
    }
   ],
   "source": [
    "df.describe().T"
   ]
  },
  {
   "cell_type": "code",
   "execution_count": 11,
   "metadata": {},
   "outputs": [
    {
     "data": {
      "image/png": "[encoded data removed]",
      "text/plain": [
       "<Figure size 432x288 with 1 Axes>"
      ]
     },
     "metadata": {
      "needs_background": "light"
     },
     "output_type": "display_data"
    },
    {
     "data": {
      "image/png": "[encoded data removed]",
      "text/plain": [
       "<Figure size 432x288 with 1 Axes>"
      ]
     },
     "metadata": {
      "needs_background": "light"
     },
     "output_type": "display_data"
    },
    {
     "data": {
      "image/png": "[encoded data removed]",
      "text/plain": [
       "<Figure size 432x288 with 1 Axes>"
      ]
     },
     "metadata": {
      "needs_background": "light"
     },
     "output_type": "display_data"
    },
    {
     "data": {
      "image/png": "[encoded data removed]",
      "text/plain": [
       "<Figure size 432x288 with 1 Axes>"
      ]
     },
     "metadata": {
      "needs_background": "light"
     },
     "output_type": "display_data"
    },
    {
     "data": {
      "image/png": "[encoded data removed]",
      "text/plain": [
       "<Figure size 432x288 with 1 Axes>"
      ]
     },
     "metadata": {
      "needs_background": "light"
     },
     "output_type": "display_data"
    },
    {
     "data": {
      "image/png": "[encoded data removed]",
      "text/plain": [
       "<Figure size 432x288 with 1 Axes>"
      ]
     },
     "metadata": {
      "needs_background": "light"
     },
     "output_type": "display_data"
    },
    {
     "data": {
      "image/png": "[encoded data removed]",
      "text/plain": [
       "<Figure size 432x288 with 1 Axes>"
      ]
     },
     "metadata": {
      "needs_background": "light"
     },
     "output_type": "display_data"
    },
    {
     "data": {
      "image/png": "[encoded data removed]",
      "text/plain": [
       "<Figure size 432x288 with 1 Axes>"
      ]
     },
     "metadata": {
      "needs_background": "light"
     },
     "output_type": "display_data"
    },
    {
     "data": {
      "image/png": "[encoded data removed]",
      "text/plain": [
       "<Figure size 432x288 with 1 Axes>"
      ]
     },
     "metadata": {
      "needs_background": "light"
     },
     "output_type": "display_data"
    }
   ],
   "source": [
    "for i,col in enumerate(df.columns):\n",
    "    plt.figure(i)\n",
    "    sns.histplot(df[col])"
   ]
  },
  {
   "cell_type": "code",
   "execution_count": 12,
   "metadata": {
    "id": "zoySlXabbV9B",
    "scrolled": true
   },
   "outputs": [
    {
     "data": {
      "text/html": [
       "<div>\n",
       "<style scoped>\n",
       "    .dataframe tbody tr th:only-of-type {\n",
       "        vertical-align: middle;\n",
       "    }\n",
       "\n",
       "    .dataframe tbody tr th {\n",
       "        vertical-align: top;\n",
       "    }\n",
       "\n",
       "    .dataframe thead th {\n",
       "        text-align: right;\n",
       "    }\n",
       "</style>\n",
       "<table border=\"1\" class=\"dataframe\">\n",
       "  <thead>\n",
       "    <tr style=\"text-align: right;\">\n",
       "      <th></th>\n",
       "      <th>Car_Name</th>\n",
       "      <th>Year</th>\n",
       "      <th>Selling_Price</th>\n",
       "      <th>Present_Price</th>\n",
       "      <th>Kms_Driven</th>\n",
       "      <th>Fuel_Type</th>\n",
       "      <th>Seller_Type</th>\n",
       "      <th>Transmission</th>\n",
       "      <th>Owner</th>\n",
       "    </tr>\n",
       "  </thead>\n",
       "  <tbody>\n",
       "    <tr>\n",
       "      <th>0</th>\n",
       "      <td>ritz</td>\n",
       "      <td>2014</td>\n",
       "      <td>3.35</td>\n",
       "      <td>5.59</td>\n",
       "      <td>27000</td>\n",
       "      <td>Petrol</td>\n",
       "      <td>Dealer</td>\n",
       "      <td>Manual</td>\n",
       "      <td>0</td>\n",
       "    </tr>\n",
       "    <tr>\n",
       "      <th>1</th>\n",
       "      <td>sx4</td>\n",
       "      <td>2013</td>\n",
       "      <td>4.75</td>\n",
       "      <td>9.54</td>\n",
       "      <td>43000</td>\n",
       "      <td>Diesel</td>\n",
       "      <td>Dealer</td>\n",
       "      <td>Manual</td>\n",
       "      <td>0</td>\n",
       "    </tr>\n",
       "    <tr>\n",
       "      <th>2</th>\n",
       "      <td>ciaz</td>\n",
       "      <td>2017</td>\n",
       "      <td>7.25</td>\n",
       "      <td>9.85</td>\n",
       "      <td>6900</td>\n",
       "      <td>Petrol</td>\n",
       "      <td>Dealer</td>\n",
       "      <td>Manual</td>\n",
       "      <td>0</td>\n",
       "    </tr>\n",
       "    <tr>\n",
       "      <th>3</th>\n",
       "      <td>wagon r</td>\n",
       "      <td>2011</td>\n",
       "      <td>2.85</td>\n",
       "      <td>4.15</td>\n",
       "      <td>5200</td>\n",
       "      <td>Petrol</td>\n",
       "      <td>Dealer</td>\n",
       "      <td>Manual</td>\n",
       "      <td>0</td>\n",
       "    </tr>\n",
       "    <tr>\n",
       "      <th>4</th>\n",
       "      <td>swift</td>\n",
       "      <td>2014</td>\n",
       "      <td>4.60</td>\n",
       "      <td>6.87</td>\n",
       "      <td>42450</td>\n",
       "      <td>Diesel</td>\n",
       "      <td>Dealer</td>\n",
       "      <td>Manual</td>\n",
       "      <td>0</td>\n",
       "    </tr>\n",
       "  </tbody>\n",
       "</table>\n",
       "</div>"
      ],
      "text/plain": [
       "  Car_Name  Year  Selling_Price  Present_Price  Kms_Driven Fuel_Type  \\\n",
       "0     ritz  2014           3.35           5.59       27000    Petrol   \n",
       "1      sx4  2013           4.75           9.54       43000    Diesel   \n",
       "2     ciaz  2017           7.25           9.85        6900    Petrol   \n",
       "3  wagon r  2011           2.85           4.15        5200    Petrol   \n",
       "4    swift  2014           4.60           6.87       42450    Diesel   \n",
       "\n",
       "  Seller_Type Transmission  Owner  \n",
       "0      Dealer       Manual      0  \n",
       "1      Dealer       Manual      0  \n",
       "2      Dealer       Manual      0  \n",
       "3      Dealer       Manual      0  \n",
       "4      Dealer       Manual      0  "
      ]
     },
     "execution_count": 12,
     "metadata": {},
     "output_type": "execute_result"
    }
   ],
   "source": [
    "df.head()"
   ]
  },
  {
   "cell_type": "markdown",
   "metadata": {
    "id": "12PKntblbV9C"
   },
   "source": [
    "# Feature Engineering"
   ]
  },
  {
   "cell_type": "markdown",
   "metadata": {
    "id": "P49wP0afbV9E"
   },
   "source": [
    "<ul>Fuel_Type feature:\n",
    "    <li>Fuel is Petrol if Fuel_type_diesel = 0 ,Fuel_Type_Petrol = 1</li>\n",
    "    <li>Fuel is Diesel if Fuel_type_diesel = 1 ,Fuel_Type_Petrol = 0</li>\n",
    "    <li>Fuel is cng if Fuel_type_diesel = 0 ,Fuel_Type_Petrol = 0</li>\n",
    "   </ul>\n",
    "<ul>Transmission feature:\n",
    "    <li>transmission is manual if Transmission_Manual = 1</li> \n",
    "    <li>transmission is automatic if Transmission_Manual = 0</li></ul>\n",
    "<ul>Seller_Type feature:\n",
    "    <li>Seller_Type is Individual if Seller_Type_Individual = 1 </li> \n",
    "    <li>Seller_Type is dealer if Seller_Type_Individual = 0</li> </ul>\n",
    "    \n"
   ]
  },
  {
   "cell_type": "code",
   "execution_count": 13,
   "metadata": {},
   "outputs": [
    {
     "data": {
      "text/html": [
       "<div>\n",
       "<style scoped>\n",
       "    .dataframe tbody tr th:only-of-type {\n",
       "        vertical-align: middle;\n",
       "    }\n",
       "\n",
       "    .dataframe tbody tr th {\n",
       "        vertical-align: top;\n",
       "    }\n",
       "\n",
       "    .dataframe thead th {\n",
       "        text-align: right;\n",
       "    }\n",
       "</style>\n",
       "<table border=\"1\" class=\"dataframe\">\n",
       "  <thead>\n",
       "    <tr style=\"text-align: right;\">\n",
       "      <th></th>\n",
       "      <th>Car_Name</th>\n",
       "      <th>Year</th>\n",
       "      <th>Selling_Price</th>\n",
       "      <th>Present_Price</th>\n",
       "      <th>Kms_Driven</th>\n",
       "      <th>Fuel_Type</th>\n",
       "      <th>Seller_Type</th>\n",
       "      <th>Transmission</th>\n",
       "      <th>Owner</th>\n",
       "      <th>Vehicle_Age</th>\n",
       "    </tr>\n",
       "  </thead>\n",
       "  <tbody>\n",
       "    <tr>\n",
       "      <th>0</th>\n",
       "      <td>ritz</td>\n",
       "      <td>2014</td>\n",
       "      <td>3.35</td>\n",
       "      <td>5.59</td>\n",
       "      <td>27000</td>\n",
       "      <td>Petrol</td>\n",
       "      <td>Dealer</td>\n",
       "      <td>Manual</td>\n",
       "      <td>0</td>\n",
       "      <td>8</td>\n",
       "    </tr>\n",
       "    <tr>\n",
       "      <th>1</th>\n",
       "      <td>sx4</td>\n",
       "      <td>2013</td>\n",
       "      <td>4.75</td>\n",
       "      <td>9.54</td>\n",
       "      <td>43000</td>\n",
       "      <td>Diesel</td>\n",
       "      <td>Dealer</td>\n",
       "      <td>Manual</td>\n",
       "      <td>0</td>\n",
       "      <td>9</td>\n",
       "    </tr>\n",
       "    <tr>\n",
       "      <th>2</th>\n",
       "      <td>ciaz</td>\n",
       "      <td>2017</td>\n",
       "      <td>7.25</td>\n",
       "      <td>9.85</td>\n",
       "      <td>6900</td>\n",
       "      <td>Petrol</td>\n",
       "      <td>Dealer</td>\n",
       "      <td>Manual</td>\n",
       "      <td>0</td>\n",
       "      <td>5</td>\n",
       "    </tr>\n",
       "    <tr>\n",
       "      <th>3</th>\n",
       "      <td>wagon r</td>\n",
       "      <td>2011</td>\n",
       "      <td>2.85</td>\n",
       "      <td>4.15</td>\n",
       "      <td>5200</td>\n",
       "      <td>Petrol</td>\n",
       "      <td>Dealer</td>\n",
       "      <td>Manual</td>\n",
       "      <td>0</td>\n",
       "      <td>11</td>\n",
       "    </tr>\n",
       "    <tr>\n",
       "      <th>4</th>\n",
       "      <td>swift</td>\n",
       "      <td>2014</td>\n",
       "      <td>4.60</td>\n",
       "      <td>6.87</td>\n",
       "      <td>42450</td>\n",
       "      <td>Diesel</td>\n",
       "      <td>Dealer</td>\n",
       "      <td>Manual</td>\n",
       "      <td>0</td>\n",
       "      <td>8</td>\n",
       "    </tr>\n",
       "  </tbody>\n",
       "</table>\n",
       "</div>"
      ],
      "text/plain": [
       "  Car_Name  Year  Selling_Price  Present_Price  Kms_Driven Fuel_Type  \\\n",
       "0     ritz  2014           3.35           5.59       27000    Petrol   \n",
       "1      sx4  2013           4.75           9.54       43000    Diesel   \n",
       "2     ciaz  2017           7.25           9.85        6900    Petrol   \n",
       "3  wagon r  2011           2.85           4.15        5200    Petrol   \n",
       "4    swift  2014           4.60           6.87       42450    Diesel   \n",
       "\n",
       "  Seller_Type Transmission  Owner  Vehicle_Age  \n",
       "0      Dealer       Manual      0            8  \n",
       "1      Dealer       Manual      0            9  \n",
       "2      Dealer       Manual      0            5  \n",
       "3      Dealer       Manual      0           11  \n",
       "4      Dealer       Manual      0            8  "
      ]
     },
     "execution_count": 13,
     "metadata": {},
     "output_type": "execute_result"
    }
   ],
   "source": [
    "df[\"Vehicle_Age\"]=2022-df.Year\n",
    "df.head()"
   ]
  },
  {
   "cell_type": "code",
   "execution_count": 14,
   "metadata": {},
   "outputs": [
    {
     "data": {
      "text/plain": [
       "city                   26\n",
       "corolla altis          16\n",
       "verna                  14\n",
       "fortuner               10\n",
       "brio                   10\n",
       "                       ..\n",
       "Hero  Ignitor Disc      1\n",
       "Hero Glamour            1\n",
       "Hero Super Splendor     1\n",
       "etios gd                1\n",
       "alto 800                1\n",
       "Name: Car_Name, Length: 98, dtype: int64"
      ]
     },
     "execution_count": 14,
     "metadata": {},
     "output_type": "execute_result"
    }
   ],
   "source": [
    "df.Car_Name.value_counts()"
   ]
  },
  {
   "cell_type": "code",
   "execution_count": 15,
   "metadata": {},
   "outputs": [],
   "source": [
    "df.drop(columns=[\"Car_Name\", \"Year\"], inplace=True)"
   ]
  },
  {
   "cell_type": "code",
   "execution_count": 16,
   "metadata": {},
   "outputs": [
    {
     "data": {
      "text/plain": [
       "<seaborn.axisgrid.PairGrid at 0x1d6020abfa0>"
      ]
     },
     "execution_count": 16,
     "metadata": {},
     "output_type": "execute_result"
    },
    {
     "data": {
      "image/png": "[encoded data removed]",
      "text/plain": [
       "<Figure size 900x900 with 30 Axes>"
      ]
     },
     "metadata": {
      "needs_background": "light"
     },
     "output_type": "display_data"
    }
   ],
   "source": [
    "sns.pairplot(df)"
   ]
  },
  {
   "cell_type": "code",
   "execution_count": 17,
   "metadata": {},
   "outputs": [
    {
     "data": {
      "text/html": [
       "<div>\n",
       "<style scoped>\n",
       "    .dataframe tbody tr th:only-of-type {\n",
       "        vertical-align: middle;\n",
       "    }\n",
       "\n",
       "    .dataframe tbody tr th {\n",
       "        vertical-align: top;\n",
       "    }\n",
       "\n",
       "    .dataframe thead th {\n",
       "        text-align: right;\n",
       "    }\n",
       "</style>\n",
       "<table border=\"1\" class=\"dataframe\">\n",
       "  <thead>\n",
       "    <tr style=\"text-align: right;\">\n",
       "      <th></th>\n",
       "      <th>Selling_Price</th>\n",
       "      <th>Present_Price</th>\n",
       "      <th>Kms_Driven</th>\n",
       "      <th>Owner</th>\n",
       "      <th>Vehicle_Age</th>\n",
       "      <th>Fuel_Type_Diesel</th>\n",
       "      <th>Fuel_Type_Petrol</th>\n",
       "      <th>Seller_Type_Individual</th>\n",
       "      <th>Transmission_Manual</th>\n",
       "    </tr>\n",
       "  </thead>\n",
       "  <tbody>\n",
       "    <tr>\n",
       "      <th>0</th>\n",
       "      <td>3.35</td>\n",
       "      <td>5.59</td>\n",
       "      <td>27000</td>\n",
       "      <td>0</td>\n",
       "      <td>8</td>\n",
       "      <td>0</td>\n",
       "      <td>1</td>\n",
       "      <td>0</td>\n",
       "      <td>1</td>\n",
       "    </tr>\n",
       "    <tr>\n",
       "      <th>1</th>\n",
       "      <td>4.75</td>\n",
       "      <td>9.54</td>\n",
       "      <td>43000</td>\n",
       "      <td>0</td>\n",
       "      <td>9</td>\n",
       "      <td>1</td>\n",
       "      <td>0</td>\n",
       "      <td>0</td>\n",
       "      <td>1</td>\n",
       "    </tr>\n",
       "    <tr>\n",
       "      <th>2</th>\n",
       "      <td>7.25</td>\n",
       "      <td>9.85</td>\n",
       "      <td>6900</td>\n",
       "      <td>0</td>\n",
       "      <td>5</td>\n",
       "      <td>0</td>\n",
       "      <td>1</td>\n",
       "      <td>0</td>\n",
       "      <td>1</td>\n",
       "    </tr>\n",
       "    <tr>\n",
       "      <th>3</th>\n",
       "      <td>2.85</td>\n",
       "      <td>4.15</td>\n",
       "      <td>5200</td>\n",
       "      <td>0</td>\n",
       "      <td>11</td>\n",
       "      <td>0</td>\n",
       "      <td>1</td>\n",
       "      <td>0</td>\n",
       "      <td>1</td>\n",
       "    </tr>\n",
       "    <tr>\n",
       "      <th>4</th>\n",
       "      <td>4.60</td>\n",
       "      <td>6.87</td>\n",
       "      <td>42450</td>\n",
       "      <td>0</td>\n",
       "      <td>8</td>\n",
       "      <td>1</td>\n",
       "      <td>0</td>\n",
       "      <td>0</td>\n",
       "      <td>1</td>\n",
       "    </tr>\n",
       "  </tbody>\n",
       "</table>\n",
       "</div>"
      ],
      "text/plain": [
       "   Selling_Price  Present_Price  Kms_Driven  Owner  Vehicle_Age  \\\n",
       "0           3.35           5.59       27000      0            8   \n",
       "1           4.75           9.54       43000      0            9   \n",
       "2           7.25           9.85        6900      0            5   \n",
       "3           2.85           4.15        5200      0           11   \n",
       "4           4.60           6.87       42450      0            8   \n",
       "\n",
       "   Fuel_Type_Diesel  Fuel_Type_Petrol  Seller_Type_Individual  \\\n",
       "0                 0                 1                       0   \n",
       "1                 1                 0                       0   \n",
       "2                 0                 1                       0   \n",
       "3                 0                 1                       0   \n",
       "4                 1                 0                       0   \n",
       "\n",
       "   Transmission_Manual  \n",
       "0                    1  \n",
       "1                    1  \n",
       "2                    1  \n",
       "3                    1  \n",
       "4                    1  "
      ]
     },
     "execution_count": 17,
     "metadata": {},
     "output_type": "execute_result"
    }
   ],
   "source": [
    "df=pd.get_dummies(df, drop_first=True)\n",
    "df.head()\n",
    "# drop_first=True"
   ]
  },
  {
   "cell_type": "code",
   "execution_count": 18,
   "metadata": {},
   "outputs": [
    {
     "data": {
      "text/plain": [
       "(299, 9)"
      ]
     },
     "execution_count": 18,
     "metadata": {},
     "output_type": "execute_result"
    }
   ],
   "source": [
    "df.shape"
   ]
  },
  {
   "cell_type": "code",
   "execution_count": 19,
   "metadata": {},
   "outputs": [
    {
     "data": {
      "image/png": "[encoded data removed]",
      "text/plain": [
       "<Figure size 1080x576 with 2 Axes>"
      ]
     },
     "metadata": {
      "needs_background": "light"
     },
     "output_type": "display_data"
    }
   ],
   "source": [
    "plt.figure(figsize = (15,8))\n",
    "sns.heatmap(df.corr(), annot=True)\n",
    "plt.show()"
   ]
  },
  {
   "cell_type": "markdown",
   "metadata": {
    "id": "Pe9yr6oCbV9I"
   },
   "source": [
    "### Features and target variable"
   ]
  },
  {
   "cell_type": "code",
   "execution_count": 20,
   "metadata": {
    "id": "OMnKPR41bV9K"
   },
   "outputs": [],
   "source": [
    "X = df.drop(\"Selling_Price\", axis=1)\n",
    "y = df[\"Selling_Price\"]"
   ]
  },
  {
   "cell_type": "markdown",
   "metadata": {
    "id": "IxhZbAYsbV9L"
   },
   "source": [
    "### Splitting data into training and testing"
   ]
  },
  {
   "cell_type": "code",
   "execution_count": 21,
   "metadata": {
    "id": "aS1EZ-6bbV9N"
   },
   "outputs": [
    {
     "name": "stdout",
     "output_type": "stream",
     "text": [
      "Train features shape :  (209, 8)\n",
      "Train target shape   :  (209,)\n",
      "Test features shape  :  (90, 8)\n",
      "Test target shape    :  (90,)\n"
     ]
    }
   ],
   "source": [
    "from sklearn.model_selection import train_test_split\n",
    "X_train, X_test, y_train, y_test = train_test_split(X, y, test_size=0.3, random_state=42)\n",
    "print(\"Train features shape : \", X_train.shape)\n",
    "print(\"Train target shape   : \", y_train.shape)\n",
    "print(\"Test features shape  : \", X_test.shape)\n",
    "print(\"Test target shape    : \", y_test.shape)\n"
   ]
  },
  {
   "cell_type": "markdown",
   "metadata": {
    "id": "KMJ-3iGxbV9O"
   },
   "source": [
    "##  Model Building (Linear Regression)"
   ]
  },
  {
   "cell_type": "code",
   "execution_count": 22,
   "metadata": {
    "id": "VEOdF27LbV9P"
   },
   "outputs": [],
   "source": [
    "from sklearn.linear_model import LinearRegression\n",
    "lm = LinearRegression()"
   ]
  },
  {
   "cell_type": "code",
   "execution_count": 23,
   "metadata": {},
   "outputs": [
    {
     "data": {
      "text/plain": [
       "LinearRegression()"
      ]
     },
     "execution_count": 23,
     "metadata": {},
     "output_type": "execute_result"
    }
   ],
   "source": [
    "lm.fit(X_train, y_train)"
   ]
  },
  {
   "cell_type": "code",
   "execution_count": 24,
   "metadata": {},
   "outputs": [
    {
     "data": {
      "text/plain": [
       "array([ 4.36414874e-01, -1.02640163e-05,  6.61387979e-01, -3.28630780e-01,\n",
       "        2.02747120e+00,  7.07767338e-01, -1.32491563e+00, -1.84748082e+00])"
      ]
     },
     "execution_count": 24,
     "metadata": {},
     "output_type": "execute_result"
    }
   ],
   "source": [
    "lm.coef_"
   ]
  },
  {
   "cell_type": "code",
   "execution_count": 25,
   "metadata": {},
   "outputs": [],
   "source": [
    "y_pred = lm.predict(X_test)"
   ]
  },
  {
   "cell_type": "code",
   "execution_count": 26,
   "metadata": {},
   "outputs": [],
   "source": [
    "y_train_pred = lm.predict(X_train)"
   ]
  },
  {
   "cell_type": "markdown",
   "metadata": {
    "id": "6T7pkytsbV9Q"
   },
   "source": [
    "# Interpret the model"
   ]
  },
  {
   "cell_type": "code",
   "execution_count": 27,
   "metadata": {
    "id": "TS-KF0JtbV9R"
   },
   "outputs": [],
   "source": [
    "from sklearn.metrics import mean_absolute_error, mean_squared_error, r2_score\n",
    "\n",
    "def eval_metrics(actual, pred):\n",
    "    mae = mean_absolute_error(actual, pred)\n",
    "    mse = mean_squared_error(actual, pred)\n",
    "    rmse = np.sqrt(mean_squared_error(actual, pred))\n",
    "    R2_score = r2_score(actual, pred)\n",
    "    print(\"Model testing performance:\")\n",
    "    print(\"--------------------------\")\n",
    "    print(f\"R2_score \\t: {R2_score}\")\n",
    "    print(f\"MAE \\t\\t: {mae}\")\n",
    "    print(f\"MSE \\t\\t: {mse}\")\n",
    "    print(f\"RMSE \\t\\t: {rmse}\")"
   ]
  },
  {
   "cell_type": "code",
   "execution_count": 28,
   "metadata": {},
   "outputs": [
    {
     "name": "stdout",
     "output_type": "stream",
     "text": [
      "Model testing performance:\n",
      "--------------------------\n",
      "R2_score \t: 0.9085927389273394\n",
      "MAE \t\t: 1.0321897038202077\n",
      "MSE \t\t: 2.3225010471535374\n",
      "RMSE \t\t: 1.5239754089727096\n"
     ]
    }
   ],
   "source": [
    "eval_metrics(y_train, y_train_pred)"
   ]
  },
  {
   "cell_type": "code",
   "execution_count": 29,
   "metadata": {
    "scrolled": false
   },
   "outputs": [
    {
     "name": "stdout",
     "output_type": "stream",
     "text": [
      "Model testing performance:\n",
      "--------------------------\n",
      "R2_score \t: 0.7769436361832505\n",
      "MAE \t\t: 1.3768954093426906\n",
      "MSE \t\t: 5.186151887064551\n",
      "RMSE \t\t: 2.2773124263184776\n"
     ]
    }
   ],
   "source": [
    "eval_metrics(y_test, y_pred)"
   ]
  },
  {
   "cell_type": "code",
   "execution_count": 30,
   "metadata": {},
   "outputs": [],
   "source": [
    "def train_val(y_train, y_train_pred, y_test, y_pred, i):\n",
    "    \n",
    "    scores = {i+\"_train\": {\"R2\" : r2_score(y_train, y_train_pred),\n",
    "    \"mae\" : mean_absolute_error(y_train, y_train_pred),\n",
    "    \"mse\" : mean_squared_error(y_train, y_train_pred),                          \n",
    "    \"rmse\" : np.sqrt(mean_squared_error(y_train, y_train_pred))},\n",
    "    \n",
    "    i+\"_test\": {\"R2\" : r2_score(y_test, y_pred),\n",
    "    \"mae\" : mean_absolute_error(y_test, y_pred),\n",
    "    \"mse\" : mean_squared_error(y_test, y_pred),\n",
    "    \"rmse\" : np.sqrt(mean_squared_error(y_test, y_pred))}}\n",
    "    \n",
    "    return pd.DataFrame(scores)"
   ]
  },
  {
   "cell_type": "code",
   "execution_count": 31,
   "metadata": {},
   "outputs": [
    {
     "data": {
      "text/html": [
       "<div>\n",
       "<style scoped>\n",
       "    .dataframe tbody tr th:only-of-type {\n",
       "        vertical-align: middle;\n",
       "    }\n",
       "\n",
       "    .dataframe tbody tr th {\n",
       "        vertical-align: top;\n",
       "    }\n",
       "\n",
       "    .dataframe thead th {\n",
       "        text-align: right;\n",
       "    }\n",
       "</style>\n",
       "<table border=\"1\" class=\"dataframe\">\n",
       "  <thead>\n",
       "    <tr style=\"text-align: right;\">\n",
       "      <th></th>\n",
       "      <th>linear_train</th>\n",
       "      <th>linear_test</th>\n",
       "    </tr>\n",
       "  </thead>\n",
       "  <tbody>\n",
       "    <tr>\n",
       "      <th>R2</th>\n",
       "      <td>0.908593</td>\n",
       "      <td>0.776944</td>\n",
       "    </tr>\n",
       "    <tr>\n",
       "      <th>mae</th>\n",
       "      <td>1.032190</td>\n",
       "      <td>1.376895</td>\n",
       "    </tr>\n",
       "    <tr>\n",
       "      <th>mse</th>\n",
       "      <td>2.322501</td>\n",
       "      <td>5.186152</td>\n",
       "    </tr>\n",
       "    <tr>\n",
       "      <th>rmse</th>\n",
       "      <td>1.523975</td>\n",
       "      <td>2.277312</td>\n",
       "    </tr>\n",
       "  </tbody>\n",
       "</table>\n",
       "</div>"
      ],
      "text/plain": [
       "      linear_train  linear_test\n",
       "R2        0.908593     0.776944\n",
       "mae       1.032190     1.376895\n",
       "mse       2.322501     5.186152\n",
       "rmse      1.523975     2.277312"
      ]
     },
     "execution_count": 31,
     "metadata": {},
     "output_type": "execute_result"
    }
   ],
   "source": [
    "ls =train_val(y_train, y_train_pred, y_test, y_pred, \"linear\")\n",
    "ls"
   ]
  },
  {
   "cell_type": "code",
   "execution_count": null,
   "metadata": {
    "scrolled": true
   },
   "outputs": [],
   "source": []
  },
  {
   "cell_type": "code",
   "execution_count": 32,
   "metadata": {
    "scrolled": true
   },
   "outputs": [
    {
     "data": {
      "text/html": [
       "<div>\n",
       "<style scoped>\n",
       "    .dataframe tbody tr th:only-of-type {\n",
       "        vertical-align: middle;\n",
       "    }\n",
       "\n",
       "    .dataframe tbody tr th {\n",
       "        vertical-align: top;\n",
       "    }\n",
       "\n",
       "    .dataframe thead th {\n",
       "        text-align: right;\n",
       "    }\n",
       "</style>\n",
       "<table border=\"1\" class=\"dataframe\">\n",
       "  <thead>\n",
       "    <tr style=\"text-align: right;\">\n",
       "      <th></th>\n",
       "      <th>Actual</th>\n",
       "      <th>Predicted</th>\n",
       "      <th>Residual</th>\n",
       "    </tr>\n",
       "  </thead>\n",
       "  <tbody>\n",
       "    <tr>\n",
       "      <th>281</th>\n",
       "      <td>8.99</td>\n",
       "      <td>7.493467</td>\n",
       "      <td>1.496533</td>\n",
       "    </tr>\n",
       "    <tr>\n",
       "      <th>265</th>\n",
       "      <td>8.35</td>\n",
       "      <td>7.658783</td>\n",
       "      <td>0.691217</td>\n",
       "    </tr>\n",
       "    <tr>\n",
       "      <th>164</th>\n",
       "      <td>0.45</td>\n",
       "      <td>1.341099</td>\n",
       "      <td>-0.891099</td>\n",
       "    </tr>\n",
       "    <tr>\n",
       "      <th>9</th>\n",
       "      <td>7.45</td>\n",
       "      <td>6.885289</td>\n",
       "      <td>0.564711</td>\n",
       "    </tr>\n",
       "    <tr>\n",
       "      <th>77</th>\n",
       "      <td>5.25</td>\n",
       "      <td>11.454177</td>\n",
       "      <td>-6.204177</td>\n",
       "    </tr>\n",
       "    <tr>\n",
       "      <th>278</th>\n",
       "      <td>5.25</td>\n",
       "      <td>4.533998</td>\n",
       "      <td>0.716002</td>\n",
       "    </tr>\n",
       "    <tr>\n",
       "      <th>93</th>\n",
       "      <td>5.85</td>\n",
       "      <td>8.504399</td>\n",
       "      <td>-2.654399</td>\n",
       "    </tr>\n",
       "    <tr>\n",
       "      <th>109</th>\n",
       "      <td>1.15</td>\n",
       "      <td>1.676660</td>\n",
       "      <td>-0.526660</td>\n",
       "    </tr>\n",
       "    <tr>\n",
       "      <th>5</th>\n",
       "      <td>9.25</td>\n",
       "      <td>8.681917</td>\n",
       "      <td>0.568083</td>\n",
       "    </tr>\n",
       "    <tr>\n",
       "      <th>173</th>\n",
       "      <td>0.38</td>\n",
       "      <td>-0.958162</td>\n",
       "      <td>1.338162</td>\n",
       "    </tr>\n",
       "    <tr>\n",
       "      <th>97</th>\n",
       "      <td>9.65</td>\n",
       "      <td>10.195407</td>\n",
       "      <td>-0.545407</td>\n",
       "    </tr>\n",
       "    <tr>\n",
       "      <th>195</th>\n",
       "      <td>0.16</td>\n",
       "      <td>-0.976591</td>\n",
       "      <td>1.136591</td>\n",
       "    </tr>\n",
       "    <tr>\n",
       "      <th>184</th>\n",
       "      <td>0.25</td>\n",
       "      <td>0.988158</td>\n",
       "      <td>-0.738158</td>\n",
       "    </tr>\n",
       "    <tr>\n",
       "      <th>154</th>\n",
       "      <td>0.48</td>\n",
       "      <td>1.512941</td>\n",
       "      <td>-1.032941</td>\n",
       "    </tr>\n",
       "    <tr>\n",
       "      <th>57</th>\n",
       "      <td>4.10</td>\n",
       "      <td>5.002723</td>\n",
       "      <td>-0.902723</td>\n",
       "    </tr>\n",
       "    <tr>\n",
       "      <th>60</th>\n",
       "      <td>4.50</td>\n",
       "      <td>5.051418</td>\n",
       "      <td>-0.551418</td>\n",
       "    </tr>\n",
       "    <tr>\n",
       "      <th>147</th>\n",
       "      <td>0.51</td>\n",
       "      <td>1.275228</td>\n",
       "      <td>-0.765228</td>\n",
       "    </tr>\n",
       "    <tr>\n",
       "      <th>108</th>\n",
       "      <td>1.20</td>\n",
       "      <td>1.826569</td>\n",
       "      <td>-0.626569</td>\n",
       "    </tr>\n",
       "    <tr>\n",
       "      <th>63</th>\n",
       "      <td>33.00</td>\n",
       "      <td>21.681793</td>\n",
       "      <td>11.318207</td>\n",
       "    </tr>\n",
       "    <tr>\n",
       "      <th>140</th>\n",
       "      <td>0.60</td>\n",
       "      <td>0.851636</td>\n",
       "      <td>-0.251636</td>\n",
       "    </tr>\n",
       "    <tr>\n",
       "      <th>155</th>\n",
       "      <td>0.48</td>\n",
       "      <td>0.913220</td>\n",
       "      <td>-0.433220</td>\n",
       "    </tr>\n",
       "    <tr>\n",
       "      <th>104</th>\n",
       "      <td>1.35</td>\n",
       "      <td>2.451736</td>\n",
       "      <td>-1.101736</td>\n",
       "    </tr>\n",
       "    <tr>\n",
       "      <th>247</th>\n",
       "      <td>5.25</td>\n",
       "      <td>5.578515</td>\n",
       "      <td>-0.328515</td>\n",
       "    </tr>\n",
       "    <tr>\n",
       "      <th>46</th>\n",
       "      <td>1.05</td>\n",
       "      <td>0.293903</td>\n",
       "      <td>0.756097</td>\n",
       "    </tr>\n",
       "    <tr>\n",
       "      <th>42</th>\n",
       "      <td>5.50</td>\n",
       "      <td>6.146310</td>\n",
       "      <td>-0.646310</td>\n",
       "    </tr>\n",
       "  </tbody>\n",
       "</table>\n",
       "</div>"
      ],
      "text/plain": [
       "     Actual  Predicted   Residual\n",
       "281    8.99   7.493467   1.496533\n",
       "265    8.35   7.658783   0.691217\n",
       "164    0.45   1.341099  -0.891099\n",
       "9      7.45   6.885289   0.564711\n",
       "77     5.25  11.454177  -6.204177\n",
       "278    5.25   4.533998   0.716002\n",
       "93     5.85   8.504399  -2.654399\n",
       "109    1.15   1.676660  -0.526660\n",
       "5      9.25   8.681917   0.568083\n",
       "173    0.38  -0.958162   1.338162\n",
       "97     9.65  10.195407  -0.545407\n",
       "195    0.16  -0.976591   1.136591\n",
       "184    0.25   0.988158  -0.738158\n",
       "154    0.48   1.512941  -1.032941\n",
       "57     4.10   5.002723  -0.902723\n",
       "60     4.50   5.051418  -0.551418\n",
       "147    0.51   1.275228  -0.765228\n",
       "108    1.20   1.826569  -0.626569\n",
       "63    33.00  21.681793  11.318207\n",
       "140    0.60   0.851636  -0.251636\n",
       "155    0.48   0.913220  -0.433220\n",
       "104    1.35   2.451736  -1.101736\n",
       "247    5.25   5.578515  -0.328515\n",
       "46     1.05   0.293903   0.756097\n",
       "42     5.50   6.146310  -0.646310"
      ]
     },
     "execution_count": 32,
     "metadata": {},
     "output_type": "execute_result"
    }
   ],
   "source": [
    "lm_results = pd.DataFrame({'Actual': y_test, 'Predicted': y_pred, \"Residual\" : (y_test - y_pred)})\n",
    "\n",
    "lm_result_sample = lm_results.head(25)\n",
    "lm_result_sample"
   ]
  },
  {
   "cell_type": "code",
   "execution_count": 33,
   "metadata": {},
   "outputs": [
    {
     "data": {
      "image/png": "[encoded data removed]",
      "text/plain": [
       "<Figure size 1080x648 with 1 Axes>"
      ]
     },
     "metadata": {
      "needs_background": "light"
     },
     "output_type": "display_data"
    }
   ],
   "source": [
    "lm_result_sample.plot(kind = \"bar\", figsize = (15,9))\n",
    "plt.show()"
   ]
  },
  {
   "cell_type": "markdown",
   "metadata": {
    "id": "Xf8mmQdSbV9R"
   },
   "source": [
    "# Model Evaluation"
   ]
  },
  {
   "cell_type": "code",
   "execution_count": 34,
   "metadata": {},
   "outputs": [],
   "source": [
    "from sklearn.model_selection import cross_validate, cross_val_score"
   ]
  },
  {
   "cell_type": "code",
   "execution_count": 35,
   "metadata": {},
   "outputs": [],
   "source": [
    "model = LinearRegression()\n",
    "scores = cross_validate(model, X_train, y_train, scoring = ['r2', 'neg_mean_absolute_error','neg_mean_squared_error', \\\n",
    "                                                            'neg_root_mean_squared_error'], cv = 10)"
   ]
  },
  {
   "cell_type": "code",
   "execution_count": 36,
   "metadata": {
    "scrolled": true
   },
   "outputs": [
    {
     "data": {
      "text/html": [
       "<div>\n",
       "<style scoped>\n",
       "    .dataframe tbody tr th:only-of-type {\n",
       "        vertical-align: middle;\n",
       "    }\n",
       "\n",
       "    .dataframe tbody tr th {\n",
       "        vertical-align: top;\n",
       "    }\n",
       "\n",
       "    .dataframe thead th {\n",
       "        text-align: right;\n",
       "    }\n",
       "</style>\n",
       "<table border=\"1\" class=\"dataframe\">\n",
       "  <thead>\n",
       "    <tr style=\"text-align: right;\">\n",
       "      <th></th>\n",
       "      <th>fit_time</th>\n",
       "      <th>score_time</th>\n",
       "      <th>test_r2</th>\n",
       "      <th>test_neg_mean_absolute_error</th>\n",
       "      <th>test_neg_mean_squared_error</th>\n",
       "      <th>test_neg_root_mean_squared_error</th>\n",
       "    </tr>\n",
       "  </thead>\n",
       "  <tbody>\n",
       "    <tr>\n",
       "      <th>1</th>\n",
       "      <td>0.002993</td>\n",
       "      <td>0.002990</td>\n",
       "      <td>0.848011</td>\n",
       "      <td>-1.016565</td>\n",
       "      <td>-1.500406</td>\n",
       "      <td>-1.224911</td>\n",
       "    </tr>\n",
       "    <tr>\n",
       "      <th>2</th>\n",
       "      <td>0.003989</td>\n",
       "      <td>0.003989</td>\n",
       "      <td>0.901121</td>\n",
       "      <td>-0.624442</td>\n",
       "      <td>-0.528359</td>\n",
       "      <td>-0.726883</td>\n",
       "    </tr>\n",
       "    <tr>\n",
       "      <th>3</th>\n",
       "      <td>0.004987</td>\n",
       "      <td>0.002993</td>\n",
       "      <td>0.775898</td>\n",
       "      <td>-1.126270</td>\n",
       "      <td>-2.291525</td>\n",
       "      <td>-1.513778</td>\n",
       "    </tr>\n",
       "    <tr>\n",
       "      <th>4</th>\n",
       "      <td>0.002993</td>\n",
       "      <td>0.002991</td>\n",
       "      <td>0.741113</td>\n",
       "      <td>-2.196917</td>\n",
       "      <td>-18.065743</td>\n",
       "      <td>-4.250382</td>\n",
       "    </tr>\n",
       "    <tr>\n",
       "      <th>5</th>\n",
       "      <td>0.003991</td>\n",
       "      <td>0.002990</td>\n",
       "      <td>0.848787</td>\n",
       "      <td>-1.076935</td>\n",
       "      <td>-2.566004</td>\n",
       "      <td>-1.601875</td>\n",
       "    </tr>\n",
       "    <tr>\n",
       "      <th>6</th>\n",
       "      <td>0.003025</td>\n",
       "      <td>0.003956</td>\n",
       "      <td>0.926844</td>\n",
       "      <td>-1.047307</td>\n",
       "      <td>-1.744165</td>\n",
       "      <td>-1.320668</td>\n",
       "    </tr>\n",
       "    <tr>\n",
       "      <th>7</th>\n",
       "      <td>0.002991</td>\n",
       "      <td>0.002995</td>\n",
       "      <td>0.866703</td>\n",
       "      <td>-1.296561</td>\n",
       "      <td>-4.292882</td>\n",
       "      <td>-2.071927</td>\n",
       "    </tr>\n",
       "    <tr>\n",
       "      <th>8</th>\n",
       "      <td>0.002992</td>\n",
       "      <td>0.001995</td>\n",
       "      <td>0.829358</td>\n",
       "      <td>-1.052682</td>\n",
       "      <td>-1.769555</td>\n",
       "      <td>-1.330246</td>\n",
       "    </tr>\n",
       "    <tr>\n",
       "      <th>9</th>\n",
       "      <td>0.002990</td>\n",
       "      <td>0.001995</td>\n",
       "      <td>0.912808</td>\n",
       "      <td>-1.263287</td>\n",
       "      <td>-3.574773</td>\n",
       "      <td>-1.890707</td>\n",
       "    </tr>\n",
       "    <tr>\n",
       "      <th>10</th>\n",
       "      <td>0.001995</td>\n",
       "      <td>0.001994</td>\n",
       "      <td>0.858507</td>\n",
       "      <td>-0.742367</td>\n",
       "      <td>-0.830099</td>\n",
       "      <td>-0.911098</td>\n",
       "    </tr>\n",
       "  </tbody>\n",
       "</table>\n",
       "</div>"
      ],
      "text/plain": [
       "    fit_time  score_time   test_r2  test_neg_mean_absolute_error  \\\n",
       "1   0.002993    0.002990  0.848011                     -1.016565   \n",
       "2   0.003989    0.003989  0.901121                     -0.624442   \n",
       "3   0.004987    0.002993  0.775898                     -1.126270   \n",
       "4   0.002993    0.002991  0.741113                     -2.196917   \n",
       "5   0.003991    0.002990  0.848787                     -1.076935   \n",
       "6   0.003025    0.003956  0.926844                     -1.047307   \n",
       "7   0.002991    0.002995  0.866703                     -1.296561   \n",
       "8   0.002992    0.001995  0.829358                     -1.052682   \n",
       "9   0.002990    0.001995  0.912808                     -1.263287   \n",
       "10  0.001995    0.001994  0.858507                     -0.742367   \n",
       "\n",
       "    test_neg_mean_squared_error  test_neg_root_mean_squared_error  \n",
       "1                     -1.500406                         -1.224911  \n",
       "2                     -0.528359                         -0.726883  \n",
       "3                     -2.291525                         -1.513778  \n",
       "4                    -18.065743                         -4.250382  \n",
       "5                     -2.566004                         -1.601875  \n",
       "6                     -1.744165                         -1.320668  \n",
       "7                     -4.292882                         -2.071927  \n",
       "8                     -1.769555                         -1.330246  \n",
       "9                     -3.574773                         -1.890707  \n",
       "10                    -0.830099                         -0.911098  "
      ]
     },
     "execution_count": 36,
     "metadata": {},
     "output_type": "execute_result"
    }
   ],
   "source": [
    "pd.DataFrame(scores, index = range(1, 11))"
   ]
  },
  {
   "cell_type": "code",
   "execution_count": 37,
   "metadata": {},
   "outputs": [
    {
     "data": {
      "text/plain": [
       "test_r2                             0.850915\n",
       "test_neg_mean_absolute_error       -1.144333\n",
       "test_neg_mean_squared_error        -3.716351\n",
       "test_neg_root_mean_squared_error   -1.684247\n",
       "dtype: float64"
      ]
     },
     "execution_count": 37,
     "metadata": {},
     "output_type": "execute_result"
    }
   ],
   "source": [
    "scores = pd.DataFrame(scores, index = range(1, 11))\n",
    "scores.iloc[:,2:].mean()"
   ]
  },
  {
   "cell_type": "code",
   "execution_count": 38,
   "metadata": {
    "scrolled": true
   },
   "outputs": [
    {
     "data": {
      "image/png": "[encoded data removed]",
      "text/plain": [
       "<Figure size 432x288 with 1 Axes>"
      ]
     },
     "metadata": {
      "needs_background": "light"
     },
     "output_type": "display_data"
    }
   ],
   "source": [
    "sns.lineplot(data = scores.iloc[:,2:]);"
   ]
  },
  {
   "cell_type": "code",
   "execution_count": 39,
   "metadata": {
    "scrolled": true
   },
   "outputs": [
    {
     "data": {
      "text/plain": [
       "array([ 4.36414874e-01, -1.02640163e-05,  6.61387979e-01, -3.28630780e-01,\n",
       "        2.02747120e+00,  7.07767338e-01, -1.32491563e+00, -1.84748082e+00])"
      ]
     },
     "execution_count": 39,
     "metadata": {},
     "output_type": "execute_result"
    }
   ],
   "source": [
    "lm.coef_"
   ]
  },
  {
   "cell_type": "code",
   "execution_count": 40,
   "metadata": {
    "scrolled": true
   },
   "outputs": [
    {
     "data": {
      "text/html": [
       "<div>\n",
       "<style scoped>\n",
       "    .dataframe tbody tr th:only-of-type {\n",
       "        vertical-align: middle;\n",
       "    }\n",
       "\n",
       "    .dataframe tbody tr th {\n",
       "        vertical-align: top;\n",
       "    }\n",
       "\n",
       "    .dataframe thead th {\n",
       "        text-align: right;\n",
       "    }\n",
       "</style>\n",
       "<table border=\"1\" class=\"dataframe\">\n",
       "  <thead>\n",
       "    <tr style=\"text-align: right;\">\n",
       "      <th></th>\n",
       "      <th>lm_coef</th>\n",
       "    </tr>\n",
       "  </thead>\n",
       "  <tbody>\n",
       "    <tr>\n",
       "      <th>0</th>\n",
       "      <td>0.436415</td>\n",
       "    </tr>\n",
       "    <tr>\n",
       "      <th>1</th>\n",
       "      <td>-0.000010</td>\n",
       "    </tr>\n",
       "    <tr>\n",
       "      <th>2</th>\n",
       "      <td>0.661388</td>\n",
       "    </tr>\n",
       "    <tr>\n",
       "      <th>3</th>\n",
       "      <td>-0.328631</td>\n",
       "    </tr>\n",
       "    <tr>\n",
       "      <th>4</th>\n",
       "      <td>2.027471</td>\n",
       "    </tr>\n",
       "    <tr>\n",
       "      <th>5</th>\n",
       "      <td>0.707767</td>\n",
       "    </tr>\n",
       "    <tr>\n",
       "      <th>6</th>\n",
       "      <td>-1.324916</td>\n",
       "    </tr>\n",
       "    <tr>\n",
       "      <th>7</th>\n",
       "      <td>-1.847481</td>\n",
       "    </tr>\n",
       "  </tbody>\n",
       "</table>\n",
       "</div>"
      ],
      "text/plain": [
       "    lm_coef\n",
       "0  0.436415\n",
       "1 -0.000010\n",
       "2  0.661388\n",
       "3 -0.328631\n",
       "4  2.027471\n",
       "5  0.707767\n",
       "6 -1.324916\n",
       "7 -1.847481"
      ]
     },
     "execution_count": 40,
     "metadata": {},
     "output_type": "execute_result"
    }
   ],
   "source": [
    "lm_df = pd.DataFrame(lm.coef_, columns = [\"lm_coef\"])\n",
    "lm_df"
   ]
  },
  {
   "cell_type": "code",
   "execution_count": 41,
   "metadata": {},
   "outputs": [
    {
     "data": {
      "image/png": "[encoded data removed]",
      "text/plain": [
       "<Figure size 576x396 with 1 Axes>"
      ]
     },
     "metadata": {},
     "output_type": "display_data"
    },
    {
     "data": {
      "text/plain": [
       "<AxesSubplot:title={'center':'Prediction Error for LinearRegression'}, xlabel='$y$', ylabel='$\\\\hat{y}$'>"
      ]
     },
     "execution_count": 41,
     "metadata": {},
     "output_type": "execute_result"
    }
   ],
   "source": [
    "from yellowbrick.regressor import PredictionError\n",
    "# Instantiate the linear model and visualizer\n",
    "lm= LinearRegression(normalize=True)\n",
    "visualizer = PredictionError(model)\n",
    "visualizer.fit(X_train, y_train)  # Fit the training data to the visualizer\n",
    "visualizer.score(X_test, y_test)  # Evaluate the model on the test data\n",
    "visualizer.show() "
   ]
  },
  {
   "cell_type": "markdown",
   "metadata": {
    "id": "ngfv0b5vbnO6"
   },
   "source": [
    "# Regularization"
   ]
  },
  {
   "cell_type": "code",
   "execution_count": 42,
   "metadata": {},
   "outputs": [],
   "source": [
    "from sklearn.preprocessing import StandardScaler, MinMaxScaler, RobustScaler\n",
    "scaler = StandardScaler()"
   ]
  },
  {
   "cell_type": "code",
   "execution_count": 43,
   "metadata": {
    "scrolled": true
   },
   "outputs": [
    {
     "data": {
      "text/plain": [
       "StandardScaler()"
      ]
     },
     "execution_count": 43,
     "metadata": {},
     "output_type": "execute_result"
    }
   ],
   "source": [
    "scaler.fit(X_train) "
   ]
  },
  {
   "cell_type": "code",
   "execution_count": 44,
   "metadata": {
    "scrolled": true
   },
   "outputs": [
    {
     "data": {
      "text/plain": [
       "array([[-0.19198325, -0.33121906, -0.18615441, ...,  0.48650426,\n",
       "        -0.74037028,  0.37693037],\n",
       "       [ 1.49489401, -0.77044454, -0.18615441, ...,  0.48650426,\n",
       "        -0.74037028,  0.37693037],\n",
       "       [ 0.21836822,  0.06788786, -0.18615441, ...,  0.48650426,\n",
       "        -0.74037028, -2.6530099 ],\n",
       "       ...,\n",
       "       [-0.65778762, -0.56257635, -0.18615441, ...,  0.48650426,\n",
       "         1.35067551,  0.37693037],\n",
       "       [ 0.2849117 , -0.22998725, -0.18615441, ...,  0.48650426,\n",
       "        -0.74037028,  0.37693037],\n",
       "       [-0.6611148 , -1.04413765, -0.18615441, ...,  0.48650426,\n",
       "         1.35067551,  0.37693037]])"
      ]
     },
     "execution_count": 44,
     "metadata": {},
     "output_type": "execute_result"
    }
   ],
   "source": [
    "X_train_scaled = scaler.transform(X_train)\n",
    "X_train_scaled"
   ]
  },
  {
   "cell_type": "code",
   "execution_count": 45,
   "metadata": {
    "scrolled": true
   },
   "outputs": [
    {
     "data": {
      "text/plain": [
       "array([[ 4.84542146e-01, -8.74032185e-01, -1.86154413e-01,\n",
       "        -7.87601468e-01, -4.78969482e-01,  4.86504255e-01,\n",
       "        -7.40370278e-01,  3.76930369e-01],\n",
       "       [ 2.18368219e-01, -5.12895855e-01, -1.86154413e-01,\n",
       "        -7.87601468e-01,  2.08781569e+00, -2.05548048e+00,\n",
       "        -7.40370278e-01,  3.76930369e-01],\n",
       "       [-7.63148136e-01, -1.15153622e+00, -1.86154413e-01,\n",
       "        -7.87601468e-01, -4.78969482e-01,  4.86504255e-01,\n",
       "         1.35067551e+00,  3.76930369e-01],\n",
       "       [ 1.65133434e-01,  2.81611001e-01, -1.86154413e-01,\n",
       "        -4.40325715e-01,  2.08781569e+00, -2.05548048e+00,\n",
       "        -7.40370278e-01,  3.76930369e-01],\n",
       "       [ 1.70783315e+00,  1.58539492e+00, -1.86154413e-01,\n",
       "         1.29605305e+00, -4.78969482e-01,  4.86504255e-01,\n",
       "        -7.40370278e-01, -2.65300990e+00],\n",
       "       [-1.69802091e-01, -6.85045358e-01, -1.86154413e-01,\n",
       "        -4.40325715e-01, -4.78969482e-01,  4.86504255e-01,\n",
       "        -7.40370278e-01,  3.76930369e-01],\n",
       "       [ 1.23981066e+00,  1.30823733e+00, -1.86154413e-01,\n",
       "         6.01501543e-01, -4.78969482e-01,  4.86504255e-01,\n",
       "        -7.40370278e-01,  3.76930369e-01],\n",
       "       [-6.57787624e-01, -8.84772042e-01, -1.86154413e-01,\n",
       "        -7.87601468e-01, -4.78969482e-01,  4.86504255e-01,\n",
       "         1.35067551e+00,  3.76930369e-01],\n",
       "       [ 2.66057715e-01, -1.11443174e+00, -1.86154413e-01,\n",
       "        -1.48215297e+00,  2.08781569e+00, -2.05548048e+00,\n",
       "        -7.40370278e-01,  3.76930369e-01],\n",
       "       [-7.36863461e-01,  1.41217143e+00, -1.86154413e-01,\n",
       "         9.48777296e-01, -4.78969482e-01,  4.86504255e-01,\n",
       "         1.35067551e+00,  3.76930369e-01],\n",
       "       [ 1.44387734e+00,  5.46885453e-01, -1.86154413e-01,\n",
       "         1.29605305e+00,  2.08781569e+00, -2.05548048e+00,\n",
       "        -7.40370278e-01,  3.76930369e-01],\n",
       "       [-7.67584369e-01, -4.29058835e-02, -1.86154413e-01,\n",
       "         1.29605305e+00, -4.78969482e-01,  4.86504255e-01,\n",
       "         1.35067551e+00,  3.76930369e-01],\n",
       "       [-7.66475310e-01, -4.23997560e-01, -1.86154413e-01,\n",
       "         1.29605305e+00, -4.78969482e-01,  4.86504255e-01,\n",
       "         1.35067551e+00, -2.65300990e+00],\n",
       "       [-7.66475310e-01, -6.66510445e-01, -1.86154413e-01,\n",
       "        -1.13487722e+00, -4.78969482e-01,  4.86504255e-01,\n",
       "         1.35067551e+00,  3.76930369e-01],\n",
       "       [-6.99868681e-02,  1.81764982e-01,  5.37188448e+00,\n",
       "        -9.30499624e-02, -4.78969482e-01,  4.86504255e-01,\n",
       "        -7.40370278e-01,  3.76930369e-01],\n",
       "       [ 2.98283545e-02,  2.19978084e-01, -1.86154413e-01,\n",
       "        -4.40325715e-01, -4.78969482e-01,  4.86504255e-01,\n",
       "        -7.40370278e-01,  3.76930369e-01],\n",
       "       [-7.19894873e-01, -3.54708164e-01, -1.86154413e-01,\n",
       "        -7.87601468e-01, -4.78969482e-01,  4.86504255e-01,\n",
       "         1.35067551e+00,  3.76930369e-01],\n",
       "       [-6.26733999e-01, -9.78312726e-01, -1.86154413e-01,\n",
       "        -7.87601468e-01, -4.78969482e-01,  4.86504255e-01,\n",
       "         1.35067551e+00,  3.76930369e-01],\n",
       "       [ 3.19397091e+00, -9.78312726e-01, -1.86154413e-01,\n",
       "        -1.13487722e+00,  2.08781569e+00, -2.05548048e+00,\n",
       "        -7.40370278e-01, -2.65300990e+00],\n",
       "       [-7.30985454e-01, -1.81484675e-01, -1.86154413e-01,\n",
       "        -4.40325715e-01, -4.78969482e-01,  4.86504255e-01,\n",
       "         1.35067551e+00,  3.76930369e-01],\n",
       "       [-7.30985454e-01, -3.89352862e-01, -1.86154413e-01,\n",
       "        -4.40325715e-01, -4.78969482e-01,  4.86504255e-01,\n",
       "         1.35067551e+00,  3.76930369e-01],\n",
       "       [-4.41521308e-01, -6.14543398e-01,  5.37188448e+00,\n",
       "        -9.30499624e-02, -4.78969482e-01,  4.86504255e-01,\n",
       "         1.35067551e+00,  3.76930369e-01],\n",
       "       [ 1.87377742e-02, -5.97221049e-01, -1.86154413e-01,\n",
       "        -7.87601468e-01, -4.78969482e-01,  4.86504255e-01,\n",
       "        -7.40370278e-01,  3.76930369e-01],\n",
       "       [-3.63887246e-01,  1.06572445e+00, -1.86154413e-01,\n",
       "         2.68515606e+00, -4.78969482e-01,  4.86504255e-01,\n",
       "        -7.40370278e-01,  3.76930369e-01],\n",
       "       [ 6.97544435e-02,  3.99853355e-01, -1.86154413e-01,\n",
       "        -9.30499624e-02,  2.08781569e+00, -2.05548048e+00,\n",
       "        -7.40370278e-01,  3.76930369e-01],\n",
       "       [ 6.84172592e-01, -4.31619394e-01, -1.86154413e-01,\n",
       "        -4.40325715e-01, -4.78969482e-01,  4.86504255e-01,\n",
       "        -7.40370278e-01,  3.76930369e-01],\n",
       "       [ 7.28534913e-01,  9.96435052e-01, -1.86154413e-01,\n",
       "        -9.30499624e-02,  2.08781569e+00, -2.05548048e+00,\n",
       "        -7.40370278e-01,  3.76930369e-01],\n",
       "       [-6.61114798e-01, -2.85418769e-01, -1.86154413e-01,\n",
       "        -4.40325715e-01, -4.78969482e-01,  4.86504255e-01,\n",
       "         1.35067551e+00,  3.76930369e-01],\n",
       "       [ 2.18368219e-01,  6.44926798e-02, -1.86154413e-01,\n",
       "         6.01501543e-01, -4.78969482e-01,  4.86504255e-01,\n",
       "        -7.40370278e-01,  3.76930369e-01],\n",
       "       [ 2.18368219e-01,  9.00850331e-01, -1.86154413e-01,\n",
       "         2.54225790e-01, -4.78969482e-01,  4.86504255e-01,\n",
       "        -7.40370278e-01,  3.76930369e-01],\n",
       "       [-2.59635791e-01,  4.37058611e-02, -1.86154413e-01,\n",
       "        -4.40325715e-01, -4.78969482e-01, -2.05548048e+00,\n",
       "        -7.40370278e-01,  3.76930369e-01],\n",
       "       [-3.33879532e-02,  5.63858205e-02,  5.37188448e+00,\n",
       "        -4.40325715e-01, -4.78969482e-01,  4.86504255e-01,\n",
       "        -7.40370278e-01,  3.76930369e-01],\n",
       "       [ 6.97544435e-02,  3.72830491e-01, -1.86154413e-01,\n",
       "        -9.30499624e-02,  2.08781569e+00, -2.05548048e+00,\n",
       "        -7.40370278e-01,  3.76930369e-01],\n",
       "       [-2.70726371e-01, -4.93286956e-01, -1.86154413e-01,\n",
       "         9.48777296e-01, -4.78969482e-01,  4.86504255e-01,\n",
       "        -7.40370278e-01,  3.76930369e-01],\n",
       "       [-2.81816952e-01,  1.04951073e+00, -1.86154413e-01,\n",
       "         2.54225790e-01, -4.78969482e-01,  4.86504255e-01,\n",
       "        -7.40370278e-01,  3.76930369e-01],\n",
       "       [ 1.30752635e-01, -2.80433082e-02, -1.86154413e-01,\n",
       "        -4.40325715e-01,  2.08781569e+00, -2.05548048e+00,\n",
       "        -7.40370278e-01,  3.76930369e-01],\n",
       "       [-6.61114798e-01, -5.79898700e-01, -1.86154413e-01,\n",
       "        -4.40325715e-01, -4.78969482e-01,  4.86504255e-01,\n",
       "         1.35067551e+00,  3.76930369e-01],\n",
       "       [-7.66475310e-01,  1.61361680e+01, -1.86154413e-01,\n",
       "         1.99060455e+00, -4.78969482e-01,  4.86504255e-01,\n",
       "         1.35067551e+00, -2.65300990e+00],\n",
       "       [-6.68878204e-01,  2.63835122e-02, -1.86154413e-01,\n",
       "        -7.87601468e-01, -4.78969482e-01,  4.86504255e-01,\n",
       "         1.35067551e+00,  3.76930369e-01],\n",
       "       [ 1.70228786e+00,  1.89719720e+00, -1.86154413e-01,\n",
       "         1.99060455e+00, -4.78969482e-01,  4.86504255e-01,\n",
       "        -7.40370278e-01, -2.65300990e+00],\n",
       "       [ 8.03950859e-01,  1.30823733e+00, -1.86154413e-01,\n",
       "         2.54225790e-01, -4.78969482e-01,  4.86504255e-01,\n",
       "        -7.40370278e-01,  3.76930369e-01],\n",
       "       [ 6.68645779e-01,  1.30317606e-01, -1.86154413e-01,\n",
       "        -4.40325715e-01,  2.08781569e+00, -2.05548048e+00,\n",
       "        -7.40370278e-01,  3.76930369e-01],\n",
       "       [-6.84405016e-01, -9.88706135e-01, -1.86154413e-01,\n",
       "        -7.87601468e-01, -4.78969482e-01,  4.86504255e-01,\n",
       "         1.35067551e+00,  3.76930369e-01],\n",
       "       [ 5.45540338e-01,  3.49618858e+00, -1.86154413e-01,\n",
       "         3.37970756e+00, -4.78969482e-01,  4.86504255e-01,\n",
       "        -7.40370278e-01, -2.65300990e+00],\n",
       "       [-7.33203570e-01, -5.62576351e-01, -1.86154413e-01,\n",
       "        -4.40325715e-01, -4.78969482e-01,  4.86504255e-01,\n",
       "         1.35067551e+00,  3.76930369e-01],\n",
       "       [-7.59820962e-01,  6.49988074e-01, -1.86154413e-01,\n",
       "         2.33788031e+00, -4.78969482e-01,  4.86504255e-01,\n",
       "         1.35067551e+00,  3.76930369e-01],\n",
       "       [ 6.84172592e-01, -4.00750968e-01, -1.86154413e-01,\n",
       "        -7.87601468e-01, -4.78969482e-01,  4.86504255e-01,\n",
       "        -7.40370278e-01,  3.76930369e-01],\n",
       "       [-1.14349189e-01, -5.27931654e-01, -1.86154413e-01,\n",
       "        -9.30499624e-02, -4.78969482e-01,  4.86504255e-01,\n",
       "        -7.40370278e-01,  3.76930369e-01],\n",
       "       [-7.10959262e-02, -7.75505814e-02, -1.86154413e-01,\n",
       "         2.54225790e-01, -4.78969482e-01,  4.86504255e-01,\n",
       "        -7.40370278e-01, -2.65300990e+00],\n",
       "       [-7.67584369e-01,  8.92500959e-01, -1.86154413e-01,\n",
       "         6.01501543e-01, -4.78969482e-01,  4.86504255e-01,\n",
       "         1.35067551e+00,  3.76930369e-01],\n",
       "       [-7.36863461e-01, -6.66510445e-01, -1.86154413e-01,\n",
       "        -9.30499624e-02, -4.78969482e-01,  4.86504255e-01,\n",
       "         1.35067551e+00,  3.76930369e-01],\n",
       "       [-7.60930020e-01, -5.62576351e-01, -1.86154413e-01,\n",
       "         2.54225790e-01, -4.78969482e-01,  4.86504255e-01,\n",
       "         1.35067551e+00,  3.76930369e-01],\n",
       "       [ 1.80764838e+00,  3.73336618e+00,  1.64879623e+01,\n",
       "         2.68515606e+00, -4.78969482e-01,  4.86504255e-01,\n",
       "         1.35067551e+00, -2.65300990e+00],\n",
       "       [ 6.84172592e-01,  5.87416600e-02, -1.86154413e-01,\n",
       "        -7.87601468e-01,  2.08781569e+00, -2.05548048e+00,\n",
       "        -7.40370278e-01,  3.76930369e-01],\n",
       "       [ 6.84172592e-01,  2.03972233e-01, -1.86154413e-01,\n",
       "        -9.30499624e-02, -4.78969482e-01,  4.86504255e-01,\n",
       "        -7.40370278e-01,  3.76930369e-01],\n",
       "       [ 1.66242492e-01,  1.68932901e+00, -1.86154413e-01,\n",
       "        -9.30499624e-02,  2.08781569e+00, -2.05548048e+00,\n",
       "        -7.40370278e-01,  3.76930369e-01],\n",
       "       [-7.10959262e-02,  2.63835122e-02, -1.86154413e-01,\n",
       "         6.01501543e-01, -4.78969482e-01,  4.86504255e-01,\n",
       "        -7.40370278e-01,  3.76930369e-01],\n",
       "       [-1.73129265e-01,  7.24058438e-01, -1.86154413e-01,\n",
       "         2.54225790e-01, -4.78969482e-01,  4.86504255e-01,\n",
       "        -7.40370278e-01,  3.76930369e-01],\n",
       "       [ 8.16150497e-01,  3.22076008e-01, -1.86154413e-01,\n",
       "        -4.40325715e-01,  2.08781569e+00, -2.05548048e+00,\n",
       "        -7.40370278e-01,  3.76930369e-01],\n",
       "       [ 1.23981066e+00,  1.99641646e-01, -1.86154413e-01,\n",
       "         2.54225790e-01, -4.78969482e-01,  4.86504255e-01,\n",
       "        -7.40370278e-01,  3.76930369e-01],\n",
       "       [ 7.64087917e-02, -5.34999172e-01, -1.86154413e-01,\n",
       "        -4.40325715e-01, -4.78969482e-01,  4.86504255e-01,\n",
       "        -7.40370278e-01,  3.76930369e-01],\n",
       "       [-7.59820962e-01, -1.12035599e+00, -1.86154413e-01,\n",
       "         1.99060455e+00, -4.78969482e-01,  4.86504255e-01,\n",
       "         1.35067551e+00, -2.65300990e+00],\n",
       "       [-7.67584369e-01, -7.75505814e-02, -1.86154413e-01,\n",
       "         2.54225790e-01, -4.78969482e-01,  4.86504255e-01,\n",
       "         1.35067551e+00,  3.76930369e-01],\n",
       "       [-7.19894873e-01,  3.72830491e-01, -1.86154413e-01,\n",
       "         1.29605305e+00, -4.78969482e-01,  4.86504255e-01,\n",
       "         1.35067551e+00,  3.76930369e-01],\n",
       "       [-2.81816952e-01,  6.91561711e-01, -1.86154413e-01,\n",
       "         9.48777296e-01, -4.78969482e-01,  4.86504255e-01,\n",
       "        -7.40370278e-01,  3.76930369e-01],\n",
       "       [-4.40412250e-01,  3.82531006e-01, -1.86154413e-01,\n",
       "        -9.30499624e-02, -4.78969482e-01,  4.86504255e-01,\n",
       "        -7.40370278e-01,  3.76930369e-01],\n",
       "       [ 6.84172592e-01,  5.30879602e-01, -1.86154413e-01,\n",
       "        -7.87601468e-01, -4.78969482e-01,  4.86504255e-01,\n",
       "        -7.40370278e-01,  3.76930369e-01],\n",
       "       [ 1.23204726e+00,  5.46053980e-01, -1.86154413e-01,\n",
       "         1.29605305e+00, -4.78969482e-01,  4.86504255e-01,\n",
       "        -7.40370278e-01,  3.76930369e-01],\n",
       "       [-3.32833621e-01, -3.64789771e-01, -1.86154413e-01,\n",
       "         6.01501543e-01, -4.78969482e-01,  4.86504255e-01,\n",
       "        -7.40370278e-01,  3.76930369e-01],\n",
       "       [ 7.64719390e-03,  3.38185793e-01, -1.86154413e-01,\n",
       "        -4.40325715e-01, -4.78969482e-01,  4.86504255e-01,\n",
       "        -7.40370278e-01, -2.65300990e+00],\n",
       "       [-7.27658279e-01, -1.08224682e+00, -1.86154413e-01,\n",
       "        -1.13487722e+00, -4.78969482e-01,  4.86504255e-01,\n",
       "         1.35067551e+00,  3.76930369e-01],\n",
       "       [ 2.18368219e-01,  3.72830491e-01, -1.86154413e-01,\n",
       "         2.54225790e-01,  2.08781569e+00, -2.05548048e+00,\n",
       "        -7.40370278e-01,  3.76930369e-01],\n",
       "       [ 1.18552997e-01, -6.64466408e-01, -1.86154413e-01,\n",
       "        -7.87601468e-01, -4.78969482e-01,  4.86504255e-01,\n",
       "        -7.40370278e-01, -2.65300990e+00],\n",
       "       [ 6.84172592e-01,  2.10831884e-01, -1.86154413e-01,\n",
       "        -4.40325715e-01, -4.78969482e-01,  4.86504255e-01,\n",
       "        -7.40370278e-01,  3.76930369e-01],\n",
       "       [-7.18785815e-01, -3.54708164e-01, -1.86154413e-01,\n",
       "         9.48777296e-01, -4.78969482e-01,  4.86504255e-01,\n",
       "         1.35067551e+00,  3.76930369e-01],\n",
       "       [-3.32833621e-01,  7.88566865e-01, -1.86154413e-01,\n",
       "         9.48777296e-01, -4.78969482e-01,  4.86504255e-01,\n",
       "        -7.40370278e-01,  3.76930369e-01],\n",
       "       [ 2.57068030e+00,  1.89719720e+00, -1.86154413e-01,\n",
       "         6.01501543e-01,  2.08781569e+00, -2.05548048e+00,\n",
       "        -7.40370278e-01, -2.65300990e+00],\n",
       "       [ 1.44387734e+00,  8.57856261e-01, -1.86154413e-01,\n",
       "         1.29605305e+00,  2.08781569e+00, -2.05548048e+00,\n",
       "        -7.40370278e-01,  3.76930369e-01],\n",
       "       [ 3.95817504e-01,  1.86026595e+00, -1.86154413e-01,\n",
       "         1.64332880e+00, -4.78969482e-01,  4.86504255e-01,\n",
       "        -7.40370278e-01,  3.76930369e-01],\n",
       "       [-7.36863461e-01,  5.46053980e-01, -1.86154413e-01,\n",
       "         1.99060455e+00, -4.78969482e-01,  4.86504255e-01,\n",
       "         1.35067551e+00,  3.76930369e-01],\n",
       "       [-7.72020601e-01, -4.58642258e-01, -1.86154413e-01,\n",
       "         2.54225790e-01, -4.78969482e-01,  4.86504255e-01,\n",
       "         1.35067551e+00,  3.76930369e-01],\n",
       "       [-3.86068406e-01, -3.20063466e-01, -1.86154413e-01,\n",
       "        -7.87601468e-01, -4.78969482e-01,  4.86504255e-01,\n",
       "        -7.40370278e-01,  3.76930369e-01],\n",
       "       [-7.53166614e-01, -7.11548552e-01, -1.86154413e-01,\n",
       "        -9.30499624e-02, -4.78969482e-01,  4.86504255e-01,\n",
       "         1.35067551e+00,  3.76930369e-01],\n",
       "       [ 8.27241077e-01, -3.89352862e-01, -1.86154413e-01,\n",
       "        -7.87601468e-01,  2.08781569e+00, -2.05548048e+00,\n",
       "        -7.40370278e-01,  3.76930369e-01],\n",
       "       [ 9.60328041e-01,  8.31595580e-01, -1.86154413e-01,\n",
       "        -9.30499624e-02,  2.08781569e+00, -2.05548048e+00,\n",
       "        -7.40370278e-01,  3.76930369e-01],\n",
       "       [-7.34312628e-01, -7.77373478e-01, -1.86154413e-01,\n",
       "        -1.13487722e+00, -4.78969482e-01,  4.86504255e-01,\n",
       "         1.35067551e+00,  3.76930369e-01],\n",
       "       [-1.90874193e-01,  3.03541095e-01, -1.86154413e-01,\n",
       "         9.48777296e-01, -4.78969482e-01,  4.86504255e-01,\n",
       "        -7.40370278e-01,  3.76930369e-01],\n",
       "       [ 3.72527286e-01,  3.03541095e-01, -1.86154413e-01,\n",
       "        -7.87601468e-01,  2.08781569e+00, -2.05548048e+00,\n",
       "        -7.40370278e-01,  3.76930369e-01],\n",
       "       [-4.24885437e-01, -1.11221448e+00, -1.86154413e-01,\n",
       "        -1.13487722e+00, -4.78969482e-01,  4.86504255e-01,\n",
       "        -7.40370278e-01,  3.76930369e-01],\n",
       "       [-7.67584369e-01, -1.04760212e+00, -1.86154413e-01,\n",
       "        -1.13487722e+00, -4.78969482e-01,  4.86504255e-01,\n",
       "         1.35067551e+00, -2.65300990e+00]])"
      ]
     },
     "execution_count": 45,
     "metadata": {},
     "output_type": "execute_result"
    }
   ],
   "source": [
    "X_test_scaled = scaler.transform(X_test)\n",
    "X_test_scaled"
   ]
  },
  {
   "cell_type": "code",
   "execution_count": 46,
   "metadata": {
    "scrolled": true
   },
   "outputs": [
    {
     "data": {
      "text/html": [
       "<div>\n",
       "<style scoped>\n",
       "    .dataframe tbody tr th:only-of-type {\n",
       "        vertical-align: middle;\n",
       "    }\n",
       "\n",
       "    .dataframe tbody tr th {\n",
       "        vertical-align: top;\n",
       "    }\n",
       "\n",
       "    .dataframe thead th {\n",
       "        text-align: right;\n",
       "    }\n",
       "</style>\n",
       "<table border=\"1\" class=\"dataframe\">\n",
       "  <thead>\n",
       "    <tr style=\"text-align: right;\">\n",
       "      <th></th>\n",
       "      <th>0</th>\n",
       "      <th>1</th>\n",
       "      <th>2</th>\n",
       "      <th>3</th>\n",
       "      <th>4</th>\n",
       "      <th>5</th>\n",
       "      <th>6</th>\n",
       "      <th>7</th>\n",
       "    </tr>\n",
       "  </thead>\n",
       "  <tbody>\n",
       "    <tr>\n",
       "      <th>mean</th>\n",
       "      <td>0.0</td>\n",
       "      <td>0.0</td>\n",
       "      <td>-0.0</td>\n",
       "      <td>-0.0</td>\n",
       "      <td>-0.0</td>\n",
       "      <td>-0.0</td>\n",
       "      <td>0.0</td>\n",
       "      <td>-0.0</td>\n",
       "    </tr>\n",
       "    <tr>\n",
       "      <th>std</th>\n",
       "      <td>1.0</td>\n",
       "      <td>1.0</td>\n",
       "      <td>1.0</td>\n",
       "      <td>1.0</td>\n",
       "      <td>1.0</td>\n",
       "      <td>1.0</td>\n",
       "      <td>1.0</td>\n",
       "      <td>1.0</td>\n",
       "    </tr>\n",
       "  </tbody>\n",
       "</table>\n",
       "</div>"
      ],
      "text/plain": [
       "        0    1    2    3    4    5    6    7\n",
       "mean  0.0  0.0 -0.0 -0.0 -0.0 -0.0  0.0 -0.0\n",
       "std   1.0  1.0  1.0  1.0  1.0  1.0  1.0  1.0"
      ]
     },
     "execution_count": 46,
     "metadata": {},
     "output_type": "execute_result"
    }
   ],
   "source": [
    "pd.DataFrame(X_train_scaled).agg([\"mean\", \"std\"]).round()"
   ]
  },
  {
   "cell_type": "code",
   "execution_count": 47,
   "metadata": {
    "scrolled": true
   },
   "outputs": [
    {
     "data": {
      "text/html": [
       "<div>\n",
       "<style scoped>\n",
       "    .dataframe tbody tr th:only-of-type {\n",
       "        vertical-align: middle;\n",
       "    }\n",
       "\n",
       "    .dataframe tbody tr th {\n",
       "        vertical-align: top;\n",
       "    }\n",
       "\n",
       "    .dataframe thead th {\n",
       "        text-align: right;\n",
       "    }\n",
       "</style>\n",
       "<table border=\"1\" class=\"dataframe\">\n",
       "  <thead>\n",
       "    <tr style=\"text-align: right;\">\n",
       "      <th></th>\n",
       "      <th>0</th>\n",
       "      <th>1</th>\n",
       "      <th>2</th>\n",
       "      <th>3</th>\n",
       "      <th>4</th>\n",
       "      <th>5</th>\n",
       "      <th>6</th>\n",
       "      <th>7</th>\n",
       "    </tr>\n",
       "  </thead>\n",
       "  <tbody>\n",
       "    <tr>\n",
       "      <th>mean</th>\n",
       "      <td>0.0</td>\n",
       "      <td>0.0</td>\n",
       "      <td>0.0</td>\n",
       "      <td>0.0</td>\n",
       "      <td>0.0</td>\n",
       "      <td>-0.0</td>\n",
       "      <td>0.0</td>\n",
       "      <td>-0.0</td>\n",
       "    </tr>\n",
       "    <tr>\n",
       "      <th>std</th>\n",
       "      <td>1.0</td>\n",
       "      <td>2.0</td>\n",
       "      <td>2.0</td>\n",
       "      <td>1.0</td>\n",
       "      <td>1.0</td>\n",
       "      <td>1.0</td>\n",
       "      <td>1.0</td>\n",
       "      <td>1.0</td>\n",
       "    </tr>\n",
       "  </tbody>\n",
       "</table>\n",
       "</div>"
      ],
      "text/plain": [
       "        0    1    2    3    4    5    6    7\n",
       "mean  0.0  0.0  0.0  0.0  0.0 -0.0  0.0 -0.0\n",
       "std   1.0  2.0  2.0  1.0  1.0  1.0  1.0  1.0"
      ]
     },
     "execution_count": 47,
     "metadata": {},
     "output_type": "execute_result"
    }
   ],
   "source": [
    "pd.DataFrame(X_test_scaled).agg([\"mean\", \"std\"]).round()"
   ]
  },
  {
   "cell_type": "code",
   "execution_count": null,
   "metadata": {},
   "outputs": [],
   "source": []
  },
  {
   "cell_type": "markdown",
   "metadata": {
    "id": "PbnRHneJbV9T"
   },
   "source": [
    "# Ridge"
   ]
  },
  {
   "cell_type": "code",
   "execution_count": 48,
   "metadata": {},
   "outputs": [],
   "source": [
    "from sklearn.linear_model import Ridge"
   ]
  },
  {
   "cell_type": "code",
   "execution_count": 49,
   "metadata": {},
   "outputs": [],
   "source": [
    "rm = Ridge(alpha=1, random_state=42)"
   ]
  },
  {
   "cell_type": "code",
   "execution_count": 50,
   "metadata": {},
   "outputs": [
    {
     "data": {
      "text/plain": [
       "Ridge(alpha=1, random_state=42)"
      ]
     },
     "execution_count": 50,
     "metadata": {},
     "output_type": "execute_result"
    }
   ],
   "source": [
    "rm.fit(X_train_scaled, y_train)"
   ]
  },
  {
   "cell_type": "code",
   "execution_count": 51,
   "metadata": {},
   "outputs": [
    {
     "data": {
      "text/plain": [
       "array([ 3.90723811, -0.29344886,  0.11645758, -0.94245848,  0.67190484,\n",
       "        0.15254291, -0.6391006 , -0.61575917])"
      ]
     },
     "execution_count": 51,
     "metadata": {},
     "output_type": "execute_result"
    }
   ],
   "source": [
    "rm.coef_"
   ]
  },
  {
   "cell_type": "code",
   "execution_count": 52,
   "metadata": {},
   "outputs": [],
   "source": [
    "y_pred = rm.predict(X_test_scaled)\n",
    "y_train_pred = rm.predict(X_train_scaled)"
   ]
  },
  {
   "cell_type": "code",
   "execution_count": 53,
   "metadata": {},
   "outputs": [
    {
     "data": {
      "text/html": [
       "<div>\n",
       "<style scoped>\n",
       "    .dataframe tbody tr th:only-of-type {\n",
       "        vertical-align: middle;\n",
       "    }\n",
       "\n",
       "    .dataframe tbody tr th {\n",
       "        vertical-align: top;\n",
       "    }\n",
       "\n",
       "    .dataframe thead th {\n",
       "        text-align: right;\n",
       "    }\n",
       "</style>\n",
       "<table border=\"1\" class=\"dataframe\">\n",
       "  <thead>\n",
       "    <tr style=\"text-align: right;\">\n",
       "      <th></th>\n",
       "      <th>ridge_train</th>\n",
       "      <th>ridge_test</th>\n",
       "    </tr>\n",
       "  </thead>\n",
       "  <tbody>\n",
       "    <tr>\n",
       "      <th>R2</th>\n",
       "      <td>0.908554</td>\n",
       "      <td>0.777312</td>\n",
       "    </tr>\n",
       "    <tr>\n",
       "      <th>mae</th>\n",
       "      <td>1.035236</td>\n",
       "      <td>1.379037</td>\n",
       "    </tr>\n",
       "    <tr>\n",
       "      <th>mse</th>\n",
       "      <td>2.323480</td>\n",
       "      <td>5.177584</td>\n",
       "    </tr>\n",
       "    <tr>\n",
       "      <th>rmse</th>\n",
       "      <td>1.524296</td>\n",
       "      <td>2.275430</td>\n",
       "    </tr>\n",
       "  </tbody>\n",
       "</table>\n",
       "</div>"
      ],
      "text/plain": [
       "      ridge_train  ridge_test\n",
       "R2       0.908554    0.777312\n",
       "mae      1.035236    1.379037\n",
       "mse      2.323480    5.177584\n",
       "rmse     1.524296    2.275430"
      ]
     },
     "execution_count": 53,
     "metadata": {},
     "output_type": "execute_result"
    }
   ],
   "source": [
    "rs = train_val(y_train, y_train_pred, y_test, y_pred, \"ridge\")\n",
    "rs"
   ]
  },
  {
   "cell_type": "code",
   "execution_count": 54,
   "metadata": {
    "scrolled": false
   },
   "outputs": [
    {
     "data": {
      "text/html": [
       "<div>\n",
       "<style scoped>\n",
       "    .dataframe tbody tr th:only-of-type {\n",
       "        vertical-align: middle;\n",
       "    }\n",
       "\n",
       "    .dataframe tbody tr th {\n",
       "        vertical-align: top;\n",
       "    }\n",
       "\n",
       "    .dataframe thead th {\n",
       "        text-align: right;\n",
       "    }\n",
       "</style>\n",
       "<table border=\"1\" class=\"dataframe\">\n",
       "  <thead>\n",
       "    <tr style=\"text-align: right;\">\n",
       "      <th></th>\n",
       "      <th>linear_train</th>\n",
       "      <th>linear_test</th>\n",
       "      <th>ridge_train</th>\n",
       "      <th>ridge_test</th>\n",
       "    </tr>\n",
       "  </thead>\n",
       "  <tbody>\n",
       "    <tr>\n",
       "      <th>R2</th>\n",
       "      <td>0.908593</td>\n",
       "      <td>0.776944</td>\n",
       "      <td>0.908554</td>\n",
       "      <td>0.777312</td>\n",
       "    </tr>\n",
       "    <tr>\n",
       "      <th>mae</th>\n",
       "      <td>1.032190</td>\n",
       "      <td>1.376895</td>\n",
       "      <td>1.035236</td>\n",
       "      <td>1.379037</td>\n",
       "    </tr>\n",
       "    <tr>\n",
       "      <th>mse</th>\n",
       "      <td>2.322501</td>\n",
       "      <td>5.186152</td>\n",
       "      <td>2.323480</td>\n",
       "      <td>5.177584</td>\n",
       "    </tr>\n",
       "    <tr>\n",
       "      <th>rmse</th>\n",
       "      <td>1.523975</td>\n",
       "      <td>2.277312</td>\n",
       "      <td>1.524296</td>\n",
       "      <td>2.275430</td>\n",
       "    </tr>\n",
       "  </tbody>\n",
       "</table>\n",
       "</div>"
      ],
      "text/plain": [
       "      linear_train  linear_test  ridge_train  ridge_test\n",
       "R2        0.908593     0.776944     0.908554    0.777312\n",
       "mae       1.032190     1.376895     1.035236    1.379037\n",
       "mse       2.322501     5.186152     2.323480    5.177584\n",
       "rmse      1.523975     2.277312     1.524296    2.275430"
      ]
     },
     "execution_count": 54,
     "metadata": {},
     "output_type": "execute_result"
    }
   ],
   "source": [
    "pd.concat([ls, rs], axis=1)"
   ]
  },
  {
   "cell_type": "code",
   "execution_count": 92,
   "metadata": {},
   "outputs": [
    {
     "data": {
      "text/html": [
       "<div>\n",
       "<style scoped>\n",
       "    .dataframe tbody tr th:only-of-type {\n",
       "        vertical-align: middle;\n",
       "    }\n",
       "\n",
       "    .dataframe tbody tr th {\n",
       "        vertical-align: top;\n",
       "    }\n",
       "\n",
       "    .dataframe thead th {\n",
       "        text-align: right;\n",
       "    }\n",
       "</style>\n",
       "<table border=\"1\" class=\"dataframe\">\n",
       "  <thead>\n",
       "    <tr style=\"text-align: right;\">\n",
       "      <th></th>\n",
       "      <th>rm_coef</th>\n",
       "    </tr>\n",
       "  </thead>\n",
       "  <tbody>\n",
       "    <tr>\n",
       "      <th>0</th>\n",
       "      <td>3.907238</td>\n",
       "    </tr>\n",
       "    <tr>\n",
       "      <th>1</th>\n",
       "      <td>-0.293449</td>\n",
       "    </tr>\n",
       "    <tr>\n",
       "      <th>2</th>\n",
       "      <td>0.116458</td>\n",
       "    </tr>\n",
       "    <tr>\n",
       "      <th>3</th>\n",
       "      <td>-0.942458</td>\n",
       "    </tr>\n",
       "    <tr>\n",
       "      <th>4</th>\n",
       "      <td>0.671905</td>\n",
       "    </tr>\n",
       "    <tr>\n",
       "      <th>5</th>\n",
       "      <td>0.152543</td>\n",
       "    </tr>\n",
       "    <tr>\n",
       "      <th>6</th>\n",
       "      <td>-0.639101</td>\n",
       "    </tr>\n",
       "    <tr>\n",
       "      <th>7</th>\n",
       "      <td>-0.615759</td>\n",
       "    </tr>\n",
       "  </tbody>\n",
       "</table>\n",
       "</div>"
      ],
      "text/plain": [
       "    rm_coef\n",
       "0  3.907238\n",
       "1 -0.293449\n",
       "2  0.116458\n",
       "3 -0.942458\n",
       "4  0.671905\n",
       "5  0.152543\n",
       "6 -0.639101\n",
       "7 -0.615759"
      ]
     },
     "execution_count": 92,
     "metadata": {},
     "output_type": "execute_result"
    }
   ],
   "source": [
    "rm_df = pd.DataFrame(rm.coef_, columns = [\"rm_coef\"])\n",
    "rm_df"
   ]
  },
  {
   "cell_type": "code",
   "execution_count": null,
   "metadata": {},
   "outputs": [],
   "source": []
  },
  {
   "cell_type": "code",
   "execution_count": 55,
   "metadata": {},
   "outputs": [],
   "source": [
    "from sklearn.linear_model import RidgeCV"
   ]
  },
  {
   "cell_type": "code",
   "execution_count": 56,
   "metadata": {},
   "outputs": [
    {
     "data": {
      "text/plain": [
       "array([0.01, 0.02, 0.03, 0.04, 0.05, 0.06, 0.07, 0.08, 0.09, 0.1 , 0.11,\n",
       "       0.12, 0.13, 0.14, 0.15, 0.16, 0.17, 0.18, 0.19, 0.2 , 0.21, 0.22,\n",
       "       0.23, 0.24, 0.25, 0.26, 0.27, 0.28, 0.29, 0.3 , 0.31, 0.32, 0.33,\n",
       "       0.34, 0.35, 0.36, 0.37, 0.38, 0.39, 0.4 , 0.41, 0.42, 0.43, 0.44,\n",
       "       0.45, 0.46, 0.47, 0.48, 0.49, 0.5 , 0.51, 0.52, 0.53, 0.54, 0.55,\n",
       "       0.56, 0.57, 0.58, 0.59, 0.6 , 0.61, 0.62, 0.63, 0.64, 0.65, 0.66,\n",
       "       0.67, 0.68, 0.69, 0.7 , 0.71, 0.72, 0.73, 0.74, 0.75, 0.76, 0.77,\n",
       "       0.78, 0.79, 0.8 , 0.81, 0.82, 0.83, 0.84, 0.85, 0.86, 0.87, 0.88,\n",
       "       0.89, 0.9 , 0.91, 0.92, 0.93, 0.94, 0.95, 0.96, 0.97, 0.98, 0.99,\n",
       "       1.  ])"
      ]
     },
     "execution_count": 56,
     "metadata": {},
     "output_type": "execute_result"
    }
   ],
   "source": [
    "alpha_space = np.linspace(0.01, 1, 100)\n",
    "alpha_space"
   ]
  },
  {
   "cell_type": "code",
   "execution_count": 57,
   "metadata": {},
   "outputs": [],
   "source": [
    "ridge_cv_model = RidgeCV(alphas=alpha_space, cv = 5, scoring= \"neg_root_mean_squared_error\")"
   ]
  },
  {
   "cell_type": "code",
   "execution_count": 58,
   "metadata": {},
   "outputs": [
    {
     "data": {
      "text/plain": [
       "RidgeCV(alphas=array([0.01, 0.02, 0.03, 0.04, 0.05, 0.06, 0.07, 0.08, 0.09, 0.1 , 0.11,\n",
       "       0.12, 0.13, 0.14, 0.15, 0.16, 0.17, 0.18, 0.19, 0.2 , 0.21, 0.22,\n",
       "       0.23, 0.24, 0.25, 0.26, 0.27, 0.28, 0.29, 0.3 , 0.31, 0.32, 0.33,\n",
       "       0.34, 0.35, 0.36, 0.37, 0.38, 0.39, 0.4 , 0.41, 0.42, 0.43, 0.44,\n",
       "       0.45, 0.46, 0.47, 0.48, 0.49, 0.5 , 0.51, 0.52, 0.53, 0.54, 0.55,\n",
       "       0.56, 0.57, 0.58, 0.59, 0.6 , 0.61, 0.62, 0.63, 0.64, 0.65, 0.66,\n",
       "       0.67, 0.68, 0.69, 0.7 , 0.71, 0.72, 0.73, 0.74, 0.75, 0.76, 0.77,\n",
       "       0.78, 0.79, 0.8 , 0.81, 0.82, 0.83, 0.84, 0.85, 0.86, 0.87, 0.88,\n",
       "       0.89, 0.9 , 0.91, 0.92, 0.93, 0.94, 0.95, 0.96, 0.97, 0.98, 0.99,\n",
       "       1.  ]),\n",
       "        cv=5, scoring='neg_root_mean_squared_error')"
      ]
     },
     "execution_count": 58,
     "metadata": {},
     "output_type": "execute_result"
    }
   ],
   "source": [
    "ridge_cv_model.fit(X_train_scaled, y_train)"
   ]
  },
  {
   "cell_type": "code",
   "execution_count": 59,
   "metadata": {},
   "outputs": [
    {
     "data": {
      "text/plain": [
       "1.0"
      ]
     },
     "execution_count": 59,
     "metadata": {},
     "output_type": "execute_result"
    }
   ],
   "source": [
    "ridge_cv_model.alpha_"
   ]
  },
  {
   "cell_type": "code",
   "execution_count": 60,
   "metadata": {},
   "outputs": [
    {
     "data": {
      "text/plain": [
       "-1.7367151961431737"
      ]
     },
     "execution_count": 60,
     "metadata": {},
     "output_type": "execute_result"
    }
   ],
   "source": [
    "ridge_cv_model.best_score_"
   ]
  },
  {
   "cell_type": "code",
   "execution_count": 61,
   "metadata": {},
   "outputs": [],
   "source": [
    "y_pred = ridge_cv_model.predict(X_test_scaled)\n",
    "y_train_pred = ridge_cv_model.predict(X_train_scaled)"
   ]
  },
  {
   "cell_type": "code",
   "execution_count": 62,
   "metadata": {},
   "outputs": [
    {
     "data": {
      "text/html": [
       "<div>\n",
       "<style scoped>\n",
       "    .dataframe tbody tr th:only-of-type {\n",
       "        vertical-align: middle;\n",
       "    }\n",
       "\n",
       "    .dataframe tbody tr th {\n",
       "        vertical-align: top;\n",
       "    }\n",
       "\n",
       "    .dataframe thead th {\n",
       "        text-align: right;\n",
       "    }\n",
       "</style>\n",
       "<table border=\"1\" class=\"dataframe\">\n",
       "  <thead>\n",
       "    <tr style=\"text-align: right;\">\n",
       "      <th></th>\n",
       "      <th>ridge_cv_train</th>\n",
       "      <th>ridge_cv_test</th>\n",
       "    </tr>\n",
       "  </thead>\n",
       "  <tbody>\n",
       "    <tr>\n",
       "      <th>R2</th>\n",
       "      <td>0.908554</td>\n",
       "      <td>0.777312</td>\n",
       "    </tr>\n",
       "    <tr>\n",
       "      <th>mae</th>\n",
       "      <td>1.035236</td>\n",
       "      <td>1.379037</td>\n",
       "    </tr>\n",
       "    <tr>\n",
       "      <th>mse</th>\n",
       "      <td>2.323480</td>\n",
       "      <td>5.177584</td>\n",
       "    </tr>\n",
       "    <tr>\n",
       "      <th>rmse</th>\n",
       "      <td>1.524296</td>\n",
       "      <td>2.275430</td>\n",
       "    </tr>\n",
       "  </tbody>\n",
       "</table>\n",
       "</div>"
      ],
      "text/plain": [
       "      ridge_cv_train  ridge_cv_test\n",
       "R2          0.908554       0.777312\n",
       "mae         1.035236       1.379037\n",
       "mse         2.323480       5.177584\n",
       "rmse        1.524296       2.275430"
      ]
     },
     "execution_count": 62,
     "metadata": {},
     "output_type": "execute_result"
    }
   ],
   "source": [
    "rcs = train_val(y_train, y_train_pred, y_test, y_pred, \"ridge_cv\")\n",
    "rcs"
   ]
  },
  {
   "cell_type": "code",
   "execution_count": 63,
   "metadata": {},
   "outputs": [
    {
     "data": {
      "text/html": [
       "<div>\n",
       "<style scoped>\n",
       "    .dataframe tbody tr th:only-of-type {\n",
       "        vertical-align: middle;\n",
       "    }\n",
       "\n",
       "    .dataframe tbody tr th {\n",
       "        vertical-align: top;\n",
       "    }\n",
       "\n",
       "    .dataframe thead th {\n",
       "        text-align: right;\n",
       "    }\n",
       "</style>\n",
       "<table border=\"1\" class=\"dataframe\">\n",
       "  <thead>\n",
       "    <tr style=\"text-align: right;\">\n",
       "      <th></th>\n",
       "      <th>linear_train</th>\n",
       "      <th>linear_test</th>\n",
       "      <th>ridge_train</th>\n",
       "      <th>ridge_test</th>\n",
       "      <th>ridge_cv_train</th>\n",
       "      <th>ridge_cv_test</th>\n",
       "    </tr>\n",
       "  </thead>\n",
       "  <tbody>\n",
       "    <tr>\n",
       "      <th>R2</th>\n",
       "      <td>0.908593</td>\n",
       "      <td>0.776944</td>\n",
       "      <td>0.908554</td>\n",
       "      <td>0.777312</td>\n",
       "      <td>0.908554</td>\n",
       "      <td>0.777312</td>\n",
       "    </tr>\n",
       "    <tr>\n",
       "      <th>mae</th>\n",
       "      <td>1.032190</td>\n",
       "      <td>1.376895</td>\n",
       "      <td>1.035236</td>\n",
       "      <td>1.379037</td>\n",
       "      <td>1.035236</td>\n",
       "      <td>1.379037</td>\n",
       "    </tr>\n",
       "    <tr>\n",
       "      <th>mse</th>\n",
       "      <td>2.322501</td>\n",
       "      <td>5.186152</td>\n",
       "      <td>2.323480</td>\n",
       "      <td>5.177584</td>\n",
       "      <td>2.323480</td>\n",
       "      <td>5.177584</td>\n",
       "    </tr>\n",
       "    <tr>\n",
       "      <th>rmse</th>\n",
       "      <td>1.523975</td>\n",
       "      <td>2.277312</td>\n",
       "      <td>1.524296</td>\n",
       "      <td>2.275430</td>\n",
       "      <td>1.524296</td>\n",
       "      <td>2.275430</td>\n",
       "    </tr>\n",
       "  </tbody>\n",
       "</table>\n",
       "</div>"
      ],
      "text/plain": [
       "      linear_train  linear_test  ridge_train  ridge_test  ridge_cv_train  \\\n",
       "R2        0.908593     0.776944     0.908554    0.777312        0.908554   \n",
       "mae       1.032190     1.376895     1.035236    1.379037        1.035236   \n",
       "mse       2.322501     5.186152     2.323480    5.177584        2.323480   \n",
       "rmse      1.523975     2.277312     1.524296    2.275430        1.524296   \n",
       "\n",
       "      ridge_cv_test  \n",
       "R2         0.777312  \n",
       "mae        1.379037  \n",
       "mse        5.177584  \n",
       "rmse       2.275430  "
      ]
     },
     "execution_count": 63,
     "metadata": {},
     "output_type": "execute_result"
    }
   ],
   "source": [
    "pd.concat([ls, rs, rcs], axis = 1)"
   ]
  },
  {
   "cell_type": "code",
   "execution_count": 93,
   "metadata": {},
   "outputs": [
    {
     "data": {
      "text/html": [
       "<div>\n",
       "<style scoped>\n",
       "    .dataframe tbody tr th:only-of-type {\n",
       "        vertical-align: middle;\n",
       "    }\n",
       "\n",
       "    .dataframe tbody tr th {\n",
       "        vertical-align: top;\n",
       "    }\n",
       "\n",
       "    .dataframe thead th {\n",
       "        text-align: right;\n",
       "    }\n",
       "</style>\n",
       "<table border=\"1\" class=\"dataframe\">\n",
       "  <thead>\n",
       "    <tr style=\"text-align: right;\">\n",
       "      <th></th>\n",
       "      <th>rm_cv_coef</th>\n",
       "    </tr>\n",
       "  </thead>\n",
       "  <tbody>\n",
       "    <tr>\n",
       "      <th>0</th>\n",
       "      <td>3.907238</td>\n",
       "    </tr>\n",
       "    <tr>\n",
       "      <th>1</th>\n",
       "      <td>-0.293449</td>\n",
       "    </tr>\n",
       "    <tr>\n",
       "      <th>2</th>\n",
       "      <td>0.116458</td>\n",
       "    </tr>\n",
       "    <tr>\n",
       "      <th>3</th>\n",
       "      <td>-0.942458</td>\n",
       "    </tr>\n",
       "    <tr>\n",
       "      <th>4</th>\n",
       "      <td>0.671905</td>\n",
       "    </tr>\n",
       "    <tr>\n",
       "      <th>5</th>\n",
       "      <td>0.152543</td>\n",
       "    </tr>\n",
       "    <tr>\n",
       "      <th>6</th>\n",
       "      <td>-0.639101</td>\n",
       "    </tr>\n",
       "    <tr>\n",
       "      <th>7</th>\n",
       "      <td>-0.615759</td>\n",
       "    </tr>\n",
       "  </tbody>\n",
       "</table>\n",
       "</div>"
      ],
      "text/plain": [
       "   rm_cv_coef\n",
       "0    3.907238\n",
       "1   -0.293449\n",
       "2    0.116458\n",
       "3   -0.942458\n",
       "4    0.671905\n",
       "5    0.152543\n",
       "6   -0.639101\n",
       "7   -0.615759"
      ]
     },
     "execution_count": 93,
     "metadata": {},
     "output_type": "execute_result"
    }
   ],
   "source": [
    "rcm_df = pd.DataFrame(ridge_cv_model.coef_, columns = [\"rm_cv_coef\"])\n",
    "rcm_df"
   ]
  },
  {
   "cell_type": "code",
   "execution_count": null,
   "metadata": {},
   "outputs": [],
   "source": []
  },
  {
   "cell_type": "code",
   "execution_count": null,
   "metadata": {},
   "outputs": [],
   "source": []
  },
  {
   "cell_type": "code",
   "execution_count": null,
   "metadata": {},
   "outputs": [],
   "source": []
  },
  {
   "cell_type": "code",
   "execution_count": 64,
   "metadata": {},
   "outputs": [],
   "source": [
    "from sklearn.model_selection import GridSearchCV"
   ]
  },
  {
   "cell_type": "markdown",
   "metadata": {
    "id": "B_T57TpNbV9V"
   },
   "source": [
    "# Lasso"
   ]
  },
  {
   "cell_type": "code",
   "execution_count": 65,
   "metadata": {
    "id": "MBAiMxBAbV9W"
   },
   "outputs": [],
   "source": [
    "from sklearn.linear_model import Lasso, LassoCV"
   ]
  },
  {
   "cell_type": "code",
   "execution_count": 66,
   "metadata": {},
   "outputs": [
    {
     "data": {
      "text/plain": [
       "Lasso(alpha=1, random_state=42)"
      ]
     },
     "execution_count": 66,
     "metadata": {},
     "output_type": "execute_result"
    }
   ],
   "source": [
    "lasso_model = Lasso(alpha=1, random_state=42)\n",
    "lasso_model.fit(X_train_scaled, y_train)"
   ]
  },
  {
   "cell_type": "code",
   "execution_count": 67,
   "metadata": {},
   "outputs": [],
   "source": [
    "y_pred = lasso_model.predict(X_test_scaled)\n",
    "y_train_pred = lasso_model.predict(X_train_scaled)"
   ]
  },
  {
   "cell_type": "code",
   "execution_count": 68,
   "metadata": {},
   "outputs": [
    {
     "data": {
      "text/html": [
       "<div>\n",
       "<style scoped>\n",
       "    .dataframe tbody tr th:only-of-type {\n",
       "        vertical-align: middle;\n",
       "    }\n",
       "\n",
       "    .dataframe tbody tr th {\n",
       "        vertical-align: top;\n",
       "    }\n",
       "\n",
       "    .dataframe thead th {\n",
       "        text-align: right;\n",
       "    }\n",
       "</style>\n",
       "<table border=\"1\" class=\"dataframe\">\n",
       "  <thead>\n",
       "    <tr style=\"text-align: right;\">\n",
       "      <th></th>\n",
       "      <th>lasso_train</th>\n",
       "      <th>lasso_test</th>\n",
       "    </tr>\n",
       "  </thead>\n",
       "  <tbody>\n",
       "    <tr>\n",
       "      <th>R2</th>\n",
       "      <td>0.795145</td>\n",
       "      <td>0.633095</td>\n",
       "    </tr>\n",
       "    <tr>\n",
       "      <th>mae</th>\n",
       "      <td>1.622532</td>\n",
       "      <td>1.928251</td>\n",
       "    </tr>\n",
       "    <tr>\n",
       "      <th>mse</th>\n",
       "      <td>5.205020</td>\n",
       "      <td>8.530684</td>\n",
       "    </tr>\n",
       "    <tr>\n",
       "      <th>rmse</th>\n",
       "      <td>2.281451</td>\n",
       "      <td>2.920733</td>\n",
       "    </tr>\n",
       "  </tbody>\n",
       "</table>\n",
       "</div>"
      ],
      "text/plain": [
       "      lasso_train  lasso_test\n",
       "R2       0.795145    0.633095\n",
       "mae      1.622532    1.928251\n",
       "mse      5.205020    8.530684\n",
       "rmse     2.281451    2.920733"
      ]
     },
     "execution_count": 68,
     "metadata": {},
     "output_type": "execute_result"
    }
   ],
   "source": [
    "lss = train_val(y_train, y_train_pred, y_test, y_pred, \"lasso\")\n",
    "lss"
   ]
  },
  {
   "cell_type": "code",
   "execution_count": 69,
   "metadata": {
    "scrolled": true
   },
   "outputs": [
    {
     "data": {
      "text/html": [
       "<div>\n",
       "<style scoped>\n",
       "    .dataframe tbody tr th:only-of-type {\n",
       "        vertical-align: middle;\n",
       "    }\n",
       "\n",
       "    .dataframe tbody tr th {\n",
       "        vertical-align: top;\n",
       "    }\n",
       "\n",
       "    .dataframe thead th {\n",
       "        text-align: right;\n",
       "    }\n",
       "</style>\n",
       "<table border=\"1\" class=\"dataframe\">\n",
       "  <thead>\n",
       "    <tr style=\"text-align: right;\">\n",
       "      <th></th>\n",
       "      <th>linear_train</th>\n",
       "      <th>linear_test</th>\n",
       "      <th>ridge_train</th>\n",
       "      <th>ridge_test</th>\n",
       "      <th>ridge_cv_train</th>\n",
       "      <th>ridge_cv_test</th>\n",
       "      <th>lasso_train</th>\n",
       "      <th>lasso_test</th>\n",
       "    </tr>\n",
       "  </thead>\n",
       "  <tbody>\n",
       "    <tr>\n",
       "      <th>R2</th>\n",
       "      <td>0.908593</td>\n",
       "      <td>0.776944</td>\n",
       "      <td>0.908554</td>\n",
       "      <td>0.777312</td>\n",
       "      <td>0.908554</td>\n",
       "      <td>0.777312</td>\n",
       "      <td>0.795145</td>\n",
       "      <td>0.633095</td>\n",
       "    </tr>\n",
       "    <tr>\n",
       "      <th>mae</th>\n",
       "      <td>1.032190</td>\n",
       "      <td>1.376895</td>\n",
       "      <td>1.035236</td>\n",
       "      <td>1.379037</td>\n",
       "      <td>1.035236</td>\n",
       "      <td>1.379037</td>\n",
       "      <td>1.622532</td>\n",
       "      <td>1.928251</td>\n",
       "    </tr>\n",
       "    <tr>\n",
       "      <th>mse</th>\n",
       "      <td>2.322501</td>\n",
       "      <td>5.186152</td>\n",
       "      <td>2.323480</td>\n",
       "      <td>5.177584</td>\n",
       "      <td>2.323480</td>\n",
       "      <td>5.177584</td>\n",
       "      <td>5.205020</td>\n",
       "      <td>8.530684</td>\n",
       "    </tr>\n",
       "    <tr>\n",
       "      <th>rmse</th>\n",
       "      <td>1.523975</td>\n",
       "      <td>2.277312</td>\n",
       "      <td>1.524296</td>\n",
       "      <td>2.275430</td>\n",
       "      <td>1.524296</td>\n",
       "      <td>2.275430</td>\n",
       "      <td>2.281451</td>\n",
       "      <td>2.920733</td>\n",
       "    </tr>\n",
       "  </tbody>\n",
       "</table>\n",
       "</div>"
      ],
      "text/plain": [
       "      linear_train  linear_test  ridge_train  ridge_test  ridge_cv_train  \\\n",
       "R2        0.908593     0.776944     0.908554    0.777312        0.908554   \n",
       "mae       1.032190     1.376895     1.035236    1.379037        1.035236   \n",
       "mse       2.322501     5.186152     2.323480    5.177584        2.323480   \n",
       "rmse      1.523975     2.277312     1.524296    2.275430        1.524296   \n",
       "\n",
       "      ridge_cv_test  lasso_train  lasso_test  \n",
       "R2         0.777312     0.795145    0.633095  \n",
       "mae        1.379037     1.622532    1.928251  \n",
       "mse        5.177584     5.205020    8.530684  \n",
       "rmse       2.275430     2.281451    2.920733  "
      ]
     },
     "execution_count": 69,
     "metadata": {},
     "output_type": "execute_result"
    }
   ],
   "source": [
    "pd.concat([ls, rs, rcs, lss], axis = 1)"
   ]
  },
  {
   "cell_type": "code",
   "execution_count": 98,
   "metadata": {},
   "outputs": [
    {
     "data": {
      "text/html": [
       "<div>\n",
       "<style scoped>\n",
       "    .dataframe tbody tr th:only-of-type {\n",
       "        vertical-align: middle;\n",
       "    }\n",
       "\n",
       "    .dataframe tbody tr th {\n",
       "        vertical-align: top;\n",
       "    }\n",
       "\n",
       "    .dataframe thead th {\n",
       "        text-align: right;\n",
       "    }\n",
       "</style>\n",
       "<table border=\"1\" class=\"dataframe\">\n",
       "  <thead>\n",
       "    <tr style=\"text-align: right;\">\n",
       "      <th></th>\n",
       "      <th>lasso_coef</th>\n",
       "    </tr>\n",
       "  </thead>\n",
       "  <tbody>\n",
       "    <tr>\n",
       "      <th>0</th>\n",
       "      <td>3.562031</td>\n",
       "    </tr>\n",
       "    <tr>\n",
       "      <th>1</th>\n",
       "      <td>-0.000000</td>\n",
       "    </tr>\n",
       "    <tr>\n",
       "      <th>2</th>\n",
       "      <td>-0.000000</td>\n",
       "    </tr>\n",
       "    <tr>\n",
       "      <th>3</th>\n",
       "      <td>-0.201289</td>\n",
       "    </tr>\n",
       "    <tr>\n",
       "      <th>4</th>\n",
       "      <td>0.000000</td>\n",
       "    </tr>\n",
       "    <tr>\n",
       "      <th>5</th>\n",
       "      <td>-0.000000</td>\n",
       "    </tr>\n",
       "    <tr>\n",
       "      <th>6</th>\n",
       "      <td>-0.000000</td>\n",
       "    </tr>\n",
       "    <tr>\n",
       "      <th>7</th>\n",
       "      <td>-0.000000</td>\n",
       "    </tr>\n",
       "  </tbody>\n",
       "</table>\n",
       "</div>"
      ],
      "text/plain": [
       "   lasso_coef\n",
       "0    3.562031\n",
       "1   -0.000000\n",
       "2   -0.000000\n",
       "3   -0.201289\n",
       "4    0.000000\n",
       "5   -0.000000\n",
       "6   -0.000000\n",
       "7   -0.000000"
      ]
     },
     "execution_count": 98,
     "metadata": {},
     "output_type": "execute_result"
    }
   ],
   "source": [
    "lsm_df = pd.DataFrame(lasso_model.coef_, columns = [\"lasso_coef\"])\n",
    "lsm_df"
   ]
  },
  {
   "cell_type": "code",
   "execution_count": null,
   "metadata": {},
   "outputs": [],
   "source": []
  },
  {
   "cell_type": "code",
   "execution_count": 70,
   "metadata": {},
   "outputs": [],
   "source": [
    "model = Lasso(alpha=1, random_state=42)\n",
    "scores = cross_validate(model, X_train_scaled, y_train,\n",
    "                        scoring=['r2', 'neg_mean_absolute_error','neg_mean_squared_error','neg_root_mean_squared_error'], cv=5)"
   ]
  },
  {
   "cell_type": "code",
   "execution_count": 71,
   "metadata": {},
   "outputs": [
    {
     "data": {
      "text/html": [
       "<div>\n",
       "<style scoped>\n",
       "    .dataframe tbody tr th:only-of-type {\n",
       "        vertical-align: middle;\n",
       "    }\n",
       "\n",
       "    .dataframe tbody tr th {\n",
       "        vertical-align: top;\n",
       "    }\n",
       "\n",
       "    .dataframe thead th {\n",
       "        text-align: right;\n",
       "    }\n",
       "</style>\n",
       "<table border=\"1\" class=\"dataframe\">\n",
       "  <thead>\n",
       "    <tr style=\"text-align: right;\">\n",
       "      <th></th>\n",
       "      <th>fit_time</th>\n",
       "      <th>score_time</th>\n",
       "      <th>test_r2</th>\n",
       "      <th>test_neg_mean_absolute_error</th>\n",
       "      <th>test_neg_mean_squared_error</th>\n",
       "      <th>test_neg_root_mean_squared_error</th>\n",
       "    </tr>\n",
       "  </thead>\n",
       "  <tbody>\n",
       "    <tr>\n",
       "      <th>1</th>\n",
       "      <td>0.001031</td>\n",
       "      <td>0.001962</td>\n",
       "      <td>0.704498</td>\n",
       "      <td>-1.360185</td>\n",
       "      <td>-2.328645</td>\n",
       "      <td>-1.525990</td>\n",
       "    </tr>\n",
       "    <tr>\n",
       "      <th>2</th>\n",
       "      <td>0.001024</td>\n",
       "      <td>0.000998</td>\n",
       "      <td>0.778995</td>\n",
       "      <td>-2.298884</td>\n",
       "      <td>-9.707488</td>\n",
       "      <td>-3.115684</td>\n",
       "    </tr>\n",
       "    <tr>\n",
       "      <th>3</th>\n",
       "      <td>0.000997</td>\n",
       "      <td>0.000998</td>\n",
       "      <td>0.843355</td>\n",
       "      <td>-1.320386</td>\n",
       "      <td>-3.282600</td>\n",
       "      <td>-1.811795</td>\n",
       "    </tr>\n",
       "    <tr>\n",
       "      <th>4</th>\n",
       "      <td>0.001998</td>\n",
       "      <td>0.000961</td>\n",
       "      <td>0.725985</td>\n",
       "      <td>-1.483472</td>\n",
       "      <td>-6.238600</td>\n",
       "      <td>-2.497719</td>\n",
       "    </tr>\n",
       "    <tr>\n",
       "      <th>5</th>\n",
       "      <td>0.001994</td>\n",
       "      <td>0.000997</td>\n",
       "      <td>0.790157</td>\n",
       "      <td>-1.782687</td>\n",
       "      <td>-5.752357</td>\n",
       "      <td>-2.398407</td>\n",
       "    </tr>\n",
       "  </tbody>\n",
       "</table>\n",
       "</div>"
      ],
      "text/plain": [
       "   fit_time  score_time   test_r2  test_neg_mean_absolute_error  \\\n",
       "1  0.001031    0.001962  0.704498                     -1.360185   \n",
       "2  0.001024    0.000998  0.778995                     -2.298884   \n",
       "3  0.000997    0.000998  0.843355                     -1.320386   \n",
       "4  0.001998    0.000961  0.725985                     -1.483472   \n",
       "5  0.001994    0.000997  0.790157                     -1.782687   \n",
       "\n",
       "   test_neg_mean_squared_error  test_neg_root_mean_squared_error  \n",
       "1                    -2.328645                         -1.525990  \n",
       "2                    -9.707488                         -3.115684  \n",
       "3                    -3.282600                         -1.811795  \n",
       "4                    -6.238600                         -2.497719  \n",
       "5                    -5.752357                         -2.398407  "
      ]
     },
     "execution_count": 71,
     "metadata": {},
     "output_type": "execute_result"
    }
   ],
   "source": [
    "pd.DataFrame(scores, index = range(1, 6))"
   ]
  },
  {
   "cell_type": "code",
   "execution_count": 72,
   "metadata": {},
   "outputs": [
    {
     "data": {
      "text/plain": [
       "test_r2                             0.768598\n",
       "test_neg_mean_absolute_error       -1.649123\n",
       "test_neg_mean_squared_error        -5.461938\n",
       "test_neg_root_mean_squared_error   -2.269919\n",
       "dtype: float64"
      ]
     },
     "execution_count": 72,
     "metadata": {},
     "output_type": "execute_result"
    }
   ],
   "source": [
    "scores = pd.DataFrame(scores, index = range(1, 6))\n",
    "scores.iloc[:,2:].mean()"
   ]
  },
  {
   "cell_type": "code",
   "execution_count": 73,
   "metadata": {},
   "outputs": [
    {
     "data": {
      "text/html": [
       "<div>\n",
       "<style scoped>\n",
       "    .dataframe tbody tr th:only-of-type {\n",
       "        vertical-align: middle;\n",
       "    }\n",
       "\n",
       "    .dataframe tbody tr th {\n",
       "        vertical-align: top;\n",
       "    }\n",
       "\n",
       "    .dataframe thead th {\n",
       "        text-align: right;\n",
       "    }\n",
       "</style>\n",
       "<table border=\"1\" class=\"dataframe\">\n",
       "  <thead>\n",
       "    <tr style=\"text-align: right;\">\n",
       "      <th></th>\n",
       "      <th>lasso_CV_train</th>\n",
       "      <th>lasso_CV_test</th>\n",
       "    </tr>\n",
       "  </thead>\n",
       "  <tbody>\n",
       "    <tr>\n",
       "      <th>R2</th>\n",
       "      <td>0.795145</td>\n",
       "      <td>0.633095</td>\n",
       "    </tr>\n",
       "    <tr>\n",
       "      <th>mae</th>\n",
       "      <td>1.622532</td>\n",
       "      <td>1.928251</td>\n",
       "    </tr>\n",
       "    <tr>\n",
       "      <th>mse</th>\n",
       "      <td>5.205020</td>\n",
       "      <td>8.530684</td>\n",
       "    </tr>\n",
       "    <tr>\n",
       "      <th>rmse</th>\n",
       "      <td>2.281451</td>\n",
       "      <td>2.920733</td>\n",
       "    </tr>\n",
       "  </tbody>\n",
       "</table>\n",
       "</div>"
      ],
      "text/plain": [
       "      lasso_CV_train  lasso_CV_test\n",
       "R2          0.795145       0.633095\n",
       "mae         1.622532       1.928251\n",
       "mse         5.205020       8.530684\n",
       "rmse        2.281451       2.920733"
      ]
     },
     "execution_count": 73,
     "metadata": {},
     "output_type": "execute_result"
    }
   ],
   "source": [
    "train_val(y_train, y_train_pred, y_test, y_pred, \"lasso_CV\")"
   ]
  },
  {
   "cell_type": "code",
   "execution_count": 74,
   "metadata": {
    "scrolled": true
   },
   "outputs": [
    {
     "data": {
      "text/plain": [
       "<AxesSubplot:>"
      ]
     },
     "execution_count": 74,
     "metadata": {},
     "output_type": "execute_result"
    },
    {
     "data": {
      "image/png": "[encoded data removed]",
      "text/plain": [
       "<Figure size 576x396 with 1 Axes>"
      ]
     },
     "metadata": {},
     "output_type": "display_data"
    }
   ],
   "source": [
    "sns.lineplot(data = scores.iloc[:,2:])"
   ]
  },
  {
   "cell_type": "code",
   "execution_count": null,
   "metadata": {},
   "outputs": [],
   "source": []
  },
  {
   "cell_type": "code",
   "execution_count": 75,
   "metadata": {},
   "outputs": [],
   "source": [
    "lasso_cv_model = LassoCV(alphas = alpha_space, cv = 5, max_iter=100000, random_state=42)"
   ]
  },
  {
   "cell_type": "code",
   "execution_count": 76,
   "metadata": {},
   "outputs": [
    {
     "data": {
      "text/plain": [
       "LassoCV(alphas=array([0.01, 0.02, 0.03, 0.04, 0.05, 0.06, 0.07, 0.08, 0.09, 0.1 , 0.11,\n",
       "       0.12, 0.13, 0.14, 0.15, 0.16, 0.17, 0.18, 0.19, 0.2 , 0.21, 0.22,\n",
       "       0.23, 0.24, 0.25, 0.26, 0.27, 0.28, 0.29, 0.3 , 0.31, 0.32, 0.33,\n",
       "       0.34, 0.35, 0.36, 0.37, 0.38, 0.39, 0.4 , 0.41, 0.42, 0.43, 0.44,\n",
       "       0.45, 0.46, 0.47, 0.48, 0.49, 0.5 , 0.51, 0.52, 0.53, 0.54, 0.55,\n",
       "       0.56, 0.57, 0.58, 0.59, 0.6 , 0.61, 0.62, 0.63, 0.64, 0.65, 0.66,\n",
       "       0.67, 0.68, 0.69, 0.7 , 0.71, 0.72, 0.73, 0.74, 0.75, 0.76, 0.77,\n",
       "       0.78, 0.79, 0.8 , 0.81, 0.82, 0.83, 0.84, 0.85, 0.86, 0.87, 0.88,\n",
       "       0.89, 0.9 , 0.91, 0.92, 0.93, 0.94, 0.95, 0.96, 0.97, 0.98, 0.99,\n",
       "       1.  ]),\n",
       "        cv=5, max_iter=100000, random_state=42)"
      ]
     },
     "execution_count": 76,
     "metadata": {},
     "output_type": "execute_result"
    }
   ],
   "source": [
    "lasso_cv_model.fit(X_train_scaled, y_train)"
   ]
  },
  {
   "cell_type": "code",
   "execution_count": 77,
   "metadata": {
    "scrolled": true
   },
   "outputs": [
    {
     "data": {
      "text/plain": [
       "0.18000000000000002"
      ]
     },
     "execution_count": 77,
     "metadata": {},
     "output_type": "execute_result"
    }
   ],
   "source": [
    "lasso_cv_model.alpha_"
   ]
  },
  {
   "cell_type": "code",
   "execution_count": 78,
   "metadata": {},
   "outputs": [
    {
     "data": {
      "text/plain": [
       "array([1.  , 0.99, 0.98, 0.97, 0.96, 0.95, 0.94, 0.93, 0.92, 0.91, 0.9 ,\n",
       "       0.89, 0.88, 0.87, 0.86, 0.85, 0.84, 0.83, 0.82, 0.81, 0.8 , 0.79,\n",
       "       0.78, 0.77, 0.76, 0.75, 0.74, 0.73, 0.72, 0.71, 0.7 , 0.69, 0.68,\n",
       "       0.67, 0.66, 0.65, 0.64, 0.63, 0.62, 0.61, 0.6 , 0.59, 0.58, 0.57,\n",
       "       0.56, 0.55, 0.54, 0.53, 0.52, 0.51, 0.5 , 0.49, 0.48, 0.47, 0.46,\n",
       "       0.45, 0.44, 0.43, 0.42, 0.41, 0.4 , 0.39, 0.38, 0.37, 0.36, 0.35,\n",
       "       0.34, 0.33, 0.32, 0.31, 0.3 , 0.29, 0.28, 0.27, 0.26, 0.25, 0.24,\n",
       "       0.23, 0.22, 0.21, 0.2 , 0.19, 0.18, 0.17, 0.16, 0.15, 0.14, 0.13,\n",
       "       0.12, 0.11, 0.1 , 0.09, 0.08, 0.07, 0.06, 0.05, 0.04, 0.03, 0.02,\n",
       "       0.01])"
      ]
     },
     "execution_count": 78,
     "metadata": {},
     "output_type": "execute_result"
    }
   ],
   "source": [
    "alpha_space[::-1]"
   ]
  },
  {
   "cell_type": "code",
   "execution_count": 79,
   "metadata": {},
   "outputs": [
    {
     "data": {
      "text/plain": [
       "3.6358138926221897"
      ]
     },
     "execution_count": 79,
     "metadata": {},
     "output_type": "execute_result"
    }
   ],
   "source": [
    "#mse score for CV\n",
    "lasso_cv_model.mse_path_[-1].mean()"
   ]
  },
  {
   "cell_type": "code",
   "execution_count": 80,
   "metadata": {},
   "outputs": [],
   "source": [
    "y_pred = lasso_cv_model.predict(X_test_scaled)   #Lasso(alpha =0.01)\n",
    "y_train_pred = lasso_cv_model.predict(X_train_scaled)"
   ]
  },
  {
   "cell_type": "code",
   "execution_count": 81,
   "metadata": {
    "scrolled": true
   },
   "outputs": [
    {
     "data": {
      "text/html": [
       "<div>\n",
       "<style scoped>\n",
       "    .dataframe tbody tr th:only-of-type {\n",
       "        vertical-align: middle;\n",
       "    }\n",
       "\n",
       "    .dataframe tbody tr th {\n",
       "        vertical-align: top;\n",
       "    }\n",
       "\n",
       "    .dataframe thead th {\n",
       "        text-align: right;\n",
       "    }\n",
       "</style>\n",
       "<table border=\"1\" class=\"dataframe\">\n",
       "  <thead>\n",
       "    <tr style=\"text-align: right;\">\n",
       "      <th></th>\n",
       "      <th>lasso_cv_train</th>\n",
       "      <th>lasso_cv_test</th>\n",
       "    </tr>\n",
       "  </thead>\n",
       "  <tbody>\n",
       "    <tr>\n",
       "      <th>R2</th>\n",
       "      <td>0.902391</td>\n",
       "      <td>0.772857</td>\n",
       "    </tr>\n",
       "    <tr>\n",
       "      <th>mae</th>\n",
       "      <td>1.057494</td>\n",
       "      <td>1.342721</td>\n",
       "    </tr>\n",
       "    <tr>\n",
       "      <th>mse</th>\n",
       "      <td>2.480081</td>\n",
       "      <td>5.281174</td>\n",
       "    </tr>\n",
       "    <tr>\n",
       "      <th>rmse</th>\n",
       "      <td>1.574827</td>\n",
       "      <td>2.298080</td>\n",
       "    </tr>\n",
       "  </tbody>\n",
       "</table>\n",
       "</div>"
      ],
      "text/plain": [
       "      lasso_cv_train  lasso_cv_test\n",
       "R2          0.902391       0.772857\n",
       "mae         1.057494       1.342721\n",
       "mse         2.480081       5.281174\n",
       "rmse        1.574827       2.298080"
      ]
     },
     "execution_count": 81,
     "metadata": {},
     "output_type": "execute_result"
    }
   ],
   "source": [
    "lcs = train_val(y_train, y_train_pred, y_test, y_pred, \"lasso_cv\")\n",
    "lcs"
   ]
  },
  {
   "cell_type": "code",
   "execution_count": 82,
   "metadata": {},
   "outputs": [
    {
     "data": {
      "text/html": [
       "<div>\n",
       "<style scoped>\n",
       "    .dataframe tbody tr th:only-of-type {\n",
       "        vertical-align: middle;\n",
       "    }\n",
       "\n",
       "    .dataframe tbody tr th {\n",
       "        vertical-align: top;\n",
       "    }\n",
       "\n",
       "    .dataframe thead th {\n",
       "        text-align: right;\n",
       "    }\n",
       "</style>\n",
       "<table border=\"1\" class=\"dataframe\">\n",
       "  <thead>\n",
       "    <tr style=\"text-align: right;\">\n",
       "      <th></th>\n",
       "      <th>linear_train</th>\n",
       "      <th>linear_test</th>\n",
       "      <th>ridge_train</th>\n",
       "      <th>ridge_test</th>\n",
       "      <th>ridge_cv_train</th>\n",
       "      <th>ridge_cv_test</th>\n",
       "      <th>lasso_train</th>\n",
       "      <th>lasso_test</th>\n",
       "      <th>lasso_cv_train</th>\n",
       "      <th>lasso_cv_test</th>\n",
       "    </tr>\n",
       "  </thead>\n",
       "  <tbody>\n",
       "    <tr>\n",
       "      <th>R2</th>\n",
       "      <td>0.908593</td>\n",
       "      <td>0.776944</td>\n",
       "      <td>0.908554</td>\n",
       "      <td>0.777312</td>\n",
       "      <td>0.908554</td>\n",
       "      <td>0.777312</td>\n",
       "      <td>0.795145</td>\n",
       "      <td>0.633095</td>\n",
       "      <td>0.902391</td>\n",
       "      <td>0.772857</td>\n",
       "    </tr>\n",
       "    <tr>\n",
       "      <th>mae</th>\n",
       "      <td>1.032190</td>\n",
       "      <td>1.376895</td>\n",
       "      <td>1.035236</td>\n",
       "      <td>1.379037</td>\n",
       "      <td>1.035236</td>\n",
       "      <td>1.379037</td>\n",
       "      <td>1.622532</td>\n",
       "      <td>1.928251</td>\n",
       "      <td>1.057494</td>\n",
       "      <td>1.342721</td>\n",
       "    </tr>\n",
       "    <tr>\n",
       "      <th>mse</th>\n",
       "      <td>2.322501</td>\n",
       "      <td>5.186152</td>\n",
       "      <td>2.323480</td>\n",
       "      <td>5.177584</td>\n",
       "      <td>2.323480</td>\n",
       "      <td>5.177584</td>\n",
       "      <td>5.205020</td>\n",
       "      <td>8.530684</td>\n",
       "      <td>2.480081</td>\n",
       "      <td>5.281174</td>\n",
       "    </tr>\n",
       "    <tr>\n",
       "      <th>rmse</th>\n",
       "      <td>1.523975</td>\n",
       "      <td>2.277312</td>\n",
       "      <td>1.524296</td>\n",
       "      <td>2.275430</td>\n",
       "      <td>1.524296</td>\n",
       "      <td>2.275430</td>\n",
       "      <td>2.281451</td>\n",
       "      <td>2.920733</td>\n",
       "      <td>1.574827</td>\n",
       "      <td>2.298080</td>\n",
       "    </tr>\n",
       "  </tbody>\n",
       "</table>\n",
       "</div>"
      ],
      "text/plain": [
       "      linear_train  linear_test  ridge_train  ridge_test  ridge_cv_train  \\\n",
       "R2        0.908593     0.776944     0.908554    0.777312        0.908554   \n",
       "mae       1.032190     1.376895     1.035236    1.379037        1.035236   \n",
       "mse       2.322501     5.186152     2.323480    5.177584        2.323480   \n",
       "rmse      1.523975     2.277312     1.524296    2.275430        1.524296   \n",
       "\n",
       "      ridge_cv_test  lasso_train  lasso_test  lasso_cv_train  lasso_cv_test  \n",
       "R2         0.777312     0.795145    0.633095        0.902391       0.772857  \n",
       "mae        1.379037     1.622532    1.928251        1.057494       1.342721  \n",
       "mse        5.177584     5.205020    8.530684        2.480081       5.281174  \n",
       "rmse       2.275430     2.281451    2.920733        1.574827       2.298080  "
      ]
     },
     "execution_count": 82,
     "metadata": {},
     "output_type": "execute_result"
    }
   ],
   "source": [
    "pd.concat([ls,rs, rcs, lss, lcs], axis = 1)"
   ]
  },
  {
   "cell_type": "code",
   "execution_count": 83,
   "metadata": {
    "scrolled": true
   },
   "outputs": [
    {
     "data": {
      "text/plain": [
       "array([ 3.85025612, -0.01974461,  0.        , -0.93369242,  0.34654385,\n",
       "       -0.        , -0.49092358, -0.48911896])"
      ]
     },
     "execution_count": 83,
     "metadata": {},
     "output_type": "execute_result"
    }
   ],
   "source": [
    "lasso_cv_model.coef_"
   ]
  },
  {
   "cell_type": "code",
   "execution_count": 84,
   "metadata": {},
   "outputs": [],
   "source": [
    "lcm_df = pd.DataFrame(lasso_cv_model.coef_, columns = [\"lasso_cv_coef_0.01\"])"
   ]
  },
  {
   "cell_type": "code",
   "execution_count": 99,
   "metadata": {},
   "outputs": [
    {
     "data": {
      "text/html": [
       "<div>\n",
       "<style scoped>\n",
       "    .dataframe tbody tr th:only-of-type {\n",
       "        vertical-align: middle;\n",
       "    }\n",
       "\n",
       "    .dataframe tbody tr th {\n",
       "        vertical-align: top;\n",
       "    }\n",
       "\n",
       "    .dataframe thead th {\n",
       "        text-align: right;\n",
       "    }\n",
       "</style>\n",
       "<table border=\"1\" class=\"dataframe\">\n",
       "  <thead>\n",
       "    <tr style=\"text-align: right;\">\n",
       "      <th></th>\n",
       "      <th>lm_coef</th>\n",
       "      <th>rm_coef</th>\n",
       "      <th>rm_cv_coef</th>\n",
       "      <th>lasso_coef</th>\n",
       "      <th>lasso_cv_coef_0.01</th>\n",
       "    </tr>\n",
       "  </thead>\n",
       "  <tbody>\n",
       "    <tr>\n",
       "      <th>0</th>\n",
       "      <td>0.436415</td>\n",
       "      <td>3.907238</td>\n",
       "      <td>3.907238</td>\n",
       "      <td>3.562031</td>\n",
       "      <td>3.850256</td>\n",
       "    </tr>\n",
       "    <tr>\n",
       "      <th>1</th>\n",
       "      <td>-0.000010</td>\n",
       "      <td>-0.293449</td>\n",
       "      <td>-0.293449</td>\n",
       "      <td>-0.000000</td>\n",
       "      <td>-0.019745</td>\n",
       "    </tr>\n",
       "    <tr>\n",
       "      <th>2</th>\n",
       "      <td>0.661388</td>\n",
       "      <td>0.116458</td>\n",
       "      <td>0.116458</td>\n",
       "      <td>-0.000000</td>\n",
       "      <td>0.000000</td>\n",
       "    </tr>\n",
       "    <tr>\n",
       "      <th>3</th>\n",
       "      <td>-0.328631</td>\n",
       "      <td>-0.942458</td>\n",
       "      <td>-0.942458</td>\n",
       "      <td>-0.201289</td>\n",
       "      <td>-0.933692</td>\n",
       "    </tr>\n",
       "    <tr>\n",
       "      <th>4</th>\n",
       "      <td>2.027471</td>\n",
       "      <td>0.671905</td>\n",
       "      <td>0.671905</td>\n",
       "      <td>0.000000</td>\n",
       "      <td>0.346544</td>\n",
       "    </tr>\n",
       "    <tr>\n",
       "      <th>5</th>\n",
       "      <td>0.707767</td>\n",
       "      <td>0.152543</td>\n",
       "      <td>0.152543</td>\n",
       "      <td>-0.000000</td>\n",
       "      <td>-0.000000</td>\n",
       "    </tr>\n",
       "    <tr>\n",
       "      <th>6</th>\n",
       "      <td>-1.324916</td>\n",
       "      <td>-0.639101</td>\n",
       "      <td>-0.639101</td>\n",
       "      <td>-0.000000</td>\n",
       "      <td>-0.490924</td>\n",
       "    </tr>\n",
       "    <tr>\n",
       "      <th>7</th>\n",
       "      <td>-1.847481</td>\n",
       "      <td>-0.615759</td>\n",
       "      <td>-0.615759</td>\n",
       "      <td>-0.000000</td>\n",
       "      <td>-0.489119</td>\n",
       "    </tr>\n",
       "  </tbody>\n",
       "</table>\n",
       "</div>"
      ],
      "text/plain": [
       "    lm_coef   rm_coef  rm_cv_coef  lasso_coef  lasso_cv_coef_0.01\n",
       "0  0.436415  3.907238    3.907238    3.562031            3.850256\n",
       "1 -0.000010 -0.293449   -0.293449   -0.000000           -0.019745\n",
       "2  0.661388  0.116458    0.116458   -0.000000            0.000000\n",
       "3 -0.328631 -0.942458   -0.942458   -0.201289           -0.933692\n",
       "4  2.027471  0.671905    0.671905    0.000000            0.346544\n",
       "5  0.707767  0.152543    0.152543   -0.000000           -0.000000\n",
       "6 -1.324916 -0.639101   -0.639101   -0.000000           -0.490924\n",
       "7 -1.847481 -0.615759   -0.615759   -0.000000           -0.489119"
      ]
     },
     "execution_count": 99,
     "metadata": {},
     "output_type": "execute_result"
    }
   ],
   "source": [
    "pd.concat([lm_df, rm_df, rcm_df, lsm_df, lcm_df], axis = 1)"
   ]
  },
  {
   "cell_type": "code",
   "execution_count": null,
   "metadata": {},
   "outputs": [],
   "source": []
  },
  {
   "cell_type": "markdown",
   "metadata": {
    "id": "26QEobIEbV9X"
   },
   "source": [
    "## Elastic-Net "
   ]
  },
  {
   "cell_type": "code",
   "execution_count": 100,
   "metadata": {
    "id": "hIgltF9YbV9Y"
   },
   "outputs": [],
   "source": [
    "from sklearn.linear_model import ElasticNet, ElasticNetCV"
   ]
  },
  {
   "cell_type": "code",
   "execution_count": 101,
   "metadata": {},
   "outputs": [
    {
     "data": {
      "text/plain": [
       "ElasticNet(alpha=1, random_state=42)"
      ]
     },
     "execution_count": 101,
     "metadata": {},
     "output_type": "execute_result"
    }
   ],
   "source": [
    "elastic_model = ElasticNet(alpha=1, l1_ratio=0.5, random_state=42)\n",
    "elastic_model.fit(X_train_scaled, y_train)"
   ]
  },
  {
   "cell_type": "code",
   "execution_count": 102,
   "metadata": {},
   "outputs": [],
   "source": [
    "y_pred = elastic_model.predict(X_test_scaled)\n",
    "y_train_pred = elastic_model.predict(X_train_scaled)"
   ]
  },
  {
   "cell_type": "code",
   "execution_count": 103,
   "metadata": {},
   "outputs": [
    {
     "data": {
      "text/html": [
       "<div>\n",
       "<style scoped>\n",
       "    .dataframe tbody tr th:only-of-type {\n",
       "        vertical-align: middle;\n",
       "    }\n",
       "\n",
       "    .dataframe tbody tr th {\n",
       "        vertical-align: top;\n",
       "    }\n",
       "\n",
       "    .dataframe thead th {\n",
       "        text-align: right;\n",
       "    }\n",
       "</style>\n",
       "<table border=\"1\" class=\"dataframe\">\n",
       "  <thead>\n",
       "    <tr style=\"text-align: right;\">\n",
       "      <th></th>\n",
       "      <th>elastic_train</th>\n",
       "      <th>elastic_test</th>\n",
       "    </tr>\n",
       "  </thead>\n",
       "  <tbody>\n",
       "    <tr>\n",
       "      <th>R2</th>\n",
       "      <td>0.780291</td>\n",
       "      <td>0.664362</td>\n",
       "    </tr>\n",
       "    <tr>\n",
       "      <th>mae</th>\n",
       "      <td>1.599410</td>\n",
       "      <td>1.746782</td>\n",
       "    </tr>\n",
       "    <tr>\n",
       "      <th>mse</th>\n",
       "      <td>5.582440</td>\n",
       "      <td>7.803729</td>\n",
       "    </tr>\n",
       "    <tr>\n",
       "      <th>rmse</th>\n",
       "      <td>2.362719</td>\n",
       "      <td>2.793516</td>\n",
       "    </tr>\n",
       "  </tbody>\n",
       "</table>\n",
       "</div>"
      ],
      "text/plain": [
       "      elastic_train  elastic_test\n",
       "R2         0.780291      0.664362\n",
       "mae        1.599410      1.746782\n",
       "mse        5.582440      7.803729\n",
       "rmse       2.362719      2.793516"
      ]
     },
     "execution_count": 103,
     "metadata": {},
     "output_type": "execute_result"
    }
   ],
   "source": [
    "es = train_val(y_train, y_train_pred, y_test, y_pred, \"elastic\")\n",
    "es"
   ]
  },
  {
   "cell_type": "code",
   "execution_count": 104,
   "metadata": {},
   "outputs": [
    {
     "data": {
      "text/html": [
       "<div>\n",
       "<style scoped>\n",
       "    .dataframe tbody tr th:only-of-type {\n",
       "        vertical-align: middle;\n",
       "    }\n",
       "\n",
       "    .dataframe tbody tr th {\n",
       "        vertical-align: top;\n",
       "    }\n",
       "\n",
       "    .dataframe thead th {\n",
       "        text-align: right;\n",
       "    }\n",
       "</style>\n",
       "<table border=\"1\" class=\"dataframe\">\n",
       "  <thead>\n",
       "    <tr style=\"text-align: right;\">\n",
       "      <th></th>\n",
       "      <th>linear_train</th>\n",
       "      <th>linear_test</th>\n",
       "      <th>ridge_train</th>\n",
       "      <th>ridge_test</th>\n",
       "      <th>ridge_cv_train</th>\n",
       "      <th>ridge_cv_test</th>\n",
       "      <th>lasso_train</th>\n",
       "      <th>lasso_test</th>\n",
       "      <th>lasso_cv_train</th>\n",
       "      <th>lasso_cv_test</th>\n",
       "      <th>elastic_train</th>\n",
       "      <th>elastic_test</th>\n",
       "    </tr>\n",
       "  </thead>\n",
       "  <tbody>\n",
       "    <tr>\n",
       "      <th>R2</th>\n",
       "      <td>0.908593</td>\n",
       "      <td>0.776944</td>\n",
       "      <td>0.908554</td>\n",
       "      <td>0.777312</td>\n",
       "      <td>0.908554</td>\n",
       "      <td>0.777312</td>\n",
       "      <td>0.795145</td>\n",
       "      <td>0.633095</td>\n",
       "      <td>0.902391</td>\n",
       "      <td>0.772857</td>\n",
       "      <td>0.780291</td>\n",
       "      <td>0.664362</td>\n",
       "    </tr>\n",
       "    <tr>\n",
       "      <th>mae</th>\n",
       "      <td>1.032190</td>\n",
       "      <td>1.376895</td>\n",
       "      <td>1.035236</td>\n",
       "      <td>1.379037</td>\n",
       "      <td>1.035236</td>\n",
       "      <td>1.379037</td>\n",
       "      <td>1.622532</td>\n",
       "      <td>1.928251</td>\n",
       "      <td>1.057494</td>\n",
       "      <td>1.342721</td>\n",
       "      <td>1.599410</td>\n",
       "      <td>1.746782</td>\n",
       "    </tr>\n",
       "    <tr>\n",
       "      <th>mse</th>\n",
       "      <td>2.322501</td>\n",
       "      <td>5.186152</td>\n",
       "      <td>2.323480</td>\n",
       "      <td>5.177584</td>\n",
       "      <td>2.323480</td>\n",
       "      <td>5.177584</td>\n",
       "      <td>5.205020</td>\n",
       "      <td>8.530684</td>\n",
       "      <td>2.480081</td>\n",
       "      <td>5.281174</td>\n",
       "      <td>5.582440</td>\n",
       "      <td>7.803729</td>\n",
       "    </tr>\n",
       "    <tr>\n",
       "      <th>rmse</th>\n",
       "      <td>1.523975</td>\n",
       "      <td>2.277312</td>\n",
       "      <td>1.524296</td>\n",
       "      <td>2.275430</td>\n",
       "      <td>1.524296</td>\n",
       "      <td>2.275430</td>\n",
       "      <td>2.281451</td>\n",
       "      <td>2.920733</td>\n",
       "      <td>1.574827</td>\n",
       "      <td>2.298080</td>\n",
       "      <td>2.362719</td>\n",
       "      <td>2.793516</td>\n",
       "    </tr>\n",
       "  </tbody>\n",
       "</table>\n",
       "</div>"
      ],
      "text/plain": [
       "      linear_train  linear_test  ridge_train  ridge_test  ridge_cv_train  \\\n",
       "R2        0.908593     0.776944     0.908554    0.777312        0.908554   \n",
       "mae       1.032190     1.376895     1.035236    1.379037        1.035236   \n",
       "mse       2.322501     5.186152     2.323480    5.177584        2.323480   \n",
       "rmse      1.523975     2.277312     1.524296    2.275430        1.524296   \n",
       "\n",
       "      ridge_cv_test  lasso_train  lasso_test  lasso_cv_train  lasso_cv_test  \\\n",
       "R2         0.777312     0.795145    0.633095        0.902391       0.772857   \n",
       "mae        1.379037     1.622532    1.928251        1.057494       1.342721   \n",
       "mse        5.177584     5.205020    8.530684        2.480081       5.281174   \n",
       "rmse       2.275430     2.281451    2.920733        1.574827       2.298080   \n",
       "\n",
       "      elastic_train  elastic_test  \n",
       "R2         0.780291      0.664362  \n",
       "mae        1.599410      1.746782  \n",
       "mse        5.582440      7.803729  \n",
       "rmse       2.362719      2.793516  "
      ]
     },
     "execution_count": 104,
     "metadata": {},
     "output_type": "execute_result"
    }
   ],
   "source": [
    "pd.concat([ls,rs, rcs, lss, lcs, es], axis = 1)"
   ]
  },
  {
   "cell_type": "code",
   "execution_count": null,
   "metadata": {},
   "outputs": [],
   "source": []
  },
  {
   "cell_type": "code",
   "execution_count": 105,
   "metadata": {},
   "outputs": [],
   "source": [
    "model = ElasticNet(alpha=1, l1_ratio=0.5, random_state=42)\n",
    "scores = cross_validate(model, X_train_scaled, y_train,\n",
    "                        scoring=['r2', 'neg_mean_absolute_error','neg_mean_squared_error','neg_root_mean_squared_error'], cv=5)"
   ]
  },
  {
   "cell_type": "code",
   "execution_count": 106,
   "metadata": {},
   "outputs": [
    {
     "data": {
      "text/html": [
       "<div>\n",
       "<style scoped>\n",
       "    .dataframe tbody tr th:only-of-type {\n",
       "        vertical-align: middle;\n",
       "    }\n",
       "\n",
       "    .dataframe tbody tr th {\n",
       "        vertical-align: top;\n",
       "    }\n",
       "\n",
       "    .dataframe thead th {\n",
       "        text-align: right;\n",
       "    }\n",
       "</style>\n",
       "<table border=\"1\" class=\"dataframe\">\n",
       "  <thead>\n",
       "    <tr style=\"text-align: right;\">\n",
       "      <th></th>\n",
       "      <th>test_r2</th>\n",
       "      <th>test_neg_mean_absolute_error</th>\n",
       "      <th>test_neg_mean_squared_error</th>\n",
       "      <th>test_neg_root_mean_squared_error</th>\n",
       "    </tr>\n",
       "  </thead>\n",
       "  <tbody>\n",
       "    <tr>\n",
       "      <th>1</th>\n",
       "      <td>0.727998</td>\n",
       "      <td>-1.181500</td>\n",
       "      <td>-2.143456</td>\n",
       "      <td>-1.464055</td>\n",
       "    </tr>\n",
       "    <tr>\n",
       "      <th>2</th>\n",
       "      <td>0.686222</td>\n",
       "      <td>-2.499082</td>\n",
       "      <td>-13.782474</td>\n",
       "      <td>-3.712475</td>\n",
       "    </tr>\n",
       "    <tr>\n",
       "      <th>3</th>\n",
       "      <td>0.807077</td>\n",
       "      <td>-1.416824</td>\n",
       "      <td>-4.042851</td>\n",
       "      <td>-2.010684</td>\n",
       "    </tr>\n",
       "    <tr>\n",
       "      <th>4</th>\n",
       "      <td>0.733363</td>\n",
       "      <td>-1.527855</td>\n",
       "      <td>-6.070624</td>\n",
       "      <td>-2.463864</td>\n",
       "    </tr>\n",
       "    <tr>\n",
       "      <th>5</th>\n",
       "      <td>0.785778</td>\n",
       "      <td>-1.652431</td>\n",
       "      <td>-5.872400</td>\n",
       "      <td>-2.423303</td>\n",
       "    </tr>\n",
       "  </tbody>\n",
       "</table>\n",
       "</div>"
      ],
      "text/plain": [
       "    test_r2  test_neg_mean_absolute_error  test_neg_mean_squared_error  \\\n",
       "1  0.727998                     -1.181500                    -2.143456   \n",
       "2  0.686222                     -2.499082                   -13.782474   \n",
       "3  0.807077                     -1.416824                    -4.042851   \n",
       "4  0.733363                     -1.527855                    -6.070624   \n",
       "5  0.785778                     -1.652431                    -5.872400   \n",
       "\n",
       "   test_neg_root_mean_squared_error  \n",
       "1                         -1.464055  \n",
       "2                         -3.712475  \n",
       "3                         -2.010684  \n",
       "4                         -2.463864  \n",
       "5                         -2.423303  "
      ]
     },
     "execution_count": 106,
     "metadata": {},
     "output_type": "execute_result"
    }
   ],
   "source": [
    "scores = pd.DataFrame(scores, index = range(1, 6))\n",
    "scores.iloc[:,2:]"
   ]
  },
  {
   "cell_type": "code",
   "execution_count": 107,
   "metadata": {},
   "outputs": [
    {
     "data": {
      "text/plain": [
       "test_r2                             0.748088\n",
       "test_neg_mean_absolute_error       -1.655538\n",
       "test_neg_mean_squared_error        -6.382361\n",
       "test_neg_root_mean_squared_error   -2.414876\n",
       "dtype: float64"
      ]
     },
     "execution_count": 107,
     "metadata": {},
     "output_type": "execute_result"
    }
   ],
   "source": [
    "scores = pd.DataFrame(scores, index = range(1, 11))\n",
    "scores.iloc[:,2:].mean()"
   ]
  },
  {
   "cell_type": "code",
   "execution_count": 108,
   "metadata": {},
   "outputs": [
    {
     "data": {
      "text/html": [
       "<div>\n",
       "<style scoped>\n",
       "    .dataframe tbody tr th:only-of-type {\n",
       "        vertical-align: middle;\n",
       "    }\n",
       "\n",
       "    .dataframe tbody tr th {\n",
       "        vertical-align: top;\n",
       "    }\n",
       "\n",
       "    .dataframe thead th {\n",
       "        text-align: right;\n",
       "    }\n",
       "</style>\n",
       "<table border=\"1\" class=\"dataframe\">\n",
       "  <thead>\n",
       "    <tr style=\"text-align: right;\">\n",
       "      <th></th>\n",
       "      <th>elastic_train</th>\n",
       "      <th>elastic_test</th>\n",
       "    </tr>\n",
       "  </thead>\n",
       "  <tbody>\n",
       "    <tr>\n",
       "      <th>R2</th>\n",
       "      <td>0.780291</td>\n",
       "      <td>0.664362</td>\n",
       "    </tr>\n",
       "    <tr>\n",
       "      <th>mae</th>\n",
       "      <td>1.599410</td>\n",
       "      <td>1.746782</td>\n",
       "    </tr>\n",
       "    <tr>\n",
       "      <th>mse</th>\n",
       "      <td>5.582440</td>\n",
       "      <td>7.803729</td>\n",
       "    </tr>\n",
       "    <tr>\n",
       "      <th>rmse</th>\n",
       "      <td>2.362719</td>\n",
       "      <td>2.793516</td>\n",
       "    </tr>\n",
       "  </tbody>\n",
       "</table>\n",
       "</div>"
      ],
      "text/plain": [
       "      elastic_train  elastic_test\n",
       "R2         0.780291      0.664362\n",
       "mae        1.599410      1.746782\n",
       "mse        5.582440      7.803729\n",
       "rmse       2.362719      2.793516"
      ]
     },
     "execution_count": 108,
     "metadata": {},
     "output_type": "execute_result"
    }
   ],
   "source": [
    "train_val(y_train, y_train_pred, y_test, y_pred, \"elastic\")"
   ]
  },
  {
   "cell_type": "code",
   "execution_count": 109,
   "metadata": {},
   "outputs": [
    {
     "data": {
      "text/plain": [
       "array([ 2.22959778, -0.        , -0.        , -0.37608208,  0.32125289,\n",
       "       -0.25977617, -0.58375327, -0.5117568 ])"
      ]
     },
     "execution_count": 109,
     "metadata": {},
     "output_type": "execute_result"
    }
   ],
   "source": [
    "elastic_model.coef_"
   ]
  },
  {
   "cell_type": "code",
   "execution_count": 110,
   "metadata": {},
   "outputs": [],
   "source": [
    "em_df = pd.DataFrame(elastic_model.coef_, columns=[\"elastic_coef_(alp:1, l1:0.5)\"])"
   ]
  },
  {
   "cell_type": "code",
   "execution_count": 111,
   "metadata": {},
   "outputs": [
    {
     "data": {
      "text/html": [
       "<div>\n",
       "<style scoped>\n",
       "    .dataframe tbody tr th:only-of-type {\n",
       "        vertical-align: middle;\n",
       "    }\n",
       "\n",
       "    .dataframe tbody tr th {\n",
       "        vertical-align: top;\n",
       "    }\n",
       "\n",
       "    .dataframe thead th {\n",
       "        text-align: right;\n",
       "    }\n",
       "</style>\n",
       "<table border=\"1\" class=\"dataframe\">\n",
       "  <thead>\n",
       "    <tr style=\"text-align: right;\">\n",
       "      <th></th>\n",
       "      <th>lm_coef</th>\n",
       "      <th>rm_coef</th>\n",
       "      <th>rm_cv_coef</th>\n",
       "      <th>lasso_coef</th>\n",
       "      <th>lasso_cv_coef_0.01</th>\n",
       "      <th>elastic_coef_(alp:1, l1:0.5)</th>\n",
       "    </tr>\n",
       "  </thead>\n",
       "  <tbody>\n",
       "    <tr>\n",
       "      <th>0</th>\n",
       "      <td>0.436415</td>\n",
       "      <td>3.907238</td>\n",
       "      <td>3.907238</td>\n",
       "      <td>3.562031</td>\n",
       "      <td>3.850256</td>\n",
       "      <td>2.229598</td>\n",
       "    </tr>\n",
       "    <tr>\n",
       "      <th>1</th>\n",
       "      <td>-0.000010</td>\n",
       "      <td>-0.293449</td>\n",
       "      <td>-0.293449</td>\n",
       "      <td>-0.000000</td>\n",
       "      <td>-0.019745</td>\n",
       "      <td>-0.000000</td>\n",
       "    </tr>\n",
       "    <tr>\n",
       "      <th>2</th>\n",
       "      <td>0.661388</td>\n",
       "      <td>0.116458</td>\n",
       "      <td>0.116458</td>\n",
       "      <td>-0.000000</td>\n",
       "      <td>0.000000</td>\n",
       "      <td>-0.000000</td>\n",
       "    </tr>\n",
       "    <tr>\n",
       "      <th>3</th>\n",
       "      <td>-0.328631</td>\n",
       "      <td>-0.942458</td>\n",
       "      <td>-0.942458</td>\n",
       "      <td>-0.201289</td>\n",
       "      <td>-0.933692</td>\n",
       "      <td>-0.376082</td>\n",
       "    </tr>\n",
       "    <tr>\n",
       "      <th>4</th>\n",
       "      <td>2.027471</td>\n",
       "      <td>0.671905</td>\n",
       "      <td>0.671905</td>\n",
       "      <td>0.000000</td>\n",
       "      <td>0.346544</td>\n",
       "      <td>0.321253</td>\n",
       "    </tr>\n",
       "    <tr>\n",
       "      <th>5</th>\n",
       "      <td>0.707767</td>\n",
       "      <td>0.152543</td>\n",
       "      <td>0.152543</td>\n",
       "      <td>-0.000000</td>\n",
       "      <td>-0.000000</td>\n",
       "      <td>-0.259776</td>\n",
       "    </tr>\n",
       "    <tr>\n",
       "      <th>6</th>\n",
       "      <td>-1.324916</td>\n",
       "      <td>-0.639101</td>\n",
       "      <td>-0.639101</td>\n",
       "      <td>-0.000000</td>\n",
       "      <td>-0.490924</td>\n",
       "      <td>-0.583753</td>\n",
       "    </tr>\n",
       "    <tr>\n",
       "      <th>7</th>\n",
       "      <td>-1.847481</td>\n",
       "      <td>-0.615759</td>\n",
       "      <td>-0.615759</td>\n",
       "      <td>-0.000000</td>\n",
       "      <td>-0.489119</td>\n",
       "      <td>-0.511757</td>\n",
       "    </tr>\n",
       "  </tbody>\n",
       "</table>\n",
       "</div>"
      ],
      "text/plain": [
       "    lm_coef   rm_coef  rm_cv_coef  lasso_coef  lasso_cv_coef_0.01  \\\n",
       "0  0.436415  3.907238    3.907238    3.562031            3.850256   \n",
       "1 -0.000010 -0.293449   -0.293449   -0.000000           -0.019745   \n",
       "2  0.661388  0.116458    0.116458   -0.000000            0.000000   \n",
       "3 -0.328631 -0.942458   -0.942458   -0.201289           -0.933692   \n",
       "4  2.027471  0.671905    0.671905    0.000000            0.346544   \n",
       "5  0.707767  0.152543    0.152543   -0.000000           -0.000000   \n",
       "6 -1.324916 -0.639101   -0.639101   -0.000000           -0.490924   \n",
       "7 -1.847481 -0.615759   -0.615759   -0.000000           -0.489119   \n",
       "\n",
       "   elastic_coef_(alp:1, l1:0.5)  \n",
       "0                      2.229598  \n",
       "1                     -0.000000  \n",
       "2                     -0.000000  \n",
       "3                     -0.376082  \n",
       "4                      0.321253  \n",
       "5                     -0.259776  \n",
       "6                     -0.583753  \n",
       "7                     -0.511757  "
      ]
     },
     "execution_count": 111,
     "metadata": {},
     "output_type": "execute_result"
    }
   ],
   "source": [
    "pd.concat([lm_df, rm_df, rcm_df, lsm_df, lcm_df, em_df], axis = 1)"
   ]
  },
  {
   "cell_type": "code",
   "execution_count": null,
   "metadata": {},
   "outputs": [],
   "source": []
  },
  {
   "cell_type": "code",
   "execution_count": 112,
   "metadata": {},
   "outputs": [],
   "source": [
    "elastic_cv_model = ElasticNetCV(alphas = alpha_space, l1_ratio=[0.1, 0.5, 0.7,0.9, 0.95, 1], cv = 5, \n",
    "                                max_iter = 100000,random_state=42)"
   ]
  },
  {
   "cell_type": "code",
   "execution_count": 113,
   "metadata": {},
   "outputs": [
    {
     "data": {
      "text/plain": [
       "ElasticNetCV(alphas=array([0.01, 0.02, 0.03, 0.04, 0.05, 0.06, 0.07, 0.08, 0.09, 0.1 , 0.11,\n",
       "       0.12, 0.13, 0.14, 0.15, 0.16, 0.17, 0.18, 0.19, 0.2 , 0.21, 0.22,\n",
       "       0.23, 0.24, 0.25, 0.26, 0.27, 0.28, 0.29, 0.3 , 0.31, 0.32, 0.33,\n",
       "       0.34, 0.35, 0.36, 0.37, 0.38, 0.39, 0.4 , 0.41, 0.42, 0.43, 0.44,\n",
       "       0.45, 0.46, 0.47, 0.48, 0.49, 0.5 , 0.51, 0.52, 0.53, 0.54, 0.55,\n",
       "       0.56, 0.57, 0.58, 0.59, 0.6 , 0.61, 0.62, 0.63, 0.64, 0.65, 0.66,\n",
       "       0.67, 0.68, 0.69, 0.7 , 0.71, 0.72, 0.73, 0.74, 0.75, 0.76, 0.77,\n",
       "       0.78, 0.79, 0.8 , 0.81, 0.82, 0.83, 0.84, 0.85, 0.86, 0.87, 0.88,\n",
       "       0.89, 0.9 , 0.91, 0.92, 0.93, 0.94, 0.95, 0.96, 0.97, 0.98, 0.99,\n",
       "       1.  ]),\n",
       "             cv=5, l1_ratio=[0.1, 0.5, 0.7, 0.9, 0.95, 1], max_iter=100000,\n",
       "             random_state=42)"
      ]
     },
     "execution_count": 113,
     "metadata": {},
     "output_type": "execute_result"
    }
   ],
   "source": [
    "elastic_cv_model.fit(X_train_scaled, y_train)"
   ]
  },
  {
   "cell_type": "code",
   "execution_count": 114,
   "metadata": {},
   "outputs": [
    {
     "data": {
      "text/plain": [
       "0.09999999999999999"
      ]
     },
     "execution_count": 114,
     "metadata": {},
     "output_type": "execute_result"
    }
   ],
   "source": [
    "elastic_cv_model.alpha_"
   ]
  },
  {
   "cell_type": "code",
   "execution_count": 115,
   "metadata": {},
   "outputs": [
    {
     "data": {
      "text/plain": [
       "0.1"
      ]
     },
     "execution_count": 115,
     "metadata": {},
     "output_type": "execute_result"
    }
   ],
   "source": [
    "elastic_cv_model.l1_ratio_"
   ]
  },
  {
   "cell_type": "code",
   "execution_count": 116,
   "metadata": {},
   "outputs": [
    {
     "data": {
      "text/plain": [
       "3.6358138926221897"
      ]
     },
     "execution_count": 116,
     "metadata": {},
     "output_type": "execute_result"
    }
   ],
   "source": [
    "#mse score for CV\n",
    "elastic_cv_model.mse_path_[5][-1].mean()"
   ]
  },
  {
   "cell_type": "code",
   "execution_count": 117,
   "metadata": {},
   "outputs": [],
   "source": [
    "y_pred = elastic_cv_model.predict(X_test_scaled)\n",
    "y_train_pred = elastic_cv_model.predict(X_train_scaled)"
   ]
  },
  {
   "cell_type": "code",
   "execution_count": 118,
   "metadata": {},
   "outputs": [
    {
     "data": {
      "text/html": [
       "<div>\n",
       "<style scoped>\n",
       "    .dataframe tbody tr th:only-of-type {\n",
       "        vertical-align: middle;\n",
       "    }\n",
       "\n",
       "    .dataframe tbody tr th {\n",
       "        vertical-align: top;\n",
       "    }\n",
       "\n",
       "    .dataframe thead th {\n",
       "        text-align: right;\n",
       "    }\n",
       "</style>\n",
       "<table border=\"1\" class=\"dataframe\">\n",
       "  <thead>\n",
       "    <tr style=\"text-align: right;\">\n",
       "      <th></th>\n",
       "      <th>elastic_cv_train</th>\n",
       "      <th>elastic_cv_test</th>\n",
       "    </tr>\n",
       "  </thead>\n",
       "  <tbody>\n",
       "    <tr>\n",
       "      <th>R2</th>\n",
       "      <td>0.902618</td>\n",
       "      <td>0.780632</td>\n",
       "    </tr>\n",
       "    <tr>\n",
       "      <th>mae</th>\n",
       "      <td>1.076857</td>\n",
       "      <td>1.364359</td>\n",
       "    </tr>\n",
       "    <tr>\n",
       "      <th>mse</th>\n",
       "      <td>2.474319</td>\n",
       "      <td>5.100393</td>\n",
       "    </tr>\n",
       "    <tr>\n",
       "      <th>rmse</th>\n",
       "      <td>1.572997</td>\n",
       "      <td>2.258405</td>\n",
       "    </tr>\n",
       "  </tbody>\n",
       "</table>\n",
       "</div>"
      ],
      "text/plain": [
       "      elastic_cv_train  elastic_cv_test\n",
       "R2            0.902618         0.780632\n",
       "mae           1.076857         1.364359\n",
       "mse           2.474319         5.100393\n",
       "rmse          1.572997         2.258405"
      ]
     },
     "execution_count": 118,
     "metadata": {},
     "output_type": "execute_result"
    }
   ],
   "source": [
    "ecs = train_val(y_train, y_train_pred, y_test, y_pred, \"elastic_cv\")\n",
    "ecs"
   ]
  },
  {
   "cell_type": "code",
   "execution_count": 119,
   "metadata": {},
   "outputs": [
    {
     "data": {
      "text/html": [
       "<div>\n",
       "<style scoped>\n",
       "    .dataframe tbody tr th:only-of-type {\n",
       "        vertical-align: middle;\n",
       "    }\n",
       "\n",
       "    .dataframe tbody tr th {\n",
       "        vertical-align: top;\n",
       "    }\n",
       "\n",
       "    .dataframe thead th {\n",
       "        text-align: right;\n",
       "    }\n",
       "</style>\n",
       "<table border=\"1\" class=\"dataframe\">\n",
       "  <thead>\n",
       "    <tr style=\"text-align: right;\">\n",
       "      <th></th>\n",
       "      <th>linear_train</th>\n",
       "      <th>linear_test</th>\n",
       "      <th>ridge_train</th>\n",
       "      <th>ridge_test</th>\n",
       "      <th>ridge_cv_train</th>\n",
       "      <th>ridge_cv_test</th>\n",
       "      <th>lasso_train</th>\n",
       "      <th>lasso_test</th>\n",
       "      <th>lasso_cv_train</th>\n",
       "      <th>lasso_cv_test</th>\n",
       "      <th>elastic_train</th>\n",
       "      <th>elastic_test</th>\n",
       "      <th>elastic_cv_train</th>\n",
       "      <th>elastic_cv_test</th>\n",
       "    </tr>\n",
       "  </thead>\n",
       "  <tbody>\n",
       "    <tr>\n",
       "      <th>R2</th>\n",
       "      <td>0.908593</td>\n",
       "      <td>0.776944</td>\n",
       "      <td>0.908554</td>\n",
       "      <td>0.777312</td>\n",
       "      <td>0.908554</td>\n",
       "      <td>0.777312</td>\n",
       "      <td>0.795145</td>\n",
       "      <td>0.633095</td>\n",
       "      <td>0.902391</td>\n",
       "      <td>0.772857</td>\n",
       "      <td>0.780291</td>\n",
       "      <td>0.664362</td>\n",
       "      <td>0.902618</td>\n",
       "      <td>0.780632</td>\n",
       "    </tr>\n",
       "    <tr>\n",
       "      <th>mae</th>\n",
       "      <td>1.032190</td>\n",
       "      <td>1.376895</td>\n",
       "      <td>1.035236</td>\n",
       "      <td>1.379037</td>\n",
       "      <td>1.035236</td>\n",
       "      <td>1.379037</td>\n",
       "      <td>1.622532</td>\n",
       "      <td>1.928251</td>\n",
       "      <td>1.057494</td>\n",
       "      <td>1.342721</td>\n",
       "      <td>1.599410</td>\n",
       "      <td>1.746782</td>\n",
       "      <td>1.076857</td>\n",
       "      <td>1.364359</td>\n",
       "    </tr>\n",
       "    <tr>\n",
       "      <th>mse</th>\n",
       "      <td>2.322501</td>\n",
       "      <td>5.186152</td>\n",
       "      <td>2.323480</td>\n",
       "      <td>5.177584</td>\n",
       "      <td>2.323480</td>\n",
       "      <td>5.177584</td>\n",
       "      <td>5.205020</td>\n",
       "      <td>8.530684</td>\n",
       "      <td>2.480081</td>\n",
       "      <td>5.281174</td>\n",
       "      <td>5.582440</td>\n",
       "      <td>7.803729</td>\n",
       "      <td>2.474319</td>\n",
       "      <td>5.100393</td>\n",
       "    </tr>\n",
       "    <tr>\n",
       "      <th>rmse</th>\n",
       "      <td>1.523975</td>\n",
       "      <td>2.277312</td>\n",
       "      <td>1.524296</td>\n",
       "      <td>2.275430</td>\n",
       "      <td>1.524296</td>\n",
       "      <td>2.275430</td>\n",
       "      <td>2.281451</td>\n",
       "      <td>2.920733</td>\n",
       "      <td>1.574827</td>\n",
       "      <td>2.298080</td>\n",
       "      <td>2.362719</td>\n",
       "      <td>2.793516</td>\n",
       "      <td>1.572997</td>\n",
       "      <td>2.258405</td>\n",
       "    </tr>\n",
       "  </tbody>\n",
       "</table>\n",
       "</div>"
      ],
      "text/plain": [
       "      linear_train  linear_test  ridge_train  ridge_test  ridge_cv_train  \\\n",
       "R2        0.908593     0.776944     0.908554    0.777312        0.908554   \n",
       "mae       1.032190     1.376895     1.035236    1.379037        1.035236   \n",
       "mse       2.322501     5.186152     2.323480    5.177584        2.323480   \n",
       "rmse      1.523975     2.277312     1.524296    2.275430        1.524296   \n",
       "\n",
       "      ridge_cv_test  lasso_train  lasso_test  lasso_cv_train  lasso_cv_test  \\\n",
       "R2         0.777312     0.795145    0.633095        0.902391       0.772857   \n",
       "mae        1.379037     1.622532    1.928251        1.057494       1.342721   \n",
       "mse        5.177584     5.205020    8.530684        2.480081       5.281174   \n",
       "rmse       2.275430     2.281451    2.920733        1.574827       2.298080   \n",
       "\n",
       "      elastic_train  elastic_test  elastic_cv_train  elastic_cv_test  \n",
       "R2         0.780291      0.664362          0.902618         0.780632  \n",
       "mae        1.599410      1.746782          1.076857         1.364359  \n",
       "mse        5.582440      7.803729          2.474319         5.100393  \n",
       "rmse       2.362719      2.793516          1.572997         2.258405  "
      ]
     },
     "execution_count": 119,
     "metadata": {},
     "output_type": "execute_result"
    }
   ],
   "source": [
    "pd.concat([ls,rs, rcs, lss, lcs, es, ecs], axis = 1)"
   ]
  },
  {
   "cell_type": "code",
   "execution_count": 120,
   "metadata": {},
   "outputs": [
    {
     "data": {
      "text/plain": [
       "array([ 3.46959033, -0.24494672,  0.05909056, -0.8553494 ,  0.41087299,\n",
       "       -0.22073226, -0.71607145, -0.68403386])"
      ]
     },
     "execution_count": 120,
     "metadata": {},
     "output_type": "execute_result"
    }
   ],
   "source": [
    "elastic_cv_model.coef_"
   ]
  },
  {
   "cell_type": "code",
   "execution_count": 121,
   "metadata": {},
   "outputs": [],
   "source": [
    "ecm_df = pd.DataFrame(elastic_cv_model.coef_, columns=[\"elastic_coef_(alp:0.01, l1:1)\"])"
   ]
  },
  {
   "cell_type": "code",
   "execution_count": 122,
   "metadata": {},
   "outputs": [
    {
     "data": {
      "text/html": [
       "<div>\n",
       "<style scoped>\n",
       "    .dataframe tbody tr th:only-of-type {\n",
       "        vertical-align: middle;\n",
       "    }\n",
       "\n",
       "    .dataframe tbody tr th {\n",
       "        vertical-align: top;\n",
       "    }\n",
       "\n",
       "    .dataframe thead th {\n",
       "        text-align: right;\n",
       "    }\n",
       "</style>\n",
       "<table border=\"1\" class=\"dataframe\">\n",
       "  <thead>\n",
       "    <tr style=\"text-align: right;\">\n",
       "      <th></th>\n",
       "      <th>lm_coef</th>\n",
       "      <th>rm_coef</th>\n",
       "      <th>rm_cv_coef</th>\n",
       "      <th>lasso_coef</th>\n",
       "      <th>lasso_cv_coef_0.01</th>\n",
       "      <th>elastic_coef_(alp:1, l1:0.5)</th>\n",
       "      <th>elastic_coef_(alp:0.01, l1:1)</th>\n",
       "    </tr>\n",
       "  </thead>\n",
       "  <tbody>\n",
       "    <tr>\n",
       "      <th>0</th>\n",
       "      <td>0.436415</td>\n",
       "      <td>3.907238</td>\n",
       "      <td>3.907238</td>\n",
       "      <td>3.562031</td>\n",
       "      <td>3.850256</td>\n",
       "      <td>2.229598</td>\n",
       "      <td>3.469590</td>\n",
       "    </tr>\n",
       "    <tr>\n",
       "      <th>1</th>\n",
       "      <td>-0.000010</td>\n",
       "      <td>-0.293449</td>\n",
       "      <td>-0.293449</td>\n",
       "      <td>-0.000000</td>\n",
       "      <td>-0.019745</td>\n",
       "      <td>-0.000000</td>\n",
       "      <td>-0.244947</td>\n",
       "    </tr>\n",
       "    <tr>\n",
       "      <th>2</th>\n",
       "      <td>0.661388</td>\n",
       "      <td>0.116458</td>\n",
       "      <td>0.116458</td>\n",
       "      <td>-0.000000</td>\n",
       "      <td>0.000000</td>\n",
       "      <td>-0.000000</td>\n",
       "      <td>0.059091</td>\n",
       "    </tr>\n",
       "    <tr>\n",
       "      <th>3</th>\n",
       "      <td>-0.328631</td>\n",
       "      <td>-0.942458</td>\n",
       "      <td>-0.942458</td>\n",
       "      <td>-0.201289</td>\n",
       "      <td>-0.933692</td>\n",
       "      <td>-0.376082</td>\n",
       "      <td>-0.855349</td>\n",
       "    </tr>\n",
       "    <tr>\n",
       "      <th>4</th>\n",
       "      <td>2.027471</td>\n",
       "      <td>0.671905</td>\n",
       "      <td>0.671905</td>\n",
       "      <td>0.000000</td>\n",
       "      <td>0.346544</td>\n",
       "      <td>0.321253</td>\n",
       "      <td>0.410873</td>\n",
       "    </tr>\n",
       "    <tr>\n",
       "      <th>5</th>\n",
       "      <td>0.707767</td>\n",
       "      <td>0.152543</td>\n",
       "      <td>0.152543</td>\n",
       "      <td>-0.000000</td>\n",
       "      <td>-0.000000</td>\n",
       "      <td>-0.259776</td>\n",
       "      <td>-0.220732</td>\n",
       "    </tr>\n",
       "    <tr>\n",
       "      <th>6</th>\n",
       "      <td>-1.324916</td>\n",
       "      <td>-0.639101</td>\n",
       "      <td>-0.639101</td>\n",
       "      <td>-0.000000</td>\n",
       "      <td>-0.490924</td>\n",
       "      <td>-0.583753</td>\n",
       "      <td>-0.716071</td>\n",
       "    </tr>\n",
       "    <tr>\n",
       "      <th>7</th>\n",
       "      <td>-1.847481</td>\n",
       "      <td>-0.615759</td>\n",
       "      <td>-0.615759</td>\n",
       "      <td>-0.000000</td>\n",
       "      <td>-0.489119</td>\n",
       "      <td>-0.511757</td>\n",
       "      <td>-0.684034</td>\n",
       "    </tr>\n",
       "  </tbody>\n",
       "</table>\n",
       "</div>"
      ],
      "text/plain": [
       "    lm_coef   rm_coef  rm_cv_coef  lasso_coef  lasso_cv_coef_0.01  \\\n",
       "0  0.436415  3.907238    3.907238    3.562031            3.850256   \n",
       "1 -0.000010 -0.293449   -0.293449   -0.000000           -0.019745   \n",
       "2  0.661388  0.116458    0.116458   -0.000000            0.000000   \n",
       "3 -0.328631 -0.942458   -0.942458   -0.201289           -0.933692   \n",
       "4  2.027471  0.671905    0.671905    0.000000            0.346544   \n",
       "5  0.707767  0.152543    0.152543   -0.000000           -0.000000   \n",
       "6 -1.324916 -0.639101   -0.639101   -0.000000           -0.490924   \n",
       "7 -1.847481 -0.615759   -0.615759   -0.000000           -0.489119   \n",
       "\n",
       "   elastic_coef_(alp:1, l1:0.5)  elastic_coef_(alp:0.01, l1:1)  \n",
       "0                      2.229598                       3.469590  \n",
       "1                     -0.000000                      -0.244947  \n",
       "2                     -0.000000                       0.059091  \n",
       "3                     -0.376082                      -0.855349  \n",
       "4                      0.321253                       0.410873  \n",
       "5                     -0.259776                      -0.220732  \n",
       "6                     -0.583753                      -0.716071  \n",
       "7                     -0.511757                      -0.684034  "
      ]
     },
     "execution_count": 122,
     "metadata": {},
     "output_type": "execute_result"
    }
   ],
   "source": [
    "pd.concat([lm_df, rm_df, rcm_df, lsm_df, lcm_df, em_df, ecm_df], axis = 1)"
   ]
  },
  {
   "cell_type": "code",
   "execution_count": null,
   "metadata": {},
   "outputs": [],
   "source": []
  },
  {
   "cell_type": "code",
   "execution_count": 123,
   "metadata": {},
   "outputs": [],
   "source": [
    "from sklearn.model_selection import GridSearchCV"
   ]
  },
  {
   "cell_type": "code",
   "execution_count": 124,
   "metadata": {},
   "outputs": [],
   "source": [
    "elastic_model = ElasticNet(max_iter=10000, random_state=42)"
   ]
  },
  {
   "cell_type": "code",
   "execution_count": 125,
   "metadata": {},
   "outputs": [],
   "source": [
    "param_grid = {\"alpha\":[0.01, 0.012, 0.2, 0.5, 0.6, 0.7, 1],\n",
    "            \"l1_ratio\":[0.1, 0.5, 0.7, 0.9, 0.95, 0.99, 1]}"
   ]
  },
  {
   "cell_type": "code",
   "execution_count": 126,
   "metadata": {},
   "outputs": [],
   "source": [
    "grid_model = GridSearchCV(estimator = elastic_model, param_grid = param_grid, scoring = 'neg_root_mean_squared_error',\n",
    "                         cv =5, verbose =2)"
   ]
  },
  {
   "cell_type": "code",
   "execution_count": 127,
   "metadata": {},
   "outputs": [
    {
     "name": "stdout",
     "output_type": "stream",
     "text": [
      "Fitting 5 folds for each of 49 candidates, totalling 245 fits\n",
      "[CV] END ...........................alpha=0.01, l1_ratio=0.1; total time=   0.0s\n",
      "[CV] END ...........................alpha=0.01, l1_ratio=0.1; total time=   0.0s\n",
      "[CV] END ...........................alpha=0.01, l1_ratio=0.1; total time=   0.0s\n",
      "[CV] END ...........................alpha=0.01, l1_ratio=0.1; total time=   0.0s\n",
      "[CV] END ...........................alpha=0.01, l1_ratio=0.1; total time=   0.0s\n",
      "[CV] END ...........................alpha=0.01, l1_ratio=0.5; total time=   0.0s\n",
      "[CV] END ...........................alpha=0.01, l1_ratio=0.5; total time=   0.0s\n",
      "[CV] END ...........................alpha=0.01, l1_ratio=0.5; total time=   0.0s\n",
      "[CV] END ...........................alpha=0.01, l1_ratio=0.5; total time=   0.0s\n",
      "[CV] END ...........................alpha=0.01, l1_ratio=0.5; total time=   0.0s\n",
      "[CV] END ...........................alpha=0.01, l1_ratio=0.7; total time=   0.0s\n",
      "[CV] END ...........................alpha=0.01, l1_ratio=0.7; total time=   0.0s\n",
      "[CV] END ...........................alpha=0.01, l1_ratio=0.7; total time=   0.0s\n",
      "[CV] END ...........................alpha=0.01, l1_ratio=0.7; total time=   0.0s\n",
      "[CV] END ...........................alpha=0.01, l1_ratio=0.7; total time=   0.0s\n",
      "[CV] END ...........................alpha=0.01, l1_ratio=0.9; total time=   0.0s\n",
      "[CV] END ...........................alpha=0.01, l1_ratio=0.9; total time=   0.0s\n",
      "[CV] END ...........................alpha=0.01, l1_ratio=0.9; total time=   0.0s\n",
      "[CV] END ...........................alpha=0.01, l1_ratio=0.9; total time=   0.0s\n",
      "[CV] END ...........................alpha=0.01, l1_ratio=0.9; total time=   0.0s\n",
      "[CV] END ..........................alpha=0.01, l1_ratio=0.95; total time=   0.0s\n",
      "[CV] END ..........................alpha=0.01, l1_ratio=0.95; total time=   0.0s\n",
      "[CV] END ..........................alpha=0.01, l1_ratio=0.95; total time=   0.0s\n",
      "[CV] END ..........................alpha=0.01, l1_ratio=0.95; total time=   0.0s\n",
      "[CV] END ..........................alpha=0.01, l1_ratio=0.95; total time=   0.0s\n",
      "[CV] END ..........................alpha=0.01, l1_ratio=0.99; total time=   0.0s\n",
      "[CV] END ..........................alpha=0.01, l1_ratio=0.99; total time=   0.0s\n",
      "[CV] END ..........................alpha=0.01, l1_ratio=0.99; total time=   0.0s\n",
      "[CV] END ..........................alpha=0.01, l1_ratio=0.99; total time=   0.0s\n",
      "[CV] END ..........................alpha=0.01, l1_ratio=0.99; total time=   0.0s\n",
      "[CV] END .............................alpha=0.01, l1_ratio=1; total time=   0.0s\n",
      "[CV] END .............................alpha=0.01, l1_ratio=1; total time=   0.0s\n",
      "[CV] END .............................alpha=0.01, l1_ratio=1; total time=   0.0s\n",
      "[CV] END .............................alpha=0.01, l1_ratio=1; total time=   0.0s\n",
      "[CV] END .............................alpha=0.01, l1_ratio=1; total time=   0.0s\n",
      "[CV] END ..........................alpha=0.012, l1_ratio=0.1; total time=   0.0s\n",
      "[CV] END ..........................alpha=0.012, l1_ratio=0.1; total time=   0.0s\n",
      "[CV] END ..........................alpha=0.012, l1_ratio=0.1; total time=   0.0s\n",
      "[CV] END ..........................alpha=0.012, l1_ratio=0.1; total time=   0.0s\n",
      "[CV] END ..........................alpha=0.012, l1_ratio=0.1; total time=   0.0s\n",
      "[CV] END ..........................alpha=0.012, l1_ratio=0.5; total time=   0.0s\n",
      "[CV] END ..........................alpha=0.012, l1_ratio=0.5; total time=   0.0s\n",
      "[CV] END ..........................alpha=0.012, l1_ratio=0.5; total time=   0.0s\n",
      "[CV] END ..........................alpha=0.012, l1_ratio=0.5; total time=   0.0s\n",
      "[CV] END ..........................alpha=0.012, l1_ratio=0.5; total time=   0.0s\n",
      "[CV] END ..........................alpha=0.012, l1_ratio=0.7; total time=   0.0s\n",
      "[CV] END ..........................alpha=0.012, l1_ratio=0.7; total time=   0.0s\n",
      "[CV] END ..........................alpha=0.012, l1_ratio=0.7; total time=   0.0s\n",
      "[CV] END ..........................alpha=0.012, l1_ratio=0.7; total time=   0.0s\n",
      "[CV] END ..........................alpha=0.012, l1_ratio=0.7; total time=   0.0s\n",
      "[CV] END ..........................alpha=0.012, l1_ratio=0.9; total time=   0.0s\n",
      "[CV] END ..........................alpha=0.012, l1_ratio=0.9; total time=   0.0s\n",
      "[CV] END ..........................alpha=0.012, l1_ratio=0.9; total time=   0.0s\n",
      "[CV] END ..........................alpha=0.012, l1_ratio=0.9; total time=   0.0s\n",
      "[CV] END ..........................alpha=0.012, l1_ratio=0.9; total time=   0.0s\n",
      "[CV] END .........................alpha=0.012, l1_ratio=0.95; total time=   0.0s\n",
      "[CV] END .........................alpha=0.012, l1_ratio=0.95; total time=   0.0s\n",
      "[CV] END .........................alpha=0.012, l1_ratio=0.95; total time=   0.0s\n",
      "[CV] END .........................alpha=0.012, l1_ratio=0.95; total time=   0.0s\n",
      "[CV] END .........................alpha=0.012, l1_ratio=0.95; total time=   0.0s\n",
      "[CV] END .........................alpha=0.012, l1_ratio=0.99; total time=   0.0s\n",
      "[CV] END .........................alpha=0.012, l1_ratio=0.99; total time=   0.0s\n",
      "[CV] END .........................alpha=0.012, l1_ratio=0.99; total time=   0.0s\n",
      "[CV] END .........................alpha=0.012, l1_ratio=0.99; total time=   0.0s\n",
      "[CV] END .........................alpha=0.012, l1_ratio=0.99; total time=   0.0s\n",
      "[CV] END ............................alpha=0.012, l1_ratio=1; total time=   0.0s\n",
      "[CV] END ............................alpha=0.012, l1_ratio=1; total time=   0.0s\n",
      "[CV] END ............................alpha=0.012, l1_ratio=1; total time=   0.0s\n",
      "[CV] END ............................alpha=0.012, l1_ratio=1; total time=   0.0s\n",
      "[CV] END ............................alpha=0.012, l1_ratio=1; total time=   0.0s\n",
      "[CV] END ............................alpha=0.2, l1_ratio=0.1; total time=   0.0s\n",
      "[CV] END ............................alpha=0.2, l1_ratio=0.1; total time=   0.0s\n",
      "[CV] END ............................alpha=0.2, l1_ratio=0.1; total time=   0.0s\n",
      "[CV] END ............................alpha=0.2, l1_ratio=0.1; total time=   0.0s\n",
      "[CV] END ............................alpha=0.2, l1_ratio=0.1; total time=   0.0s\n",
      "[CV] END ............................alpha=0.2, l1_ratio=0.5; total time=   0.0s\n",
      "[CV] END ............................alpha=0.2, l1_ratio=0.5; total time=   0.0s\n",
      "[CV] END ............................alpha=0.2, l1_ratio=0.5; total time=   0.0s\n",
      "[CV] END ............................alpha=0.2, l1_ratio=0.5; total time=   0.0s\n",
      "[CV] END ............................alpha=0.2, l1_ratio=0.5; total time=   0.0s\n",
      "[CV] END ............................alpha=0.2, l1_ratio=0.7; total time=   0.0s\n",
      "[CV] END ............................alpha=0.2, l1_ratio=0.7; total time=   0.0s\n",
      "[CV] END ............................alpha=0.2, l1_ratio=0.7; total time=   0.0s\n",
      "[CV] END ............................alpha=0.2, l1_ratio=0.7; total time=   0.0s\n",
      "[CV] END ............................alpha=0.2, l1_ratio=0.7; total time=   0.0s\n",
      "[CV] END ............................alpha=0.2, l1_ratio=0.9; total time=   0.0s\n",
      "[CV] END ............................alpha=0.2, l1_ratio=0.9; total time=   0.0s\n",
      "[CV] END ............................alpha=0.2, l1_ratio=0.9; total time=   0.0s\n",
      "[CV] END ............................alpha=0.2, l1_ratio=0.9; total time=   0.0s\n",
      "[CV] END ............................alpha=0.2, l1_ratio=0.9; total time=   0.0s\n",
      "[CV] END ...........................alpha=0.2, l1_ratio=0.95; total time=   0.0s\n",
      "[CV] END ...........................alpha=0.2, l1_ratio=0.95; total time=   0.0s\n",
      "[CV] END ...........................alpha=0.2, l1_ratio=0.95; total time=   0.0s\n",
      "[CV] END ...........................alpha=0.2, l1_ratio=0.95; total time=   0.0s\n",
      "[CV] END ...........................alpha=0.2, l1_ratio=0.95; total time=   0.0s\n",
      "[CV] END ...........................alpha=0.2, l1_ratio=0.99; total time=   0.0s\n",
      "[CV] END ...........................alpha=0.2, l1_ratio=0.99; total time=   0.0s\n",
      "[CV] END ...........................alpha=0.2, l1_ratio=0.99; total time=   0.0s\n",
      "[CV] END ...........................alpha=0.2, l1_ratio=0.99; total time=   0.0s\n",
      "[CV] END ...........................alpha=0.2, l1_ratio=0.99; total time=   0.0s\n",
      "[CV] END ..............................alpha=0.2, l1_ratio=1; total time=   0.0s\n",
      "[CV] END ..............................alpha=0.2, l1_ratio=1; total time=   0.0s\n",
      "[CV] END ..............................alpha=0.2, l1_ratio=1; total time=   0.0s\n",
      "[CV] END ..............................alpha=0.2, l1_ratio=1; total time=   0.0s\n",
      "[CV] END ..............................alpha=0.2, l1_ratio=1; total time=   0.0s\n",
      "[CV] END ............................alpha=0.5, l1_ratio=0.1; total time=   0.0s\n",
      "[CV] END ............................alpha=0.5, l1_ratio=0.1; total time=   0.0s\n",
      "[CV] END ............................alpha=0.5, l1_ratio=0.1; total time=   0.0s\n",
      "[CV] END ............................alpha=0.5, l1_ratio=0.1; total time=   0.0s\n",
      "[CV] END ............................alpha=0.5, l1_ratio=0.1; total time=   0.0s\n",
      "[CV] END ............................alpha=0.5, l1_ratio=0.5; total time=   0.0s\n",
      "[CV] END ............................alpha=0.5, l1_ratio=0.5; total time=   0.0s\n",
      "[CV] END ............................alpha=0.5, l1_ratio=0.5; total time=   0.0s\n",
      "[CV] END ............................alpha=0.5, l1_ratio=0.5; total time=   0.0s\n",
      "[CV] END ............................alpha=0.5, l1_ratio=0.5; total time=   0.0s\n",
      "[CV] END ............................alpha=0.5, l1_ratio=0.7; total time=   0.0s\n",
      "[CV] END ............................alpha=0.5, l1_ratio=0.7; total time=   0.0s\n",
      "[CV] END ............................alpha=0.5, l1_ratio=0.7; total time=   0.0s\n",
      "[CV] END ............................alpha=0.5, l1_ratio=0.7; total time=   0.0s\n",
      "[CV] END ............................alpha=0.5, l1_ratio=0.7; total time=   0.0s\n",
      "[CV] END ............................alpha=0.5, l1_ratio=0.9; total time=   0.0s\n",
      "[CV] END ............................alpha=0.5, l1_ratio=0.9; total time=   0.0s\n",
      "[CV] END ............................alpha=0.5, l1_ratio=0.9; total time=   0.0s\n",
      "[CV] END ............................alpha=0.5, l1_ratio=0.9; total time=   0.0s\n",
      "[CV] END ............................alpha=0.5, l1_ratio=0.9; total time=   0.0s\n",
      "[CV] END ...........................alpha=0.5, l1_ratio=0.95; total time=   0.0s\n",
      "[CV] END ...........................alpha=0.5, l1_ratio=0.95; total time=   0.0s\n",
      "[CV] END ...........................alpha=0.5, l1_ratio=0.95; total time=   0.0s\n",
      "[CV] END ...........................alpha=0.5, l1_ratio=0.95; total time=   0.0s\n",
      "[CV] END ...........................alpha=0.5, l1_ratio=0.95; total time=   0.0s\n",
      "[CV] END ...........................alpha=0.5, l1_ratio=0.99; total time=   0.0s\n",
      "[CV] END ...........................alpha=0.5, l1_ratio=0.99; total time=   0.0s\n",
      "[CV] END ...........................alpha=0.5, l1_ratio=0.99; total time=   0.0s\n",
      "[CV] END ...........................alpha=0.5, l1_ratio=0.99; total time=   0.0s\n",
      "[CV] END ...........................alpha=0.5, l1_ratio=0.99; total time=   0.0s\n",
      "[CV] END ..............................alpha=0.5, l1_ratio=1; total time=   0.0s\n",
      "[CV] END ..............................alpha=0.5, l1_ratio=1; total time=   0.0s\n",
      "[CV] END ..............................alpha=0.5, l1_ratio=1; total time=   0.0s\n",
      "[CV] END ..............................alpha=0.5, l1_ratio=1; total time=   0.0s\n",
      "[CV] END ..............................alpha=0.5, l1_ratio=1; total time=   0.0s\n",
      "[CV] END ............................alpha=0.6, l1_ratio=0.1; total time=   0.0s\n",
      "[CV] END ............................alpha=0.6, l1_ratio=0.1; total time=   0.0s\n",
      "[CV] END ............................alpha=0.6, l1_ratio=0.1; total time=   0.0s\n",
      "[CV] END ............................alpha=0.6, l1_ratio=0.1; total time=   0.0s\n",
      "[CV] END ............................alpha=0.6, l1_ratio=0.1; total time=   0.0s\n",
      "[CV] END ............................alpha=0.6, l1_ratio=0.5; total time=   0.0s\n",
      "[CV] END ............................alpha=0.6, l1_ratio=0.5; total time=   0.0s\n",
      "[CV] END ............................alpha=0.6, l1_ratio=0.5; total time=   0.0s\n",
      "[CV] END ............................alpha=0.6, l1_ratio=0.5; total time=   0.0s\n",
      "[CV] END ............................alpha=0.6, l1_ratio=0.5; total time=   0.0s\n",
      "[CV] END ............................alpha=0.6, l1_ratio=0.7; total time=   0.0s\n",
      "[CV] END ............................alpha=0.6, l1_ratio=0.7; total time=   0.0s\n",
      "[CV] END ............................alpha=0.6, l1_ratio=0.7; total time=   0.0s\n",
      "[CV] END ............................alpha=0.6, l1_ratio=0.7; total time=   0.0s\n",
      "[CV] END ............................alpha=0.6, l1_ratio=0.7; total time=   0.0s\n",
      "[CV] END ............................alpha=0.6, l1_ratio=0.9; total time=   0.0s\n",
      "[CV] END ............................alpha=0.6, l1_ratio=0.9; total time=   0.0s\n",
      "[CV] END ............................alpha=0.6, l1_ratio=0.9; total time=   0.0s\n",
      "[CV] END ............................alpha=0.6, l1_ratio=0.9; total time=   0.0s\n",
      "[CV] END ............................alpha=0.6, l1_ratio=0.9; total time=   0.0s\n",
      "[CV] END ...........................alpha=0.6, l1_ratio=0.95; total time=   0.0s\n",
      "[CV] END ...........................alpha=0.6, l1_ratio=0.95; total time=   0.0s\n",
      "[CV] END ...........................alpha=0.6, l1_ratio=0.95; total time=   0.0s\n",
      "[CV] END ...........................alpha=0.6, l1_ratio=0.95; total time=   0.0s\n",
      "[CV] END ...........................alpha=0.6, l1_ratio=0.95; total time=   0.0s\n",
      "[CV] END ...........................alpha=0.6, l1_ratio=0.99; total time=   0.0s\n",
      "[CV] END ...........................alpha=0.6, l1_ratio=0.99; total time=   0.0s\n",
      "[CV] END ...........................alpha=0.6, l1_ratio=0.99; total time=   0.0s\n",
      "[CV] END ...........................alpha=0.6, l1_ratio=0.99; total time=   0.0s\n",
      "[CV] END ...........................alpha=0.6, l1_ratio=0.99; total time=   0.0s\n",
      "[CV] END ..............................alpha=0.6, l1_ratio=1; total time=   0.0s\n",
      "[CV] END ..............................alpha=0.6, l1_ratio=1; total time=   0.0s\n",
      "[CV] END ..............................alpha=0.6, l1_ratio=1; total time=   0.0s\n",
      "[CV] END ..............................alpha=0.6, l1_ratio=1; total time=   0.0s\n",
      "[CV] END ..............................alpha=0.6, l1_ratio=1; total time=   0.0s\n",
      "[CV] END ............................alpha=0.7, l1_ratio=0.1; total time=   0.0s\n",
      "[CV] END ............................alpha=0.7, l1_ratio=0.1; total time=   0.0s\n",
      "[CV] END ............................alpha=0.7, l1_ratio=0.1; total time=   0.0s\n",
      "[CV] END ............................alpha=0.7, l1_ratio=0.1; total time=   0.0s\n",
      "[CV] END ............................alpha=0.7, l1_ratio=0.1; total time=   0.0s\n",
      "[CV] END ............................alpha=0.7, l1_ratio=0.5; total time=   0.0s\n",
      "[CV] END ............................alpha=0.7, l1_ratio=0.5; total time=   0.0s\n",
      "[CV] END ............................alpha=0.7, l1_ratio=0.5; total time=   0.0s\n",
      "[CV] END ............................alpha=0.7, l1_ratio=0.5; total time=   0.0s\n",
      "[CV] END ............................alpha=0.7, l1_ratio=0.5; total time=   0.0s\n",
      "[CV] END ............................alpha=0.7, l1_ratio=0.7; total time=   0.0s\n",
      "[CV] END ............................alpha=0.7, l1_ratio=0.7; total time=   0.0s\n",
      "[CV] END ............................alpha=0.7, l1_ratio=0.7; total time=   0.0s\n",
      "[CV] END ............................alpha=0.7, l1_ratio=0.7; total time=   0.0s\n",
      "[CV] END ............................alpha=0.7, l1_ratio=0.7; total time=   0.0s\n",
      "[CV] END ............................alpha=0.7, l1_ratio=0.9; total time=   0.0s\n",
      "[CV] END ............................alpha=0.7, l1_ratio=0.9; total time=   0.0s\n",
      "[CV] END ............................alpha=0.7, l1_ratio=0.9; total time=   0.0s\n",
      "[CV] END ............................alpha=0.7, l1_ratio=0.9; total time=   0.0s\n",
      "[CV] END ............................alpha=0.7, l1_ratio=0.9; total time=   0.0s\n",
      "[CV] END ...........................alpha=0.7, l1_ratio=0.95; total time=   0.0s\n",
      "[CV] END ...........................alpha=0.7, l1_ratio=0.95; total time=   0.0s\n",
      "[CV] END ...........................alpha=0.7, l1_ratio=0.95; total time=   0.0s\n",
      "[CV] END ...........................alpha=0.7, l1_ratio=0.95; total time=   0.0s\n",
      "[CV] END ...........................alpha=0.7, l1_ratio=0.95; total time=   0.0s\n"
     ]
    },
    {
     "name": "stdout",
     "output_type": "stream",
     "text": [
      "[CV] END ...........................alpha=0.7, l1_ratio=0.99; total time=   0.0s\n",
      "[CV] END ...........................alpha=0.7, l1_ratio=0.99; total time=   0.0s\n",
      "[CV] END ...........................alpha=0.7, l1_ratio=0.99; total time=   0.0s\n",
      "[CV] END ...........................alpha=0.7, l1_ratio=0.99; total time=   0.0s\n",
      "[CV] END ...........................alpha=0.7, l1_ratio=0.99; total time=   0.0s\n",
      "[CV] END ..............................alpha=0.7, l1_ratio=1; total time=   0.0s\n",
      "[CV] END ..............................alpha=0.7, l1_ratio=1; total time=   0.0s\n",
      "[CV] END ..............................alpha=0.7, l1_ratio=1; total time=   0.0s\n",
      "[CV] END ..............................alpha=0.7, l1_ratio=1; total time=   0.0s\n",
      "[CV] END ..............................alpha=0.7, l1_ratio=1; total time=   0.0s\n",
      "[CV] END ..............................alpha=1, l1_ratio=0.1; total time=   0.0s\n",
      "[CV] END ..............................alpha=1, l1_ratio=0.1; total time=   0.0s\n",
      "[CV] END ..............................alpha=1, l1_ratio=0.1; total time=   0.0s\n",
      "[CV] END ..............................alpha=1, l1_ratio=0.1; total time=   0.0s\n",
      "[CV] END ..............................alpha=1, l1_ratio=0.1; total time=   0.0s\n",
      "[CV] END ..............................alpha=1, l1_ratio=0.5; total time=   0.0s\n",
      "[CV] END ..............................alpha=1, l1_ratio=0.5; total time=   0.0s\n",
      "[CV] END ..............................alpha=1, l1_ratio=0.5; total time=   0.0s\n",
      "[CV] END ..............................alpha=1, l1_ratio=0.5; total time=   0.0s\n",
      "[CV] END ..............................alpha=1, l1_ratio=0.5; total time=   0.0s\n",
      "[CV] END ..............................alpha=1, l1_ratio=0.7; total time=   0.0s\n",
      "[CV] END ..............................alpha=1, l1_ratio=0.7; total time=   0.0s\n",
      "[CV] END ..............................alpha=1, l1_ratio=0.7; total time=   0.0s\n",
      "[CV] END ..............................alpha=1, l1_ratio=0.7; total time=   0.0s\n",
      "[CV] END ..............................alpha=1, l1_ratio=0.7; total time=   0.0s\n",
      "[CV] END ..............................alpha=1, l1_ratio=0.9; total time=   0.0s\n",
      "[CV] END ..............................alpha=1, l1_ratio=0.9; total time=   0.0s\n",
      "[CV] END ..............................alpha=1, l1_ratio=0.9; total time=   0.0s\n",
      "[CV] END ..............................alpha=1, l1_ratio=0.9; total time=   0.0s\n",
      "[CV] END ..............................alpha=1, l1_ratio=0.9; total time=   0.0s\n",
      "[CV] END .............................alpha=1, l1_ratio=0.95; total time=   0.0s\n",
      "[CV] END .............................alpha=1, l1_ratio=0.95; total time=   0.0s\n",
      "[CV] END .............................alpha=1, l1_ratio=0.95; total time=   0.0s\n",
      "[CV] END .............................alpha=1, l1_ratio=0.95; total time=   0.0s\n",
      "[CV] END .............................alpha=1, l1_ratio=0.95; total time=   0.0s\n",
      "[CV] END .............................alpha=1, l1_ratio=0.99; total time=   0.0s\n",
      "[CV] END .............................alpha=1, l1_ratio=0.99; total time=   0.0s\n",
      "[CV] END .............................alpha=1, l1_ratio=0.99; total time=   0.0s\n",
      "[CV] END .............................alpha=1, l1_ratio=0.99; total time=   0.0s\n",
      "[CV] END .............................alpha=1, l1_ratio=0.99; total time=   0.0s\n",
      "[CV] END ................................alpha=1, l1_ratio=1; total time=   0.0s\n",
      "[CV] END ................................alpha=1, l1_ratio=1; total time=   0.0s\n",
      "[CV] END ................................alpha=1, l1_ratio=1; total time=   0.0s\n",
      "[CV] END ................................alpha=1, l1_ratio=1; total time=   0.0s\n",
      "[CV] END ................................alpha=1, l1_ratio=1; total time=   0.0s\n"
     ]
    },
    {
     "data": {
      "text/plain": [
       "GridSearchCV(cv=5, estimator=ElasticNet(max_iter=10000, random_state=42),\n",
       "             param_grid={'alpha': [0.01, 0.012, 0.2, 0.5, 0.6, 0.7, 1],\n",
       "                         'l1_ratio': [0.1, 0.5, 0.7, 0.9, 0.95, 0.99, 1]},\n",
       "             scoring='neg_root_mean_squared_error', verbose=2)"
      ]
     },
     "execution_count": 127,
     "metadata": {},
     "output_type": "execute_result"
    }
   ],
   "source": [
    "grid_model.fit(X_train_scaled, y_train)"
   ]
  },
  {
   "cell_type": "code",
   "execution_count": 128,
   "metadata": {},
   "outputs": [
    {
     "data": {
      "text/plain": [
       "{'alpha': 0.2, 'l1_ratio': 0.5}"
      ]
     },
     "execution_count": 128,
     "metadata": {},
     "output_type": "execute_result"
    }
   ],
   "source": [
    "grid_model.best_params_"
   ]
  },
  {
   "cell_type": "code",
   "execution_count": 129,
   "metadata": {},
   "outputs": [
    {
     "data": {
      "text/plain": [
       "15"
      ]
     },
     "execution_count": 129,
     "metadata": {},
     "output_type": "execute_result"
    }
   ],
   "source": [
    "grid_model.best_index_  # en iyi parametreleri aldıgı index i verir"
   ]
  },
  {
   "cell_type": "code",
   "execution_count": 130,
   "metadata": {},
   "outputs": [
    {
     "data": {
      "text/plain": [
       "-1.6431486229594312"
      ]
     },
     "execution_count": 130,
     "metadata": {},
     "output_type": "execute_result"
    }
   ],
   "source": [
    "grid_model.best_score_"
   ]
  },
  {
   "cell_type": "code",
   "execution_count": 131,
   "metadata": {},
   "outputs": [],
   "source": [
    "y_pred = grid_model.predict(X_test_scaled)  \n",
    "y_train_pred = grid_model.predict(X_train_scaled)"
   ]
  },
  {
   "cell_type": "code",
   "execution_count": 132,
   "metadata": {},
   "outputs": [
    {
     "data": {
      "text/html": [
       "<div>\n",
       "<style scoped>\n",
       "    .dataframe tbody tr th:only-of-type {\n",
       "        vertical-align: middle;\n",
       "    }\n",
       "\n",
       "    .dataframe tbody tr th {\n",
       "        vertical-align: top;\n",
       "    }\n",
       "\n",
       "    .dataframe thead th {\n",
       "        text-align: right;\n",
       "    }\n",
       "</style>\n",
       "<table border=\"1\" class=\"dataframe\">\n",
       "  <thead>\n",
       "    <tr style=\"text-align: right;\">\n",
       "      <th></th>\n",
       "      <th>GridSearch_train</th>\n",
       "      <th>GridSearch_test</th>\n",
       "    </tr>\n",
       "  </thead>\n",
       "  <tbody>\n",
       "    <tr>\n",
       "      <th>R2</th>\n",
       "      <td>0.897558</td>\n",
       "      <td>0.776528</td>\n",
       "    </tr>\n",
       "    <tr>\n",
       "      <th>mae</th>\n",
       "      <td>1.096650</td>\n",
       "      <td>1.346180</td>\n",
       "    </tr>\n",
       "    <tr>\n",
       "      <th>mse</th>\n",
       "      <td>2.602885</td>\n",
       "      <td>5.195813</td>\n",
       "    </tr>\n",
       "    <tr>\n",
       "      <th>rmse</th>\n",
       "      <td>1.613346</td>\n",
       "      <td>2.279433</td>\n",
       "    </tr>\n",
       "  </tbody>\n",
       "</table>\n",
       "</div>"
      ],
      "text/plain": [
       "      GridSearch_train  GridSearch_test\n",
       "R2            0.897558         0.776528\n",
       "mae           1.096650         1.346180\n",
       "mse           2.602885         5.195813\n",
       "rmse          1.613346         2.279433"
      ]
     },
     "execution_count": 132,
     "metadata": {},
     "output_type": "execute_result"
    }
   ],
   "source": [
    "train_val(y_train, y_train_pred, y_test, y_pred, \"GridSearch\")"
   ]
  },
  {
   "cell_type": "code",
   "execution_count": null,
   "metadata": {},
   "outputs": [],
   "source": []
  },
  {
   "cell_type": "code",
   "execution_count": null,
   "metadata": {},
   "outputs": [],
   "source": []
  }
 ],
 "metadata": {
  "colab": {
   "name": "used_car_price_prediction_assignment1.ipynb",
   "provenance": []
  },
  "kernelspec": {
   "display_name": "Python 3",
   "language": "python",
   "name": "python3"
  },
  "language_info": {
   "codemirror_mode": {
    "name": "ipython",
    "version": 3
   },
   "file_extension": ".py",
   "mimetype": "text/x-python",
   "name": "python",
   "nbconvert_exporter": "python",
   "pygments_lexer": "ipython3",
   "version": "3.8.8"
  }
 },
 "nbformat": 4,
 "nbformat_minor": 1
}
