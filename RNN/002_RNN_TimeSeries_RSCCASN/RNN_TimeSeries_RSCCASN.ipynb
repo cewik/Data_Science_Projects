{
 "cells": [
  {
   "cell_type": "markdown",
   "id": "28857088",
   "metadata": {},
   "source": [
    "#### - Retail Sales: Clothing and Clothing Accessory Stores"
   ]
  },
  {
   "cell_type": "code",
   "execution_count": 5,
   "id": "beb18775",
   "metadata": {},
   "outputs": [],
   "source": [
    "import numpy as np\n",
    "import pandas as pd\n",
    "import seaborn as sns\n",
    "import matplotlib.pyplot as plt\n",
    "\n",
    "%matplotlib inline\n",
    "# %matplotlib notebook\n",
    "plt.rcParams[\"figure.figsize\"] = (10,6)\n",
    "# plt.rcParams['figure.dpi'] = 100\n",
    "sns.set_style(\"whitegrid\")\n",
    "import warnings\n",
    "warnings.filterwarnings(\"ignore\")\n",
    "warnings.warn(\"this will not show\")\n",
    "pd.set_option('display.float_format', lambda x: '%.3f' % x)"
   ]
  },
  {
   "cell_type": "markdown",
   "id": "22e0bf21",
   "metadata": {},
   "source": [
    "## Data\n",
    "\n",
    "Release: Advance Monthly Sales for Retail and Food Services  \n",
    "Units:  Millions of Dollars, Not Seasonally Adjusted\n",
    "\n",
    "Frequency:  Monthly\n",
    "\n",
    "The value for the most recent month is an advance estimate that is based on data from a subsample of firms from the larger Monthly Retail Trade Survey. The advance estimate will be superseded in following months by revised estimates derived from the larger Monthly Retail Trade Survey. The associated series from the Monthly Retail Trade Survey is available at https://fred.stlouisfed.org/series/MRTSSM448USN\n",
    "\n",
    "Information about the Advance Monthly Retail Sales Survey can be found on the Census website at https://www.census.gov/retail/marts/about_the_surveys.html\n",
    "\n",
    "Suggested Citation:\n",
    "U.S. Census Bureau, Advance Retail Sales: Clothing and Clothing Accessory Stores [RSCCASN], retrieved from FRED, Federal Reserve Bank of St. Louis; https://fred.stlouisfed.org/series/RSCCASN, November 16, 2019.\n",
    "\n",
    "https://fred.stlouisfed.org/series/RSCCASN"
   ]
  },
  {
   "cell_type": "code",
   "execution_count": 6,
   "id": "d121a8ca",
   "metadata": {},
   "outputs": [
    {
     "data": {
      "text/html": [
       "<div>\n",
       "<style scoped>\n",
       "    .dataframe tbody tr th:only-of-type {\n",
       "        vertical-align: middle;\n",
       "    }\n",
       "\n",
       "    .dataframe tbody tr th {\n",
       "        vertical-align: top;\n",
       "    }\n",
       "\n",
       "    .dataframe thead th {\n",
       "        text-align: right;\n",
       "    }\n",
       "</style>\n",
       "<table border=\"1\" class=\"dataframe\">\n",
       "  <thead>\n",
       "    <tr style=\"text-align: right;\">\n",
       "      <th></th>\n",
       "      <th>RSCCASN</th>\n",
       "    </tr>\n",
       "    <tr>\n",
       "      <th>DATE</th>\n",
       "      <th></th>\n",
       "    </tr>\n",
       "  </thead>\n",
       "  <tbody>\n",
       "    <tr>\n",
       "      <th>1992-01-01</th>\n",
       "      <td>6938</td>\n",
       "    </tr>\n",
       "    <tr>\n",
       "      <th>1992-02-01</th>\n",
       "      <td>7524</td>\n",
       "    </tr>\n",
       "    <tr>\n",
       "      <th>1992-03-01</th>\n",
       "      <td>8475</td>\n",
       "    </tr>\n",
       "    <tr>\n",
       "      <th>1992-04-01</th>\n",
       "      <td>9401</td>\n",
       "    </tr>\n",
       "    <tr>\n",
       "      <th>1992-05-01</th>\n",
       "      <td>9558</td>\n",
       "    </tr>\n",
       "    <tr>\n",
       "      <th>...</th>\n",
       "      <td>...</td>\n",
       "    </tr>\n",
       "    <tr>\n",
       "      <th>2019-06-01</th>\n",
       "      <td>21175</td>\n",
       "    </tr>\n",
       "    <tr>\n",
       "      <th>2019-07-01</th>\n",
       "      <td>21800</td>\n",
       "    </tr>\n",
       "    <tr>\n",
       "      <th>2019-08-01</th>\n",
       "      <td>23906</td>\n",
       "    </tr>\n",
       "    <tr>\n",
       "      <th>2019-09-01</th>\n",
       "      <td>19606</td>\n",
       "    </tr>\n",
       "    <tr>\n",
       "      <th>2019-10-01</th>\n",
       "      <td>21471</td>\n",
       "    </tr>\n",
       "  </tbody>\n",
       "</table>\n",
       "<p>334 rows × 1 columns</p>\n",
       "</div>"
      ],
      "text/plain": [
       "            RSCCASN\n",
       "DATE               \n",
       "1992-01-01     6938\n",
       "1992-02-01     7524\n",
       "1992-03-01     8475\n",
       "1992-04-01     9401\n",
       "1992-05-01     9558\n",
       "...             ...\n",
       "2019-06-01    21175\n",
       "2019-07-01    21800\n",
       "2019-08-01    23906\n",
       "2019-09-01    19606\n",
       "2019-10-01    21471\n",
       "\n",
       "[334 rows x 1 columns]"
      ]
     },
     "execution_count": 6,
     "metadata": {},
     "output_type": "execute_result"
    }
   ],
   "source": [
    "df = pd.read_csv(\"RSCCASN.csv\", \n",
    "                index_col = \"DATE\",\n",
    "                parse_dates = True)\n",
    "df"
   ]
  },
  {
   "cell_type": "code",
   "execution_count": 7,
   "id": "3e27ab0d",
   "metadata": {},
   "outputs": [
    {
     "name": "stdout",
     "output_type": "stream",
     "text": [
      "<class 'pandas.core.frame.DataFrame'>\n",
      "DatetimeIndex: 334 entries, 1992-01-01 to 2019-10-01\n",
      "Data columns (total 1 columns):\n",
      " #   Column   Non-Null Count  Dtype\n",
      "---  ------   --------------  -----\n",
      " 0   RSCCASN  334 non-null    int64\n",
      "dtypes: int64(1)\n",
      "memory usage: 5.2 KB\n"
     ]
    }
   ],
   "source": [
    "df.info()"
   ]
  },
  {
   "cell_type": "code",
   "execution_count": 8,
   "id": "2d848a5c",
   "metadata": {},
   "outputs": [],
   "source": [
    "df.columns = [\"Sales\"]"
   ]
  },
  {
   "cell_type": "code",
   "execution_count": 9,
   "id": "46b73268",
   "metadata": {},
   "outputs": [
    {
     "data": {
      "image/png": "[encoded data removed]",
      "text/plain": [
       "<Figure size 720x432 with 1 Axes>"
      ]
     },
     "metadata": {},
     "output_type": "display_data"
    }
   ],
   "source": [
    "df.plot();"
   ]
  },
  {
   "cell_type": "markdown",
   "id": "d6551b68",
   "metadata": {},
   "source": [
    "- her bir saykılım 12 datadan oluşuyor. test datamı 12 den fazla belirlemeliyim. 12 den az belirlersem örüntü yapamaz"
   ]
  },
  {
   "cell_type": "markdown",
   "id": "dd9785c2",
   "metadata": {},
   "source": [
    "## Preprocessing of Data"
   ]
  },
  {
   "cell_type": "markdown",
   "id": "f92da101",
   "metadata": {},
   "source": [
    "### Train Test Split"
   ]
  },
  {
   "cell_type": "code",
   "execution_count": 10,
   "id": "80e607c3",
   "metadata": {},
   "outputs": [
    {
     "data": {
      "text/plain": [
       "334"
      ]
     },
     "execution_count": 10,
     "metadata": {},
     "output_type": "execute_result"
    }
   ],
   "source": [
    "len(df)"
   ]
  },
  {
   "cell_type": "code",
   "execution_count": 11,
   "id": "19ecf028",
   "metadata": {},
   "outputs": [
    {
     "data": {
      "text/plain": [
       "316"
      ]
     },
     "execution_count": 11,
     "metadata": {},
     "output_type": "execute_result"
    }
   ],
   "source": [
    "len(df) - 18"
   ]
  },
  {
   "cell_type": "code",
   "execution_count": 12,
   "id": "8ef5908d",
   "metadata": {},
   "outputs": [],
   "source": [
    "test_size = 18\n",
    "# datamdaki saykıl 12 olduğu için bu rakamdan büyük bir test size belirledim.\n",
    "# test datası ile validation yaparken saykıl olan 12yi bundan çıkarınca geriye 6 kalacak. 6 data ile predict yapacak."
   ]
  },
  {
   "cell_type": "code",
   "execution_count": 13,
   "id": "945bb08d",
   "metadata": {},
   "outputs": [
    {
     "data": {
      "text/plain": [
       "316"
      ]
     },
     "execution_count": 13,
     "metadata": {},
     "output_type": "execute_result"
    }
   ],
   "source": [
    "test_ind = len(df) - test_size\n",
    "test_ind"
   ]
  },
  {
   "cell_type": "code",
   "execution_count": 14,
   "id": "795b6de0",
   "metadata": {},
   "outputs": [
    {
     "data": {
      "text/html": [
       "<div>\n",
       "<style scoped>\n",
       "    .dataframe tbody tr th:only-of-type {\n",
       "        vertical-align: middle;\n",
       "    }\n",
       "\n",
       "    .dataframe tbody tr th {\n",
       "        vertical-align: top;\n",
       "    }\n",
       "\n",
       "    .dataframe thead th {\n",
       "        text-align: right;\n",
       "    }\n",
       "</style>\n",
       "<table border=\"1\" class=\"dataframe\">\n",
       "  <thead>\n",
       "    <tr style=\"text-align: right;\">\n",
       "      <th></th>\n",
       "      <th>Sales</th>\n",
       "    </tr>\n",
       "    <tr>\n",
       "      <th>DATE</th>\n",
       "      <th></th>\n",
       "    </tr>\n",
       "  </thead>\n",
       "  <tbody>\n",
       "    <tr>\n",
       "      <th>1992-01-01</th>\n",
       "      <td>6938</td>\n",
       "    </tr>\n",
       "    <tr>\n",
       "      <th>1992-02-01</th>\n",
       "      <td>7524</td>\n",
       "    </tr>\n",
       "    <tr>\n",
       "      <th>1992-03-01</th>\n",
       "      <td>8475</td>\n",
       "    </tr>\n",
       "    <tr>\n",
       "      <th>1992-04-01</th>\n",
       "      <td>9401</td>\n",
       "    </tr>\n",
       "    <tr>\n",
       "      <th>1992-05-01</th>\n",
       "      <td>9558</td>\n",
       "    </tr>\n",
       "    <tr>\n",
       "      <th>...</th>\n",
       "      <td>...</td>\n",
       "    </tr>\n",
       "    <tr>\n",
       "      <th>2017-12-01</th>\n",
       "      <td>33901</td>\n",
       "    </tr>\n",
       "    <tr>\n",
       "      <th>2018-01-01</th>\n",
       "      <td>15803</td>\n",
       "    </tr>\n",
       "    <tr>\n",
       "      <th>2018-02-01</th>\n",
       "      <td>18451</td>\n",
       "    </tr>\n",
       "    <tr>\n",
       "      <th>2018-03-01</th>\n",
       "      <td>22249</td>\n",
       "    </tr>\n",
       "    <tr>\n",
       "      <th>2018-04-01</th>\n",
       "      <td>20516</td>\n",
       "    </tr>\n",
       "  </tbody>\n",
       "</table>\n",
       "<p>316 rows × 1 columns</p>\n",
       "</div>"
      ],
      "text/plain": [
       "            Sales\n",
       "DATE             \n",
       "1992-01-01   6938\n",
       "1992-02-01   7524\n",
       "1992-03-01   8475\n",
       "1992-04-01   9401\n",
       "1992-05-01   9558\n",
       "...           ...\n",
       "2017-12-01  33901\n",
       "2018-01-01  15803\n",
       "2018-02-01  18451\n",
       "2018-03-01  22249\n",
       "2018-04-01  20516\n",
       "\n",
       "[316 rows x 1 columns]"
      ]
     },
     "execution_count": 14,
     "metadata": {},
     "output_type": "execute_result"
    }
   ],
   "source": [
    "train = df.iloc[:test_ind]\n",
    "test = df.iloc[test_ind:]\n",
    "train"
   ]
  },
  {
   "cell_type": "code",
   "execution_count": 15,
   "id": "f597bbdd",
   "metadata": {},
   "outputs": [
    {
     "data": {
      "text/html": [
       "<div>\n",
       "<style scoped>\n",
       "    .dataframe tbody tr th:only-of-type {\n",
       "        vertical-align: middle;\n",
       "    }\n",
       "\n",
       "    .dataframe tbody tr th {\n",
       "        vertical-align: top;\n",
       "    }\n",
       "\n",
       "    .dataframe thead th {\n",
       "        text-align: right;\n",
       "    }\n",
       "</style>\n",
       "<table border=\"1\" class=\"dataframe\">\n",
       "  <thead>\n",
       "    <tr style=\"text-align: right;\">\n",
       "      <th></th>\n",
       "      <th>Sales</th>\n",
       "    </tr>\n",
       "    <tr>\n",
       "      <th>DATE</th>\n",
       "      <th></th>\n",
       "    </tr>\n",
       "  </thead>\n",
       "  <tbody>\n",
       "    <tr>\n",
       "      <th>2018-05-01</th>\n",
       "      <td>23641</td>\n",
       "    </tr>\n",
       "    <tr>\n",
       "      <th>2018-06-01</th>\n",
       "      <td>21337</td>\n",
       "    </tr>\n",
       "    <tr>\n",
       "      <th>2018-07-01</th>\n",
       "      <td>21745</td>\n",
       "    </tr>\n",
       "    <tr>\n",
       "      <th>2018-08-01</th>\n",
       "      <td>23136</td>\n",
       "    </tr>\n",
       "    <tr>\n",
       "      <th>2018-09-01</th>\n",
       "      <td>19826</td>\n",
       "    </tr>\n",
       "    <tr>\n",
       "      <th>2018-10-01</th>\n",
       "      <td>21265</td>\n",
       "    </tr>\n",
       "    <tr>\n",
       "      <th>2018-11-01</th>\n",
       "      <td>25446</td>\n",
       "    </tr>\n",
       "    <tr>\n",
       "      <th>2018-12-01</th>\n",
       "      <td>34067</td>\n",
       "    </tr>\n",
       "    <tr>\n",
       "      <th>2019-01-01</th>\n",
       "      <td>16223</td>\n",
       "    </tr>\n",
       "    <tr>\n",
       "      <th>2019-02-01</th>\n",
       "      <td>18032</td>\n",
       "    </tr>\n",
       "    <tr>\n",
       "      <th>2019-03-01</th>\n",
       "      <td>22148</td>\n",
       "    </tr>\n",
       "    <tr>\n",
       "      <th>2019-04-01</th>\n",
       "      <td>21582</td>\n",
       "    </tr>\n",
       "    <tr>\n",
       "      <th>2019-05-01</th>\n",
       "      <td>23152</td>\n",
       "    </tr>\n",
       "    <tr>\n",
       "      <th>2019-06-01</th>\n",
       "      <td>21175</td>\n",
       "    </tr>\n",
       "    <tr>\n",
       "      <th>2019-07-01</th>\n",
       "      <td>21800</td>\n",
       "    </tr>\n",
       "    <tr>\n",
       "      <th>2019-08-01</th>\n",
       "      <td>23906</td>\n",
       "    </tr>\n",
       "    <tr>\n",
       "      <th>2019-09-01</th>\n",
       "      <td>19606</td>\n",
       "    </tr>\n",
       "    <tr>\n",
       "      <th>2019-10-01</th>\n",
       "      <td>21471</td>\n",
       "    </tr>\n",
       "  </tbody>\n",
       "</table>\n",
       "</div>"
      ],
      "text/plain": [
       "            Sales\n",
       "DATE             \n",
       "2018-05-01  23641\n",
       "2018-06-01  21337\n",
       "2018-07-01  21745\n",
       "2018-08-01  23136\n",
       "2018-09-01  19826\n",
       "2018-10-01  21265\n",
       "2018-11-01  25446\n",
       "2018-12-01  34067\n",
       "2019-01-01  16223\n",
       "2019-02-01  18032\n",
       "2019-03-01  22148\n",
       "2019-04-01  21582\n",
       "2019-05-01  23152\n",
       "2019-06-01  21175\n",
       "2019-07-01  21800\n",
       "2019-08-01  23906\n",
       "2019-09-01  19606\n",
       "2019-10-01  21471"
      ]
     },
     "execution_count": 15,
     "metadata": {},
     "output_type": "execute_result"
    }
   ],
   "source": [
    "test"
   ]
  },
  {
   "cell_type": "markdown",
   "id": "1522811b",
   "metadata": {},
   "source": [
    "### Scaling"
   ]
  },
  {
   "cell_type": "code",
   "execution_count": 16,
   "id": "d9f42e42",
   "metadata": {},
   "outputs": [],
   "source": [
    "from sklearn.preprocessing import MinMaxScaler"
   ]
  },
  {
   "cell_type": "code",
   "execution_count": 17,
   "id": "fea45a1a",
   "metadata": {},
   "outputs": [],
   "source": [
    "scaler = MinMaxScaler()"
   ]
  },
  {
   "cell_type": "code",
   "execution_count": 18,
   "id": "1872c881",
   "metadata": {},
   "outputs": [],
   "source": [
    "train_scaled = scaler.fit_transform(train)\n",
    "test_scaled = scaler.transform(test)"
   ]
  },
  {
   "cell_type": "markdown",
   "id": "9e2bfb9d",
   "metadata": {},
   "source": [
    "## Time Series Generator"
   ]
  },
  {
   "cell_type": "code",
   "execution_count": 19,
   "id": "97cf611d",
   "metadata": {},
   "outputs": [],
   "source": [
    "from tensorflow.keras.preprocessing.sequence import TimeseriesGenerator"
   ]
  },
  {
   "cell_type": "code",
   "execution_count": 20,
   "id": "1e0dcf98",
   "metadata": {},
   "outputs": [],
   "source": [
    "# help(TimeseriesGenerator)"
   ]
  },
  {
   "cell_type": "code",
   "execution_count": 21,
   "id": "153e22cc",
   "metadata": {},
   "outputs": [],
   "source": [
    "length = 12  # yilda bir oruntu olusturdugu icin\n",
    "batch_size = 1\n",
    "\n",
    "generator = TimeseriesGenerator(data = train_scaled,\n",
    "                               targets = train_scaled,\n",
    "                               length = length,\n",
    "                               batch_size = batch_size)"
   ]
  },
  {
   "cell_type": "code",
   "execution_count": 22,
   "id": "7326504d",
   "metadata": {},
   "outputs": [
    {
     "data": {
      "text/plain": [
       "(array([[[0.        ],\n",
       "         [0.02099681],\n",
       "         [0.05507184],\n",
       "         [0.0882511 ],\n",
       "         [0.09387653],\n",
       "         [0.08040417],\n",
       "         [0.07757354],\n",
       "         [0.12809488],\n",
       "         [0.09441399],\n",
       "         [0.11881472],\n",
       "         [0.1522448 ],\n",
       "         [0.41051274]]]),\n",
       " array([[0.02020853]]))"
      ]
     },
     "execution_count": 22,
     "metadata": {},
     "output_type": "execute_result"
    }
   ],
   "source": [
    "generator[0]"
   ]
  },
  {
   "cell_type": "code",
   "execution_count": 23,
   "id": "07ae73fb",
   "metadata": {},
   "outputs": [],
   "source": [
    "X, y = generator[0]"
   ]
  },
  {
   "cell_type": "code",
   "execution_count": 24,
   "id": "908c1109",
   "metadata": {},
   "outputs": [
    {
     "name": "stdout",
     "output_type": "stream",
     "text": [
      "Given the Array: \n",
      "[0.         0.02099681 0.05507184 0.0882511  0.09387653 0.08040417\n",
      " 0.07757354 0.12809488 0.09441399 0.11881472 0.1522448  0.41051274]\n",
      "Predict this y: \n",
      " [[0.02020853]]\n"
     ]
    }
   ],
   "source": [
    "print(f'Given the Array: \\n{X.flatten()}')\n",
    "print(f'Predict this y: \\n {y}')"
   ]
  },
  {
   "cell_type": "markdown",
   "id": "da682c38",
   "metadata": {},
   "source": [
    "## Modelling"
   ]
  },
  {
   "cell_type": "code",
   "execution_count": 25,
   "id": "b7df50a5",
   "metadata": {},
   "outputs": [],
   "source": [
    "from tensorflow.keras.models import Sequential\n",
    "from tensorflow.keras.layers import Dense, LSTM"
   ]
  },
  {
   "cell_type": "code",
   "execution_count": 26,
   "id": "04836f43",
   "metadata": {},
   "outputs": [],
   "source": [
    "n_features = 1"
   ]
  },
  {
   "cell_type": "code",
   "execution_count": 27,
   "id": "e1ad44ae",
   "metadata": {},
   "outputs": [],
   "source": [
    "model = Sequential()\n",
    "model.add(LSTM(128, activation = \"relu\", input_shape = (length, n_features)))\n",
    "model.add(Dense(1))   # 2 değeri karşılaştıracağım için çıkış layer ında 1 nöron olmalı.\n",
    "model.compile(optimizer = \"adam\", loss = \"mse\")"
   ]
  },
  {
   "cell_type": "code",
   "execution_count": 29,
   "id": "4755ff50",
   "metadata": {},
   "outputs": [
    {
     "name": "stdout",
     "output_type": "stream",
     "text": [
      "Model: \"sequential\"\n",
      "_________________________________________________________________\n",
      " Layer (type)                Output Shape              Param #   \n",
      "=================================================================\n",
      " lstm (LSTM)                 (None, 128)               66560     \n",
      "                                                                 \n",
      " dense (Dense)               (None, 1)                 129       \n",
      "                                                                 \n",
      "=================================================================\n",
      "Total params: 66,689\n",
      "Trainable params: 66,689\n",
      "Non-trainable params: 0\n",
      "_________________________________________________________________\n"
     ]
    }
   ],
   "source": [
    "model.summary()"
   ]
  },
  {
   "cell_type": "markdown",
   "id": "c7dfd55e",
   "metadata": {},
   "source": [
    "### EarlyStopping and Validation Generator"
   ]
  },
  {
   "cell_type": "code",
   "execution_count": 31,
   "id": "4d47b563",
   "metadata": {},
   "outputs": [],
   "source": [
    "from tensorflow.keras.callbacks import EarlyStopping"
   ]
  },
  {
   "cell_type": "code",
   "execution_count": 32,
   "id": "9b2828a9",
   "metadata": {},
   "outputs": [],
   "source": [
    "early_stop = EarlyStopping(monitor = \"val_loss\", patience = 5)"
   ]
  },
  {
   "cell_type": "code",
   "execution_count": 33,
   "id": "a1905650",
   "metadata": {},
   "outputs": [],
   "source": [
    "validation_generator = TimeseriesGenerator(data = test_scaled,\n",
    "                                          targets = test_scaled,\n",
    "                                          length = length,\n",
    "                                          batch_size = 1)"
   ]
  },
  {
   "cell_type": "code",
   "execution_count": 34,
   "id": "316d0f8f",
   "metadata": {},
   "outputs": [
    {
     "data": {
      "text/plain": [
       "6"
      ]
     },
     "execution_count": 34,
     "metadata": {},
     "output_type": "execute_result"
    }
   ],
   "source": [
    "len(validation_generator)  \n",
    "\n",
    "# 18-12 = 6 tane \n",
    "\n",
    "# son 18 taneyi test için ayırdık, bunların içinden stride 1 olacak şekilde \n",
    "  # 12 lik gruplar halinde ve kaydıra kaydıra işlem yaparak 6 tane değer üretti. "
   ]
  },
  {
   "cell_type": "code",
   "execution_count": 36,
   "id": "de7970f0",
   "metadata": {},
   "outputs": [
    {
     "name": "stdout",
     "output_type": "stream",
     "text": [
      "Epoch 1/20\n",
      "304/304 [==============================] - 2s 3ms/step - loss: 0.0247 - val_loss: 0.0067\n",
      "Epoch 2/20\n",
      "304/304 [==============================] - 1s 3ms/step - loss: 0.0175 - val_loss: 0.0141\n",
      "Epoch 3/20\n",
      "304/304 [==============================] - 1s 3ms/step - loss: 0.0101 - val_loss: 8.4022e-04\n",
      "Epoch 4/20\n",
      "304/304 [==============================] - 1s 3ms/step - loss: 0.0034 - val_loss: 0.0018\n",
      "Epoch 5/20\n",
      "304/304 [==============================] - 1s 3ms/step - loss: 0.0024 - val_loss: 0.0043\n",
      "Epoch 6/20\n",
      "304/304 [==============================] - 1s 2ms/step - loss: 0.0017 - val_loss: 4.4111e-04\n",
      "Epoch 7/20\n",
      "304/304 [==============================] - 1s 2ms/step - loss: 0.0015 - val_loss: 0.0024\n",
      "Epoch 8/20\n",
      "304/304 [==============================] - 1s 3ms/step - loss: 0.0016 - val_loss: 0.0011\n",
      "Epoch 9/20\n",
      "304/304 [==============================] - 1s 2ms/step - loss: 0.0013 - val_loss: 0.0052\n",
      "Epoch 10/20\n",
      "304/304 [==============================] - 1s 3ms/step - loss: 0.0016 - val_loss: 2.2926e-04\n",
      "Epoch 11/20\n",
      "304/304 [==============================] - 1s 3ms/step - loss: 0.0016 - val_loss: 0.0011\n",
      "Epoch 12/20\n",
      "304/304 [==============================] - 1s 2ms/step - loss: 0.0012 - val_loss: 5.5877e-04\n",
      "Epoch 13/20\n",
      "304/304 [==============================] - 1s 2ms/step - loss: 9.6912e-04 - val_loss: 9.2244e-04\n",
      "Epoch 14/20\n",
      "304/304 [==============================] - 1s 2ms/step - loss: 0.0011 - val_loss: 0.0014\n",
      "Epoch 15/20\n",
      "304/304 [==============================] - 1s 2ms/step - loss: 9.7769e-04 - val_loss: 4.8559e-04\n"
     ]
    },
    {
     "data": {
      "text/plain": [
       "<keras.callbacks.History at 0x18eb5e5ccd0>"
      ]
     },
     "execution_count": 36,
     "metadata": {},
     "output_type": "execute_result"
    }
   ],
   "source": [
    "model.fit_generator(generator, epochs = 20, \n",
    "                   validation_data = validation_generator,\n",
    "                   callbacks = [early_stop])"
   ]
  },
  {
   "cell_type": "code",
   "execution_count": 38,
   "id": "3ce8a13c",
   "metadata": {},
   "outputs": [
    {
     "data": {
      "image/png": "[encoded data removed]",
      "text/plain": [
       "<Figure size 720x432 with 1 Axes>"
      ]
     },
     "metadata": {},
     "output_type": "display_data"
    }
   ],
   "source": [
    "loss_df = pd.DataFrame(model.history.history)\n",
    "loss_df.plot();"
   ]
  },
  {
   "cell_type": "markdown",
   "id": "22423f05",
   "metadata": {},
   "source": [
    "## Evaluate on Test Data"
   ]
  },
  {
   "cell_type": "code",
   "execution_count": 39,
   "id": "607ce740",
   "metadata": {},
   "outputs": [],
   "source": [
    "from sklearn.metrics import mean_absolute_error, mean_squared_error, r2_score"
   ]
  },
  {
   "cell_type": "code",
   "execution_count": 40,
   "id": "4c176ea5",
   "metadata": {},
   "outputs": [],
   "source": [
    "def eval_metrics(actual, pred):\n",
    "    rmse = np.sqrt(mean_squared_error(actual, pred))\n",
    "    mae = mean_absolute_error(actual, pred)\n",
    "    mse = mean_squared_error(actual, pred)\n",
    "    score = r2_score(actual, pred)\n",
    "    return print(\"r2_score:\", score, \"\\n\",\"mae:\", mae, \"\\n\",\"mse:\",mse, \"\\n\",\"rmse:\",rmse)"
   ]
  },
  {
   "cell_type": "code",
   "execution_count": 42,
   "id": "5369fa69",
   "metadata": {},
   "outputs": [
    {
     "data": {
      "text/plain": [
       "array([[0.61168736],\n",
       "       [0.53155124],\n",
       "       [0.54320437],\n",
       "       [0.5913284 ],\n",
       "       [0.48651463],\n",
       "       [0.5281632 ]], dtype=float32)"
      ]
     },
     "execution_count": 42,
     "metadata": {},
     "output_type": "execute_result"
    }
   ],
   "source": [
    "y_pred = model.predict(validation_generator)\n",
    "y_pred\n",
    "# son 18 taneyi test için ayırıp, bunların içinden stride 1 olacak şekilde \n",
    "  # 12 lik gruplar halinde ve kaydıra kaydıra işlem yaparak 6 tane değer generate etmiştik. \n",
    "    # şimdi bu değerlerin predict ini aldık."
   ]
  },
  {
   "cell_type": "code",
   "execution_count": 43,
   "id": "1898ee40",
   "metadata": {},
   "outputs": [
    {
     "data": {
      "text/plain": [
       "array([[0.58095955],\n",
       "       [0.51012218],\n",
       "       [0.53251639],\n",
       "       [0.60797592],\n",
       "       [0.45390376],\n",
       "       [0.52072808]])"
      ]
     },
     "execution_count": 43,
     "metadata": {},
     "output_type": "execute_result"
    }
   ],
   "source": [
    "test_scaled[-6:]\n",
    "# y_pred i test datamın son 6 sı ile kıyaslamam lazım. çünkü o predict ler onlara denk geliyor"
   ]
  },
  {
   "cell_type": "code",
   "execution_count": 44,
   "id": "006e2711",
   "metadata": {},
   "outputs": [
    {
     "name": "stdout",
     "output_type": "stream",
     "text": [
      "r2_score: 0.8036803675706 \n",
      " mae: 0.01992306190198719 \n",
      " mse: 0.0004855877124674541 \n",
      " rmse: 0.022036054829924847\n"
     ]
    }
   ],
   "source": [
    "eval_metrics(test_scaled[-6:], y_pred)"
   ]
  },
  {
   "cell_type": "code",
   "execution_count": 49,
   "id": "6d1fea89",
   "metadata": {},
   "outputs": [],
   "source": [
    "test_prediction = []\n",
    "\n",
    "first_eval_batch = train_scaled[-length:]\n",
    "current_batch = first_eval_batch.reshape((1, length, n_features))\n",
    "\n",
    "for i in range(len(test)):\n",
    "    # get prediction 1 time stamp ahead\n",
    "    current_pred = model.predict(current_batch)[0]\n",
    "    \n",
    "    # store prediction \n",
    "    test_prediction.append(current_pred)\n",
    "    \n",
    "    # update batch to now include prediction adn drop first value \n",
    "    current_batch = np.append(current_batch[:,1:,:], [[current_pred]], axis = 1)\n",
    "    \n",
    "# train datamızın sonundan 12lik bir parçayı aldık. bu bizim ilk eval_batch imiz olacak. bundan ileriye forecast yapacağız\n",
    "# sonra bunu reshape yaptık (1,12,1) oldu  ( (1, length, n_features) )\n",
    "# bundan for döngüsü içinde current_batch i hep bir ilerletecek şekilde predict ler alıp alıp test_prediction a kaydettim. "
   ]
  },
  {
   "cell_type": "code",
   "execution_count": 50,
   "id": "099a18d0",
   "metadata": {},
   "outputs": [
    {
     "name": "stdout",
     "output_type": "stream",
     "text": [
      "r2_score: 0.9706518821992732 \n",
      " mae: 0.01675302217040862 \n",
      " mse: 0.00047630774460392055 \n",
      " rmse: 0.02182447581510082\n"
     ]
    }
   ],
   "source": [
    "eval_metrics(test_scaled, test_prediction)"
   ]
  },
  {
   "cell_type": "markdown",
   "id": "8859486c",
   "metadata": {},
   "source": [
    "### Inverse Transformations and Comparing"
   ]
  },
  {
   "cell_type": "code",
   "execution_count": 51,
   "id": "8f2b4431",
   "metadata": {},
   "outputs": [
    {
     "data": {
      "text/plain": [
       "array([[22376.55199093],\n",
       "       [21138.54751354],\n",
       "       [21198.99932271],\n",
       "       [23064.27366376],\n",
       "       [20512.20255923],\n",
       "       [21000.39167416],\n",
       "       [25121.32862461],\n",
       "       [34073.67597032],\n",
       "       [16088.90342557],\n",
       "       [18960.39763117],\n",
       "       [22712.26247954],\n",
       "       [21114.71113563],\n",
       "       [22802.8869611 ],\n",
       "       [21609.40954965],\n",
       "       [21600.57965964],\n",
       "       [23360.83187443],\n",
       "       [21029.35165066],\n",
       "       [21478.78772908]])"
      ]
     },
     "execution_count": 51,
     "metadata": {},
     "output_type": "execute_result"
    }
   ],
   "source": [
    "true_prediction = scaler.inverse_transform(test_prediction)\n",
    "true_prediction"
   ]
  },
  {
   "cell_type": "code",
   "execution_count": 54,
   "id": "bb0c2b3c",
   "metadata": {},
   "outputs": [
    {
     "data": {
      "text/html": [
       "<div>\n",
       "<style scoped>\n",
       "    .dataframe tbody tr th:only-of-type {\n",
       "        vertical-align: middle;\n",
       "    }\n",
       "\n",
       "    .dataframe tbody tr th {\n",
       "        vertical-align: top;\n",
       "    }\n",
       "\n",
       "    .dataframe thead th {\n",
       "        text-align: right;\n",
       "    }\n",
       "</style>\n",
       "<table border=\"1\" class=\"dataframe\">\n",
       "  <thead>\n",
       "    <tr style=\"text-align: right;\">\n",
       "      <th></th>\n",
       "      <th>Sales</th>\n",
       "      <th>Prediction</th>\n",
       "    </tr>\n",
       "    <tr>\n",
       "      <th>DATE</th>\n",
       "      <th></th>\n",
       "      <th></th>\n",
       "    </tr>\n",
       "  </thead>\n",
       "  <tbody>\n",
       "    <tr>\n",
       "      <th>2018-05-01</th>\n",
       "      <td>23641</td>\n",
       "      <td>22376.552</td>\n",
       "    </tr>\n",
       "    <tr>\n",
       "      <th>2018-06-01</th>\n",
       "      <td>21337</td>\n",
       "      <td>21138.548</td>\n",
       "    </tr>\n",
       "    <tr>\n",
       "      <th>2018-07-01</th>\n",
       "      <td>21745</td>\n",
       "      <td>21198.999</td>\n",
       "    </tr>\n",
       "    <tr>\n",
       "      <th>2018-08-01</th>\n",
       "      <td>23136</td>\n",
       "      <td>23064.274</td>\n",
       "    </tr>\n",
       "    <tr>\n",
       "      <th>2018-09-01</th>\n",
       "      <td>19826</td>\n",
       "      <td>20512.203</td>\n",
       "    </tr>\n",
       "    <tr>\n",
       "      <th>2018-10-01</th>\n",
       "      <td>21265</td>\n",
       "      <td>21000.392</td>\n",
       "    </tr>\n",
       "    <tr>\n",
       "      <th>2018-11-01</th>\n",
       "      <td>25446</td>\n",
       "      <td>25121.329</td>\n",
       "    </tr>\n",
       "    <tr>\n",
       "      <th>2018-12-01</th>\n",
       "      <td>34067</td>\n",
       "      <td>34073.676</td>\n",
       "    </tr>\n",
       "    <tr>\n",
       "      <th>2019-01-01</th>\n",
       "      <td>16223</td>\n",
       "      <td>16088.903</td>\n",
       "    </tr>\n",
       "    <tr>\n",
       "      <th>2019-02-01</th>\n",
       "      <td>18032</td>\n",
       "      <td>18960.398</td>\n",
       "    </tr>\n",
       "    <tr>\n",
       "      <th>2019-03-01</th>\n",
       "      <td>22148</td>\n",
       "      <td>22712.262</td>\n",
       "    </tr>\n",
       "    <tr>\n",
       "      <th>2019-04-01</th>\n",
       "      <td>21582</td>\n",
       "      <td>21114.711</td>\n",
       "    </tr>\n",
       "    <tr>\n",
       "      <th>2019-05-01</th>\n",
       "      <td>23152</td>\n",
       "      <td>22802.887</td>\n",
       "    </tr>\n",
       "    <tr>\n",
       "      <th>2019-06-01</th>\n",
       "      <td>21175</td>\n",
       "      <td>21609.410</td>\n",
       "    </tr>\n",
       "    <tr>\n",
       "      <th>2019-07-01</th>\n",
       "      <td>21800</td>\n",
       "      <td>21600.580</td>\n",
       "    </tr>\n",
       "    <tr>\n",
       "      <th>2019-08-01</th>\n",
       "      <td>23906</td>\n",
       "      <td>23360.832</td>\n",
       "    </tr>\n",
       "    <tr>\n",
       "      <th>2019-09-01</th>\n",
       "      <td>19606</td>\n",
       "      <td>21029.352</td>\n",
       "    </tr>\n",
       "    <tr>\n",
       "      <th>2019-10-01</th>\n",
       "      <td>21471</td>\n",
       "      <td>21478.788</td>\n",
       "    </tr>\n",
       "  </tbody>\n",
       "</table>\n",
       "</div>"
      ],
      "text/plain": [
       "            Sales  Prediction\n",
       "DATE                         \n",
       "2018-05-01  23641   22376.552\n",
       "2018-06-01  21337   21138.548\n",
       "2018-07-01  21745   21198.999\n",
       "2018-08-01  23136   23064.274\n",
       "2018-09-01  19826   20512.203\n",
       "2018-10-01  21265   21000.392\n",
       "2018-11-01  25446   25121.329\n",
       "2018-12-01  34067   34073.676\n",
       "2019-01-01  16223   16088.903\n",
       "2019-02-01  18032   18960.398\n",
       "2019-03-01  22148   22712.262\n",
       "2019-04-01  21582   21114.711\n",
       "2019-05-01  23152   22802.887\n",
       "2019-06-01  21175   21609.410\n",
       "2019-07-01  21800   21600.580\n",
       "2019-08-01  23906   23360.832\n",
       "2019-09-01  19606   21029.352\n",
       "2019-10-01  21471   21478.788"
      ]
     },
     "execution_count": 54,
     "metadata": {},
     "output_type": "execute_result"
    }
   ],
   "source": [
    "test[\"Prediction\"] = true_prediction\n",
    "test"
   ]
  },
  {
   "cell_type": "code",
   "execution_count": 55,
   "id": "7e7c873f",
   "metadata": {},
   "outputs": [
    {
     "data": {
      "image/png": "[encoded data removed]",
      "text/plain": [
       "<Figure size 720x432 with 1 Axes>"
      ]
     },
     "metadata": {},
     "output_type": "display_data"
    }
   ],
   "source": [
    "test.plot();"
   ]
  },
  {
   "cell_type": "code",
   "execution_count": 56,
   "id": "5bbb3556",
   "metadata": {},
   "outputs": [
    {
     "name": "stdout",
     "output_type": "stream",
     "text": [
      "r2_score: 0.9706518821992732 \n",
      " mae: 467.56009575393375 \n",
      " mse: 371001.9518074051 \n",
      " rmse: 609.0992955236487\n"
     ]
    }
   ],
   "source": [
    "eval_metrics(test.Sales, test.Prediction)"
   ]
  },
  {
   "cell_type": "markdown",
   "id": "8f46e759",
   "metadata": {},
   "source": [
    "## Retrain and Forecasting"
   ]
  },
  {
   "cell_type": "code",
   "execution_count": null,
   "id": "5558cd30",
   "metadata": {},
   "outputs": [],
   "source": []
  }
 ],
 "metadata": {
  "kernelspec": {
   "display_name": "Python 3 (ipykernel)",
   "language": "python",
   "name": "python3"
  },
  "language_info": {
   "codemirror_mode": {
    "name": "ipython",
    "version": 3
   },
   "file_extension": ".py",
   "mimetype": "text/x-python",
   "name": "python",
   "nbconvert_exporter": "python",
   "pygments_lexer": "ipython3",
   "version": "3.8.12"
  }
 },
 "nbformat": 4,
 "nbformat_minor": 5
}
