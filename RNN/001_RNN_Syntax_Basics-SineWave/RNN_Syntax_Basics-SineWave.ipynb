{
 "cells": [
  {
   "cell_type": "code",
   "execution_count": 1,
   "id": "e11b0b91",
   "metadata": {},
   "outputs": [],
   "source": [
    "import numpy as np\n",
    "import pandas as pd\n",
    "import seaborn as sns\n",
    "import matplotlib.pyplot as plt\n",
    "\n",
    "%matplotlib inline\n",
    "# %matplotlib notebook\n",
    "plt.rcParams[\"figure.figsize\"] = (10,6)\n",
    "# plt.rcParams['figure.dpi'] = 100\n",
    "sns.set_style(\"whitegrid\")\n",
    "import warnings\n",
    "warnings.filterwarnings(\"ignore\")\n",
    "warnings.warn(\"this will not show\")\n",
    "pd.set_option('display.float_format', lambda x: '%.3f' % x)"
   ]
  },
  {
   "cell_type": "code",
   "execution_count": 2,
   "id": "4ef2a05f",
   "metadata": {
    "scrolled": true
   },
   "outputs": [
    {
     "data": {
      "text/plain": [
       "array([ 0. ,  0.1,  0.2,  0.3,  0.4,  0.5,  0.6,  0.7,  0.8,  0.9,  1. ,\n",
       "        1.1,  1.2,  1.3,  1.4,  1.5,  1.6,  1.7,  1.8,  1.9,  2. ,  2.1,\n",
       "        2.2,  2.3,  2.4,  2.5,  2.6,  2.7,  2.8,  2.9,  3. ,  3.1,  3.2,\n",
       "        3.3,  3.4,  3.5,  3.6,  3.7,  3.8,  3.9,  4. ,  4.1,  4.2,  4.3,\n",
       "        4.4,  4.5,  4.6,  4.7,  4.8,  4.9,  5. ,  5.1,  5.2,  5.3,  5.4,\n",
       "        5.5,  5.6,  5.7,  5.8,  5.9,  6. ,  6.1,  6.2,  6.3,  6.4,  6.5,\n",
       "        6.6,  6.7,  6.8,  6.9,  7. ,  7.1,  7.2,  7.3,  7.4,  7.5,  7.6,\n",
       "        7.7,  7.8,  7.9,  8. ,  8.1,  8.2,  8.3,  8.4,  8.5,  8.6,  8.7,\n",
       "        8.8,  8.9,  9. ,  9.1,  9.2,  9.3,  9.4,  9.5,  9.6,  9.7,  9.8,\n",
       "        9.9, 10. , 10.1, 10.2, 10.3, 10.4, 10.5, 10.6, 10.7, 10.8, 10.9,\n",
       "       11. , 11.1, 11.2, 11.3, 11.4, 11.5, 11.6, 11.7, 11.8, 11.9, 12. ,\n",
       "       12.1, 12.2, 12.3, 12.4, 12.5, 12.6, 12.7, 12.8, 12.9, 13. , 13.1,\n",
       "       13.2, 13.3, 13.4, 13.5, 13.6, 13.7, 13.8, 13.9, 14. , 14.1, 14.2,\n",
       "       14.3, 14.4, 14.5, 14.6, 14.7, 14.8, 14.9, 15. , 15.1, 15.2, 15.3,\n",
       "       15.4, 15.5, 15.6, 15.7, 15.8, 15.9, 16. , 16.1, 16.2, 16.3, 16.4,\n",
       "       16.5, 16.6, 16.7, 16.8, 16.9, 17. , 17.1, 17.2, 17.3, 17.4, 17.5,\n",
       "       17.6, 17.7, 17.8, 17.9, 18. , 18.1, 18.2, 18.3, 18.4, 18.5, 18.6,\n",
       "       18.7, 18.8, 18.9, 19. , 19.1, 19.2, 19.3, 19.4, 19.5, 19.6, 19.7,\n",
       "       19.8, 19.9, 20. , 20.1, 20.2, 20.3, 20.4, 20.5, 20.6, 20.7, 20.8,\n",
       "       20.9, 21. , 21.1, 21.2, 21.3, 21.4, 21.5, 21.6, 21.7, 21.8, 21.9,\n",
       "       22. , 22.1, 22.2, 22.3, 22.4, 22.5, 22.6, 22.7, 22.8, 22.9, 23. ,\n",
       "       23.1, 23.2, 23.3, 23.4, 23.5, 23.6, 23.7, 23.8, 23.9, 24. , 24.1,\n",
       "       24.2, 24.3, 24.4, 24.5, 24.6, 24.7, 24.8, 24.9, 25. , 25.1, 25.2,\n",
       "       25.3, 25.4, 25.5, 25.6, 25.7, 25.8, 25.9, 26. , 26.1, 26.2, 26.3,\n",
       "       26.4, 26.5, 26.6, 26.7, 26.8, 26.9, 27. , 27.1, 27.2, 27.3, 27.4,\n",
       "       27.5, 27.6, 27.7, 27.8, 27.9, 28. , 28.1, 28.2, 28.3, 28.4, 28.5,\n",
       "       28.6, 28.7, 28.8, 28.9, 29. , 29.1, 29.2, 29.3, 29.4, 29.5, 29.6,\n",
       "       29.7, 29.8, 29.9, 30. , 30.1, 30.2, 30.3, 30.4, 30.5, 30.6, 30.7,\n",
       "       30.8, 30.9, 31. , 31.1, 31.2, 31.3, 31.4, 31.5, 31.6, 31.7, 31.8,\n",
       "       31.9, 32. , 32.1, 32.2, 32.3, 32.4, 32.5, 32.6, 32.7, 32.8, 32.9,\n",
       "       33. , 33.1, 33.2, 33.3, 33.4, 33.5, 33.6, 33.7, 33.8, 33.9, 34. ,\n",
       "       34.1, 34.2, 34.3, 34.4, 34.5, 34.6, 34.7, 34.8, 34.9, 35. , 35.1,\n",
       "       35.2, 35.3, 35.4, 35.5, 35.6, 35.7, 35.8, 35.9, 36. , 36.1, 36.2,\n",
       "       36.3, 36.4, 36.5, 36.6, 36.7, 36.8, 36.9, 37. , 37.1, 37.2, 37.3,\n",
       "       37.4, 37.5, 37.6, 37.7, 37.8, 37.9, 38. , 38.1, 38.2, 38.3, 38.4,\n",
       "       38.5, 38.6, 38.7, 38.8, 38.9, 39. , 39.1, 39.2, 39.3, 39.4, 39.5,\n",
       "       39.6, 39.7, 39.8, 39.9, 40. , 40.1, 40.2, 40.3, 40.4, 40.5, 40.6,\n",
       "       40.7, 40.8, 40.9, 41. , 41.1, 41.2, 41.3, 41.4, 41.5, 41.6, 41.7,\n",
       "       41.8, 41.9, 42. , 42.1, 42.2, 42.3, 42.4, 42.5, 42.6, 42.7, 42.8,\n",
       "       42.9, 43. , 43.1, 43.2, 43.3, 43.4, 43.5, 43.6, 43.7, 43.8, 43.9,\n",
       "       44. , 44.1, 44.2, 44.3, 44.4, 44.5, 44.6, 44.7, 44.8, 44.9, 45. ,\n",
       "       45.1, 45.2, 45.3, 45.4, 45.5, 45.6, 45.7, 45.8, 45.9, 46. , 46.1,\n",
       "       46.2, 46.3, 46.4, 46.5, 46.6, 46.7, 46.8, 46.9, 47. , 47.1, 47.2,\n",
       "       47.3, 47.4, 47.5, 47.6, 47.7, 47.8, 47.9, 48. , 48.1, 48.2, 48.3,\n",
       "       48.4, 48.5, 48.6, 48.7, 48.8, 48.9, 49. , 49.1, 49.2, 49.3, 49.4,\n",
       "       49.5, 49.6, 49.7, 49.8, 49.9, 50. ])"
      ]
     },
     "execution_count": 2,
     "metadata": {},
     "output_type": "execute_result"
    }
   ],
   "source": [
    "x = np.linspace(0,50,501)\n",
    "y = np.sin(x)\n",
    "x"
   ]
  },
  {
   "cell_type": "code",
   "execution_count": 3,
   "id": "c87357a4",
   "metadata": {},
   "outputs": [
    {
     "data": {
      "text/plain": [
       "array([ 0.00000000e+00,  9.98334166e-02,  1.98669331e-01,  2.95520207e-01,\n",
       "        3.89418342e-01,  4.79425539e-01,  5.64642473e-01,  6.44217687e-01,\n",
       "        7.17356091e-01,  7.83326910e-01,  8.41470985e-01,  8.91207360e-01,\n",
       "        9.32039086e-01,  9.63558185e-01,  9.85449730e-01,  9.97494987e-01,\n",
       "        9.99573603e-01,  9.91664810e-01,  9.73847631e-01,  9.46300088e-01,\n",
       "        9.09297427e-01,  8.63209367e-01,  8.08496404e-01,  7.45705212e-01,\n",
       "        6.75463181e-01,  5.98472144e-01,  5.15501372e-01,  4.27379880e-01,\n",
       "        3.34988150e-01,  2.39249329e-01,  1.41120008e-01,  4.15806624e-02,\n",
       "       -5.83741434e-02, -1.57745694e-01, -2.55541102e-01, -3.50783228e-01,\n",
       "       -4.42520443e-01, -5.29836141e-01, -6.11857891e-01, -6.87766159e-01,\n",
       "       -7.56802495e-01, -8.18277111e-01, -8.71575772e-01, -9.16165937e-01,\n",
       "       -9.51602074e-01, -9.77530118e-01, -9.93691004e-01, -9.99923258e-01,\n",
       "       -9.96164609e-01, -9.82452613e-01, -9.58924275e-01, -9.25814682e-01,\n",
       "       -8.83454656e-01, -8.32267442e-01, -7.72764488e-01, -7.05540326e-01,\n",
       "       -6.31266638e-01, -5.50685543e-01, -4.64602179e-01, -3.73876665e-01,\n",
       "       -2.79415498e-01, -1.82162504e-01, -8.30894028e-02,  1.68139005e-02,\n",
       "        1.16549205e-01,  2.15119988e-01,  3.11541364e-01,  4.04849921e-01,\n",
       "        4.94113351e-01,  5.78439764e-01,  6.56986599e-01,  7.28969040e-01,\n",
       "        7.93667864e-01,  8.50436621e-01,  8.98708096e-01,  9.37999977e-01,\n",
       "        9.67919672e-01,  9.88168234e-01,  9.98543345e-01,  9.98941342e-01,\n",
       "        9.89358247e-01,  9.69889811e-01,  9.40730557e-01,  9.02171834e-01,\n",
       "        8.54598908e-01,  7.98487113e-01,  7.34397098e-01,  6.62969230e-01,\n",
       "        5.84917193e-01,  5.01020856e-01,  4.12118485e-01,  3.19098362e-01,\n",
       "        2.22889914e-01,  1.24454424e-01,  2.47754255e-02, -7.51511205e-02,\n",
       "       -1.74326781e-01, -2.71760626e-01, -3.66479129e-01, -4.57535894e-01,\n",
       "       -5.44021111e-01, -6.25070649e-01, -6.99874688e-01, -7.67685810e-01,\n",
       "       -8.27826469e-01, -8.79695760e-01, -9.22775422e-01, -9.56635016e-01,\n",
       "       -9.80936230e-01, -9.95436253e-01, -9.99990207e-01, -9.94552588e-01,\n",
       "       -9.79177729e-01, -9.54019250e-01, -9.19328526e-01, -8.75452175e-01,\n",
       "       -8.22828595e-01, -7.61983584e-01, -6.93525085e-01, -6.18137112e-01,\n",
       "       -5.36572918e-01, -4.49647465e-01, -3.58229282e-01, -2.63231791e-01,\n",
       "       -1.65604175e-01, -6.63218974e-02,  3.36230472e-02,  1.33232041e-01,\n",
       "        2.31509825e-01,  3.27474439e-01,  4.20167037e-01,  5.08661464e-01,\n",
       "        5.92073515e-01,  6.69569762e-01,  7.40375890e-01,  8.03784427e-01,\n",
       "        8.59161815e-01,  9.05954742e-01,  9.43695669e-01,  9.72007501e-01,\n",
       "        9.90607356e-01,  9.99309389e-01,  9.98026653e-01,  9.86771964e-01,\n",
       "        9.65657777e-01,  9.34895056e-01,  8.94791172e-01,  8.45746831e-01,\n",
       "        7.88252067e-01,  7.22881350e-01,  6.50287840e-01,  5.71196870e-01,\n",
       "        4.86398689e-01,  3.96740573e-01,  3.03118357e-01,  2.06467482e-01,\n",
       "        1.07753652e-01,  7.96318379e-03, -9.19068502e-02, -1.90858581e-01,\n",
       "       -2.87903317e-01, -3.82071417e-01, -4.72421986e-01, -5.58052271e-01,\n",
       "       -6.38106682e-01, -7.11785342e-01, -7.78352079e-01, -8.37141778e-01,\n",
       "       -8.87567034e-01, -9.29124013e-01, -9.61397492e-01, -9.84065005e-01,\n",
       "       -9.96900066e-01, -9.99774431e-01, -9.92659380e-01, -9.75626005e-01,\n",
       "       -9.48844498e-01, -9.12582450e-01, -8.67202179e-01, -8.13157112e-01,\n",
       "       -7.50987247e-01, -6.81313766e-01, -6.04832822e-01, -5.22308590e-01,\n",
       "       -4.34565622e-01, -3.42480618e-01, -2.46973662e-01, -1.48999026e-01,\n",
       "       -4.95356409e-02,  5.04226878e-02,  1.49877210e-01,  2.47834208e-01,\n",
       "        3.43314929e-01,  4.35365360e-01,  5.23065765e-01,  6.05539870e-01,\n",
       "        6.81963620e-01,  7.51573415e-01,  8.13673738e-01,  8.67644101e-01,\n",
       "        9.12945251e-01,  9.49124554e-01,  9.75820518e-01,  9.92766406e-01,\n",
       "        9.99792900e-01,  9.96829794e-01,  9.83906695e-01,  9.61152725e-01,\n",
       "        9.28795234e-01,  8.87157529e-01,  8.36655639e-01,  7.77794162e-01,\n",
       "        7.11161223e-01,  6.37422596e-01,  5.57315054e-01,  4.71639003e-01,\n",
       "        3.81250492e-01,  2.87052651e-01,  1.89986676e-01,  9.10224162e-02,\n",
       "       -8.85130929e-03, -1.08636595e-01, -2.07336421e-01, -3.03964609e-01,\n",
       "       -3.97555683e-01, -4.87174512e-01, -5.71925655e-01, -6.50962306e-01,\n",
       "       -7.23494756e-01, -7.88798286e-01, -8.46220404e-01, -8.95187368e-01,\n",
       "       -9.35209915e-01, -9.65888154e-01, -9.86915558e-01, -9.98082028e-01,\n",
       "       -9.99275992e-01, -9.90485521e-01, -9.71798446e-01, -9.43401482e-01,\n",
       "       -9.05578362e-01, -8.58707003e-01, -8.03255727e-01, -7.39778585e-01,\n",
       "       -6.68909820e-01, -5.91357530e-01, -5.07896590e-01, -4.19360916e-01,\n",
       "       -3.26635126e-01, -2.30645706e-01, -1.32351750e-01, -3.27353793e-02,\n",
       "        6.72080725e-02,  1.66480004e-01,  2.64088521e-01,  3.59058354e-01,\n",
       "        4.50440594e-01,  5.37322181e-01,  6.18835022e-01,  6.94164668e-01,\n",
       "        7.62558450e-01,  8.23333001e-01,  8.75881080e-01,  9.19677645e-01,\n",
       "        9.54285094e-01,  9.79357643e-01,  9.94644774e-01,  9.99993743e-01,\n",
       "        9.95351105e-01,  9.80763248e-01,  9.56375928e-01,  9.22432817e-01,\n",
       "        8.79273062e-01,  8.27327901e-01,  7.67116353e-01,  6.99240032e-01,\n",
       "        6.24377135e-01,  5.43275669e-01,  4.56745972e-01,  3.65652620e-01,\n",
       "        2.70905788e-01,  1.73452155e-01,  7.42654456e-02, -2.56632999e-02,\n",
       "       -1.25335626e-01, -2.23755640e-01, -3.19939962e-01, -4.12927549e-01,\n",
       "       -5.01789301e-01, -5.85637340e-01, -6.63633884e-01, -7.34999618e-01,\n",
       "       -7.99021479e-01, -8.55059781e-01, -9.02554608e-01, -9.41031408e-01,\n",
       "       -9.70105734e-01, -9.89487083e-01, -9.98981805e-01, -9.98495031e-01,\n",
       "       -9.88031624e-01, -9.67696132e-01, -9.37691740e-01, -8.98318243e-01,\n",
       "       -8.49969046e-01, -7.93127239e-01, -7.28360768e-01, -6.56316756e-01,\n",
       "       -5.77715044e-01, -4.93340995e-01, -4.04037645e-01, -3.10697285e-01,\n",
       "       -2.14252540e-01, -1.15667055e-01, -1.59258626e-02,  8.39744557e-02,\n",
       "        1.83035729e-01,  2.80268170e-01,  3.74700264e-01,  4.65388476e-01,\n",
       "        5.51426681e-01,  6.31955213e-01,  7.06169457e-01,  7.73327890e-01,\n",
       "        8.32759485e-01,  8.83870424e-01,  9.26150021e-01,  9.59175833e-01,\n",
       "        9.82617877e-01,  9.96241929e-01,  9.99911860e-01,  9.93591003e-01,\n",
       "        9.77342512e-01,  9.51328739e-01,  9.15809603e-01,  8.71140000e-01,\n",
       "        8.17766255e-01,  7.56221659e-01,  6.87121146e-01,  6.11155146e-01,\n",
       "        5.29082686e-01,  4.41723807e-01,  3.49951369e-01,  2.54682333e-01,\n",
       "        1.56868595e-01,  5.74874781e-02, -4.24680347e-02, -1.41999221e-01,\n",
       "       -2.40111598e-01, -3.35824859e-01, -4.28182669e-01, -5.16262220e-01,\n",
       "       -5.99183449e-01, -6.76117835e-01, -7.46296676e-01, -8.09018766e-01,\n",
       "       -8.63657409e-01, -9.09666672e-01, -9.46586846e-01, -9.74049038e-01,\n",
       "       -9.91778853e-01, -9.99599143e-01, -9.97431767e-01, -9.85298384e-01,\n",
       "       -9.63320224e-01, -9.31716888e-01, -8.90804144e-01, -8.40990780e-01,\n",
       "       -7.82774514e-01, -7.16737023e-01, -6.43538133e-01, -5.63909223e-01,\n",
       "       -4.78645919e-01, -3.88600142e-01, -2.94671602e-01, -1.97798800e-01,\n",
       "       -9.89496576e-02,  8.88156806e-04,  1.00717097e-01,  1.99539705e-01,\n",
       "        2.96368579e-01,  3.90236235e-01,  4.80204780e-01,  5.65375278e-01,\n",
       "        6.44896733e-01,  7.17974593e-01,  7.83878688e-01,  8.41950526e-01,\n",
       "        8.91609873e-01,  9.32360549e-01,  9.63795386e-01,  9.85600299e-01,\n",
       "        9.97557419e-01,  9.99547275e-01,  9.91549985e-01,  9.73645456e-01,\n",
       "        9.46012583e-01,  9.08927465e-01,  8.62760644e-01,  8.07973404e-01,\n",
       "        7.45113160e-01,  6.74807993e-01,  5.97760367e-01,  5.14740117e-01,\n",
       "        4.26576754e-01,  3.34151177e-01,  2.38386872e-01,  1.40240684e-01,\n",
       "        4.06932573e-02, -5.92607627e-02, -1.58622669e-01, -2.56399670e-01,\n",
       "       -3.51614810e-01, -4.43316731e-01, -5.30589178e-01, -6.12560153e-01,\n",
       "       -6.88410630e-01, -7.57382735e-01, -8.18787322e-01, -8.72010857e-01,\n",
       "       -9.16521548e-01, -9.51874658e-01, -9.77716952e-01, -9.93790221e-01,\n",
       "       -9.99933866e-01, -9.96086503e-01, -9.82286573e-01, -9.58671960e-01,\n",
       "       -9.25478614e-01, -8.83038191e-01, -8.31774743e-01, -7.72200476e-01,\n",
       "       -7.04910637e-01, -6.30577565e-01, -5.49943970e-01, -4.63815516e-01,\n",
       "       -3.73052771e-01, -2.78562606e-01, -1.81289136e-01, -8.22042844e-02,\n",
       "        1.77019251e-02,  1.17431263e-01,  2.15987266e-01,  3.12385196e-01,\n",
       "        4.05661877e-01,  4.94885318e-01,  5.79164028e-01,  6.57655923e-01,\n",
       "        7.29576737e-01,  7.94207862e-01,  8.50903525e-01,  8.99097240e-01,\n",
       "        9.38307473e-01,  9.68142448e-01,  9.88304064e-01,  9.98590872e-01,\n",
       "        9.98900091e-01,  9.89228630e-01,  9.69673123e-01,  9.40428963e-01,\n",
       "        9.01788348e-01,  8.54137361e-01,  7.97952117e-01,  7.33793998e-01,\n",
       "        6.62304053e-01,  5.84196584e-01,  5.00252017e-01,  4.11309096e-01,\n",
       "        3.18256511e-01,  2.22024012e-01,  1.23573123e-01,  2.38875315e-02,\n",
       "       -7.60367361e-02, -1.75201270e-01, -2.72615250e-01, -3.67305349e-01,\n",
       "       -4.58325454e-01, -5.44766123e-01, -6.25763669e-01, -7.00508791e-01,\n",
       "       -7.68254661e-01, -8.28324385e-01, -8.80117764e-01, -9.23117298e-01,\n",
       "       -9.56893350e-01, -9.81108439e-01, -9.95520616e-01, -9.99985881e-01,\n",
       "       -9.94459618e-01, -9.78997043e-01, -9.53752653e-01, -9.18978681e-01,\n",
       "       -8.75022579e-01, -8.22323540e-01, -7.61408116e-01, -6.92884954e-01,\n",
       "       -6.17438715e-01, -5.35823232e-01, -4.48853980e-01, -3.57399928e-01,\n",
       "       -2.62374854e-01])"
      ]
     },
     "execution_count": 3,
     "metadata": {},
     "output_type": "execute_result"
    }
   ],
   "source": [
    "y"
   ]
  },
  {
   "cell_type": "code",
   "execution_count": 4,
   "id": "b0c7b04f",
   "metadata": {},
   "outputs": [
    {
     "data": {
      "image/png": "[encoded data removed]",
      "text/plain": [
       "<Figure size 720x432 with 1 Axes>"
      ]
     },
     "metadata": {},
     "output_type": "display_data"
    }
   ],
   "source": [
    "plt.plot(x,y);"
   ]
  },
  {
   "cell_type": "code",
   "execution_count": 5,
   "id": "58276c90",
   "metadata": {},
   "outputs": [
    {
     "data": {
      "text/html": [
       "<div>\n",
       "<style scoped>\n",
       "    .dataframe tbody tr th:only-of-type {\n",
       "        vertical-align: middle;\n",
       "    }\n",
       "\n",
       "    .dataframe tbody tr th {\n",
       "        vertical-align: top;\n",
       "    }\n",
       "\n",
       "    .dataframe thead th {\n",
       "        text-align: right;\n",
       "    }\n",
       "</style>\n",
       "<table border=\"1\" class=\"dataframe\">\n",
       "  <thead>\n",
       "    <tr style=\"text-align: right;\">\n",
       "      <th></th>\n",
       "      <th>Sine</th>\n",
       "    </tr>\n",
       "  </thead>\n",
       "  <tbody>\n",
       "    <tr>\n",
       "      <th>0.000</th>\n",
       "      <td>0.000</td>\n",
       "    </tr>\n",
       "    <tr>\n",
       "      <th>0.100</th>\n",
       "      <td>0.100</td>\n",
       "    </tr>\n",
       "    <tr>\n",
       "      <th>0.200</th>\n",
       "      <td>0.199</td>\n",
       "    </tr>\n",
       "    <tr>\n",
       "      <th>0.300</th>\n",
       "      <td>0.296</td>\n",
       "    </tr>\n",
       "    <tr>\n",
       "      <th>0.400</th>\n",
       "      <td>0.389</td>\n",
       "    </tr>\n",
       "    <tr>\n",
       "      <th>...</th>\n",
       "      <td>...</td>\n",
       "    </tr>\n",
       "    <tr>\n",
       "      <th>49.600</th>\n",
       "      <td>-0.617</td>\n",
       "    </tr>\n",
       "    <tr>\n",
       "      <th>49.700</th>\n",
       "      <td>-0.536</td>\n",
       "    </tr>\n",
       "    <tr>\n",
       "      <th>49.800</th>\n",
       "      <td>-0.449</td>\n",
       "    </tr>\n",
       "    <tr>\n",
       "      <th>49.900</th>\n",
       "      <td>-0.357</td>\n",
       "    </tr>\n",
       "    <tr>\n",
       "      <th>50.000</th>\n",
       "      <td>-0.262</td>\n",
       "    </tr>\n",
       "  </tbody>\n",
       "</table>\n",
       "<p>501 rows × 1 columns</p>\n",
       "</div>"
      ],
      "text/plain": [
       "         Sine\n",
       "0.000   0.000\n",
       "0.100   0.100\n",
       "0.200   0.199\n",
       "0.300   0.296\n",
       "0.400   0.389\n",
       "...       ...\n",
       "49.600 -0.617\n",
       "49.700 -0.536\n",
       "49.800 -0.449\n",
       "49.900 -0.357\n",
       "50.000 -0.262\n",
       "\n",
       "[501 rows x 1 columns]"
      ]
     },
     "execution_count": 5,
     "metadata": {},
     "output_type": "execute_result"
    }
   ],
   "source": [
    "df = pd.DataFrame(data = y, index = x, columns = [\"Sine\"])\n",
    "df"
   ]
  },
  {
   "cell_type": "markdown",
   "id": "2f7fa4bf",
   "metadata": {},
   "source": [
    "## Preprocessing of Data"
   ]
  },
  {
   "cell_type": "markdown",
   "id": "44884659",
   "metadata": {},
   "source": [
    "### Train Test Split"
   ]
  },
  {
   "cell_type": "markdown",
   "id": "978c2706",
   "metadata": {},
   "source": [
    "- Sırayı bozmamamız lazım. Sırayı bozarsam her şey bozulur. Sıranın son kısmından test'e ayıracağım. **SIRA ÖNEMLİ**"
   ]
  },
  {
   "cell_type": "code",
   "execution_count": 6,
   "id": "373464e7",
   "metadata": {},
   "outputs": [
    {
     "data": {
      "text/plain": [
       "501"
      ]
     },
     "execution_count": 6,
     "metadata": {},
     "output_type": "execute_result"
    }
   ],
   "source": [
    "len(df)"
   ]
  },
  {
   "cell_type": "code",
   "execution_count": 7,
   "id": "11a64736",
   "metadata": {},
   "outputs": [
    {
     "data": {
      "text/plain": [
       "75.14999999999999"
      ]
     },
     "execution_count": 7,
     "metadata": {},
     "output_type": "execute_result"
    }
   ],
   "source": [
    "test_percent = 0.15\n",
    "len(df) * test_percent  # approximate test size"
   ]
  },
  {
   "cell_type": "code",
   "execution_count": 8,
   "id": "fadc0f95",
   "metadata": {},
   "outputs": [
    {
     "data": {
      "text/plain": [
       "75.0"
      ]
     },
     "execution_count": 8,
     "metadata": {},
     "output_type": "execute_result"
    }
   ],
   "source": [
    "test_point = np.round(len(df) * test_percent)\n",
    "test_point"
   ]
  },
  {
   "cell_type": "code",
   "execution_count": 9,
   "id": "b3213a91",
   "metadata": {},
   "outputs": [
    {
     "data": {
      "text/plain": [
       "426"
      ]
     },
     "execution_count": 9,
     "metadata": {},
     "output_type": "execute_result"
    }
   ],
   "source": [
    "test_ind = int(len(df) - test_point)\n",
    "test_ind"
   ]
  },
  {
   "cell_type": "code",
   "execution_count": 10,
   "id": "38b03fef",
   "metadata": {},
   "outputs": [
    {
     "data": {
      "text/html": [
       "<div>\n",
       "<style scoped>\n",
       "    .dataframe tbody tr th:only-of-type {\n",
       "        vertical-align: middle;\n",
       "    }\n",
       "\n",
       "    .dataframe tbody tr th {\n",
       "        vertical-align: top;\n",
       "    }\n",
       "\n",
       "    .dataframe thead th {\n",
       "        text-align: right;\n",
       "    }\n",
       "</style>\n",
       "<table border=\"1\" class=\"dataframe\">\n",
       "  <thead>\n",
       "    <tr style=\"text-align: right;\">\n",
       "      <th></th>\n",
       "      <th>Sine</th>\n",
       "    </tr>\n",
       "  </thead>\n",
       "  <tbody>\n",
       "    <tr>\n",
       "      <th>0.000</th>\n",
       "      <td>0.000</td>\n",
       "    </tr>\n",
       "    <tr>\n",
       "      <th>0.100</th>\n",
       "      <td>0.100</td>\n",
       "    </tr>\n",
       "    <tr>\n",
       "      <th>0.200</th>\n",
       "      <td>0.199</td>\n",
       "    </tr>\n",
       "    <tr>\n",
       "      <th>0.300</th>\n",
       "      <td>0.296</td>\n",
       "    </tr>\n",
       "    <tr>\n",
       "      <th>0.400</th>\n",
       "      <td>0.389</td>\n",
       "    </tr>\n",
       "    <tr>\n",
       "      <th>...</th>\n",
       "      <td>...</td>\n",
       "    </tr>\n",
       "    <tr>\n",
       "      <th>42.100</th>\n",
       "      <td>-0.952</td>\n",
       "    </tr>\n",
       "    <tr>\n",
       "      <th>42.200</th>\n",
       "      <td>-0.978</td>\n",
       "    </tr>\n",
       "    <tr>\n",
       "      <th>42.300</th>\n",
       "      <td>-0.994</td>\n",
       "    </tr>\n",
       "    <tr>\n",
       "      <th>42.400</th>\n",
       "      <td>-1.000</td>\n",
       "    </tr>\n",
       "    <tr>\n",
       "      <th>42.500</th>\n",
       "      <td>-0.996</td>\n",
       "    </tr>\n",
       "  </tbody>\n",
       "</table>\n",
       "<p>426 rows × 1 columns</p>\n",
       "</div>"
      ],
      "text/plain": [
       "         Sine\n",
       "0.000   0.000\n",
       "0.100   0.100\n",
       "0.200   0.199\n",
       "0.300   0.296\n",
       "0.400   0.389\n",
       "...       ...\n",
       "42.100 -0.952\n",
       "42.200 -0.978\n",
       "42.300 -0.994\n",
       "42.400 -1.000\n",
       "42.500 -0.996\n",
       "\n",
       "[426 rows x 1 columns]"
      ]
     },
     "execution_count": 10,
     "metadata": {},
     "output_type": "execute_result"
    }
   ],
   "source": [
    "train = df.iloc[: test_ind]\n",
    "test = df.iloc[test_ind :]\n",
    "train"
   ]
  },
  {
   "cell_type": "code",
   "execution_count": 11,
   "id": "0690d1fd",
   "metadata": {},
   "outputs": [
    {
     "data": {
      "text/html": [
       "<div>\n",
       "<style scoped>\n",
       "    .dataframe tbody tr th:only-of-type {\n",
       "        vertical-align: middle;\n",
       "    }\n",
       "\n",
       "    .dataframe tbody tr th {\n",
       "        vertical-align: top;\n",
       "    }\n",
       "\n",
       "    .dataframe thead th {\n",
       "        text-align: right;\n",
       "    }\n",
       "</style>\n",
       "<table border=\"1\" class=\"dataframe\">\n",
       "  <thead>\n",
       "    <tr style=\"text-align: right;\">\n",
       "      <th></th>\n",
       "      <th>Sine</th>\n",
       "    </tr>\n",
       "  </thead>\n",
       "  <tbody>\n",
       "    <tr>\n",
       "      <th>42.600</th>\n",
       "      <td>-0.982</td>\n",
       "    </tr>\n",
       "    <tr>\n",
       "      <th>42.700</th>\n",
       "      <td>-0.959</td>\n",
       "    </tr>\n",
       "    <tr>\n",
       "      <th>42.800</th>\n",
       "      <td>-0.925</td>\n",
       "    </tr>\n",
       "    <tr>\n",
       "      <th>42.900</th>\n",
       "      <td>-0.883</td>\n",
       "    </tr>\n",
       "    <tr>\n",
       "      <th>43.000</th>\n",
       "      <td>-0.832</td>\n",
       "    </tr>\n",
       "    <tr>\n",
       "      <th>...</th>\n",
       "      <td>...</td>\n",
       "    </tr>\n",
       "    <tr>\n",
       "      <th>49.600</th>\n",
       "      <td>-0.617</td>\n",
       "    </tr>\n",
       "    <tr>\n",
       "      <th>49.700</th>\n",
       "      <td>-0.536</td>\n",
       "    </tr>\n",
       "    <tr>\n",
       "      <th>49.800</th>\n",
       "      <td>-0.449</td>\n",
       "    </tr>\n",
       "    <tr>\n",
       "      <th>49.900</th>\n",
       "      <td>-0.357</td>\n",
       "    </tr>\n",
       "    <tr>\n",
       "      <th>50.000</th>\n",
       "      <td>-0.262</td>\n",
       "    </tr>\n",
       "  </tbody>\n",
       "</table>\n",
       "<p>75 rows × 1 columns</p>\n",
       "</div>"
      ],
      "text/plain": [
       "         Sine\n",
       "42.600 -0.982\n",
       "42.700 -0.959\n",
       "42.800 -0.925\n",
       "42.900 -0.883\n",
       "43.000 -0.832\n",
       "...       ...\n",
       "49.600 -0.617\n",
       "49.700 -0.536\n",
       "49.800 -0.449\n",
       "49.900 -0.357\n",
       "50.000 -0.262\n",
       "\n",
       "[75 rows x 1 columns]"
      ]
     },
     "execution_count": 11,
     "metadata": {},
     "output_type": "execute_result"
    }
   ],
   "source": [
    "test"
   ]
  },
  {
   "cell_type": "markdown",
   "id": "c6eafb7c",
   "metadata": {},
   "source": [
    "### Scaling"
   ]
  },
  {
   "cell_type": "code",
   "execution_count": 12,
   "id": "d129744c",
   "metadata": {},
   "outputs": [],
   "source": [
    "from sklearn.preprocessing import MinMaxScaler"
   ]
  },
  {
   "cell_type": "code",
   "execution_count": 13,
   "id": "e0eafeee",
   "metadata": {},
   "outputs": [],
   "source": [
    "scaler = MinMaxScaler()"
   ]
  },
  {
   "cell_type": "code",
   "execution_count": 14,
   "id": "9fb6866c",
   "metadata": {},
   "outputs": [],
   "source": [
    "train_scaled = scaler.fit_transform(train)\n",
    "test_scaled = scaler.transform(test)"
   ]
  },
  {
   "cell_type": "markdown",
   "id": "8b01432e",
   "metadata": {},
   "source": [
    "## Time Series Generator"
   ]
  },
  {
   "cell_type": "code",
   "execution_count": 15,
   "id": "c0757343",
   "metadata": {},
   "outputs": [],
   "source": [
    "from tensorflow.keras.preprocessing.sequence import TimeseriesGenerator "
   ]
  },
  {
   "cell_type": "code",
   "execution_count": 16,
   "id": "53a8d0d5",
   "metadata": {},
   "outputs": [],
   "source": [
    "# help(TimeseriesGenerator)"
   ]
  },
  {
   "cell_type": "code",
   "execution_count": 17,
   "id": "0fd898c6",
   "metadata": {},
   "outputs": [],
   "source": [
    "# define generator\n",
    "length = 2\n",
    "batch_size = 1\n",
    "generator = TimeseriesGenerator(data = train_scaled,\n",
    "                                targets = train_scaled,\n",
    "                                length =length,\n",
    "                                batch_size = batch_size) "
   ]
  },
  {
   "cell_type": "markdown",
   "id": "87a41b8a",
   "metadata": {},
   "source": [
    "- Target ve train **AYNI DATA**\n",
    "- teimeseriesgenerator'u tahmin için kullanacağımız pencereyi ve datayı ayarlamak için kullanıyoruz (Matt-Instructor)\n",
    "- batch_size açıklandı ama tekrar et. 2 verirsek 1 ve 2 yi alır onlardan 3 ü tahmin et gibi.\n",
    "- stride default 1 dir ve o yüzden 424 tane generate edecek."
   ]
  },
  {
   "cell_type": "code",
   "execution_count": 18,
   "id": "d44ec788",
   "metadata": {},
   "outputs": [
    {
     "data": {
      "text/plain": [
       "426"
      ]
     },
     "execution_count": 18,
     "metadata": {},
     "output_type": "execute_result"
    }
   ],
   "source": [
    "len(train_scaled)"
   ]
  },
  {
   "cell_type": "code",
   "execution_count": 19,
   "id": "127364a3",
   "metadata": {},
   "outputs": [
    {
     "data": {
      "text/plain": [
       "424"
      ]
     },
     "execution_count": 19,
     "metadata": {},
     "output_type": "execute_result"
    }
   ],
   "source": [
    "len(generator)"
   ]
  },
  {
   "cell_type": "markdown",
   "id": "6396dcee",
   "metadata": {},
   "source": [
    "len(generator) # = (len(train)-lenght)/(batch_size*stride) \n",
    "- train_scaled 426 satırdı fakat generator bana 424 adet data üretmiş. çünkü benim sequence uzunluğum 2. \n",
    "- yani eğitim yaparken kaydırmayı 2 adımda yaptığı için 2 değer kayıp oldu.\n",
    "- (örneğin ilk başta 0-3 indeks arasındaki datayı alıp 4. indeksi tahmin etti. sonra 2-5 indeksler arasını alıp 5. indeksi tahmin etti)"
   ]
  },
  {
   "cell_type": "code",
   "execution_count": 20,
   "id": "8cb60dd1",
   "metadata": {},
   "outputs": [
    {
     "data": {
      "text/plain": [
       "<keras.preprocessing.sequence.TimeseriesGenerator at 0x22f4086e850>"
      ]
     },
     "execution_count": 20,
     "metadata": {},
     "output_type": "execute_result"
    }
   ],
   "source": [
    "generator"
   ]
  },
  {
   "cell_type": "code",
   "execution_count": 21,
   "id": "3110ec8d",
   "metadata": {},
   "outputs": [
    {
     "data": {
      "text/plain": [
       "(array([[[0.49999912],\n",
       "         [0.54991622]]]),\n",
       " array([[0.59933458]]))"
      ]
     },
     "execution_count": 21,
     "metadata": {},
     "output_type": "execute_result"
    }
   ],
   "source": [
    "generator[0]"
   ]
  },
  {
   "cell_type": "code",
   "execution_count": 22,
   "id": "ddba75fb",
   "metadata": {},
   "outputs": [
    {
     "data": {
      "text/plain": [
       "(array([[[0.54991622],\n",
       "         [0.59933458]]]),\n",
       " array([[0.64776041]]))"
      ]
     },
     "execution_count": 22,
     "metadata": {},
     "output_type": "execute_result"
    }
   ],
   "source": [
    "generator[1]"
   ]
  },
  {
   "cell_type": "code",
   "execution_count": 23,
   "id": "40a78bf9",
   "metadata": {},
   "outputs": [
    {
     "data": {
      "text/plain": [
       "(array([[[0.59933458],\n",
       "         [0.64776041]]]),\n",
       " array([[0.69470985]]))"
      ]
     },
     "execution_count": 23,
     "metadata": {},
     "output_type": "execute_result"
    }
   ],
   "source": [
    "generator[2]"
   ]
  },
  {
   "cell_type": "code",
   "execution_count": 24,
   "id": "613c8e75",
   "metadata": {},
   "outputs": [],
   "source": [
    "# What does the first batch look like?\n",
    "X, y = generator[0]"
   ]
  },
  {
   "cell_type": "code",
   "execution_count": 25,
   "id": "656c963a",
   "metadata": {},
   "outputs": [
    {
     "name": "stdout",
     "output_type": "stream",
     "text": [
      "Given the Array: \n",
      "[[[0.49999912]\n",
      "  [0.54991622]]]\n",
      "Predict this y: \n",
      "[[0.59933458]]\n"
     ]
    }
   ],
   "source": [
    "print(f'Given the Array: \\n{X}')\n",
    "print(f'Predict this y: \\n{y}')"
   ]
  },
  {
   "cell_type": "code",
   "execution_count": 26,
   "id": "e9f3f073",
   "metadata": {},
   "outputs": [
    {
     "data": {
      "text/plain": [
       "array([[0.49999912],\n",
       "       [0.54991622],\n",
       "       [0.59933458],\n",
       "       [0.64776041],\n",
       "       [0.69470985],\n",
       "       [0.73971381],\n",
       "       [0.78232262],\n",
       "       [0.82211054],\n",
       "       [0.85868004],\n",
       "       [0.89166571]])"
      ]
     },
     "execution_count": 26,
     "metadata": {},
     "output_type": "execute_result"
    }
   ],
   "source": [
    "train_scaled[: 10]"
   ]
  },
  {
   "cell_type": "code",
   "execution_count": 27,
   "id": "c84a0b23",
   "metadata": {},
   "outputs": [
    {
     "data": {
      "text/html": [
       "<div>\n",
       "<style scoped>\n",
       "    .dataframe tbody tr th:only-of-type {\n",
       "        vertical-align: middle;\n",
       "    }\n",
       "\n",
       "    .dataframe tbody tr th {\n",
       "        vertical-align: top;\n",
       "    }\n",
       "\n",
       "    .dataframe thead th {\n",
       "        text-align: right;\n",
       "    }\n",
       "</style>\n",
       "<table border=\"1\" class=\"dataframe\">\n",
       "  <thead>\n",
       "    <tr style=\"text-align: right;\">\n",
       "      <th></th>\n",
       "      <th>X</th>\n",
       "      <th>y</th>\n",
       "    </tr>\n",
       "  </thead>\n",
       "  <tbody>\n",
       "    <tr>\n",
       "      <th>0</th>\n",
       "      <td>[[[0.4999991159163256], [0.5499162248393211]]]</td>\n",
       "      <td>[[0.5993345785103605]]</td>\n",
       "    </tr>\n",
       "    <tr>\n",
       "      <th>1</th>\n",
       "      <td>[[[0.5499162248393211], [0.5993345785103605]]]</td>\n",
       "      <td>[[0.6477604050750987]]</td>\n",
       "    </tr>\n",
       "    <tr>\n",
       "      <th>2</th>\n",
       "      <td>[[[0.5993345785103605], [0.6477604050750987]]]</td>\n",
       "      <td>[[0.6947098496819506]]</td>\n",
       "    </tr>\n",
       "    <tr>\n",
       "      <th>3</th>\n",
       "      <td>[[[0.6477604050750987], [0.6947098496819506]]]</td>\n",
       "      <td>[[0.7397138089998276]]</td>\n",
       "    </tr>\n",
       "    <tr>\n",
       "      <th>4</th>\n",
       "      <td>[[[0.6947098496819506], [0.7397138089998276]]]</td>\n",
       "      <td>[[0.782322618343557]]</td>\n",
       "    </tr>\n",
       "  </tbody>\n",
       "</table>\n",
       "</div>"
      ],
      "text/plain": [
       "                                                X                       y\n",
       "0  [[[0.4999991159163256], [0.5499162248393211]]]  [[0.5993345785103605]]\n",
       "1  [[[0.5499162248393211], [0.5993345785103605]]]  [[0.6477604050750987]]\n",
       "2  [[[0.5993345785103605], [0.6477604050750987]]]  [[0.6947098496819506]]\n",
       "3  [[[0.6477604050750987], [0.6947098496819506]]]  [[0.7397138089998276]]\n",
       "4  [[[0.6947098496819506], [0.7397138089998276]]]   [[0.782322618343557]]"
      ]
     },
     "execution_count": 27,
     "metadata": {},
     "output_type": "execute_result"
    }
   ],
   "source": [
    "gen_df = pd.DataFrame(generator, columns = [\"X\", \"y\"])  # X_train ve y_train olarak bildiğimiz klasik yapıya döktü.\n",
    "gen_df.head()"
   ]
  },
  {
   "cell_type": "code",
   "execution_count": 28,
   "id": "669c5687",
   "metadata": {},
   "outputs": [
    {
     "data": {
      "image/png": "[encoded data removed]",
      "text/plain": [
       "<Figure size 720x432 with 1 Axes>"
      ]
     },
     "metadata": {},
     "output_type": "display_data"
    }
   ],
   "source": [
    "df.plot();"
   ]
  },
  {
   "cell_type": "markdown",
   "id": "99c7b3e6",
   "metadata": {},
   "source": [
    "The more length the more training time"
   ]
  },
  {
   "cell_type": "code",
   "execution_count": 29,
   "id": "ee75005d",
   "metadata": {},
   "outputs": [],
   "source": [
    "# Let's redefine to get 10 steps back and then predict the next step out\n",
    "length = 64  # Length of the output sequences (in number of timesteps)\n",
    "batch_size = 1  # Number of timeseries samples in each batch\n",
    "generator = TimeseriesGenerator(data = train_scaled,\n",
    "                                targets = train_scaled,\n",
    "                                length = length,\n",
    "                                batch_size = batch_size)"
   ]
  },
  {
   "cell_type": "markdown",
   "id": "1150ce9b",
   "metadata": {},
   "source": [
    "Datam küçük olduğu için batch_size 1. Daha iyi skor verir. Ama gerçek datalarda daha uzun datalarda çalışınca batch size ile mecburen oynayacağız."
   ]
  },
  {
   "cell_type": "code",
   "execution_count": 30,
   "id": "6f53a2c9",
   "metadata": {},
   "outputs": [],
   "source": [
    "# What does the first batch look like?\n",
    "X, y = generator[0]"
   ]
  },
  {
   "cell_type": "code",
   "execution_count": 31,
   "id": "c6fea2d9",
   "metadata": {},
   "outputs": [
    {
     "name": "stdout",
     "output_type": "stream",
     "text": [
      "Given the Array: \n",
      "[4.99999116e-01 5.49916225e-01 5.99334579e-01 6.47760405e-01\n",
      " 6.94709850e-01 7.39713809e-01 7.82322618e-01 8.22110545e-01\n",
      " 8.58680040e-01 8.91665714e-01 9.20737985e-01 9.45606372e-01\n",
      " 9.66022399e-01 9.81782075e-01 9.92727935e-01 9.98750612e-01\n",
      " 9.99789928e-01 9.95835500e-01 9.86926839e-01 9.73152957e-01\n",
      " 9.54651478e-01 9.31607263e-01 9.04250562e-01 8.72854714e-01\n",
      " 8.37733417e-01 7.99237589e-01 7.57751870e-01 7.13690771e-01\n",
      " 6.67494535e-01 6.19624741e-01 5.70559686e-01 5.20789614e-01\n",
      " 4.70811810e-01 4.21125636e-01 3.72227539e-01 3.24606094e-01\n",
      " 2.78737119e-01 2.35078919e-01 1.94067715e-01 1.56113277e-01\n",
      " 1.21594831e-01 9.08572769e-02 6.42077324e-02 4.19124713e-02\n",
      " 2.41942605e-02 1.12301346e-02 3.14962674e-03 3.34747619e-05\n",
      " 1.91281421e-03 8.76886734e-03 2.05331307e-02 3.70880598e-02\n",
      " 5.82682430e-02 8.38620552e-02 1.13613771e-01 1.47226122e-01\n",
      " 1.84363264e-01 2.24654135e-01 2.67696162e-01 3.13059283e-01\n",
      " 3.60290246e-01 4.08917133e-01 4.58454081e-01 5.08406134e-01]\n",
      "Predict this y: \n",
      "[[0.55827419]]\n"
     ]
    }
   ],
   "source": [
    "print(f'Given the Array: \\n{X.flatten()}')  # gösterimi daha rahat olsun diye flatten yaptık. Yoksa array içinde çıkacaktı.\n",
    "print(f'Predict this y: \\n{y}')"
   ]
  },
  {
   "cell_type": "markdown",
   "id": "27e0fa0d",
   "metadata": {},
   "source": [
    "## Modelling"
   ]
  },
  {
   "cell_type": "code",
   "execution_count": 32,
   "id": "6fcc4423",
   "metadata": {},
   "outputs": [],
   "source": [
    "from tensorflow.keras.models import Sequential\n",
    "from tensorflow.keras.layers import Dense, SimpleRNN, LSTM"
   ]
  },
  {
   "cell_type": "code",
   "execution_count": 33,
   "id": "9d543ec1",
   "metadata": {},
   "outputs": [],
   "source": [
    "# We're only using one feature in our time series\n",
    "n_features = 1"
   ]
  },
  {
   "cell_type": "code",
   "execution_count": 34,
   "id": "d3c611b8",
   "metadata": {},
   "outputs": [],
   "source": [
    "# define model \n",
    "model = Sequential()\n",
    "\n",
    "# SimpleRNN layer\n",
    "# shape = number of row and column\n",
    "model.add(SimpleRNN(units = 64, activation = \"tanh\", input_shape = (length, n_features)))\n",
    "\n",
    "# Final Prediction \n",
    "model.add(Dense(units = 1))\n",
    "\n",
    "model.compile(optimizer = \"adam\", loss = \"mse\")  # loss value için continuous veri ile cont. veri karşılaştırmak için mse seçtik. Reg de olduğu gibi."
   ]
  },
  {
   "cell_type": "code",
   "execution_count": 35,
   "id": "b5587625",
   "metadata": {},
   "outputs": [
    {
     "name": "stdout",
     "output_type": "stream",
     "text": [
      "Model: \"sequential\"\n",
      "_________________________________________________________________\n",
      " Layer (type)                Output Shape              Param #   \n",
      "=================================================================\n",
      " simple_rnn (SimpleRNN)      (None, 64)                4224      \n",
      "                                                                 \n",
      " dense (Dense)               (None, 1)                 65        \n",
      "                                                                 \n",
      "=================================================================\n",
      "Total params: 4,289\n",
      "Trainable params: 4,289\n",
      "Non-trainable params: 0\n",
      "_________________________________________________________________\n"
     ]
    }
   ],
   "source": [
    "model.summary()"
   ]
  },
  {
   "cell_type": "code",
   "execution_count": 36,
   "id": "b6015cce",
   "metadata": {},
   "outputs": [
    {
     "data": {
      "text/plain": [
       "4224"
      ]
     },
     "execution_count": 36,
     "metadata": {},
     "output_type": "execute_result"
    }
   ],
   "source": [
    "(64*64) + (64 + 64)  # 64 tane input var, buradan 64 tane hidden layer'a parametreler geliyor."
   ]
  },
  {
   "cell_type": "code",
   "execution_count": 37,
   "id": "0cdc0915",
   "metadata": {},
   "outputs": [
    {
     "name": "stdout",
     "output_type": "stream",
     "text": [
      "Epoch 1/5\n",
      "362/362 [==============================] - 2s 4ms/step - loss: 0.0054\n",
      "Epoch 2/5\n",
      "362/362 [==============================] - 2s 5ms/step - loss: 8.1827e-05\n",
      "Epoch 3/5\n",
      "362/362 [==============================] - 2s 4ms/step - loss: 8.0653e-04\n",
      "Epoch 4/5\n",
      "362/362 [==============================] - 2s 4ms/step - loss: 5.5153e-05\n",
      "Epoch 5/5\n",
      "362/362 [==============================] - 2s 5ms/step - loss: 1.5137e-05\n"
     ]
    },
    {
     "data": {
      "text/plain": [
       "<keras.callbacks.History at 0x22f46cf4ac0>"
      ]
     },
     "execution_count": 37,
     "metadata": {},
     "output_type": "execute_result"
    }
   ],
   "source": [
    "model.fit_generator(generator = generator, epochs = 5)"
   ]
  },
  {
   "cell_type": "markdown",
   "id": "ee833e23",
   "metadata": {},
   "source": [
    "#### Number of generator = (len(train)-lenght)/(batch_size*stride) \n",
    "- (426 - 64) / (1 * 1) = 362"
   ]
  },
  {
   "cell_type": "code",
   "execution_count": 38,
   "id": "514a9101",
   "metadata": {},
   "outputs": [
    {
     "data": {
      "text/plain": [
       "362"
      ]
     },
     "execution_count": 38,
     "metadata": {},
     "output_type": "execute_result"
    }
   ],
   "source": [
    "len(generator)  # = (len(train)-lenght)/(batch_size*stride) (426 - 64) / (1 * 1) = 362"
   ]
  },
  {
   "cell_type": "code",
   "execution_count": 39,
   "id": "2b9cdd92",
   "metadata": {},
   "outputs": [
    {
     "data": {
      "text/plain": [
       "426"
      ]
     },
     "execution_count": 39,
     "metadata": {},
     "output_type": "execute_result"
    }
   ],
   "source": [
    "len(train_scaled)"
   ]
  },
  {
   "cell_type": "code",
   "execution_count": 40,
   "id": "dc94918f",
   "metadata": {},
   "outputs": [
    {
     "data": {
      "text/plain": [
       "1"
      ]
     },
     "execution_count": 40,
     "metadata": {},
     "output_type": "execute_result"
    }
   ],
   "source": [
    "batch_size "
   ]
  },
  {
   "cell_type": "code",
   "execution_count": 41,
   "id": "f51b23e5",
   "metadata": {},
   "outputs": [
    {
     "data": {
      "text/plain": [
       "64"
      ]
     },
     "execution_count": 41,
     "metadata": {},
     "output_type": "execute_result"
    }
   ],
   "source": [
    "length "
   ]
  },
  {
   "cell_type": "code",
   "execution_count": 42,
   "id": "61192ba1",
   "metadata": {},
   "outputs": [
    {
     "data": {
      "text/plain": [
       "{'loss': [0.005395268090069294,\n",
       "  8.182715100701898e-05,\n",
       "  0.0008065311121754348,\n",
       "  5.515298471436836e-05,\n",
       "  1.5137012269406114e-05]}"
      ]
     },
     "execution_count": 42,
     "metadata": {},
     "output_type": "execute_result"
    }
   ],
   "source": [
    "model.history.history"
   ]
  },
  {
   "cell_type": "code",
   "execution_count": 43,
   "id": "dc08ab51",
   "metadata": {},
   "outputs": [
    {
     "data": {
      "image/png": "[encoded data removed]",
      "text/plain": [
       "<Figure size 720x432 with 1 Axes>"
      ]
     },
     "metadata": {},
     "output_type": "display_data"
    }
   ],
   "source": [
    "loss_df = pd.DataFrame(model.history.history)\n",
    "loss_df.plot();"
   ]
  },
  {
   "cell_type": "markdown",
   "id": "d0e9e193",
   "metadata": {},
   "source": [
    "## Evaluate on Test Data:"
   ]
  },
  {
   "cell_type": "code",
   "execution_count": 44,
   "id": "a0f7e185",
   "metadata": {},
   "outputs": [
    {
     "data": {
      "text/plain": [
       "array([[1.27922981e-03],\n",
       "       [7.34597031e-03],\n",
       "       [1.83351382e-02],\n",
       "       [3.41369333e-02],\n",
       "       [5.45934694e-02],\n",
       "       [7.95003514e-02],\n",
       "       [1.08608718e-01],\n",
       "       [1.41627728e-01],\n",
       "       [1.78227467e-01],\n",
       "       [2.18042242e-01],\n",
       "       [2.60674236e-01],\n",
       "       [3.05697486e-01],\n",
       "       [3.52662133e-01],\n",
       "       [4.01098922e-01],\n",
       "       [4.50523890e-01],\n",
       "       [5.00443198e-01],\n",
       "       [5.50358069e-01],\n",
       "       [5.99769769e-01],\n",
       "       [6.48184595e-01],\n",
       "       [6.95118799e-01],\n",
       "       [7.40103433e-01],\n",
       "       [7.82689024e-01],\n",
       "       [8.22450070e-01],\n",
       "       [8.58989293e-01],\n",
       "       [8.91941605e-01],\n",
       "       [9.20977757e-01],\n",
       "       [9.45807630e-01],\n",
       "       [9.66183132e-01],\n",
       "       [9.81900676e-01],\n",
       "       [9.92803220e-01],\n",
       "       [9.98781828e-01],\n",
       "       [9.99776764e-01],\n",
       "       [9.95778087e-01],\n",
       "       [9.86825751e-01],\n",
       "       [9.73009203e-01],\n",
       "       [9.54466495e-01],\n",
       "       [9.31382900e-01],\n",
       "       [9.03989060e-01],\n",
       "       [8.72558686e-01],\n",
       "       [8.37405820e-01],\n",
       "       [7.98881698e-01],\n",
       "       [7.57371240e-01],\n",
       "       [7.13289205e-01],\n",
       "       [6.67076045e-01],\n",
       "       [6.19193508e-01],\n",
       "       [5.70120021e-01],\n",
       "       [5.20345908e-01],\n",
       "       [4.70368497e-01],\n",
       "       [4.20687145e-01],\n",
       "       [3.71798252e-01],\n",
       "       [3.24190300e-01],\n",
       "       [2.78338972e-01],\n",
       "       [2.34702398e-01],\n",
       "       [1.93716581e-01],\n",
       "       [1.55791039e-01],\n",
       "       [1.21304709e-01],\n",
       "       [9.06021693e-02],\n",
       "       [6.39901882e-02],\n",
       "       [4.17346643e-02],\n",
       "       [2.40579672e-02],\n",
       "       [1.11367167e-02],\n",
       "       [3.10001778e-03],\n",
       "       [2.81703720e-05],\n",
       "       [1.95186738e-03]])"
      ]
     },
     "execution_count": 44,
     "metadata": {},
     "output_type": "execute_result"
    }
   ],
   "source": [
    "first_eval_batch = train_scaled[-length:]\n",
    "first_eval_batch"
   ]
  },
  {
   "cell_type": "code",
   "execution_count": 45,
   "id": "930d5b22",
   "metadata": {},
   "outputs": [
    {
     "data": {
      "text/plain": [
       "64"
      ]
     },
     "execution_count": 45,
     "metadata": {},
     "output_type": "execute_result"
    }
   ],
   "source": [
    "length"
   ]
  },
  {
   "cell_type": "code",
   "execution_count": 46,
   "id": "2d2e2075",
   "metadata": {},
   "outputs": [
    {
     "data": {
      "text/plain": [
       "(64, 1)"
      ]
     },
     "execution_count": 46,
     "metadata": {},
     "output_type": "execute_result"
    }
   ],
   "source": [
    "first_eval_batch.shape"
   ]
  },
  {
   "cell_type": "code",
   "execution_count": 47,
   "id": "ae750019",
   "metadata": {},
   "outputs": [
    {
     "data": {
      "text/plain": [
       "(1, 64, 1)"
      ]
     },
     "execution_count": 47,
     "metadata": {},
     "output_type": "execute_result"
    }
   ],
   "source": [
    "generator[0][0].shape"
   ]
  },
  {
   "cell_type": "code",
   "execution_count": 48,
   "id": "f7a4b234",
   "metadata": {},
   "outputs": [],
   "source": [
    "first_eval_batch = first_eval_batch.reshape(1, length, n_features)"
   ]
  },
  {
   "cell_type": "code",
   "execution_count": 49,
   "id": "fdf90239",
   "metadata": {},
   "outputs": [
    {
     "data": {
      "text/plain": [
       "(1, 64, 1)"
      ]
     },
     "execution_count": 49,
     "metadata": {},
     "output_type": "execute_result"
    }
   ],
   "source": [
    "first_eval_batch.shape"
   ]
  },
  {
   "cell_type": "code",
   "execution_count": 50,
   "id": "6f121137",
   "metadata": {},
   "outputs": [],
   "source": [
    "# first_eval_batch"
   ]
  },
  {
   "cell_type": "code",
   "execution_count": 51,
   "id": "aee10559",
   "metadata": {},
   "outputs": [
    {
     "data": {
      "text/plain": [
       "array([[0.00939202]], dtype=float32)"
      ]
     },
     "execution_count": 51,
     "metadata": {},
     "output_type": "execute_result"
    }
   ],
   "source": [
    "model.predict(first_eval_batch)"
   ]
  },
  {
   "cell_type": "code",
   "execution_count": 52,
   "id": "7a0ee72e",
   "metadata": {},
   "outputs": [
    {
     "data": {
      "text/plain": [
       "array([0.00885189])"
      ]
     },
     "execution_count": 52,
     "metadata": {},
     "output_type": "execute_result"
    }
   ],
   "source": [
    "test_scaled[0]"
   ]
  },
  {
   "cell_type": "code",
   "execution_count": 53,
   "id": "483b9db1",
   "metadata": {},
   "outputs": [],
   "source": [
    "test_predictions = []\n",
    "\n",
    "first_eval_batch = train_scaled[-length:]\n",
    "current_batch = first_eval_batch.reshape(1, length, n_features)"
   ]
  },
  {
   "cell_type": "code",
   "execution_count": 54,
   "id": "f6cd7457",
   "metadata": {},
   "outputs": [
    {
     "data": {
      "text/plain": [
       "(1, 64, 1)"
      ]
     },
     "execution_count": 54,
     "metadata": {},
     "output_type": "execute_result"
    }
   ],
   "source": [
    "current_batch.shape"
   ]
  },
  {
   "cell_type": "code",
   "execution_count": 55,
   "id": "91683337",
   "metadata": {},
   "outputs": [
    {
     "data": {
      "text/plain": [
       "array([[[1.27922981e-03],\n",
       "        [7.34597031e-03],\n",
       "        [1.83351382e-02],\n",
       "        [3.41369333e-02],\n",
       "        [5.45934694e-02],\n",
       "        [7.95003514e-02],\n",
       "        [1.08608718e-01],\n",
       "        [1.41627728e-01],\n",
       "        [1.78227467e-01],\n",
       "        [2.18042242e-01],\n",
       "        [2.60674236e-01],\n",
       "        [3.05697486e-01],\n",
       "        [3.52662133e-01],\n",
       "        [4.01098922e-01],\n",
       "        [4.50523890e-01],\n",
       "        [5.00443198e-01],\n",
       "        [5.50358069e-01],\n",
       "        [5.99769769e-01],\n",
       "        [6.48184595e-01],\n",
       "        [6.95118799e-01],\n",
       "        [7.40103433e-01],\n",
       "        [7.82689024e-01],\n",
       "        [8.22450070e-01],\n",
       "        [8.58989293e-01],\n",
       "        [8.91941605e-01],\n",
       "        [9.20977757e-01],\n",
       "        [9.45807630e-01],\n",
       "        [9.66183132e-01],\n",
       "        [9.81900676e-01],\n",
       "        [9.92803220e-01],\n",
       "        [9.98781828e-01],\n",
       "        [9.99776764e-01],\n",
       "        [9.95778087e-01],\n",
       "        [9.86825751e-01],\n",
       "        [9.73009203e-01],\n",
       "        [9.54466495e-01],\n",
       "        [9.31382900e-01],\n",
       "        [9.03989060e-01],\n",
       "        [8.72558686e-01],\n",
       "        [8.37405820e-01],\n",
       "        [7.98881698e-01],\n",
       "        [7.57371240e-01],\n",
       "        [7.13289205e-01],\n",
       "        [6.67076045e-01],\n",
       "        [6.19193508e-01],\n",
       "        [5.70120021e-01],\n",
       "        [5.20345908e-01],\n",
       "        [4.70368497e-01],\n",
       "        [4.20687145e-01],\n",
       "        [3.71798252e-01],\n",
       "        [3.24190300e-01],\n",
       "        [2.78338972e-01],\n",
       "        [2.34702398e-01],\n",
       "        [1.93716581e-01],\n",
       "        [1.55791039e-01],\n",
       "        [1.21304709e-01],\n",
       "        [9.06021693e-02],\n",
       "        [6.39901882e-02],\n",
       "        [4.17346643e-02],\n",
       "        [2.40579672e-02],\n",
       "        [1.11367167e-02],\n",
       "        [3.10001778e-03],\n",
       "        [2.81703720e-05],\n",
       "        [1.95186738e-03]]])"
      ]
     },
     "execution_count": 55,
     "metadata": {},
     "output_type": "execute_result"
    }
   ],
   "source": [
    "current_batch"
   ]
  },
  {
   "cell_type": "code",
   "execution_count": 56,
   "id": "a7ab3dc4",
   "metadata": {},
   "outputs": [
    {
     "data": {
      "text/plain": [
       "array([[[7.34597031e-03],\n",
       "        [1.83351382e-02],\n",
       "        [3.41369333e-02],\n",
       "        [5.45934694e-02],\n",
       "        [7.95003514e-02],\n",
       "        [1.08608718e-01],\n",
       "        [1.41627728e-01],\n",
       "        [1.78227467e-01],\n",
       "        [2.18042242e-01],\n",
       "        [2.60674236e-01],\n",
       "        [3.05697486e-01],\n",
       "        [3.52662133e-01],\n",
       "        [4.01098922e-01],\n",
       "        [4.50523890e-01],\n",
       "        [5.00443198e-01],\n",
       "        [5.50358069e-01],\n",
       "        [5.99769769e-01],\n",
       "        [6.48184595e-01],\n",
       "        [6.95118799e-01],\n",
       "        [7.40103433e-01],\n",
       "        [7.82689024e-01],\n",
       "        [8.22450070e-01],\n",
       "        [8.58989293e-01],\n",
       "        [8.91941605e-01],\n",
       "        [9.20977757e-01],\n",
       "        [9.45807630e-01],\n",
       "        [9.66183132e-01],\n",
       "        [9.81900676e-01],\n",
       "        [9.92803220e-01],\n",
       "        [9.98781828e-01],\n",
       "        [9.99776764e-01],\n",
       "        [9.95778087e-01],\n",
       "        [9.86825751e-01],\n",
       "        [9.73009203e-01],\n",
       "        [9.54466495e-01],\n",
       "        [9.31382900e-01],\n",
       "        [9.03989060e-01],\n",
       "        [8.72558686e-01],\n",
       "        [8.37405820e-01],\n",
       "        [7.98881698e-01],\n",
       "        [7.57371240e-01],\n",
       "        [7.13289205e-01],\n",
       "        [6.67076045e-01],\n",
       "        [6.19193508e-01],\n",
       "        [5.70120021e-01],\n",
       "        [5.20345908e-01],\n",
       "        [4.70368497e-01],\n",
       "        [4.20687145e-01],\n",
       "        [3.71798252e-01],\n",
       "        [3.24190300e-01],\n",
       "        [2.78338972e-01],\n",
       "        [2.34702398e-01],\n",
       "        [1.93716581e-01],\n",
       "        [1.55791039e-01],\n",
       "        [1.21304709e-01],\n",
       "        [9.06021693e-02],\n",
       "        [6.39901882e-02],\n",
       "        [4.17346643e-02],\n",
       "        [2.40579672e-02],\n",
       "        [1.11367167e-02],\n",
       "        [3.10001778e-03],\n",
       "        [2.81703720e-05],\n",
       "        [1.95186738e-03],\n",
       "        [8.50000000e-01]]])"
      ]
     },
     "execution_count": 56,
     "metadata": {},
     "output_type": "execute_result"
    }
   ],
   "source": [
    "np.append(current_batch[:, 1:, :], [[[0.85]]], axis = 1)"
   ]
  },
  {
   "cell_type": "markdown",
   "id": "c45d699d",
   "metadata": {},
   "source": [
    "### Final For Loop to predict step by step "
   ]
  },
  {
   "cell_type": "code",
   "execution_count": 57,
   "id": "03ac7410",
   "metadata": {},
   "outputs": [],
   "source": [
    "test_predictions = []\n",
    "\n",
    "first_eval_batch = train_scaled[-length:]\n",
    "current_batch = first_eval_batch.reshape(1, length, n_features)\n",
    "\n",
    "for i in range(len(test)):\n",
    "    # get prediction 1 time stamp ahead \n",
    "    current_pred = model.predict(current_batch)[0]\n",
    "    \n",
    "    # store prediction\n",
    "    test_predictions.append(current_pred)\n",
    "    \n",
    "    # update batch to now include prediction and drop first value\n",
    "    current_batch = np.append(current_batch[:, 1:, :], [[current_pred]], axis = 1)"
   ]
  },
  {
   "cell_type": "code",
   "execution_count": 58,
   "id": "d33ef021",
   "metadata": {},
   "outputs": [
    {
     "data": {
      "text/plain": [
       "(64, 1)"
      ]
     },
     "execution_count": 58,
     "metadata": {},
     "output_type": "execute_result"
    }
   ],
   "source": [
    "(length, n_features)"
   ]
  },
  {
   "cell_type": "code",
   "execution_count": 59,
   "id": "de381d24",
   "metadata": {},
   "outputs": [
    {
     "data": {
      "text/plain": [
       "75"
      ]
     },
     "execution_count": 59,
     "metadata": {},
     "output_type": "execute_result"
    }
   ],
   "source": [
    "len(test)"
   ]
  },
  {
   "cell_type": "code",
   "execution_count": 60,
   "id": "1007df2a",
   "metadata": {},
   "outputs": [
    {
     "data": {
      "text/plain": [
       "array([0.35461235], dtype=float32)"
      ]
     },
     "execution_count": 60,
     "metadata": {},
     "output_type": "execute_result"
    }
   ],
   "source": [
    "current_pred"
   ]
  },
  {
   "cell_type": "code",
   "execution_count": 61,
   "id": "78686013",
   "metadata": {},
   "outputs": [],
   "source": [
    "# current_batch"
   ]
  },
  {
   "cell_type": "code",
   "execution_count": 62,
   "id": "a1567c55",
   "metadata": {},
   "outputs": [
    {
     "data": {
      "text/plain": [
       "[array([0.00939202], dtype=float32),\n",
       " array([0.0199641], dtype=float32),\n",
       " array([0.03559089], dtype=float32),\n",
       " array([0.0553045], dtype=float32),\n",
       " array([0.07917331], dtype=float32),\n",
       " array([0.10747934], dtype=float32),\n",
       " array([0.13943109], dtype=float32),\n",
       " array([0.175045], dtype=float32),\n",
       " array([0.21337815], dtype=float32),\n",
       " array([0.254921], dtype=float32),\n",
       " array([0.29894042], dtype=float32),\n",
       " array([0.3451639], dtype=float32),\n",
       " array([0.39377242], dtype=float32),\n",
       " array([0.44326845], dtype=float32),\n",
       " array([0.49385515], dtype=float32),\n",
       " array([0.54512197], dtype=float32),\n",
       " array([0.5959803], dtype=float32),\n",
       " array([0.6470361], dtype=float32),\n",
       " array([0.6966706], dtype=float32),\n",
       " array([0.7445191], dtype=float32),\n",
       " array([0.7902312], dtype=float32),\n",
       " array([0.83238184], dtype=float32),\n",
       " array([0.87196076], dtype=float32),\n",
       " array([0.907039], dtype=float32),\n",
       " array([0.9383577], dtype=float32),\n",
       " array([0.96451634], dtype=float32),\n",
       " array([0.98568994], dtype=float32),\n",
       " array([1.0018324], dtype=float32),\n",
       " array([1.012073], dtype=float32),\n",
       " array([1.0175947], dtype=float32),\n",
       " array([1.0173172], dtype=float32),\n",
       " array([1.0117365], dtype=float32),\n",
       " array([1.0012492], dtype=float32),\n",
       " array([0.9851738], dtype=float32),\n",
       " array([0.96463275], dtype=float32),\n",
       " array([0.9396058], dtype=float32),\n",
       " array([0.9101587], dtype=float32),\n",
       " array([0.87726563], dtype=float32),\n",
       " array([0.84038484], dtype=float32),\n",
       " array([0.8007324], dtype=float32),\n",
       " array([0.75792396], dtype=float32),\n",
       " array([0.7128929], dtype=float32),\n",
       " array([0.6661015], dtype=float32),\n",
       " array([0.61729705], dtype=float32),\n",
       " array([0.5680834], dtype=float32),\n",
       " array([0.5173345], dtype=float32),\n",
       " array([0.4669159], dtype=float32),\n",
       " array([0.41660443], dtype=float32),\n",
       " array([0.36671582], dtype=float32),\n",
       " array([0.31873658], dtype=float32),\n",
       " array([0.27186692], dtype=float32),\n",
       " array([0.22765319], dtype=float32),\n",
       " array([0.18605775], dtype=float32),\n",
       " array([0.14755371], dtype=float32),\n",
       " array([0.11324532], dtype=float32),\n",
       " array([0.08262142], dtype=float32),\n",
       " array([0.05702344], dtype=float32),\n",
       " array([0.03579708], dtype=float32),\n",
       " array([0.01944491], dtype=float32),\n",
       " array([0.00876173], dtype=float32),\n",
       " array([0.00201058], dtype=float32),\n",
       " array([0.00178155], dtype=float32),\n",
       " array([0.00548103], dtype=float32),\n",
       " array([0.01421888], dtype=float32),\n",
       " array([0.02821676], dtype=float32),\n",
       " array([0.0451102], dtype=float32),\n",
       " array([0.067733], dtype=float32),\n",
       " array([0.09282285], dtype=float32),\n",
       " array([0.12230308], dtype=float32),\n",
       " array([0.15486535], dtype=float32),\n",
       " array([0.18976143], dtype=float32),\n",
       " array([0.22845562], dtype=float32),\n",
       " array([0.2678267], dtype=float32),\n",
       " array([0.31066832], dtype=float32),\n",
       " array([0.35461235], dtype=float32)]"
      ]
     },
     "execution_count": 62,
     "metadata": {},
     "output_type": "execute_result"
    }
   ],
   "source": [
    "test_predictions"
   ]
  },
  {
   "cell_type": "code",
   "execution_count": 63,
   "id": "18e1254e",
   "metadata": {},
   "outputs": [
    {
     "data": {
      "text/plain": [
       "array([[8.85188786e-03],\n",
       "       [2.06592891e-02],\n",
       "       [3.72560954e-02],\n",
       "       [5.84764771e-02],\n",
       "       [8.41084070e-02],\n",
       "       [1.13895779e-01],\n",
       "       [1.47540969e-01],\n",
       "       [1.84707803e-01],\n",
       "       [2.25024924e-01],\n",
       "       [2.68089497e-01],\n",
       "       [3.13471233e-01],\n",
       "       [3.60716695e-01],\n",
       "       [4.09353821e-01],\n",
       "       [4.58896644e-01],\n",
       "       [5.08850150e-01],\n",
       "       [5.58715219e-01],\n",
       "       [6.07993616e-01],\n",
       "       [6.56192968e-01],\n",
       "       [7.02831682e-01],\n",
       "       [7.47443761e-01],\n",
       "       [7.89583454e-01],\n",
       "       [8.28829716e-01],\n",
       "       [8.64790412e-01],\n",
       "       [8.97106234e-01],\n",
       "       [9.25454293e-01],\n",
       "       [9.49551344e-01],\n",
       "       [9.69156618e-01],\n",
       "       [9.84074225e-01],\n",
       "       [9.94155114e-01],\n",
       "       [9.99298559e-01],\n",
       "       [9.99453170e-01],\n",
       "       [9.94617400e-01],\n",
       "       [9.84839568e-01],\n",
       "       [9.70217371e-01],\n",
       "       [9.50896908e-01],\n",
       "       [9.27071224e-01],\n",
       "       [8.98978376e-01],\n",
       "       [8.66899060e-01],\n",
       "       [8.31153800e-01],\n",
       "       [7.92099752e-01],\n",
       "       [7.50127132e-01],\n",
       "       [7.05655314e-01],\n",
       "       [6.59128649e-01],\n",
       "       [6.11012013e-01],\n",
       "       [5.61786173e-01],\n",
       "       [5.11942978e-01],\n",
       "       [4.61980443e-01],\n",
       "       [4.12397778e-01],\n",
       "       [3.63690397e-01],\n",
       "       [3.16344967e-01],\n",
       "       [2.70834550e-01],\n",
       "       [2.27613868e-01],\n",
       "       [1.87114770e-01],\n",
       "       [1.49741909e-01],\n",
       "       [1.15868702e-01],\n",
       "       [8.58335998e-02],\n",
       "       [5.99367021e-02],\n",
       "       [3.84367625e-02],\n",
       "       [2.15486014e-02],\n",
       "       [9.44095974e-03],\n",
       "       [2.23481297e-03],\n",
       "       [2.16257798e-06],\n",
       "       [2.76531647e-03],\n",
       "       [1.04966661e-02],\n",
       "       [2.31189624e-02],\n",
       "       [4.05060876e-02],\n",
       "       [6.24843152e-02],\n",
       "       [8.88340461e-02],\n",
       "       [1.19292002e-01],\n",
       "       [1.53553858e-01],\n",
       "       [1.91277281e-01],\n",
       "       [2.32085350e-01],\n",
       "       [2.75570325e-01],\n",
       "       [3.21297718e-01],\n",
       "       [3.68810636e-01]])"
      ]
     },
     "execution_count": 63,
     "metadata": {},
     "output_type": "execute_result"
    }
   ],
   "source": [
    "test_scaled"
   ]
  },
  {
   "cell_type": "markdown",
   "id": "4efbdae9",
   "metadata": {},
   "source": [
    "## Inverse Transformations and Comparing"
   ]
  },
  {
   "cell_type": "code",
   "execution_count": 64,
   "id": "ed4869bf",
   "metadata": {},
   "outputs": [
    {
     "data": {
      "text/plain": [
       "array([[-0.98120633],\n",
       "       [-0.96006234],\n",
       "       [-0.928809  ],\n",
       "       [-0.88938208],\n",
       "       [-0.84164485],\n",
       "       [-0.78503325],\n",
       "       [-0.72113027],\n",
       "       [-0.64990302],\n",
       "       [-0.57323734],\n",
       "       [-0.49015232],\n",
       "       [-0.40211416],\n",
       "       [-0.30966792],\n",
       "       [-0.21245168],\n",
       "       [-0.11346043],\n",
       "       [-0.01228784],\n",
       "       [ 0.09024498],\n",
       "       [ 0.1919608 ],\n",
       "       [ 0.29407156],\n",
       "       [ 0.3933398 ],\n",
       "       [ 0.48903607],\n",
       "       [ 0.58045957],\n",
       "       [ 0.66476012],\n",
       "       [ 0.74391732],\n",
       "       [ 0.81407321],\n",
       "       [ 0.87671015],\n",
       "       [ 0.929027  ],\n",
       "       [ 0.97137385],\n",
       "       [ 1.00365845],\n",
       "       [ 1.02413963],\n",
       "       [ 1.03518285],\n",
       "       [ 1.03462782],\n",
       "       [ 1.02346658],\n",
       "       [ 1.00249211],\n",
       "       [ 0.97034162],\n",
       "       [ 0.92925981],\n",
       "       [ 0.87920626],\n",
       "       [ 0.82031257],\n",
       "       [ 0.75452698],\n",
       "       [ 0.68076599],\n",
       "       [ 0.60146169],\n",
       "       [ 0.51584555],\n",
       "       [ 0.42578413],\n",
       "       [ 0.33220213],\n",
       "       [ 0.23459399],\n",
       "       [ 0.13616749],\n",
       "       [ 0.03467053],\n",
       "       [-0.06616589],\n",
       "       [-0.16678803],\n",
       "       [-0.26656446],\n",
       "       [-0.36252216],\n",
       "       [-0.45626073],\n",
       "       [-0.54468748],\n",
       "       [-0.6278777 ],\n",
       "       [-0.70488515],\n",
       "       [-0.77350139],\n",
       "       [-0.8347487 ],\n",
       "       [-0.88594425],\n",
       "       [-0.92839662],\n",
       "       [-0.9611007 ],\n",
       "       [-0.98246688],\n",
       "       [-0.99596909],\n",
       "       [-0.99642714],\n",
       "       [-0.98902823],\n",
       "       [-0.97155268],\n",
       "       [-0.94355715],\n",
       "       [-0.90977053],\n",
       "       [-0.86452528],\n",
       "       [-0.814346  ],\n",
       "       [-0.755386  ],\n",
       "       [-0.69026198],\n",
       "       [-0.62047039],\n",
       "       [-0.54308264],\n",
       "       [-0.46434109],\n",
       "       [-0.37865855],\n",
       "       [-0.2907712 ]])"
      ]
     },
     "execution_count": 64,
     "metadata": {},
     "output_type": "execute_result"
    }
   ],
   "source": [
    "true_predictions = scaler.inverse_transform(test_predictions)  # unscaled haline geri ceviriyoruz\n",
    "true_predictions"
   ]
  },
  {
   "cell_type": "code",
   "execution_count": 65,
   "id": "ce4ce035",
   "metadata": {},
   "outputs": [
    {
     "data": {
      "text/html": [
       "<div>\n",
       "<style scoped>\n",
       "    .dataframe tbody tr th:only-of-type {\n",
       "        vertical-align: middle;\n",
       "    }\n",
       "\n",
       "    .dataframe tbody tr th {\n",
       "        vertical-align: top;\n",
       "    }\n",
       "\n",
       "    .dataframe thead th {\n",
       "        text-align: right;\n",
       "    }\n",
       "</style>\n",
       "<table border=\"1\" class=\"dataframe\">\n",
       "  <thead>\n",
       "    <tr style=\"text-align: right;\">\n",
       "      <th></th>\n",
       "      <th>Sine</th>\n",
       "    </tr>\n",
       "  </thead>\n",
       "  <tbody>\n",
       "    <tr>\n",
       "      <th>42.600</th>\n",
       "      <td>-0.982</td>\n",
       "    </tr>\n",
       "    <tr>\n",
       "      <th>42.700</th>\n",
       "      <td>-0.959</td>\n",
       "    </tr>\n",
       "    <tr>\n",
       "      <th>42.800</th>\n",
       "      <td>-0.925</td>\n",
       "    </tr>\n",
       "    <tr>\n",
       "      <th>42.900</th>\n",
       "      <td>-0.883</td>\n",
       "    </tr>\n",
       "    <tr>\n",
       "      <th>43.000</th>\n",
       "      <td>-0.832</td>\n",
       "    </tr>\n",
       "    <tr>\n",
       "      <th>...</th>\n",
       "      <td>...</td>\n",
       "    </tr>\n",
       "    <tr>\n",
       "      <th>49.600</th>\n",
       "      <td>-0.617</td>\n",
       "    </tr>\n",
       "    <tr>\n",
       "      <th>49.700</th>\n",
       "      <td>-0.536</td>\n",
       "    </tr>\n",
       "    <tr>\n",
       "      <th>49.800</th>\n",
       "      <td>-0.449</td>\n",
       "    </tr>\n",
       "    <tr>\n",
       "      <th>49.900</th>\n",
       "      <td>-0.357</td>\n",
       "    </tr>\n",
       "    <tr>\n",
       "      <th>50.000</th>\n",
       "      <td>-0.262</td>\n",
       "    </tr>\n",
       "  </tbody>\n",
       "</table>\n",
       "<p>75 rows × 1 columns</p>\n",
       "</div>"
      ],
      "text/plain": [
       "         Sine\n",
       "42.600 -0.982\n",
       "42.700 -0.959\n",
       "42.800 -0.925\n",
       "42.900 -0.883\n",
       "43.000 -0.832\n",
       "...       ...\n",
       "49.600 -0.617\n",
       "49.700 -0.536\n",
       "49.800 -0.449\n",
       "49.900 -0.357\n",
       "50.000 -0.262\n",
       "\n",
       "[75 rows x 1 columns]"
      ]
     },
     "execution_count": 65,
     "metadata": {},
     "output_type": "execute_result"
    }
   ],
   "source": [
    "test"
   ]
  },
  {
   "cell_type": "code",
   "execution_count": 66,
   "id": "206cac4e",
   "metadata": {},
   "outputs": [],
   "source": [
    "test[\"Predictions\"] = true_predictions"
   ]
  },
  {
   "cell_type": "code",
   "execution_count": 67,
   "id": "b3e84c6f",
   "metadata": {},
   "outputs": [
    {
     "data": {
      "text/html": [
       "<div>\n",
       "<style scoped>\n",
       "    .dataframe tbody tr th:only-of-type {\n",
       "        vertical-align: middle;\n",
       "    }\n",
       "\n",
       "    .dataframe tbody tr th {\n",
       "        vertical-align: top;\n",
       "    }\n",
       "\n",
       "    .dataframe thead th {\n",
       "        text-align: right;\n",
       "    }\n",
       "</style>\n",
       "<table border=\"1\" class=\"dataframe\">\n",
       "  <thead>\n",
       "    <tr style=\"text-align: right;\">\n",
       "      <th></th>\n",
       "      <th>Sine</th>\n",
       "      <th>Predictions</th>\n",
       "    </tr>\n",
       "  </thead>\n",
       "  <tbody>\n",
       "    <tr>\n",
       "      <th>42.600</th>\n",
       "      <td>-0.982</td>\n",
       "      <td>-0.981</td>\n",
       "    </tr>\n",
       "    <tr>\n",
       "      <th>42.700</th>\n",
       "      <td>-0.959</td>\n",
       "      <td>-0.960</td>\n",
       "    </tr>\n",
       "    <tr>\n",
       "      <th>42.800</th>\n",
       "      <td>-0.925</td>\n",
       "      <td>-0.929</td>\n",
       "    </tr>\n",
       "    <tr>\n",
       "      <th>42.900</th>\n",
       "      <td>-0.883</td>\n",
       "      <td>-0.889</td>\n",
       "    </tr>\n",
       "    <tr>\n",
       "      <th>43.000</th>\n",
       "      <td>-0.832</td>\n",
       "      <td>-0.842</td>\n",
       "    </tr>\n",
       "    <tr>\n",
       "      <th>...</th>\n",
       "      <td>...</td>\n",
       "      <td>...</td>\n",
       "    </tr>\n",
       "    <tr>\n",
       "      <th>49.600</th>\n",
       "      <td>-0.617</td>\n",
       "      <td>-0.620</td>\n",
       "    </tr>\n",
       "    <tr>\n",
       "      <th>49.700</th>\n",
       "      <td>-0.536</td>\n",
       "      <td>-0.543</td>\n",
       "    </tr>\n",
       "    <tr>\n",
       "      <th>49.800</th>\n",
       "      <td>-0.449</td>\n",
       "      <td>-0.464</td>\n",
       "    </tr>\n",
       "    <tr>\n",
       "      <th>49.900</th>\n",
       "      <td>-0.357</td>\n",
       "      <td>-0.379</td>\n",
       "    </tr>\n",
       "    <tr>\n",
       "      <th>50.000</th>\n",
       "      <td>-0.262</td>\n",
       "      <td>-0.291</td>\n",
       "    </tr>\n",
       "  </tbody>\n",
       "</table>\n",
       "<p>75 rows × 2 columns</p>\n",
       "</div>"
      ],
      "text/plain": [
       "         Sine  Predictions\n",
       "42.600 -0.982       -0.981\n",
       "42.700 -0.959       -0.960\n",
       "42.800 -0.925       -0.929\n",
       "42.900 -0.883       -0.889\n",
       "43.000 -0.832       -0.842\n",
       "...       ...          ...\n",
       "49.600 -0.617       -0.620\n",
       "49.700 -0.536       -0.543\n",
       "49.800 -0.449       -0.464\n",
       "49.900 -0.357       -0.379\n",
       "50.000 -0.262       -0.291\n",
       "\n",
       "[75 rows x 2 columns]"
      ]
     },
     "execution_count": 67,
     "metadata": {},
     "output_type": "execute_result"
    }
   ],
   "source": [
    "test"
   ]
  },
  {
   "cell_type": "code",
   "execution_count": 68,
   "id": "e20d5760",
   "metadata": {},
   "outputs": [
    {
     "data": {
      "image/png": "[encoded data removed]",
      "text/plain": [
       "<Figure size 720x432 with 1 Axes>"
      ]
     },
     "metadata": {},
     "output_type": "display_data"
    }
   ],
   "source": [
    "test.plot();"
   ]
  },
  {
   "cell_type": "markdown",
   "id": "8e151eef",
   "metadata": {},
   "source": [
    "## Early Stopping and Validation Generator"
   ]
  },
  {
   "cell_type": "code",
   "execution_count": 69,
   "id": "f26df344",
   "metadata": {},
   "outputs": [],
   "source": [
    "from tensorflow.keras.callbacks import EarlyStopping"
   ]
  },
  {
   "cell_type": "code",
   "execution_count": 70,
   "id": "3150f4ec",
   "metadata": {},
   "outputs": [],
   "source": [
    "early_stop = EarlyStopping(monitor = \"val_loss\", patience = 2)"
   ]
  },
  {
   "cell_type": "code",
   "execution_count": 71,
   "id": "e684e7fc",
   "metadata": {},
   "outputs": [],
   "source": [
    "length = 64   # lenght range have to be shorter than range of test data\n",
    "              # In this case lenght range = 64, test range = 75\n",
    "batch_size = 1\n",
    "generator = TimeseriesGenerator(data = train_scaled, targets = train_scaled, length = length, batch_size = batch_size)\n",
    "validation_generator = TimeseriesGenerator(data = test_scaled, targets = test_scaled, length = length, batch_size = batch_size)"
   ]
  },
  {
   "cell_type": "code",
   "execution_count": 72,
   "id": "8bfeb838",
   "metadata": {},
   "outputs": [
    {
     "data": {
      "text/plain": [
       "11"
      ]
     },
     "execution_count": 72,
     "metadata": {},
     "output_type": "execute_result"
    }
   ],
   "source": [
    "len(validation_generator)"
   ]
  },
  {
   "cell_type": "markdown",
   "id": "b4ec4a86",
   "metadata": {},
   "source": [
    "## LSTM"
   ]
  },
  {
   "cell_type": "code",
   "execution_count": 73,
   "id": "a42b3828",
   "metadata": {},
   "outputs": [],
   "source": [
    "# define model\n",
    "model = Sequential()\n",
    "\n",
    "# LSTM Layer\n",
    "model.add(LSTM(units = 64, activation = \"tanh\", input_shape = (length, n_features)))\n",
    "\n",
    "# Final Prediction \n",
    "model.add(Dense(units = 1))\n",
    "\n",
    "model.compile(optimizer = \"adam\", loss = \"mse\")"
   ]
  },
  {
   "cell_type": "code",
   "execution_count": 74,
   "id": "ece201c2",
   "metadata": {},
   "outputs": [
    {
     "name": "stdout",
     "output_type": "stream",
     "text": [
      "Epoch 1/20\n",
      "362/362 [==============================] - 6s 12ms/step - loss: 0.0237 - val_loss: 1.0556e-04\n",
      "Epoch 2/20\n",
      "362/362 [==============================] - 4s 10ms/step - loss: 1.3781e-04 - val_loss: 3.3797e-05\n",
      "Epoch 3/20\n",
      "362/362 [==============================] - 4s 10ms/step - loss: 1.7876e-04 - val_loss: 2.0373e-05\n",
      "Epoch 4/20\n",
      "362/362 [==============================] - 3s 9ms/step - loss: 6.6165e-04 - val_loss: 3.5108e-05\n",
      "Epoch 5/20\n",
      "362/362 [==============================] - 3s 9ms/step - loss: 4.9796e-05 - val_loss: 3.4814e-05\n"
     ]
    },
    {
     "data": {
      "text/plain": [
       "<keras.callbacks.History at 0x22f4a22b580>"
      ]
     },
     "execution_count": 74,
     "metadata": {},
     "output_type": "execute_result"
    }
   ],
   "source": [
    "model.fit_generator(generator = generator,\n",
    "                    validation_data = validation_generator,\n",
    "                    epochs = 20,\n",
    "                    callbacks = [early_stop])"
   ]
  },
  {
   "cell_type": "code",
   "execution_count": 75,
   "id": "dbe43dbb",
   "metadata": {},
   "outputs": [
    {
     "data": {
      "image/png": "[encoded data removed]",
      "text/plain": [
       "<Figure size 720x432 with 1 Axes>"
      ]
     },
     "metadata": {},
     "output_type": "display_data"
    }
   ],
   "source": [
    "loss_df = pd.DataFrame(model.history.history)\n",
    "loss_df.plot();"
   ]
  },
  {
   "cell_type": "code",
   "execution_count": 76,
   "id": "ecd1aa0f",
   "metadata": {},
   "outputs": [],
   "source": [
    "test_predictions = []\n",
    "\n",
    "first_eval_batch = train_scaled[-length:]\n",
    "current_batch = first_eval_batch.reshape((1, length, n_features))\n",
    "\n",
    "for i in range(len(test)):\n",
    "    # get prediction 1 time stamp ahead \n",
    "    current_pred = model.predict(current_batch)[0]\n",
    "    \n",
    "    # store prediction \n",
    "    test_predictions.append(current_pred)\n",
    "    \n",
    "    # update batch to now include prediction and drop first value\n",
    "    current_batch = np.append(current_batch[:, 1:, :], [[current_pred]], axis = 1)"
   ]
  },
  {
   "cell_type": "code",
   "execution_count": 77,
   "id": "d9658d3b",
   "metadata": {},
   "outputs": [
    {
     "data": {
      "text/html": [
       "<div>\n",
       "<style scoped>\n",
       "    .dataframe tbody tr th:only-of-type {\n",
       "        vertical-align: middle;\n",
       "    }\n",
       "\n",
       "    .dataframe tbody tr th {\n",
       "        vertical-align: top;\n",
       "    }\n",
       "\n",
       "    .dataframe thead th {\n",
       "        text-align: right;\n",
       "    }\n",
       "</style>\n",
       "<table border=\"1\" class=\"dataframe\">\n",
       "  <thead>\n",
       "    <tr style=\"text-align: right;\">\n",
       "      <th></th>\n",
       "      <th>Sine</th>\n",
       "      <th>Predictions</th>\n",
       "      <th>LSTM Predictions</th>\n",
       "    </tr>\n",
       "  </thead>\n",
       "  <tbody>\n",
       "    <tr>\n",
       "      <th>42.600</th>\n",
       "      <td>-0.982</td>\n",
       "      <td>-0.981</td>\n",
       "      <td>-0.970</td>\n",
       "    </tr>\n",
       "    <tr>\n",
       "      <th>42.700</th>\n",
       "      <td>-0.959</td>\n",
       "      <td>-0.960</td>\n",
       "      <td>-0.944</td>\n",
       "    </tr>\n",
       "    <tr>\n",
       "      <th>42.800</th>\n",
       "      <td>-0.925</td>\n",
       "      <td>-0.929</td>\n",
       "      <td>-0.907</td>\n",
       "    </tr>\n",
       "    <tr>\n",
       "      <th>42.900</th>\n",
       "      <td>-0.883</td>\n",
       "      <td>-0.889</td>\n",
       "      <td>-0.862</td>\n",
       "    </tr>\n",
       "    <tr>\n",
       "      <th>43.000</th>\n",
       "      <td>-0.832</td>\n",
       "      <td>-0.842</td>\n",
       "      <td>-0.808</td>\n",
       "    </tr>\n",
       "    <tr>\n",
       "      <th>...</th>\n",
       "      <td>...</td>\n",
       "      <td>...</td>\n",
       "      <td>...</td>\n",
       "    </tr>\n",
       "    <tr>\n",
       "      <th>49.600</th>\n",
       "      <td>-0.617</td>\n",
       "      <td>-0.620</td>\n",
       "      <td>-0.679</td>\n",
       "    </tr>\n",
       "    <tr>\n",
       "      <th>49.700</th>\n",
       "      <td>-0.536</td>\n",
       "      <td>-0.543</td>\n",
       "      <td>-0.601</td>\n",
       "    </tr>\n",
       "    <tr>\n",
       "      <th>49.800</th>\n",
       "      <td>-0.449</td>\n",
       "      <td>-0.464</td>\n",
       "      <td>-0.518</td>\n",
       "    </tr>\n",
       "    <tr>\n",
       "      <th>49.900</th>\n",
       "      <td>-0.357</td>\n",
       "      <td>-0.379</td>\n",
       "      <td>-0.429</td>\n",
       "    </tr>\n",
       "    <tr>\n",
       "      <th>50.000</th>\n",
       "      <td>-0.262</td>\n",
       "      <td>-0.291</td>\n",
       "      <td>-0.335</td>\n",
       "    </tr>\n",
       "  </tbody>\n",
       "</table>\n",
       "<p>75 rows × 3 columns</p>\n",
       "</div>"
      ],
      "text/plain": [
       "         Sine  Predictions  LSTM Predictions\n",
       "42.600 -0.982       -0.981            -0.970\n",
       "42.700 -0.959       -0.960            -0.944\n",
       "42.800 -0.925       -0.929            -0.907\n",
       "42.900 -0.883       -0.889            -0.862\n",
       "43.000 -0.832       -0.842            -0.808\n",
       "...       ...          ...               ...\n",
       "49.600 -0.617       -0.620            -0.679\n",
       "49.700 -0.536       -0.543            -0.601\n",
       "49.800 -0.449       -0.464            -0.518\n",
       "49.900 -0.357       -0.379            -0.429\n",
       "50.000 -0.262       -0.291            -0.335\n",
       "\n",
       "[75 rows x 3 columns]"
      ]
     },
     "execution_count": 77,
     "metadata": {},
     "output_type": "execute_result"
    }
   ],
   "source": [
    "true_predictions = scaler.inverse_transform(test_predictions)\n",
    "test[\"LSTM Predictions\"] = true_predictions\n",
    "test"
   ]
  },
  {
   "cell_type": "code",
   "execution_count": 78,
   "id": "ad419b9b",
   "metadata": {},
   "outputs": [
    {
     "data": {
      "image/png": "[encoded data removed]",
      "text/plain": [
       "<Figure size 720x432 with 1 Axes>"
      ]
     },
     "metadata": {},
     "output_type": "display_data"
    }
   ],
   "source": [
    "test.plot();"
   ]
  },
  {
   "cell_type": "markdown",
   "id": "b4dd4e2c",
   "metadata": {},
   "source": [
    "## Retrain and Forecasting"
   ]
  },
  {
   "cell_type": "code",
   "execution_count": 79,
   "id": "d86d004f",
   "metadata": {},
   "outputs": [],
   "source": [
    "full_scaler = MinMaxScaler()\n",
    "scaled_full_data = full_scaler.fit_transform(df)"
   ]
  },
  {
   "cell_type": "code",
   "execution_count": 81,
   "id": "8e817812",
   "metadata": {},
   "outputs": [],
   "source": [
    "length = 64\n",
    "generator = TimeseriesGenerator(scaled_full_data, scaled_full_data, length, batch_size = 1)"
   ]
  },
  {
   "cell_type": "code",
   "execution_count": 82,
   "id": "882b9734",
   "metadata": {},
   "outputs": [
    {
     "name": "stdout",
     "output_type": "stream",
     "text": [
      "Epoch 1/6\n",
      "437/437 [==============================] - 6s 9ms/step - loss: 0.0190\n",
      "Epoch 2/6\n",
      "437/437 [==============================] - 4s 9ms/step - loss: 7.9729e-05\n",
      "Epoch 3/6\n",
      "437/437 [==============================] - 4s 9ms/step - loss: 2.2456e-04\n",
      "Epoch 4/6\n",
      "437/437 [==============================] - 4s 10ms/step - loss: 1.0147e-04\n",
      "Epoch 5/6\n",
      "437/437 [==============================] - 4s 9ms/step - loss: 1.4524e-04\n",
      "Epoch 6/6\n",
      "437/437 [==============================] - 4s 10ms/step - loss: 3.9572e-04\n"
     ]
    },
    {
     "data": {
      "text/plain": [
       "<keras.callbacks.History at 0x22f4f6e96d0>"
      ]
     },
     "execution_count": 82,
     "metadata": {},
     "output_type": "execute_result"
    }
   ],
   "source": [
    "model = Sequential()\n",
    "model.add(LSTM(64, input_shape = (length, n_features)))\n",
    "model.add(Dense(1))\n",
    "model.compile(optimizer = \"adam\", loss = \"mse\")\n",
    "model.fit_generator(generator, epochs = 6)"
   ]
  },
  {
   "cell_type": "code",
   "execution_count": 83,
   "id": "029f561d",
   "metadata": {},
   "outputs": [],
   "source": [
    "forecast = []\n",
    "\n",
    "first_eval_batch = scaled_full_data[-length:]\n",
    "current_batch = first_eval_batch.reshape((1, length, n_features))\n",
    "\n",
    "for i in range(64):\n",
    "    \n",
    "    # get prediction 1 time stamp ahead \n",
    "    current_pred = model.predict(current_batch)[0]\n",
    "    \n",
    "    # store prediction\n",
    "    forecast.append(current_pred) \n",
    "    \n",
    "    # update batch to now include prediction and drop first value\n",
    "    current_batch = np.append(current_batch[:, 1:, :], [[current_pred]], axis = 1)"
   ]
  },
  {
   "cell_type": "code",
   "execution_count": 84,
   "id": "429d5648",
   "metadata": {},
   "outputs": [
    {
     "data": {
      "text/plain": [
       "array([[-0.17525802],\n",
       "       [-0.07644934],\n",
       "       [ 0.02304677],\n",
       "       [ 0.12239833],\n",
       "       [ 0.22071552],\n",
       "       [ 0.31706363],\n",
       "       [ 0.41048613],\n",
       "       [ 0.50002994],\n",
       "       [ 0.58476895],\n",
       "       [ 0.66382481],\n",
       "       [ 0.73638967],\n",
       "       [ 0.80174361],\n",
       "       [ 0.85926938],\n",
       "       [ 0.90846296],\n",
       "       [ 0.94894099],\n",
       "       [ 0.98043559],\n",
       "       [ 1.00279705],\n",
       "       [ 1.01597791],\n",
       "       [ 1.02003028],\n",
       "       [ 1.01508647],\n",
       "       [ 1.00135248],\n",
       "       [ 0.97909211],\n",
       "       [ 0.94862055],\n",
       "       [ 0.91029031],\n",
       "       [ 0.8644919 ],\n",
       "       [ 0.81164279],\n",
       "       [ 0.7521893 ],\n",
       "       [ 0.68660529],\n",
       "       [ 0.61539094],\n",
       "       [ 0.53907794],\n",
       "       [ 0.45823097],\n",
       "       [ 0.37345179],\n",
       "       [ 0.28538223],\n",
       "       [ 0.19471034],\n",
       "       [ 0.10216879],\n",
       "       [ 0.00853875],\n",
       "       [-0.0853517 ],\n",
       "       [-0.17863257],\n",
       "       [-0.27039724],\n",
       "       [-0.35971408],\n",
       "       [-0.44563814],\n",
       "       [-0.52722999],\n",
       "       [-0.603573  ],\n",
       "       [-0.6737966 ],\n",
       "       [-0.737095  ],\n",
       "       [-0.79274852],\n",
       "       [-0.84013948],\n",
       "       [-0.87876546],\n",
       "       [-0.90824705],\n",
       "       [-0.92833057],\n",
       "       [-0.93888583],\n",
       "       [-0.93990049],\n",
       "       [-0.93147075],\n",
       "       [-0.91379062],\n",
       "       [-0.8871404 ],\n",
       "       [-0.85187561],\n",
       "       [-0.80841644],\n",
       "       [-0.75723941],\n",
       "       [-0.69886993],\n",
       "       [-0.63387737],\n",
       "       [-0.56287122],\n",
       "       [-0.4864993 ],\n",
       "       [-0.40544705],\n",
       "       [-0.32043631]])"
      ]
     },
     "execution_count": 84,
     "metadata": {},
     "output_type": "execute_result"
    }
   ],
   "source": [
    "forecast = scaler.inverse_transform(forecast)\n",
    "forecast"
   ]
  },
  {
   "cell_type": "code",
   "execution_count": 85,
   "id": "b13c10f7",
   "metadata": {},
   "outputs": [
    {
     "data": {
      "text/html": [
       "<div>\n",
       "<style scoped>\n",
       "    .dataframe tbody tr th:only-of-type {\n",
       "        vertical-align: middle;\n",
       "    }\n",
       "\n",
       "    .dataframe tbody tr th {\n",
       "        vertical-align: top;\n",
       "    }\n",
       "\n",
       "    .dataframe thead th {\n",
       "        text-align: right;\n",
       "    }\n",
       "</style>\n",
       "<table border=\"1\" class=\"dataframe\">\n",
       "  <thead>\n",
       "    <tr style=\"text-align: right;\">\n",
       "      <th></th>\n",
       "      <th>Sine</th>\n",
       "    </tr>\n",
       "  </thead>\n",
       "  <tbody>\n",
       "    <tr>\n",
       "      <th>0.000</th>\n",
       "      <td>0.000</td>\n",
       "    </tr>\n",
       "    <tr>\n",
       "      <th>0.100</th>\n",
       "      <td>0.100</td>\n",
       "    </tr>\n",
       "    <tr>\n",
       "      <th>0.200</th>\n",
       "      <td>0.199</td>\n",
       "    </tr>\n",
       "    <tr>\n",
       "      <th>0.300</th>\n",
       "      <td>0.296</td>\n",
       "    </tr>\n",
       "    <tr>\n",
       "      <th>0.400</th>\n",
       "      <td>0.389</td>\n",
       "    </tr>\n",
       "    <tr>\n",
       "      <th>...</th>\n",
       "      <td>...</td>\n",
       "    </tr>\n",
       "    <tr>\n",
       "      <th>49.600</th>\n",
       "      <td>-0.617</td>\n",
       "    </tr>\n",
       "    <tr>\n",
       "      <th>49.700</th>\n",
       "      <td>-0.536</td>\n",
       "    </tr>\n",
       "    <tr>\n",
       "      <th>49.800</th>\n",
       "      <td>-0.449</td>\n",
       "    </tr>\n",
       "    <tr>\n",
       "      <th>49.900</th>\n",
       "      <td>-0.357</td>\n",
       "    </tr>\n",
       "    <tr>\n",
       "      <th>50.000</th>\n",
       "      <td>-0.262</td>\n",
       "    </tr>\n",
       "  </tbody>\n",
       "</table>\n",
       "<p>501 rows × 1 columns</p>\n",
       "</div>"
      ],
      "text/plain": [
       "         Sine\n",
       "0.000   0.000\n",
       "0.100   0.100\n",
       "0.200   0.199\n",
       "0.300   0.296\n",
       "0.400   0.389\n",
       "...       ...\n",
       "49.600 -0.617\n",
       "49.700 -0.536\n",
       "49.800 -0.449\n",
       "49.900 -0.357\n",
       "50.000 -0.262\n",
       "\n",
       "[501 rows x 1 columns]"
      ]
     },
     "execution_count": 85,
     "metadata": {},
     "output_type": "execute_result"
    }
   ],
   "source": [
    "df"
   ]
  },
  {
   "cell_type": "code",
   "execution_count": 86,
   "id": "9abcc4b6",
   "metadata": {},
   "outputs": [
    {
     "data": {
      "image/png": "[encoded data removed]",
      "text/plain": [
       "<Figure size 720x432 with 1 Axes>"
      ]
     },
     "metadata": {},
     "output_type": "display_data"
    }
   ],
   "source": [
    "df.plot();"
   ]
  },
  {
   "cell_type": "code",
   "execution_count": 87,
   "id": "16312cac",
   "metadata": {},
   "outputs": [
    {
     "data": {
      "text/plain": [
       "64"
      ]
     },
     "execution_count": 87,
     "metadata": {},
     "output_type": "execute_result"
    }
   ],
   "source": [
    "len(forecast)"
   ]
  },
  {
   "cell_type": "code",
   "execution_count": 88,
   "id": "c7686813",
   "metadata": {},
   "outputs": [
    {
     "data": {
      "text/plain": [
       "6.4"
      ]
     },
     "execution_count": 88,
     "metadata": {},
     "output_type": "execute_result"
    }
   ],
   "source": [
    "64*0.1  # verim 0.1 'er aralıklar ile artıyordu. ve ben 50.1 ile 56.5 arasına step sayısı .1 olacak şekilde forecast oluşturuyorum."
   ]
  },
  {
   "cell_type": "code",
   "execution_count": 89,
   "id": "f269f422",
   "metadata": {},
   "outputs": [],
   "source": [
    "forecast_index = np.arange(50.1, 56.5, step = 0.1)"
   ]
  },
  {
   "cell_type": "code",
   "execution_count": 90,
   "id": "51322477",
   "metadata": {},
   "outputs": [
    {
     "data": {
      "text/plain": [
       "64"
      ]
     },
     "execution_count": 90,
     "metadata": {},
     "output_type": "execute_result"
    }
   ],
   "source": [
    "len(forecast_index)"
   ]
  },
  {
   "cell_type": "code",
   "execution_count": 91,
   "id": "a5739ec0",
   "metadata": {
    "scrolled": false
   },
   "outputs": [
    {
     "data": {
      "image/png": "[encoded data removed]",
      "text/plain": [
       "<Figure size 720x432 with 1 Axes>"
      ]
     },
     "metadata": {},
     "output_type": "display_data"
    }
   ],
   "source": [
    "plt.plot(df.index, df[\"Sine\"]);\n",
    "plt.plot(forecast_index, forecast);"
   ]
  },
  {
   "cell_type": "code",
   "execution_count": 93,
   "id": "da154e96",
   "metadata": {},
   "outputs": [
    {
     "data": {
      "text/html": [
       "<div>\n",
       "<style scoped>\n",
       "    .dataframe tbody tr th:only-of-type {\n",
       "        vertical-align: middle;\n",
       "    }\n",
       "\n",
       "    .dataframe tbody tr th {\n",
       "        vertical-align: top;\n",
       "    }\n",
       "\n",
       "    .dataframe thead th {\n",
       "        text-align: right;\n",
       "    }\n",
       "</style>\n",
       "<table border=\"1\" class=\"dataframe\">\n",
       "  <thead>\n",
       "    <tr style=\"text-align: right;\">\n",
       "      <th></th>\n",
       "      <th>Sine</th>\n",
       "    </tr>\n",
       "  </thead>\n",
       "  <tbody>\n",
       "    <tr>\n",
       "      <th>0.000</th>\n",
       "      <td>0.000</td>\n",
       "    </tr>\n",
       "    <tr>\n",
       "      <th>0.100</th>\n",
       "      <td>0.100</td>\n",
       "    </tr>\n",
       "    <tr>\n",
       "      <th>0.200</th>\n",
       "      <td>0.199</td>\n",
       "    </tr>\n",
       "    <tr>\n",
       "      <th>0.300</th>\n",
       "      <td>0.296</td>\n",
       "    </tr>\n",
       "    <tr>\n",
       "      <th>0.400</th>\n",
       "      <td>0.389</td>\n",
       "    </tr>\n",
       "    <tr>\n",
       "      <th>...</th>\n",
       "      <td>...</td>\n",
       "    </tr>\n",
       "    <tr>\n",
       "      <th>49.600</th>\n",
       "      <td>-0.617</td>\n",
       "    </tr>\n",
       "    <tr>\n",
       "      <th>49.700</th>\n",
       "      <td>-0.536</td>\n",
       "    </tr>\n",
       "    <tr>\n",
       "      <th>49.800</th>\n",
       "      <td>-0.449</td>\n",
       "    </tr>\n",
       "    <tr>\n",
       "      <th>49.900</th>\n",
       "      <td>-0.357</td>\n",
       "    </tr>\n",
       "    <tr>\n",
       "      <th>50.000</th>\n",
       "      <td>-0.262</td>\n",
       "    </tr>\n",
       "  </tbody>\n",
       "</table>\n",
       "<p>501 rows × 1 columns</p>\n",
       "</div>"
      ],
      "text/plain": [
       "         Sine\n",
       "0.000   0.000\n",
       "0.100   0.100\n",
       "0.200   0.199\n",
       "0.300   0.296\n",
       "0.400   0.389\n",
       "...       ...\n",
       "49.600 -0.617\n",
       "49.700 -0.536\n",
       "49.800 -0.449\n",
       "49.900 -0.357\n",
       "50.000 -0.262\n",
       "\n",
       "[501 rows x 1 columns]"
      ]
     },
     "execution_count": 93,
     "metadata": {},
     "output_type": "execute_result"
    }
   ],
   "source": [
    "df"
   ]
  },
  {
   "cell_type": "markdown",
   "id": "c4f72e67",
   "metadata": {},
   "source": [
    "### Joining plots"
   ]
  },
  {
   "cell_type": "code",
   "execution_count": 94,
   "id": "a8fed807",
   "metadata": {},
   "outputs": [
    {
     "data": {
      "image/png": "[encoded data removed]",
      "text/plain": [
       "<Figure size 1152x576 with 1 Axes>"
      ]
     },
     "metadata": {},
     "output_type": "display_data"
    }
   ],
   "source": [
    "ax = df.plot();\n",
    "pd.DataFrame(forecast,index = forecast_index).plot(ax = ax, figsize = (16,8));"
   ]
  },
  {
   "cell_type": "code",
   "execution_count": null,
   "id": "8dbd409a",
   "metadata": {},
   "outputs": [],
   "source": []
  }
 ],
 "metadata": {
  "kernelspec": {
   "display_name": "Python 3 (ipykernel)",
   "language": "python",
   "name": "python3"
  },
  "language_info": {
   "codemirror_mode": {
    "name": "ipython",
    "version": 3
   },
   "file_extension": ".py",
   "mimetype": "text/x-python",
   "name": "python",
   "nbconvert_exporter": "python",
   "pygments_lexer": "ipython3",
   "version": "3.8.12"
  }
 },
 "nbformat": 4,
 "nbformat_minor": 5
}
